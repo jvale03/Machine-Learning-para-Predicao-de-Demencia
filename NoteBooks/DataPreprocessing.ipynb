{
 "cells": [
  {
   "cell_type": "code",
   "execution_count": 1,
   "id": "55fc2227-de00-4f92-a3f8-31afe4c55ffe",
   "metadata": {},
   "outputs": [],
   "source": [
    "import pandas as pd\n",
    "from sklearn.preprocessing import LabelEncoder"
   ]
  },
  {
   "cell_type": "code",
   "execution_count": 2,
   "id": "c3dcc69f-9b71-4ba0-9872-427002fb3064",
   "metadata": {},
   "outputs": [],
   "source": [
    "def remove_nunique_values(df):\n",
    "    df_dropped = df.drop(columns=[col for col in df.columns if df[col].nunique() == 1],axis=1)\n",
    "    return df_dropped\n",
    "    # 2181 -> 2034\n",
    "    \n",
    "# este metodo remove colunas em que só existe um valor igual para todas as entradas"
   ]
  },
  {
   "cell_type": "code",
   "execution_count": 3,
   "id": "dcc09f65-1d7d-42f6-9331-bb5841a6c0f2",
   "metadata": {},
   "outputs": [],
   "source": [
    "def remove_duplicated_columns(df):\n",
    "    df_dropped = df.loc[:, ~df.T.duplicated()]\n",
    "    return df_dropped\n",
    "    # 2181 -> 1936\n",
    "    \n",
    "# este método remove colunas duplicadas\n",
    "## nao usar ja, é perigoso usar sem analisar o dataset"
   ]
  },
  {
   "cell_type": "code",
   "execution_count": null,
   "id": "132a48cf-2f44-4501-92dd-026d896cd54f",
   "metadata": {},
   "outputs": [],
   "source": [
    "def target_handler(df, target):\n",
    "    le_make = LabelEncoder()\n",
    "    df[f\"{target}_code\"] = le_make.fit_transform(df[target])\n",
    "\n"
   ]
  }
 ],
 "metadata": {
  "kernelspec": {
   "display_name": "Python 3 (ipykernel)",
   "language": "python",
   "name": "python3"
  },
  "language_info": {
   "codemirror_mode": {
    "name": "ipython",
    "version": 3
   },
   "file_extension": ".py",
   "mimetype": "text/x-python",
   "name": "python",
   "nbconvert_exporter": "python",
   "pygments_lexer": "ipython3",
   "version": "3.12.4"
  }
 },
 "nbformat": 4,
 "nbformat_minor": 5
}
