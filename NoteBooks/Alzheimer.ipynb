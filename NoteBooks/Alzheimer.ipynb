{
 "cells": [
  {
   "cell_type": "code",
   "execution_count": 1,
   "id": "05e10f9e-96b4-46a1-b71a-21f6955473be",
   "metadata": {},
   "outputs": [
    {
     "name": "stderr",
     "output_type": "stream",
     "text": [
      "C:\\Users\\carlo\\AppData\\Local\\Packages\\PythonSoftwareFoundation.Python.3.11_qbz5n2kfra8p0\\LocalCache\\local-packages\\Python311\\site-packages\\tqdm\\auto.py:21: TqdmWarning: IProgress not found. Please update jupyter and ipywidgets. See https://ipywidgets.readthedocs.io/en/stable/user_install.html\n",
      "  from .autonotebook import tqdm as notebook_tqdm\n"
     ]
    }
   ],
   "source": [
    "import pandas as pd\n",
    "import matplotlib.pyplot as plt\n",
    "import seaborn as sns\n",
    "import numpy as np\n",
    "import ast\n",
    "import shap\n",
    "import pickle\n",
    "import os\n",
    "import math"
   ]
  },
  {
   "cell_type": "markdown",
   "id": "dc130e07-0a0c-4599-b463-9f992d967169",
   "metadata": {},
   "source": [
    "## sklearn"
   ]
  },
  {
   "cell_type": "code",
   "execution_count": 126,
   "id": "da427352-519e-4c85-ba1b-fa1d55d16f36",
   "metadata": {},
   "outputs": [],
   "source": [
    "from sklearn.preprocessing import MinMaxScaler, LabelEncoder, StandardScaler, label_binarize\n",
    "from sklearn.model_selection import train_test_split, StratifiedKFold, GridSearchCV, RandomizedSearchCV, cross_val_score, RepeatedStratifiedKFold, cross_val_predict\n",
    "from sklearn.ensemble import RandomForestClassifier, VotingClassifier, StackingClassifier, GradientBoostingClassifier, AdaBoostClassifier\n",
    "from sklearn.metrics import accuracy_score, f1_score, classification_report, make_scorer, confusion_matrix, roc_curve, roc_auc_score\n",
    "from sklearn.tree import DecisionTreeClassifier\n",
    "from sklearn.linear_model import LinearRegression, LogisticRegression\n",
    "from sklearn.inspection import permutation_importance\n",
    "from scipy.stats import skew, kurtosis\n",
    "from sklearn.base import BaseEstimator, ClassifierMixin"
   ]
  },
  {
   "cell_type": "markdown",
   "id": "a0687816-c343-4b81-abb0-82eb77a9c38a",
   "metadata": {},
   "source": [
    "## Models"
   ]
  },
  {
   "cell_type": "code",
   "execution_count": 3,
   "id": "e4878983-64d3-4dfa-9628-eaf833e06e63",
   "metadata": {},
   "outputs": [],
   "source": [
    "from catboost import CatBoostClassifier, Pool\n",
    "import lightgbm as lgb\n",
    "from xgboost import XGBClassifier\n",
    "from bayes_opt import BayesianOptimization\n",
    "from sklearn.svm import SVC"
   ]
  },
  {
   "cell_type": "markdown",
   "id": "38adeb9f-efc6-4f3d-be74-c4a07ecf7179",
   "metadata": {},
   "source": [
    "# Load CSVs"
   ]
  },
  {
   "cell_type": "code",
   "execution_count": 4,
   "id": "bcccdc4c-1115-4dc4-9117-e00bcf3f1b78",
   "metadata": {},
   "outputs": [],
   "source": [
    "control_df = pd.read_csv(\"../Dataset/train_radiomics_occipital_CONTROL.csv\")\n",
    "train_df = pd.read_csv(\"../Dataset/train_radiomics_hipocamp.csv\")\n",
    "test_df = pd.read_csv(\"../Dataset/test_radiomics_hipocamp.csv\")\n",
    "dummy_df = pd.read_csv(\"../Dataset/dummy_submission.csv\")"
   ]
  },
  {
   "cell_type": "markdown",
   "id": "d28fab95-d134-486d-a64f-34b1be1affe9",
   "metadata": {},
   "source": [
    "# Save & Load Data"
   ]
  },
  {
   "cell_type": "code",
   "execution_count": 5,
   "id": "faf90db6-321d-4505-a826-0a24d619fa52",
   "metadata": {},
   "outputs": [],
   "source": [
    "uni_path = \"../DataSaver/\"\n",
    "\n",
    "def save_stuff(data,path):\n",
    "    file_path = os.path.join(uni_path, path)\n",
    "    \n",
    "    with open(file_path,\"wb\") as file:\n",
    "        pickle.dump(data,file)\n",
    "\n",
    "def load_stuff(path):\n",
    "    file_path = os.path.join(uni_path,path)\n",
    "\n",
    "    with open(file_path,\"rb\") as file:\n",
    "        data = pickle.load(file)\n",
    "\n",
    "    return data"
   ]
  },
  {
   "cell_type": "markdown",
   "id": "001cbdce-d4c9-4a00-bf8f-fe65f8898aa5",
   "metadata": {
    "jp-MarkdownHeadingCollapsed": true
   },
   "source": [
    "# Data Exploration"
   ]
  },
  {
   "cell_type": "markdown",
   "id": "f5c66db7-f4ad-4a89-85de-89b4d997c287",
   "metadata": {},
   "source": [
    "## Category Encoder and Decoder"
   ]
  },
  {
   "cell_type": "code",
   "execution_count": 6,
   "id": "f55608d5-d037-4309-83d1-b8336c249d19",
   "metadata": {},
   "outputs": [],
   "source": [
    "def target_encoder(df, target=\"Transition\"):\n",
    "    le_make = LabelEncoder()\n",
    "    df[f\"{target}_code\"] = le_make.fit_transform(df[target])\n",
    "    return le_make\n",
    "\n",
    "def target_decoder(le_make, preds):\n",
    "    return le_make.inverse_transform(preds)\n"
   ]
  },
  {
   "cell_type": "code",
   "execution_count": 7,
   "id": "0f85f23e-c323-442b-b9e9-ad4a15b9344c",
   "metadata": {},
   "outputs": [],
   "source": [
    "le_make_train = target_encoder(train_df)\n",
    "le_make_control = target_encoder(control_df)"
   ]
  },
  {
   "cell_type": "code",
   "execution_count": 8,
   "id": "18f74bb6-401d-48f1-9f04-de4648f1eb84",
   "metadata": {},
   "outputs": [
    {
     "data": {
      "image/png": "[encoded data removed]",
      "text/plain": [
       "<Figure size 600x350 with 1 Axes>"
      ]
     },
     "metadata": {},
     "output_type": "display_data"
    }
   ],
   "source": [
    "# Obtenção da distribuição e contagem de cada classe\n",
    "target_distribution = train_df['Transition_code'].value_counts(normalize=True).sort_index()\n",
    "target_counts = train_df['Transition_code'].value_counts().sort_index()\n",
    "\n",
    "plt.figure(figsize=(6, 3.5))\n",
    "ax = sns.barplot(x=target_distribution.index, y=target_distribution.values)\n",
    "plt.title(\"Distribuição da variável alvo (Transition_code)\")\n",
    "plt.xlabel(\"Classes\")\n",
    "plt.ylabel(\"Frequência\")\n",
    "\n",
    "le_make = target_encoder(train_df) \n",
    "decoded_labels = le_make.inverse_transform(target_distribution.index)\n",
    "\n",
    "for index, value in enumerate(target_distribution.index):\n",
    "    ax.text(index, target_distribution[value] + 0.01, f'{target_counts[value]} ({decoded_labels[index]})', ha='center')\n",
    "\n",
    "plt.show()"
   ]
  },
  {
   "cell_type": "markdown",
   "id": "47266102-bf79-4e83-bd35-8053870b7620",
   "metadata": {},
   "source": [
    "## MatPlots"
   ]
  },
  {
   "cell_type": "code",
   "execution_count": 9,
   "id": "131b467a-b41f-4348-a8bb-edf6857ad797",
   "metadata": {},
   "outputs": [],
   "source": [
    "def show_histogram(df,title=\"histogram\"):\n",
    "    plt.figure(figsize=(13,8))\n",
    "    plt.subplots_adjust(bottom=0.17)\n",
    "    plt.title(title)\n",
    "    sns.histplot(df)\n",
    "    plt.show()"
   ]
  },
  {
   "cell_type": "code",
   "execution_count": 10,
   "id": "f7925e3f-751d-4272-8d85-37455e1de3c3",
   "metadata": {},
   "outputs": [],
   "source": [
    "def show_pie(df,title=\"pie\"):\n",
    "    labels = df.unique().tolist()\n",
    "    counts = df.value_counts()\n",
    "    sizes = [counts[var_cat] for var_cat in labels]\n",
    "    _, ax1 = plt.subplots()\n",
    "    ax1.pie(sizes, labels=labels, autopct=\"%1.1f%%\",shadow=True)\n",
    "    ax1.axis(\"equal\")\n",
    "    plt.title(title)\n",
    "    plt.show()"
   ]
  },
  {
   "cell_type": "code",
   "execution_count": 11,
   "id": "4a3e6a7e-3194-4b77-8ee2-3252b09e2fdd",
   "metadata": {},
   "outputs": [],
   "source": [
    "def show_boxplot(df,title=\"boxplot\"):\n",
    "    plt.figure(figsize=(13,8))\n",
    "    plt.subplots_adjust(bottom=0.17)\n",
    "    df.boxplot()\n",
    "    plt.xticks(rotation=15)\n",
    "    plt.title(title)\n",
    "    plt.show()\n"
   ]
  },
  {
   "cell_type": "code",
   "execution_count": 12,
   "id": "3a537480-3e00-4143-8048-991fa667476c",
   "metadata": {},
   "outputs": [],
   "source": [
    "def show_heatmap(df,title=\"correlation heatmap\"):\n",
    "    df = df.select_dtypes(include=\"number\")\n",
    "    plt.figure(figsize=(6,3.5))\n",
    "    plt.subplots_adjust(bottom=0.25,left=0.22,right=0.95)\n",
    "    plt.xticks(rotation=15)\n",
    "    plt.title(title)\n",
    "    sns.heatmap(df.corr(),annot=True,cmap=\"coolwarm\",linewidths=0.5)\n",
    "    plt.show()"
   ]
  },
  {
   "cell_type": "code",
   "execution_count": 13,
   "id": "dd9737cd-d910-4d61-84d8-8a55f4b13fa4",
   "metadata": {},
   "outputs": [],
   "source": [
    "def show_jointplot(df,x_label,y_label,title=\"jointplot\",hue=\"Transition_code\"):\n",
    "    sns.jointplot(data=df,x=x_label,y=y_label,hue=hue)\n",
    "    plt.show()"
   ]
  },
  {
   "cell_type": "code",
   "execution_count": 14,
   "id": "995e7449-da98-4994-b96b-dfefc0e85f25",
   "metadata": {},
   "outputs": [],
   "source": [
    "def show_catplot(df, x_label, y_label, title=\"catplot\", hue=\"Transition_code\", height=3, aspect=1.5):\n",
    "    sns.catplot(data=df, x=x_label, y=y_label, hue=hue, height=height, aspect=aspect)\n",
    "    plt.title(title)\n",
    "    plt.xlabel(x_label)\n",
    "    plt.ylabel(y_label)\n",
    "    plt.show()"
   ]
  },
  {
   "cell_type": "code",
   "execution_count": 15,
   "id": "9e4806ab-e084-4a82-b83b-c468240afcf0",
   "metadata": {},
   "outputs": [],
   "source": [
    "def show_pairplot(df,hue=\"Transition_code\"):\n",
    "    sns.pairplot(df,hue=hue)\n",
    "    plt.show()"
   ]
  },
  {
   "cell_type": "markdown",
   "id": "233d4132-95f8-4a0c-8528-45e2c2e7881b",
   "metadata": {},
   "source": [
    "## Basic Exploration"
   ]
  },
  {
   "cell_type": "code",
   "execution_count": 16,
   "id": "511ce1f5-4007-4842-b34a-97eb46b299a8",
   "metadata": {},
   "outputs": [],
   "source": [
    "def main_exploration(df):\n",
    "    print(df.shape) "
   ]
  },
  {
   "cell_type": "code",
   "execution_count": 17,
   "id": "c4a0cea5-fb88-449b-83d6-4b9377be1aec",
   "metadata": {},
   "outputs": [],
   "source": [
    "def numerical_exploration(df):\n",
    "    # age exploration\n",
    "    show_histogram(df[\"Age\"],title=\"Histogram\")\n",
    "    print(df[\"Age\"].describe())"
   ]
  },
  {
   "cell_type": "code",
   "execution_count": 18,
   "id": "1c485d1c-5873-4b6b-bdcd-d7d6a56ce0f3",
   "metadata": {},
   "outputs": [
    {
     "data": {
      "text/html": [
       "<div>\n",
       "<style scoped>\n",
       "    .dataframe tbody tr th:only-of-type {\n",
       "        vertical-align: middle;\n",
       "    }\n",
       "\n",
       "    .dataframe tbody tr th {\n",
       "        vertical-align: top;\n",
       "    }\n",
       "\n",
       "    .dataframe thead th {\n",
       "        text-align: right;\n",
       "    }\n",
       "</style>\n",
       "<table border=\"1\" class=\"dataframe\">\n",
       "  <thead>\n",
       "    <tr style=\"text-align: right;\">\n",
       "      <th></th>\n",
       "      <th>diagnostics_Image-original_Dimensionality</th>\n",
       "      <th>diagnostics_Image-original_Mean</th>\n",
       "      <th>diagnostics_Image-original_Minimum</th>\n",
       "      <th>diagnostics_Image-original_Maximum</th>\n",
       "      <th>diagnostics_Mask-original_VoxelNum</th>\n",
       "      <th>diagnostics_Mask-original_VolumeNum</th>\n",
       "      <th>original_shape_Elongation</th>\n",
       "      <th>original_shape_Flatness</th>\n",
       "      <th>original_shape_LeastAxisLength</th>\n",
       "      <th>original_shape_MajorAxisLength</th>\n",
       "      <th>...</th>\n",
       "      <th>lbp-3D-k_glszm_ZonePercentage</th>\n",
       "      <th>lbp-3D-k_glszm_ZoneVariance</th>\n",
       "      <th>lbp-3D-k_ngtdm_Busyness</th>\n",
       "      <th>lbp-3D-k_ngtdm_Coarseness</th>\n",
       "      <th>lbp-3D-k_ngtdm_Complexity</th>\n",
       "      <th>lbp-3D-k_ngtdm_Contrast</th>\n",
       "      <th>lbp-3D-k_ngtdm_Strength</th>\n",
       "      <th>Sex</th>\n",
       "      <th>Age</th>\n",
       "      <th>Transition_code</th>\n",
       "    </tr>\n",
       "  </thead>\n",
       "  <tbody>\n",
       "    <tr>\n",
       "      <th>count</th>\n",
       "      <td>305.0</td>\n",
       "      <td>305.000000</td>\n",
       "      <td>305.0</td>\n",
       "      <td>305.000000</td>\n",
       "      <td>305.000000</td>\n",
       "      <td>305.0</td>\n",
       "      <td>305.000000</td>\n",
       "      <td>305.000000</td>\n",
       "      <td>305.000000</td>\n",
       "      <td>305.000000</td>\n",
       "      <td>...</td>\n",
       "      <td>305.000000</td>\n",
       "      <td>305.000000</td>\n",
       "      <td>305.000000</td>\n",
       "      <td>305.000000</td>\n",
       "      <td>305.000000</td>\n",
       "      <td>305.000000</td>\n",
       "      <td>305.000000</td>\n",
       "      <td>305.000000</td>\n",
       "      <td>305.000000</td>\n",
       "      <td>305.000000</td>\n",
       "    </tr>\n",
       "    <tr>\n",
       "      <th>mean</th>\n",
       "      <td>3.0</td>\n",
       "      <td>5.810469</td>\n",
       "      <td>0.0</td>\n",
       "      <td>173.504918</td>\n",
       "      <td>6714.790164</td>\n",
       "      <td>2.0</td>\n",
       "      <td>0.411819</td>\n",
       "      <td>0.096916</td>\n",
       "      <td>10.137707</td>\n",
       "      <td>104.883349</td>\n",
       "      <td>...</td>\n",
       "      <td>0.010477</td>\n",
       "      <td>266015.006289</td>\n",
       "      <td>362.064990</td>\n",
       "      <td>0.002024</td>\n",
       "      <td>0.155767</td>\n",
       "      <td>0.012415</td>\n",
       "      <td>0.002091</td>\n",
       "      <td>0.567213</td>\n",
       "      <td>75.171148</td>\n",
       "      <td>1.980328</td>\n",
       "    </tr>\n",
       "    <tr>\n",
       "      <th>std</th>\n",
       "      <td>0.0</td>\n",
       "      <td>0.613858</td>\n",
       "      <td>0.0</td>\n",
       "      <td>24.108871</td>\n",
       "      <td>1066.815670</td>\n",
       "      <td>0.0</td>\n",
       "      <td>0.028993</td>\n",
       "      <td>0.009739</td>\n",
       "      <td>0.911329</td>\n",
       "      <td>6.180335</td>\n",
       "      <td>...</td>\n",
       "      <td>0.002009</td>\n",
       "      <td>59267.210682</td>\n",
       "      <td>102.133366</td>\n",
       "      <td>0.000531</td>\n",
       "      <td>0.024285</td>\n",
       "      <td>0.003814</td>\n",
       "      <td>0.000552</td>\n",
       "      <td>0.496276</td>\n",
       "      <td>6.675866</td>\n",
       "      <td>1.504251</td>\n",
       "    </tr>\n",
       "    <tr>\n",
       "      <th>min</th>\n",
       "      <td>3.0</td>\n",
       "      <td>4.321602</td>\n",
       "      <td>0.0</td>\n",
       "      <td>128.000000</td>\n",
       "      <td>3609.000000</td>\n",
       "      <td>2.0</td>\n",
       "      <td>0.330890</td>\n",
       "      <td>0.075142</td>\n",
       "      <td>8.420713</td>\n",
       "      <td>90.675836</td>\n",
       "      <td>...</td>\n",
       "      <td>0.005818</td>\n",
       "      <td>138177.996378</td>\n",
       "      <td>130.618182</td>\n",
       "      <td>0.001137</td>\n",
       "      <td>0.071124</td>\n",
       "      <td>0.002565</td>\n",
       "      <td>0.001168</td>\n",
       "      <td>0.000000</td>\n",
       "      <td>55.300000</td>\n",
       "      <td>0.000000</td>\n",
       "    </tr>\n",
       "    <tr>\n",
       "      <th>25%</th>\n",
       "      <td>3.0</td>\n",
       "      <td>5.317298</td>\n",
       "      <td>0.0</td>\n",
       "      <td>157.000000</td>\n",
       "      <td>5941.000000</td>\n",
       "      <td>2.0</td>\n",
       "      <td>0.392944</td>\n",
       "      <td>0.089977</td>\n",
       "      <td>9.525253</td>\n",
       "      <td>100.501871</td>\n",
       "      <td>...</td>\n",
       "      <td>0.009060</td>\n",
       "      <td>225781.559367</td>\n",
       "      <td>285.617369</td>\n",
       "      <td>0.001632</td>\n",
       "      <td>0.140791</td>\n",
       "      <td>0.009751</td>\n",
       "      <td>0.001688</td>\n",
       "      <td>0.000000</td>\n",
       "      <td>71.300000</td>\n",
       "      <td>1.000000</td>\n",
       "    </tr>\n",
       "    <tr>\n",
       "      <th>50%</th>\n",
       "      <td>3.0</td>\n",
       "      <td>5.811449</td>\n",
       "      <td>0.0</td>\n",
       "      <td>172.000000</td>\n",
       "      <td>6723.000000</td>\n",
       "      <td>2.0</td>\n",
       "      <td>0.412479</td>\n",
       "      <td>0.096609</td>\n",
       "      <td>10.106838</td>\n",
       "      <td>104.370667</td>\n",
       "      <td>...</td>\n",
       "      <td>0.010580</td>\n",
       "      <td>259226.493061</td>\n",
       "      <td>353.841144</td>\n",
       "      <td>0.001934</td>\n",
       "      <td>0.156580</td>\n",
       "      <td>0.012297</td>\n",
       "      <td>0.001995</td>\n",
       "      <td>1.000000</td>\n",
       "      <td>75.000000</td>\n",
       "      <td>1.000000</td>\n",
       "    </tr>\n",
       "    <tr>\n",
       "      <th>75%</th>\n",
       "      <td>3.0</td>\n",
       "      <td>6.237751</td>\n",
       "      <td>0.0</td>\n",
       "      <td>190.000000</td>\n",
       "      <td>7396.000000</td>\n",
       "      <td>2.0</td>\n",
       "      <td>0.431621</td>\n",
       "      <td>0.102240</td>\n",
       "      <td>10.635093</td>\n",
       "      <td>108.677326</td>\n",
       "      <td>...</td>\n",
       "      <td>0.011706</td>\n",
       "      <td>298836.166667</td>\n",
       "      <td>431.288497</td>\n",
       "      <td>0.002305</td>\n",
       "      <td>0.173700</td>\n",
       "      <td>0.015166</td>\n",
       "      <td>0.002373</td>\n",
       "      <td>1.000000</td>\n",
       "      <td>79.900000</td>\n",
       "      <td>3.000000</td>\n",
       "    </tr>\n",
       "    <tr>\n",
       "      <th>max</th>\n",
       "      <td>3.0</td>\n",
       "      <td>7.583210</td>\n",
       "      <td>0.0</td>\n",
       "      <td>255.000000</td>\n",
       "      <td>9453.000000</td>\n",
       "      <td>2.0</td>\n",
       "      <td>0.491496</td>\n",
       "      <td>0.144082</td>\n",
       "      <td>14.370911</td>\n",
       "      <td>126.209296</td>\n",
       "      <td>...</td>\n",
       "      <td>0.017015</td>\n",
       "      <td>465865.829238</td>\n",
       "      <td>670.406531</td>\n",
       "      <td>0.004325</td>\n",
       "      <td>0.223273</td>\n",
       "      <td>0.024548</td>\n",
       "      <td>0.004417</td>\n",
       "      <td>1.000000</td>\n",
       "      <td>91.000000</td>\n",
       "      <td>4.000000</td>\n",
       "    </tr>\n",
       "  </tbody>\n",
       "</table>\n",
       "<p>8 rows × 2162 columns</p>\n",
       "</div>"
      ],
      "text/plain": [
       "       diagnostics_Image-original_Dimensionality  \\\n",
       "count                                      305.0   \n",
       "mean                                         3.0   \n",
       "std                                          0.0   \n",
       "min                                          3.0   \n",
       "25%                                          3.0   \n",
       "50%                                          3.0   \n",
       "75%                                          3.0   \n",
       "max                                          3.0   \n",
       "\n",
       "       diagnostics_Image-original_Mean  diagnostics_Image-original_Minimum  \\\n",
       "count                       305.000000                               305.0   \n",
       "mean                          5.810469                                 0.0   \n",
       "std                           0.613858                                 0.0   \n",
       "min                           4.321602                                 0.0   \n",
       "25%                           5.317298                                 0.0   \n",
       "50%                           5.811449                                 0.0   \n",
       "75%                           6.237751                                 0.0   \n",
       "max                           7.583210                                 0.0   \n",
       "\n",
       "       diagnostics_Image-original_Maximum  diagnostics_Mask-original_VoxelNum  \\\n",
       "count                          305.000000                          305.000000   \n",
       "mean                           173.504918                         6714.790164   \n",
       "std                             24.108871                         1066.815670   \n",
       "min                            128.000000                         3609.000000   \n",
       "25%                            157.000000                         5941.000000   \n",
       "50%                            172.000000                         6723.000000   \n",
       "75%                            190.000000                         7396.000000   \n",
       "max                            255.000000                         9453.000000   \n",
       "\n",
       "       diagnostics_Mask-original_VolumeNum  original_shape_Elongation  \\\n",
       "count                                305.0                 305.000000   \n",
       "mean                                   2.0                   0.411819   \n",
       "std                                    0.0                   0.028993   \n",
       "min                                    2.0                   0.330890   \n",
       "25%                                    2.0                   0.392944   \n",
       "50%                                    2.0                   0.412479   \n",
       "75%                                    2.0                   0.431621   \n",
       "max                                    2.0                   0.491496   \n",
       "\n",
       "       original_shape_Flatness  original_shape_LeastAxisLength  \\\n",
       "count               305.000000                      305.000000   \n",
       "mean                  0.096916                       10.137707   \n",
       "std                   0.009739                        0.911329   \n",
       "min                   0.075142                        8.420713   \n",
       "25%                   0.089977                        9.525253   \n",
       "50%                   0.096609                       10.106838   \n",
       "75%                   0.102240                       10.635093   \n",
       "max                   0.144082                       14.370911   \n",
       "\n",
       "       original_shape_MajorAxisLength  ...  lbp-3D-k_glszm_ZonePercentage  \\\n",
       "count                      305.000000  ...                     305.000000   \n",
       "mean                       104.883349  ...                       0.010477   \n",
       "std                          6.180335  ...                       0.002009   \n",
       "min                         90.675836  ...                       0.005818   \n",
       "25%                        100.501871  ...                       0.009060   \n",
       "50%                        104.370667  ...                       0.010580   \n",
       "75%                        108.677326  ...                       0.011706   \n",
       "max                        126.209296  ...                       0.017015   \n",
       "\n",
       "       lbp-3D-k_glszm_ZoneVariance  lbp-3D-k_ngtdm_Busyness  \\\n",
       "count                   305.000000               305.000000   \n",
       "mean                 266015.006289               362.064990   \n",
       "std                   59267.210682               102.133366   \n",
       "min                  138177.996378               130.618182   \n",
       "25%                  225781.559367               285.617369   \n",
       "50%                  259226.493061               353.841144   \n",
       "75%                  298836.166667               431.288497   \n",
       "max                  465865.829238               670.406531   \n",
       "\n",
       "       lbp-3D-k_ngtdm_Coarseness  lbp-3D-k_ngtdm_Complexity  \\\n",
       "count                 305.000000                 305.000000   \n",
       "mean                    0.002024                   0.155767   \n",
       "std                     0.000531                   0.024285   \n",
       "min                     0.001137                   0.071124   \n",
       "25%                     0.001632                   0.140791   \n",
       "50%                     0.001934                   0.156580   \n",
       "75%                     0.002305                   0.173700   \n",
       "max                     0.004325                   0.223273   \n",
       "\n",
       "       lbp-3D-k_ngtdm_Contrast  lbp-3D-k_ngtdm_Strength         Sex  \\\n",
       "count               305.000000               305.000000  305.000000   \n",
       "mean                  0.012415                 0.002091    0.567213   \n",
       "std                   0.003814                 0.000552    0.496276   \n",
       "min                   0.002565                 0.001168    0.000000   \n",
       "25%                   0.009751                 0.001688    0.000000   \n",
       "50%                   0.012297                 0.001995    1.000000   \n",
       "75%                   0.015166                 0.002373    1.000000   \n",
       "max                   0.024548                 0.004417    1.000000   \n",
       "\n",
       "              Age  Transition_code  \n",
       "count  305.000000       305.000000  \n",
       "mean    75.171148         1.980328  \n",
       "std      6.675866         1.504251  \n",
       "min     55.300000         0.000000  \n",
       "25%     71.300000         1.000000  \n",
       "50%     75.000000         1.000000  \n",
       "75%     79.900000         3.000000  \n",
       "max     91.000000         4.000000  \n",
       "\n",
       "[8 rows x 2162 columns]"
      ]
     },
     "execution_count": 18,
     "metadata": {},
     "output_type": "execute_result"
    }
   ],
   "source": [
    "train_df.describe()"
   ]
  },
  {
   "cell_type": "code",
   "execution_count": 19,
   "id": "4f9252dc-8297-4de8-a76f-0c2a04e13e6d",
   "metadata": {},
   "outputs": [
    {
     "data": {
      "image/png": "[encoded data removed]",
      "text/plain": [
       "<Figure size 1300x800 with 1 Axes>"
      ]
     },
     "metadata": {},
     "output_type": "display_data"
    },
    {
     "name": "stdout",
     "output_type": "stream",
     "text": [
      "count    305.000000\n",
      "mean      75.171148\n",
      "std        6.675866\n",
      "min       55.300000\n",
      "25%       71.300000\n",
      "50%       75.000000\n",
      "75%       79.900000\n",
      "max       91.000000\n",
      "Name: Age, dtype: float64\n"
     ]
    }
   ],
   "source": [
    "numerical_exploration(train_df)"
   ]
  },
  {
   "cell_type": "code",
   "execution_count": 20,
   "id": "3665348d-031f-4317-bafb-5051cb42b80a",
   "metadata": {},
   "outputs": [],
   "source": [
    "def categorical_exploration(df):\n",
    "    \"\"\"\n",
    "    Transition description:\n",
    "    CN - Cognitive Normal, estado normal\n",
    "    MCI - Mild Cognitive Impairment, estado entre o avanço normal da perda de memoria com a idade e um certo declinio serio de demencia\n",
    "    AD - Azlheimer Disease, forma mais comum de demencia nas pessoas mais velhas\n",
    "    \"\"\"\n",
    "    categorical_df = df[[\"Sex\",\"Transition\"]]\n",
    "\n",
    "    for column in categorical_df.columns:\n",
    "        show_histogram(categorical_df[column],title=f\"{column} histogram\")\n",
    "        print(df[column].value_counts())"
   ]
  },
  {
   "cell_type": "code",
   "execution_count": 21,
   "id": "eb81429d-b430-4177-8086-7272b02f8335",
   "metadata": {},
   "outputs": [
    {
     "data": {
      "image/png": "[encoded data removed]",
      "text/plain": [
       "<Figure size 508.875x300 with 1 Axes>"
      ]
     },
     "metadata": {},
     "output_type": "display_data"
    },
    {
     "data": {
      "image/png": "[encoded data removed]",
      "text/plain": [
       "<Figure size 600x350 with 2 Axes>"
      ]
     },
     "metadata": {},
     "output_type": "display_data"
    }
   ],
   "source": [
    "show_catplot(train_df, \"Age\", \"Transition\", hue=\"Sex\")\n",
    "show_heatmap(train_df[[\"Age\",\"Transition_code\",\"Sex\"]])"
   ]
  },
  {
   "cell_type": "code",
   "execution_count": 22,
   "id": "18f6e165-1860-44bc-a95a-eeb4bb98f3a0",
   "metadata": {},
   "outputs": [],
   "source": [
    "diagnostics_configs_columns = [\"diagnostics_Configuration_Settings\",\"diagnostics_Configuration_EnabledImageTypes\"]\n",
    "def diagnostics_configs(df):\n",
    "    for col in diagnostics_configs_columns:\n",
    "        print(len(df[col].unique()))"
   ]
  },
  {
   "cell_type": "code",
   "execution_count": 23,
   "id": "d42ab21b-9c99-42d3-a64b-30a6beb36df6",
   "metadata": {},
   "outputs": [
    {
     "name": "stdout",
     "output_type": "stream",
     "text": [
      "1\n",
      "1\n"
     ]
    }
   ],
   "source": [
    "diagnostics_configs(train_df)"
   ]
  },
  {
   "cell_type": "code",
   "execution_count": 24,
   "id": "3109d113-17cd-449c-b8cc-8a33b07e3c0b",
   "metadata": {},
   "outputs": [],
   "source": [
    "diagnostics_versions_columns = [\"diagnostics_Versions_PyRadiomics\",\"diagnostics_Versions_Numpy\",\"diagnostics_Versions_SimpleITK\",\"diagnostics_Versions_PyWavelet\",\"diagnostics_Versions_Python\"] \n",
    "def diagnostics_versions_explorer(df):\n",
    "    for column in diagnostics_versions_columns:\n",
    "        print(column,\": \")\n",
    "        values = df[column].unique()\n",
    "        print(values)"
   ]
  },
  {
   "cell_type": "code",
   "execution_count": 25,
   "id": "60242111-4b7f-4c07-b4ba-c63c6230e2ac",
   "metadata": {},
   "outputs": [
    {
     "name": "stdout",
     "output_type": "stream",
     "text": [
      "diagnostics_Versions_PyRadiomics : \n",
      "['2.2.0']\n",
      "diagnostics_Versions_Numpy : \n",
      "['1.18.5']\n",
      "diagnostics_Versions_SimpleITK : \n",
      "['1.2.4']\n",
      "diagnostics_Versions_PyWavelet : \n",
      "['1.1.1']\n",
      "diagnostics_Versions_Python : \n",
      "['3.7.7']\n"
     ]
    }
   ],
   "source": [
    "diagnostics_versions_explorer(train_df)"
   ]
  },
  {
   "cell_type": "code",
   "execution_count": 26,
   "id": "010d37be-59ec-4d57-8ac3-cd3386f2a487",
   "metadata": {},
   "outputs": [],
   "source": [
    "diagnostics_versions_columns = [\"diagnostics_Versions_PyRadiomics\",\"diagnostics_Versions_Numpy\",\"diagnostics_Versions_SimpleITK\",\"diagnostics_Versions_PyWavelet\",\"diagnostics_Versions_Python\"] "
   ]
  },
  {
   "cell_type": "code",
   "execution_count": 27,
   "id": "1bb53271-048d-4c21-927a-1caf40759231",
   "metadata": {},
   "outputs": [],
   "source": [
    "diagnostics_configs_columns = [\"diagnostics_Configuration_Settings\",\"diagnostics_Configuration_EnabledImageTypes\"]"
   ]
  },
  {
   "cell_type": "code",
   "execution_count": 28,
   "id": "785b08a3-59b4-4521-91dc-2fad1f1cf5b7",
   "metadata": {},
   "outputs": [],
   "source": [
    "unnecessary_columns = diagnostics_versions_columns + diagnostics_configs_columns +[\"diagnostics_Image-original_Dimensionality\",\"diagnostics_Image-original_Minimum\",\"diagnostics_Image-original_Size\",\"diagnostics_Mask-original_Spacing\",\"diagnostics_Image-original_Spacing\",\"diagnostics_Mask-original_Size\",\"diagnostics_Image-original_Hash\",\"diagnostics_Mask-original_Hash\",\"ID\",\"Image\",\"Mask\",'diagnostics_Mask-original_CenterOfMassIndex','diagnostics_Versions_PyRadiomics', 'diagnostics_Versions_Numpy', 'diagnostics_Versions_SimpleITK', 'diagnostics_Versions_PyWavelet', 'diagnostics_Versions_Python', 'diagnostics_Configuration_Settings', 'diagnostics_Configuration_EnabledImageTypes']"
   ]
  },
  {
   "cell_type": "code",
   "execution_count": 29,
   "id": "417445db-dc61-40fd-a842-6811ce728ac6",
   "metadata": {},
   "outputs": [
    {
     "data": {
      "image/png": "[encoded data removed]",
      "text/plain": [
       "<Figure size 600x350 with 2 Axes>"
      ]
     },
     "metadata": {},
     "output_type": "display_data"
    }
   ],
   "source": [
    "unnecessary_df = pd.DataFrame()\n",
    "for col in unnecessary_columns+[\"Transition\"]:\n",
    "    le_make = LabelEncoder()\n",
    "    unnecessary_df[f\"{col}_code\"] = le_make.fit_transform(train_df[col])\n",
    "\n",
    "show_heatmap(unnecessary_df)"
   ]
  },
  {
   "cell_type": "code",
   "execution_count": 30,
   "id": "4fdf2b70-d593-4e1c-8ec3-c2a3b13af26d",
   "metadata": {},
   "outputs": [
    {
     "name": "stdout",
     "output_type": "stream",
     "text": [
      "           ID                                              Image  \\\n",
      "0  006_S_0681  /notebooks/disk2/DS2_FreeSurfer/ADNI_006_S_068...   \n",
      "1  941_S_1203  /notebooks/disk2/DS2_FreeSurfer/ADNI_941_S_120...   \n",
      "2  011_S_0003  /notebooks/disk2/DS2_FreeSurfer/ADNI_011_S_000...   \n",
      "3  057_S_0779  /notebooks/disk2/DS2_FreeSurfer/ADNI_057_S_077...   \n",
      "4  033_S_0920  /notebooks/disk2/DS2_FreeSurfer/ADNI_033_S_092...   \n",
      "\n",
      "                                                Mask  \\\n",
      "0  /notebooks/disk2/DS2_FreeSurfer/ADNI_006_S_068...   \n",
      "1  /notebooks/disk2/DS2_FreeSurfer/ADNI_941_S_120...   \n",
      "2  /notebooks/disk2/DS2_FreeSurfer/ADNI_011_S_000...   \n",
      "3  /notebooks/disk2/DS2_FreeSurfer/ADNI_057_S_077...   \n",
      "4  /notebooks/disk2/DS2_FreeSurfer/ADNI_033_S_092...   \n",
      "\n",
      "  diagnostics_Versions_PyRadiomics diagnostics_Versions_Numpy  \\\n",
      "0                            2.2.0                     1.18.5   \n",
      "1                            2.2.0                     1.18.5   \n",
      "2                            2.2.0                     1.18.5   \n",
      "3                            2.2.0                     1.18.5   \n",
      "4                            2.2.0                     1.18.5   \n",
      "\n",
      "  diagnostics_Versions_SimpleITK diagnostics_Versions_PyWavelet  \\\n",
      "0                          1.2.4                          1.1.1   \n",
      "1                          1.2.4                          1.1.1   \n",
      "2                          1.2.4                          1.1.1   \n",
      "3                          1.2.4                          1.1.1   \n",
      "4                          1.2.4                          1.1.1   \n",
      "\n",
      "  diagnostics_Versions_Python  \\\n",
      "0                       3.7.7   \n",
      "1                       3.7.7   \n",
      "2                       3.7.7   \n",
      "3                       3.7.7   \n",
      "4                       3.7.7   \n",
      "\n",
      "                  diagnostics_Configuration_Settings  \\\n",
      "0  {'minimumROIDimensions': 2, 'minimumROISize': ...   \n",
      "1  {'minimumROIDimensions': 2, 'minimumROISize': ...   \n",
      "2  {'minimumROIDimensions': 2, 'minimumROISize': ...   \n",
      "3  {'minimumROIDimensions': 2, 'minimumROISize': ...   \n",
      "4  {'minimumROIDimensions': 2, 'minimumROISize': ...   \n",
      "\n",
      "         diagnostics_Configuration_EnabledImageTypes  \\\n",
      "0  {'Original': {}, 'Wavelet': {}, 'LoG': {'sigma...   \n",
      "1  {'Original': {}, 'Wavelet': {}, 'LoG': {'sigma...   \n",
      "2  {'Original': {}, 'Wavelet': {}, 'LoG': {'sigma...   \n",
      "3  {'Original': {}, 'Wavelet': {}, 'LoG': {'sigma...   \n",
      "4  {'Original': {}, 'Wavelet': {}, 'LoG': {'sigma...   \n",
      "\n",
      "            diagnostics_Image-original_Hash  \\\n",
      "0  b5d774a32163a7ee822d42a07808a787f8687f56   \n",
      "1  397042d736bd790b7880b372b1749ff424f89cbe   \n",
      "2  84d679a88812c4aaf03a6d99f00c913b2f64506f   \n",
      "3  168f330d2ca3f097146e5d041f33b40672d230df   \n",
      "4  ea5f291ea107dfda5e5c725eae7c0555ced44ce4   \n",
      "\n",
      "  diagnostics_Image-original_Spacing diagnostics_Image-original_Size  \\\n",
      "0                    (1.0, 1.0, 1.0)                 (256, 256, 256)   \n",
      "1                    (1.0, 1.0, 1.0)                 (256, 256, 256)   \n",
      "2                    (1.0, 1.0, 1.0)                 (256, 256, 256)   \n",
      "3                    (1.0, 1.0, 1.0)                 (256, 256, 256)   \n",
      "4                    (1.0, 1.0, 1.0)                 (256, 256, 256)   \n",
      "\n",
      "             diagnostics_Mask-original_Hash diagnostics_Mask-original_Spacing  \\\n",
      "0  315bdd7a06bb73df17bfc1297398b4398e36e180                   (1.0, 1.0, 1.0)   \n",
      "1  208a2b034b72592489315104ef526ca10d434f24                   (1.0, 1.0, 1.0)   \n",
      "2  352220437f6381b051fd4173969519887b530df6                   (1.0, 1.0, 1.0)   \n",
      "3  9f62584e8badeb5de90b797d0c86c5170465d90f                   (1.0, 1.0, 1.0)   \n",
      "4  62ab23b0a4ea4c9e7574b1ea410bd90236fe1d6e                   (1.0, 1.0, 1.0)   \n",
      "\n",
      "  diagnostics_Mask-original_Size diagnostics_Mask-original_BoundingBox  \\\n",
      "0                (256, 256, 256)            (103, 113, 93, 36, 30, 71)   \n",
      "1                (256, 256, 256)             (81, 127, 93, 47, 16, 73)   \n",
      "2                (256, 256, 256)             (77, 119, 89, 49, 30, 81)   \n",
      "3                (256, 256, 256)             (93, 102, 90, 41, 29, 78)   \n",
      "4                (256, 256, 256)             (87, 119, 91, 40, 27, 75)   \n",
      "\n",
      "         diagnostics_Mask-original_CenterOfMassIndex  \\\n",
      "0  (121.94230227976358, 129.27272727272728, 128.4...   \n",
      "1  (107.06170458927883, 135.28088443244633, 128.2...   \n",
      "2  (103.3640972118682, 135.28164604144922, 128.98...   \n",
      "3  (116.29827315541601, 118.67431469629271, 129.3...   \n",
      "4  (108.26561977948546, 132.05462746408287, 127.6...   \n",
      "\n",
      "              diagnostics_Mask-original_CenterOfMass Transition  \n",
      "0  (121.94230227976358, 129.27272727272728, 128.4...      CN-CN  \n",
      "1  (107.06170458927883, 135.28088443244633, 128.2...      CN-CN  \n",
      "2  (103.3640972118682, 135.28164604144922, 128.98...      AD-AD  \n",
      "3  (116.29827315541601, 118.67431469629271, 129.3...     CN-MCI  \n",
      "4  (108.26561977948546, 132.05462746408287, 127.6...      CN-CN  \n"
     ]
    }
   ],
   "source": [
    "colunas_nao_numericas = train_df.select_dtypes(exclude=['number']).columns\n",
    "\n",
    "print(train_df[colunas_nao_numericas].head())"
   ]
  },
  {
   "cell_type": "markdown",
   "id": "c1d7e629-38f0-4e68-8b8b-1e5709d6ecf6",
   "metadata": {},
   "source": [
    "## Correlations"
   ]
  },
  {
   "cell_type": "code",
   "execution_count": 31,
   "id": "1c55d42f-b354-452c-aa4c-bcea996b5256",
   "metadata": {},
   "outputs": [],
   "source": [
    "def top_correlations(df, target=\"Transition_code\",starts_with=None,number=10,ascending=False):\n",
    "    if starts_with == None:\n",
    "        corr_columns = df.select_dtypes(include=[\"int64\",\"float64\"]).columns\n",
    "    else:\n",
    "        corr_columns = df.columns[df.columns.str.startswith(starts_with)]\n",
    "\n",
    "    corr_matrix = df[corr_columns].corrwith(df[target])\n",
    "\n",
    "    top_features = corr_matrix.sort_values(ascending=ascending).head(number).index.tolist()\n",
    "    top_features.append(target)\n",
    "    top_features = pd.Index(top_features)\n",
    "    \n",
    "    return top_features"
   ]
  },
  {
   "cell_type": "code",
   "execution_count": 32,
   "id": "c2168eae-809d-4450-988a-db729b2d74c9",
   "metadata": {},
   "outputs": [
    {
     "name": "stderr",
     "output_type": "stream",
     "text": [
      "C:\\Users\\carlo\\AppData\\Local\\Packages\\PythonSoftwareFoundation.Python.3.11_qbz5n2kfra8p0\\LocalCache\\local-packages\\Python311\\site-packages\\numpy\\lib\\function_base.py:2897: RuntimeWarning: invalid value encountered in divide\n",
      "  c /= stddev[:, None]\n",
      "C:\\Users\\carlo\\AppData\\Local\\Packages\\PythonSoftwareFoundation.Python.3.11_qbz5n2kfra8p0\\LocalCache\\local-packages\\Python311\\site-packages\\numpy\\lib\\function_base.py:2898: RuntimeWarning: invalid value encountered in divide\n",
      "  c /= stddev[None, :]\n"
     ]
    },
    {
     "data": {
      "image/png": "[encoded data removed]",
      "text/plain": [
       "<Figure size 600x350 with 2 Axes>"
      ]
     },
     "metadata": {},
     "output_type": "display_data"
    }
   ],
   "source": [
    "rad_corr = top_correlations(train_df,starts_with=\"lbp\",number=20)\n",
    "show_heatmap(train_df[rad_corr])"
   ]
  },
  {
   "cell_type": "markdown",
   "id": "34abd5e2-0ac2-4a0c-b41c-87b879032658",
   "metadata": {
    "jp-MarkdownHeadingCollapsed": true
   },
   "source": [
    "# Data Processing"
   ]
  },
  {
   "cell_type": "markdown",
   "id": "5958e519-82a3-4992-925d-ea7739b311e1",
   "metadata": {},
   "source": [
    "## Drop Unnecessary Columns"
   ]
  },
  {
   "cell_type": "code",
   "execution_count": 33,
   "id": "78d3bc16-bd50-40bf-977b-da504bff4485",
   "metadata": {},
   "outputs": [],
   "source": [
    "control_df = control_df.drop(columns=unnecessary_columns,axis=1,errors=\"ignore\")\n",
    "train_df = train_df.drop(columns=unnecessary_columns,axis=1,errors=\"ignore\")\n",
    "test_df = test_df.drop(columns=unnecessary_columns,axis=1,errors=\"ignore\")"
   ]
  },
  {
   "cell_type": "code",
   "execution_count": 34,
   "id": "29377a42-d41f-48a7-a414-55261712ab62",
   "metadata": {},
   "outputs": [
    {
     "data": {
      "text/html": [
       "<div>\n",
       "<style scoped>\n",
       "    .dataframe tbody tr th:only-of-type {\n",
       "        vertical-align: middle;\n",
       "    }\n",
       "\n",
       "    .dataframe tbody tr th {\n",
       "        vertical-align: top;\n",
       "    }\n",
       "\n",
       "    .dataframe thead th {\n",
       "        text-align: right;\n",
       "    }\n",
       "</style>\n",
       "<table border=\"1\" class=\"dataframe\">\n",
       "  <thead>\n",
       "    <tr style=\"text-align: right;\">\n",
       "      <th></th>\n",
       "      <th>diagnostics_Mask-original_BoundingBox</th>\n",
       "    </tr>\n",
       "  </thead>\n",
       "  <tbody>\n",
       "    <tr>\n",
       "      <th>0</th>\n",
       "      <td>(103, 113, 93, 36, 30, 71)</td>\n",
       "    </tr>\n",
       "    <tr>\n",
       "      <th>1</th>\n",
       "      <td>(81, 127, 93, 47, 16, 73)</td>\n",
       "    </tr>\n",
       "    <tr>\n",
       "      <th>2</th>\n",
       "      <td>(77, 119, 89, 49, 30, 81)</td>\n",
       "    </tr>\n",
       "    <tr>\n",
       "      <th>3</th>\n",
       "      <td>(93, 102, 90, 41, 29, 78)</td>\n",
       "    </tr>\n",
       "    <tr>\n",
       "      <th>4</th>\n",
       "      <td>(87, 119, 91, 40, 27, 75)</td>\n",
       "    </tr>\n",
       "    <tr>\n",
       "      <th>...</th>\n",
       "      <td>...</td>\n",
       "    </tr>\n",
       "    <tr>\n",
       "      <th>300</th>\n",
       "      <td>(88, 118, 89, 41, 25, 78)</td>\n",
       "    </tr>\n",
       "    <tr>\n",
       "      <th>301</th>\n",
       "      <td>(103, 103, 93, 38, 27, 70)</td>\n",
       "    </tr>\n",
       "    <tr>\n",
       "      <th>302</th>\n",
       "      <td>(80, 131, 89, 48, 17, 82)</td>\n",
       "    </tr>\n",
       "    <tr>\n",
       "      <th>303</th>\n",
       "      <td>(93, 103, 91, 40, 31, 75)</td>\n",
       "    </tr>\n",
       "    <tr>\n",
       "      <th>304</th>\n",
       "      <td>(95, 126, 93, 40, 22, 74)</td>\n",
       "    </tr>\n",
       "  </tbody>\n",
       "</table>\n",
       "<p>305 rows × 1 columns</p>\n",
       "</div>"
      ],
      "text/plain": [
       "    diagnostics_Mask-original_BoundingBox\n",
       "0              (103, 113, 93, 36, 30, 71)\n",
       "1               (81, 127, 93, 47, 16, 73)\n",
       "2               (77, 119, 89, 49, 30, 81)\n",
       "3               (93, 102, 90, 41, 29, 78)\n",
       "4               (87, 119, 91, 40, 27, 75)\n",
       "..                                    ...\n",
       "300             (88, 118, 89, 41, 25, 78)\n",
       "301            (103, 103, 93, 38, 27, 70)\n",
       "302             (80, 131, 89, 48, 17, 82)\n",
       "303             (93, 103, 91, 40, 31, 75)\n",
       "304             (95, 126, 93, 40, 22, 74)\n",
       "\n",
       "[305 rows x 1 columns]"
      ]
     },
     "execution_count": 34,
     "metadata": {},
     "output_type": "execute_result"
    }
   ],
   "source": [
    "train_df[['diagnostics_Mask-original_BoundingBox']]\n"
   ]
  },
  {
   "cell_type": "markdown",
   "id": "d8838bb5-31c4-439f-a682-52f4dd1bba18",
   "metadata": {},
   "source": [
    "## Non Numerical Columns"
   ]
  },
  {
   "cell_type": "code",
   "execution_count": 35,
   "id": "35aa25e4-30ba-4bf1-a3da-4d2e0db5d565",
   "metadata": {},
   "outputs": [],
   "source": [
    "# Separar a coluna de BoundingBox em várias colunas\n",
    "train_df[['x_min', 'y_min', 'largura', 'altura', 'profundidade', 'extra']] = train_df['diagnostics_Mask-original_BoundingBox'].str.strip('()').str.split(',', expand=True).astype(float)\n",
    "\n",
    "# Separar a coluna de CenterOfMassIndex em várias colunas\n",
    "train_df[['x_center', 'y_center', 'z_center']] = train_df['diagnostics_Mask-original_CenterOfMass'].str.strip('()').str.split(',', expand=True).astype(float)"
   ]
  },
  {
   "cell_type": "code",
   "execution_count": 36,
   "id": "fbb49107-c4e3-4770-80ad-b2033a148ff1",
   "metadata": {},
   "outputs": [],
   "source": [
    "# Separar a coluna de BoundingBox em várias colunas\n",
    "test_df[['x_min', 'y_min', 'largura', 'altura', 'profundidade', 'extra']] = test_df['diagnostics_Mask-original_BoundingBox'].str.strip('()').str.split(',', expand=True).astype(float)\n",
    "\n",
    "# Separar a coluna de CenterOfMassIndex em várias colunas\n",
    "test_df[['x_center', 'y_center', 'z_center']] = test_df['diagnostics_Mask-original_CenterOfMass'].str.strip('()').str.split(',', expand=True).astype(float)"
   ]
  },
  {
   "cell_type": "code",
   "execution_count": 37,
   "id": "0b425306-7743-43e6-8b93-56e4246fc313",
   "metadata": {},
   "outputs": [],
   "source": [
    "# Separar a coluna de BoundingBox em várias colunas\n",
    "control_df[['x_min', 'y_min', 'largura', 'altura', 'profundidade', 'extra']] = control_df['diagnostics_Mask-original_BoundingBox'].str.strip('()').str.split(',', expand=True).astype(float)\n",
    "\n",
    "# Separar a coluna de CenterOfMassIndex em várias colunas\n",
    "control_df[['x_center', 'y_center', 'z_center']] = control_df['diagnostics_Mask-original_CenterOfMass'].str.strip('()').str.split(',', expand=True).astype(float)"
   ]
  },
  {
   "cell_type": "code",
   "execution_count": 38,
   "id": "fe7e31a2-d0e5-442c-9b8a-b402c35154eb",
   "metadata": {},
   "outputs": [],
   "source": [
    "train_df = train_df.drop(['diagnostics_Mask-original_BoundingBox', 'diagnostics_Mask-original_CenterOfMass'], axis=1, errors=\"ignore\")\n",
    "test_df = test_df.drop(['diagnostaics_Mask-original_BoundingBox', 'diagnostics_Mask-original_CenterOfMass'], axis=1, errors=\"ignore\")\n",
    "control_df = control_df.drop(['diagnostics_Mask-original_BoundingBox', 'diagnostics_Mask-original_CenterOfMass'], axis=1, errors=\"ignore\")"
   ]
  },
  {
   "cell_type": "code",
   "execution_count": 39,
   "id": "ac88a6c6-c7a6-40b8-aedb-7fd404a742eb",
   "metadata": {},
   "outputs": [
    {
     "name": "stdout",
     "output_type": "stream",
     "text": [
      "(305, 2170)\n"
     ]
    }
   ],
   "source": [
    "main_exploration(train_df)"
   ]
  },
  {
   "cell_type": "code",
   "execution_count": 40,
   "id": "20e71fea-f173-49ca-b097-6acc26b4e07a",
   "metadata": {},
   "outputs": [],
   "source": [
    "train_df = train_df.select_dtypes(include=['number'])\n",
    "control_df = control_df.select_dtypes(include=['number'])\n",
    "test_df = test_df.select_dtypes(include=['number'])"
   ]
  },
  {
   "cell_type": "markdown",
   "id": "fd574094-6b77-4955-b66b-0180c16c5fc9",
   "metadata": {},
   "source": [
    "## Data Scaler"
   ]
  },
  {
   "cell_type": "code",
   "execution_count": 41,
   "id": "dbe228b5-2efc-4d2f-a8ba-76a001c5c774",
   "metadata": {},
   "outputs": [],
   "source": [
    "from sklearn.preprocessing import StandardScaler\n",
    "\n",
    "def data_scaler(df):\n",
    "    scaler_df = df.drop(columns=[\"Transition\",\"Transition_code\"],errors=\"ignore\")\n",
    "    scaler = StandardScaler()\n",
    "    df_scaled = pd.DataFrame(scaler.fit_transform(scaler_df),columns=scaler_df.columns)\n",
    "    return df_scaled\n"
   ]
  },
  {
   "cell_type": "code",
   "execution_count": 42,
   "id": "f3673254-be15-425d-8d51-795ba784fafe",
   "metadata": {},
   "outputs": [
    {
     "data": {
      "text/plain": [
       "(305, 2169)"
      ]
     },
     "execution_count": 42,
     "metadata": {},
     "output_type": "execute_result"
    }
   ],
   "source": [
    "scaled_train_df = data_scaler(train_df)\n",
    "scaled_control_df = data_scaler(control_df)\n",
    "scaled_test_df = data_scaler(test_df)\n",
    "\n",
    "scaled_train_df[\"Transition_code\"] = train_df[\"Transition_code\"].values\n",
    "scaled_control_df[\"Transition_code\"] = train_df[\"Transition_code\"].values\n",
    "\n",
    "scaled_train_df.shape"
   ]
  },
  {
   "cell_type": "markdown",
   "id": "49d8348c-da9b-40d4-8469-8405d73aa057",
   "metadata": {},
   "source": [
    "## Correlation Analisys"
   ]
  },
  {
   "cell_type": "code",
   "execution_count": 43,
   "id": "ec915239-cd55-4258-8117-7489babcaf20",
   "metadata": {},
   "outputs": [],
   "source": [
    "corr_df = scaled_train_df.copy()\n",
    "corr_df.loc[:,\"Transition_code\"] = train_df[\"Transition_code\"].values\n",
    "target = \"Transition_code\""
   ]
  },
  {
   "cell_type": "code",
   "execution_count": 44,
   "id": "a0204db3-cc59-448c-b103-f3cb78b9636f",
   "metadata": {},
   "outputs": [],
   "source": [
    "corr_threshold_target = 0.01\n",
    "corr_threshold_features = 0.95\n",
    "\n",
    "def apply_correlation(df, threshold_target, threshold_features):\n",
    "    # Remove a coluna \"Transition\" se existir\n",
    "    df = df.drop(columns=[\"Transition\"], errors=\"ignore\")\n",
    "    \n",
    "    # Calcula a correlação com o target\n",
    "    correlation_with_target = df.corr()[target].abs()\n",
    "    important_features = correlation_with_target[correlation_with_target > threshold_target].index.tolist()\n",
    "    \n",
    "    if target in important_features:\n",
    "        important_features.remove(target)\n",
    "    \n",
    "    # Remove features que são muito correlacionadas entre si\n",
    "    correlation_matrix = df[important_features].corr().abs()\n",
    "    selected_features = important_features.copy()\n",
    "    \n",
    "    for i, feature in enumerate(important_features):\n",
    "        for other_feature in important_features[i+1:]:\n",
    "            if correlation_matrix.loc[feature, other_feature] > threshold_features:\n",
    "                if other_feature in selected_features:\n",
    "                    selected_features.remove(other_feature)\n",
    "    \n",
    "    return selected_features\n"
   ]
  },
  {
   "cell_type": "code",
   "execution_count": 45,
   "id": "398cce14-9e76-4ded-b7ae-aae16e9f153a",
   "metadata": {},
   "outputs": [
    {
     "name": "stdout",
     "output_type": "stream",
     "text": [
      "812\n"
     ]
    }
   ],
   "source": [
    "important_features = apply_correlation(scaled_train_df, corr_threshold_target, corr_threshold_features)\n",
    "print(len(important_features))"
   ]
  },
  {
   "cell_type": "code",
   "execution_count": 46,
   "id": "bb4aca39-4412-44f4-951e-366b8909a30d",
   "metadata": {},
   "outputs": [
    {
     "data": {
      "text/plain": [
       "(305, 812)"
      ]
     },
     "execution_count": 46,
     "metadata": {},
     "output_type": "execute_result"
    }
   ],
   "source": [
    "corr_train_df = scaled_train_df[important_features]\n",
    "corr_control_df = scaled_control_df[important_features]\n",
    "corr_test_df = scaled_test_df[important_features]\n",
    "corr_train_df.shape"
   ]
  },
  {
   "cell_type": "code",
   "execution_count": 47,
   "id": "8f8bb632-22fc-4742-b761-4ec1ac6357c3",
   "metadata": {},
   "outputs": [
    {
     "name": "stderr",
     "output_type": "stream",
     "text": [
      "C:\\Users\\carlo\\AppData\\Local\\Temp\\ipykernel_13152\\3502452529.py:1: SettingWithCopyWarning: \n",
      "A value is trying to be set on a copy of a slice from a DataFrame.\n",
      "Try using .loc[row_indexer,col_indexer] = value instead\n",
      "\n",
      "See the caveats in the documentation: https://pandas.pydata.org/pandas-docs/stable/user_guide/indexing.html#returning-a-view-versus-a-copy\n",
      "  corr_train_df[\"Transition_code\"] = train_df[\"Transition_code\"].values\n",
      "C:\\Users\\carlo\\AppData\\Local\\Temp\\ipykernel_13152\\3502452529.py:2: SettingWithCopyWarning: \n",
      "A value is trying to be set on a copy of a slice from a DataFrame.\n",
      "Try using .loc[row_indexer,col_indexer] = value instead\n",
      "\n",
      "See the caveats in the documentation: https://pandas.pydata.org/pandas-docs/stable/user_guide/indexing.html#returning-a-view-versus-a-copy\n",
      "  corr_control_df[\"Transition_code\"] = train_df[\"Transition_code\"].values\n"
     ]
    }
   ],
   "source": [
    "corr_train_df[\"Transition_code\"] = train_df[\"Transition_code\"].values\n",
    "corr_control_df[\"Transition_code\"] = train_df[\"Transition_code\"].values"
   ]
  },
  {
   "cell_type": "code",
   "execution_count": 48,
   "id": "64b5212a-c3e3-48a8-b506-b0269845ccd9",
   "metadata": {},
   "outputs": [
    {
     "name": "stdout",
     "output_type": "stream",
     "text": [
      "(305, 813)\n",
      "(305, 813)\n",
      "(100, 812)\n"
     ]
    }
   ],
   "source": [
    "main_exploration(corr_train_df)\n",
    "main_exploration(corr_control_df)\n",
    "main_exploration(corr_test_df)"
   ]
  },
  {
   "cell_type": "markdown",
   "id": "3bc01f05-4105-4b8f-bddd-4ae5d61afc0a",
   "metadata": {},
   "source": [
    "# Testing Phase"
   ]
  },
  {
   "cell_type": "code",
   "execution_count": 49,
   "id": "aaa3de45-db2b-4bb4-93ab-7b4c52617f51",
   "metadata": {},
   "outputs": [],
   "source": [
    "def define_X_y(train_df, test_df = pd.DataFrame(),random_state=27):\n",
    "    if test_df.empty:\n",
    "        X = train_df.drop(columns=[\"Transition_code\",\"Transition\"],errors=\"ignore\")\n",
    "        y = train_df[\"Transition_code\"]\n",
    "\n",
    "        x_train, x_test, y_train, y_test = train_test_split(X, y, test_size=0.2,stratify=y,random_state=random_state)\n",
    "\n",
    "        return x_train, x_test, y_train, y_test\n",
    "\n",
    "    else:\n",
    "        x_train = train_df.drop(\"Transition_code\",axis=1,errors=\"ignore\")\n",
    "        y_train = train_df[\"Transition_code\"]\n",
    "        x_test = test_df\n",
    "\n",
    "        return x_train, x_test, y_train, None"
   ]
  },
  {
   "cell_type": "code",
   "execution_count": 50,
   "id": "c1d954ef-b8f8-4570-a6a3-2197cfeefd08",
   "metadata": {},
   "outputs": [
    {
     "name": "stdout",
     "output_type": "stream",
     "text": [
      "(305, 812)\n",
      "(100, 812)\n"
     ]
    }
   ],
   "source": [
    "results = {}\n",
    "x_train, x_test, y_train, y_test = define_X_y(corr_train_df,corr_test_df)\n",
    "main_exploration(x_train)\n",
    "main_exploration(x_test)\n",
    "\n",
    "scorer = make_scorer(f1_score, average='macro')"
   ]
  },
  {
   "cell_type": "markdown",
   "id": "4a7702e2-193f-495c-bcde-c44463132981",
   "metadata": {},
   "source": [
    "## Params"
   ]
  },
  {
   "cell_type": "code",
   "execution_count": 51,
   "id": "67f09efb-4fb8-4484-b43f-38bd99090f66",
   "metadata": {},
   "outputs": [],
   "source": [
    "total_samples = len(x_train)\n",
    "\n",
    "class_counts = np.bincount(y_train)\n",
    "\n",
    "scale_pos_weight = total_samples / class_counts\n",
    "\n",
    "weights = {i:w for i,w in enumerate(scale_pos_weight)}\n",
    "\n",
    "sample_class_weights = {i: total_samples / count for i,count in enumerate(class_counts)}\n",
    "sample_weights = np.array([sample_class_weights[label] for label in y_train])"
   ]
  },
  {
   "cell_type": "markdown",
   "id": "d18ee2da-1db2-4f8e-8447-44a819b1f5fc",
   "metadata": {},
   "source": [
    "### Grid Params"
   ]
  },
  {
   "cell_type": "code",
   "execution_count": 52,
   "id": "9656a7ab-e9a0-4169-9411-3d4b66aa84e7",
   "metadata": {},
   "outputs": [],
   "source": [
    "param_grid_rf = {\n",
    "    'n_estimators': [50, 100, 200, 300],\n",
    "    'max_depth': [5, 10, 15, 20],\n",
    "    'min_samples_split': [2, 5, 10],\n",
    "    'min_samples_leaf': [1, 2, 4, 5],\n",
    "    'bootstrap': [True, False],\n",
    "    'class_weight': ['balanced', 'balanced_subsample']\n",
    "}\n",
    "\n",
    "\n",
    "param_grid_xgb = {\n",
    "    'learning_rate': [0.01, 0.05, 0.1],\n",
    "    'n_estimators': [50, 100, 200, 300],\n",
    "    'max_depth': [3, 5, 10],\n",
    "    'subsample': [0.7, 0.8, 1.0],\n",
    "    'colsample_bytree': [0.7, 0.8, 1.0],\n",
    "    'min_child_weight': [2, 3, 5],\n",
    "    'objective': ['multi:softprob'],\n",
    "    'alpha': [0.01, 0.05, 0.1, 1, 10],\n",
    "    'lambda': [0.5, 1, 5, 10, 100]\n",
    "}\n",
    "\n",
    "\n",
    "param_grid_light = {\n",
    "    'learning_rate': [0.01, 0.05, 0.1],\n",
    "    'num_leaves': [20, 30, 40],\n",
    "    'max_depth': [3, 5, 10, 15],\n",
    "    'min_data_in_leaf': [10, 20, 30],\n",
    "    'bagging_fraction': [0.5, 0.7, 0.8, 1.0],\n",
    "    'objective': ['multiclassova'],\n",
    "}\n",
    "\n",
    "\n",
    "param_grid_svm = {\n",
    "    'C': [0.1, 0.5, 1, 2, 5, 7, 10],\n",
    "    'gamma': [0.001, 0.01, 0.1, 1],\n",
    "    'kernel': ['rbf'],\n",
    "    'class_weight': ['balanced'],\n",
    "}\n",
    "\n",
    "param_grid_log = {\n",
    "    'penalty': ['l1', 'l2', 'elasticnet', None],\n",
    "    'C': [0.01, 0.1, 1, 10, 100],\n",
    "    'solver': ['liblinear', 'saga'],\n",
    "    'max_iter': [100, 200, 500, 1000],\n",
    "    'class_weight': ['balanced', None],\n",
    "    'multi_class': ['ovr', 'multinomial'],\n",
    "    'tol': [1e-4, 1e-3]\n",
    "}"
   ]
  },
  {
   "cell_type": "markdown",
   "id": "33f8deb3-ba40-4d8c-9ec7-cb7f365d5dce",
   "metadata": {},
   "source": [
    "### Bayes Params"
   ]
  },
  {
   "cell_type": "code",
   "execution_count": 53,
   "id": "b4dace4b-5b99-4f6b-b5f2-227483bfab4f",
   "metadata": {},
   "outputs": [],
   "source": [
    "param_baye_rf = {\n",
    "    'n_estimators': (100, 300),\n",
    "    'max_depth': (5, 30),\n",
    "    'min_samples_split': (2, 10),\n",
    "    'min_samples_leaf': (1, 4),\n",
    "    'bootstrap': (0, 1),\n",
    "    'class_weight': (0, 1),\n",
    "}\n",
    "\n",
    "\n",
    "param_baye_xgb = {\n",
    "    'learning_rate': (0.01, 0.15),\n",
    "    'n_estimators': (100, 300),\n",
    "    'max_depth': (5, 20),\n",
    "    'subsample': (0.7, 1.0),\n",
    "    'colsample_bytree': (0.7, 1.0),\n",
    "    'min_child_weight': (1, 15),\n",
    "}\n",
    "\n",
    "param_baye_light = {\n",
    "    'learning_rate': (0.01, 0.2),\n",
    "    'num_leaves': (20, 50),\n",
    "    'max_depth': (5, 15),\n",
    "    'min_data_in_leaf': (10, 30),\n",
    "    'bagging_fraction': (0.5, 1.0)\n",
    "}\n",
    "\n",
    "\n",
    "param_baye_svm = {\n",
    "    'C': (1, 100),\n",
    "    'gamma': (0.01, 1),\n",
    "    'kernel': (0, 1),\n",
    "    'class_weight': (0, 1),\n",
    "    'degree': (2, 4),\n",
    "    'tol': (1e-4, 1e-3)\n",
    "}\n",
    "\n",
    "param_baye_log = {\n",
    "    'C': (0.01, 10),\n",
    "    'max_iter': (300, 1500),\n",
    "    'solver': (0,2)  # Selecione os solvers compatíveis com os dados.\n",
    "}"
   ]
  },
  {
   "cell_type": "markdown",
   "id": "7478bafe-dc48-4ee9-8e5b-f87fd04f7e27",
   "metadata": {},
   "source": [
    "## Models"
   ]
  },
  {
   "cell_type": "markdown",
   "id": "6574b7b3-85e1-432f-8a2d-5a8656cf75c7",
   "metadata": {},
   "source": [
    "### SVM"
   ]
  },
  {
   "cell_type": "code",
   "execution_count": 54,
   "id": "c6b4420e-0d92-4a8d-9a67-cea9f42e916a",
   "metadata": {},
   "outputs": [],
   "source": [
    "def svm_train_model(x_train,y_train):\n",
    "    model = SVC(random_state=27,class_weight=\"balanced\", probability=True)\n",
    "    model.fit(x_train,y_train)\n",
    "\n",
    "    return model\n",
    "\n",
    "# Grid Model\n",
    "def svm_grid_train_model(x_train,y_train, param_grid=param_grid_svm):\n",
    "    model = SVC(random_state=27)\n",
    "    cv = RepeatedStratifiedKFold(n_splits=5, n_repeats=5, random_state=27)\n",
    "\n",
    "    grid_search = RandomizedSearchCV(model, param_grid, cv=cv, n_iter=300,random_state=27, scoring=scorer, n_jobs=-1, verbose=1)\n",
    "    grid_search.fit(x_train,y_train)\n",
    "    print(grid_search.best_params_)\n",
    "\n",
    "    return grid_search.best_estimator_\n",
    "\n",
    "def objective_svm(C, gamma, kernel, class_weight, degree, tol):\n",
    "    cv = RepeatedStratifiedKFold(n_splits=5, n_repeats=5, random_state=27)\n",
    "    \n",
    "    params = {\n",
    "        'C': C,\n",
    "        'gamma': 'scale' if round(gamma) == 0 else gamma,  # 'scale' ou um valor float de gamma\n",
    "        'kernel': 'linear' if round(kernel) == 0 else 'rbf',  # 'linear' ou 'rbf'\n",
    "        'class_weight': None if round(class_weight) == 0 else 'balanced',\n",
    "        'degree': int(degree) if round(kernel) == 1 else 3,  # Degree apenas para kernel polinomial\n",
    "        'tol': tol,\n",
    "        'random_state': 27\n",
    "    }\n",
    "    \n",
    "    model = SVC(**params)\n",
    "    score = cross_val_score(model, x_train, y_train, cv=cv, scoring='accuracy').mean()  # Troque \"scorer\" por \"accuracy\"\n",
    "    return score\n",
    "\n",
    "def svm_baye_train_model(x_train, y_train, param_baye=param_baye_svm):\n",
    "    svm_bo = BayesianOptimization(\n",
    "        f=objective_svm,\n",
    "        pbounds=param_baye,\n",
    "        random_state=27,\n",
    "    )\n",
    "    \n",
    "    svm_bo.maximize(init_points=7, n_iter=25)\n",
    "\n",
    "    best_params = svm_bo.max['params']\n",
    "\n",
    "    gamma = 'scale' if round(best_params[\"gamma\"]) == 0 else best_params[\"gamma\"]\n",
    "    kernel = 'linear' if round(best_params[\"kernel\"]) == 0 else 'rbf'\n",
    "    best_params_updated = {\n",
    "        'C': best_params['C'],\n",
    "        'gamma': gamma,\n",
    "        'kernel': kernel,\n",
    "        'class_weight': None if round(best_params['class_weight']) == 0 else 'balanced',\n",
    "        'degree': int(best_params['degree']) if kernel == 'rbf' else 3,  # Degree só para kernel 'rbf'\n",
    "        'tol': best_params['tol'],\n",
    "        'random_state': 27\n",
    "    }\n",
    "\n",
    "    print(best_params_updated)\n",
    "\n",
    "    model = SVC(**best_params_updated)\n",
    "    model.fit(x_train, y_train)\n",
    "\n",
    "    svm_results = pd.DataFrame(svm_bo.res)\n",
    "    svm_results.sort_values(by=\"target\", ascending=False, inplace=True)\n",
    "\n",
    "    return model, svm_results, svm_bo.max"
   ]
  },
  {
   "cell_type": "markdown",
   "id": "edf1453a-b040-46ad-a331-d8ec13a39ada",
   "metadata": {},
   "source": [
    "### RandomForest"
   ]
  },
  {
   "cell_type": "code",
   "execution_count": 55,
   "id": "00111d1b-ad88-460b-8bde-5f6cbb660b9b",
   "metadata": {},
   "outputs": [],
   "source": [
    "# Basic Model\n",
    "def random_forest_model(x_train,y_train):\n",
    "    model = RandomForestClassifier(random_state=27,class_weight= 'balanced_subsample')\n",
    "    model.fit(x_train,y_train)\n",
    "    \n",
    "    return model\n",
    "\n",
    "# Grid Model\n",
    "def random_forest_grid_model(x_train,y_train, param_grid_rf=param_grid_rf):\n",
    "    model = RandomForestClassifier(random_state=27)\n",
    "    cv = RepeatedStratifiedKFold(n_splits=5, n_repeats=2, random_state=27)\n",
    "    \n",
    "    grid_search = RandomizedSearchCV(model, param_grid_rf, cv=cv, n_iter=300,random_state=27, scoring=scorer, n_jobs=-1, verbose=1)\n",
    "    grid_search.fit(x_train,y_train)\n",
    "    print(grid_search.best_params_)\n",
    "\n",
    "    return grid_search.best_estimator_\n",
    "\n",
    "#Bayes Model\n",
    "def objective_random_forest(n_estimators, max_depth, min_samples_split, min_samples_leaf,bootstrap,class_weight):\n",
    "    cv = RepeatedStratifiedKFold(n_splits=5, n_repeats=1, random_state=27)\n",
    "    \n",
    "    params = {\n",
    "        'n_estimators': int(n_estimators),\n",
    "        'max_depth': int(max_depth),\n",
    "        'min_samples_split': int(min_samples_split),\n",
    "        'min_samples_leaf': int(min_samples_leaf),\n",
    "        'bootstrap': bool(round(bootstrap)),\n",
    "        'class_weight': None if round(class_weight) == 0 else 'balanced',\n",
    "        'random_state': 27\n",
    "    }\n",
    "    \n",
    "    model = RandomForestClassifier(**params)\n",
    "    score = cross_val_score(model, x_train, y_train, cv=cv, scoring=scorer).mean()\n",
    "    return score\n",
    "\n",
    "def random_forest_baye_model(x_train,y_train, param_baye=param_baye_rf):\n",
    "    rf_bo = BayesianOptimization(\n",
    "        f=objective_random_forest,\n",
    "        pbounds=param_baye,\n",
    "        random_state=27,\n",
    "    )\n",
    "    \n",
    "    rf_bo.maximize(init_points=7, n_iter=25)\n",
    "\n",
    "    best_params = rf_bo.max['params']\n",
    "    bootstrap = bool(round(best_params[\"bootstrap\"]))\n",
    "    best_params_updated = {\n",
    "        'n_estimators': int(best_params['n_estimators']),\n",
    "        'max_depth': int(best_params['max_depth']),\n",
    "        'min_samples_split': int(best_params['min_samples_split']),\n",
    "        'min_samples_leaf': int(best_params['min_samples_leaf']),\n",
    "        'bootstrap': bootstrap,\n",
    "        'class_weight': None if round(best_params['class_weight']) == 0 else 'balanced',\n",
    "        'random_state': 27\n",
    "    }\n",
    "\n",
    "    print(best_params_updated)\n",
    "\n",
    "    model = RandomForestClassifier(**best_params_updated)\n",
    "    model.fit(x_train,y_train)\n",
    "\n",
    "    rf_results = pd.DataFrame(rf_bo.res)\n",
    "    rf_results.sort_values(by=\"target\",ascending=False,inplace=True)\n",
    "\n",
    "    return model, rf_results, rf_bo.max"
   ]
  },
  {
   "cell_type": "markdown",
   "id": "2e91c192-caa6-41c4-87a2-1a034300ccd9",
   "metadata": {},
   "source": [
    "### XGBoost"
   ]
  },
  {
   "cell_type": "code",
   "execution_count": 56,
   "id": "7ed085c1-3e1b-46db-ae5f-d3bef2a7f5ef",
   "metadata": {},
   "outputs": [],
   "source": [
    "# Basic Model\n",
    "def xgboost_model(x_train,y_train):\n",
    "    model = XGBClassifier(random_state=27,objective= 'multi:softprob')\n",
    "    model.fit(x_train,y_train, sample_weight=sample_weights)\n",
    "\n",
    "    return model\n",
    "\n",
    "# Grid Model\n",
    "def xgboost_grid_model(x_train,y_train, param_grid_xgb=param_grid_xgb):\n",
    "    model = XGBClassifier(random_state=27)\n",
    "    cv = RepeatedStratifiedKFold(n_splits=5, n_repeats=1, random_state=27)\n",
    "\n",
    "    grid_search = RandomizedSearchCV(model, param_grid_xgb, cv=cv, n_iter=300,random_state=27, scoring=scorer, n_jobs=-1, verbose=1)\n",
    "    grid_search.fit(x_train,y_train)\n",
    "    print(grid_search.best_params_)\n",
    "    \n",
    "\n",
    "    return grid_search.best_estimator_\n",
    "\n",
    "# Baye Model\n",
    "def objective_xgboost(learning_rate, n_estimators, max_depth, subsample, colsample_bytree,min_child_weight):\n",
    "    cv = RepeatedStratifiedKFold(n_splits=5, n_repeats=1, random_state=27)\n",
    "    \n",
    "    params = {\n",
    "        'learning_rate': learning_rate,\n",
    "        'n_estimators': int(n_estimators),\n",
    "        'max_depth': int(max_depth),\n",
    "        'subsample': subsample,\n",
    "        'colsample_bytree': colsample_bytree,\n",
    "        'min_child_weight': min_child_weight,\n",
    "        'random_state': 27\n",
    "    }\n",
    "    \n",
    "    model = XGBClassifier(**params)\n",
    "    score = cross_val_score(model, x_train, y_train, cv=cv, scoring=scorer).mean()\n",
    "    return score\n",
    "    \n",
    "def xgboost_baye_model(x_train,y_train, param_baye=param_baye_xgb):\n",
    "    xgb_bo = BayesianOptimization(\n",
    "    f=objective_xgboost,\n",
    "    pbounds=param_baye,\n",
    "    random_state=27,\n",
    "    )\n",
    "    \n",
    "    xgb_bo.maximize(init_points=7, n_iter=25)\n",
    "\n",
    "    best_params = xgb_bo.max['params']\n",
    "    best_params_updated = {\n",
    "        'learning_rate': best_params['learning_rate'],\n",
    "        'n_estimators': int(best_params['n_estimators']),\n",
    "        'max_depth': int(best_params['max_depth']), \n",
    "        'subsample': best_params['subsample'],\n",
    "        'colsample_bytree': best_params['colsample_bytree'],\n",
    "        'min_child_weight': best_params['min_child_weight'],\n",
    "        'random_state': 27\n",
    "    }\n",
    "\n",
    "    print(best_params_updated)\n",
    "    \n",
    "    model = XGBClassifier(**best_params_updated)\n",
    "    model.fit(x_train,y_train, sample_weight=sample_weights)\n",
    "\n",
    "    xgb_results = pd.DataFrame(xgb_bo.res)\n",
    "    xgb_results.sort_values(by=\"target\",ascending=False,inplace=True)\n",
    "\n",
    "    return model, xgb_results, xgb_bo.max"
   ]
  },
  {
   "cell_type": "markdown",
   "id": "e9889b7f-9cfe-4aa5-91d8-6e6bef035fc8",
   "metadata": {},
   "source": [
    "### LightGBM"
   ]
  },
  {
   "cell_type": "code",
   "execution_count": 57,
   "id": "4f5fdb12-cb92-4e2e-8f2f-b8e38c57d9da",
   "metadata": {},
   "outputs": [],
   "source": [
    "# Basic Model\n",
    "def light_boost_model(x_train,y_train):\n",
    "    model =  lgb.LGBMClassifier(verbose=-1,objective='multiclassova',class_weight=weights)\n",
    "    model.fit(x_train,y_train)\n",
    "\n",
    "    return model\n",
    "\n",
    "# Grid Model\n",
    "def light_grid_train_model(x_train,y_train, param_grid=param_grid_light):\n",
    "    model = lgb.LGBMClassifier(verbose=-1,random_state=27,class_weight=weights)\n",
    "    cv = RepeatedStratifiedKFold(n_splits=5, n_repeats=1, random_state=27)\n",
    "\n",
    "    grid_search = RandomizedSearchCV(model, param_grid_light, cv=cv, n_iter=300,random_state=27, scoring=scorer, n_jobs=-1, verbose=1)\n",
    "    grid_search.fit(x_train,y_train)\n",
    "    print(grid_search.best_params_)\n",
    "\n",
    "    return grid_search.best_estimator_\n",
    "\n",
    "# Bayes Model\n",
    "def objective_light_boost(learning_rate, num_leaves, max_depth, min_data_in_leaf, bagging_fraction):\n",
    "    cv = RepeatedStratifiedKFold(n_splits=5, n_repeats=1, random_state=27)\n",
    "    \n",
    "    params = {\n",
    "        'learning_rate': learning_rate,\n",
    "        'num_leaves': int(num_leaves),\n",
    "        'max_depth': int(max_depth),\n",
    "        'min_data_in_leaf': int(min_data_in_leaf),\n",
    "        'bagging_fraction': bagging_fraction,\n",
    "        'boosting_type': 'gbdt',\n",
    "        'objective': 'multiclassova', \n",
    "        'num_class': 5,\n",
    "        'is_unbalance': True,\n",
    "        'n_jobs': -1,\n",
    "        'random_state': 27,\n",
    "        'class_weight': weights,\n",
    "        'verbose': -1\n",
    "    }\n",
    "    \n",
    "    model = lgb.LGBMClassifier(**params)\n",
    "    score = cross_val_score(model, x_train, y_train, cv=cv, scoring=scorer).mean()\n",
    "    return score\n",
    "\n",
    "\n",
    "def light_baye_train_model(x_train, y_train, param_baye=param_baye_light):\n",
    "    light_bo = BayesianOptimization(\n",
    "        f=objective_light_boost,\n",
    "        pbounds=param_baye,\n",
    "        random_state=27,\n",
    "    )\n",
    "    \n",
    "    light_bo.maximize(init_points=7, n_iter=20)\n",
    "\n",
    "    best_params = light_bo.max['params']\n",
    "    best_params_updated = {\n",
    "        'learning_rate': best_params['learning_rate'],\n",
    "        'num_leaves': int(best_params['num_leaves']),\n",
    "        'max_depth': int(best_params['max_depth']),\n",
    "        'min_data_in_leaf': int(best_params['min_data_in_leaf']),\n",
    "        'bagging_fraction': best_params['bagging_fraction'],\n",
    "        'boosting_type': 'gbdt',\n",
    "        'objective': 'multiclass',\n",
    "        'num_class': 5,\n",
    "        'is_unbalance': True,\n",
    "        'n_jobs': -1,\n",
    "        'random_state': 27,\n",
    "        'verbose': -1\n",
    "    }\n",
    "\n",
    "    print(best_params_updated)\n",
    "    \n",
    "    model = lgb.LGBMClassifier(**best_params_updated)\n",
    "    model.fit(x_train, y_train)\n",
    "\n",
    "    light_results = pd.DataFrame(light_bo.res)\n",
    "    light_results.sort_values(by=\"target\", ascending=False, inplace=True)\n",
    "\n",
    "    return model, light_results, light_bo.max"
   ]
  },
  {
   "cell_type": "markdown",
   "id": "000e339e-7409-43a9-a37e-413a68f1adea",
   "metadata": {},
   "source": [
    "### Logistic Regression"
   ]
  },
  {
   "cell_type": "code",
   "execution_count": 58,
   "id": "f5d27b99-6c6d-40ee-bf55-6add4b525bd2",
   "metadata": {},
   "outputs": [],
   "source": [
    "# Basic Model\n",
    "def log_reg_model(x_train,y_train):\n",
    "    model = LogisticRegression(max_iter=1000,random_state=27)\n",
    "    model.fit(x_train,y_train)\n",
    "    \n",
    "    return model\n",
    "\n",
    "# Grid Model\n",
    "def log_grid_train_model(x_train,y_train, param_grid=param_grid_log):\n",
    "    model = LogisticRegression(random_state=27, verbose=0)\n",
    "    cv = RepeatedStratifiedKFold(n_splits=5, n_repeats=2, random_state=27)\n",
    "\n",
    "    grid_search = RandomizedSearchCV(model, param_grid, cv=cv, n_iter=300,random_state=27, scoring=scorer, n_jobs=-1, verbose=1)\n",
    "    grid_search.fit(x_train,y_train)\n",
    "    print(grid_search.best_params_)\n",
    "\n",
    "    return grid_search.best_estimator_\n",
    "\n",
    "# Função de objetivo para otimização bayesiana\n",
    "def objective_logistic_regression(C, max_iter, solver):\n",
    "    cv = RepeatedStratifiedKFold(n_splits=5, n_repeats=2, random_state=27)\n",
    "\n",
    "    solvers = ['lbfgs', 'liblinear', 'saga']\n",
    "    solver = solvers[int(round(solver))]  # Converte o índice numérico de volta para string\n",
    "\n",
    "\n",
    "    params = {\n",
    "        'C': C,\n",
    "        'max_iter': int(max_iter),\n",
    "        'solver': solver,\n",
    "        'random_state': 27,\n",
    "        'verbose': 0\n",
    "    }\n",
    "\n",
    "    model = LogisticRegression(**params)\n",
    "    score = cross_val_score(model, x_train, y_train, cv=cv, scoring=scorer).mean()\n",
    "    return score\n",
    "\n",
    "# Função principal para regressão logística com BayesOpt\n",
    "def log_baye_train_model(x_train, y_train, param_baye=param_baye_log):\n",
    "    log_bo = BayesianOptimization(\n",
    "        f=objective_logistic_regression,\n",
    "        pbounds=param_baye,\n",
    "        random_state=27,\n",
    "    )\n",
    "    \n",
    "    log_bo.maximize(init_points=5, n_iter=25)\n",
    "\n",
    "    best_params = log_bo.max['params']\n",
    "\n",
    "    # Mapeando o índice numérico de volta para o solver real\n",
    "    solvers = ['lbfgs', 'liblinear', 'saga']\n",
    "    best_solver = solvers[int(round(best_params['solver']))]  # Converte índice para string\n",
    "\n",
    "    best_params_updated = {\n",
    "        'C': best_params['C'],\n",
    "        'max_iter': int(best_params['max_iter']),\n",
    "        'solver': best_solver,  # Usa o nome do solver mapeado\n",
    "        'random_state': 27,\n",
    "        'verbose': 0\n",
    "    }\n",
    "\n",
    "    print(best_params_updated)\n",
    "\n",
    "    model = LogisticRegression(**best_params_updated)\n",
    "    model.fit(x_train, y_train)\n",
    "\n",
    "    # Criar DataFrame com resultados da otimização\n",
    "    log_results = pd.DataFrame(log_bo.res)\n",
    "    log_results.sort_values(by=\"target\", ascending=False, inplace=True)\n",
    "\n",
    "    return model, log_results, log_bo.max"
   ]
  },
  {
   "cell_type": "markdown",
   "id": "3100c317-44a6-47be-b8a6-4a9b62f70416",
   "metadata": {
    "jp-MarkdownHeadingCollapsed": true
   },
   "source": [
    "### GradientBoost"
   ]
  },
  {
   "cell_type": "code",
   "execution_count": 61,
   "id": "fc5702c1-f818-4ffd-a9bf-7094c308b569",
   "metadata": {},
   "outputs": [],
   "source": [
    "# Basic Model\n",
    "def gradient_boost_model(x_train, y_train):\n",
    "    model = GradientBoostingClassifier(random_state=27)\n",
    "    model.fit(x_train,y_train)\n",
    "    \n",
    "    return model\n",
    "\n",
    "# Grid Model\n",
    "def gradient_grid_model(x_train,y_train, param_grid_gb):\n",
    "    model = GradientBoostingClassifier(random_state=27)\n",
    "    cv = StratifiedKFold(n_splits=3, shuffle=True, random_state=27)\n",
    "\n",
    "    grid_search_gb = GridSearchCV(model, param_grid_gb, cv=cv, scoring=scorer, n_jobs=-1, verbose=1)\n",
    "    grid_search_gb.fit(x_train,y_train)\n",
    "    print(grid_search_gb.best_params_)\n",
    "\n",
    "    return grid_search_gb.best_estimator_\n",
    "\n",
    "\n",
    "# Baye Model\n",
    "def objective_gradient_boost(learning_rate, n_estimators, max_depth, subsample,min_samples_split,min_samples_leaf):\n",
    "    cv = StratifiedKFold(n_splits=5, shuffle=True, random_state=27)\n",
    "    \n",
    "    params = {\n",
    "        'learning_rate': learning_rate,\n",
    "        'n_estimators': int(n_estimators),\n",
    "        'max_depth': int(max_depth),\n",
    "        'subsample': subsample,\n",
    "        'min_samples_split': int(min_samples_split),\n",
    "        'min_samples_leaf': int(min_samples_leaf),\n",
    "        'random_state': 27\n",
    "    }\n",
    "    \n",
    "    model = GradientBoostingClassifier(**params)\n",
    "    score = cross_val_score(model, x_train, y_train, cv=cv, scoring=scorer).mean()\n",
    "    return score\n",
    "\n",
    "\n",
    "def gradient_baye_model(x_train,y_train, param_baye):\n",
    "    gb_bo = BayesianOptimization(\n",
    "        f=objective_gradient_boost,\n",
    "        pbounds=param_baye,\n",
    "        random_state=27,\n",
    "    )\n",
    "    \n",
    "    gb_bo.maximize(init_points=7, n_iter=70)\n",
    "\n",
    "    best_params = gb_bo.max['params']\n",
    "    best_params_updated = {\n",
    "        'learning_rate': best_params['learning_rate'],\n",
    "        'n_estimators': int(best_params['n_estimators']),\n",
    "        'max_depth': int(best_params['max_depth']),  \n",
    "        'subsample': best_params['subsample'],\n",
    "        'min_samples_split': int(best_params['min_samples_split']), \n",
    "        'min_samples_leaf': int(best_params['min_samples_leaf']), \n",
    "        'random_state': 27 \n",
    "    }\n",
    "\n",
    "    print(best_params_updated)\n",
    "    \n",
    "    model = GradientBoostingClassifier(**best_params_updated)\n",
    "    model.fit(x_train,y_train)\n",
    "\n",
    "    gb_results = pd.DataFrame(gb_bo.res)\n",
    "    gb_results.sort_values(by=\"target\",ascending=False,inplace=True)\n",
    "\n",
    "    return model, gb_results, gb_bo.max"
   ]
  },
  {
   "cell_type": "markdown",
   "id": "eb946498-5865-4d89-a194-8bb088778c7b",
   "metadata": {
    "jp-MarkdownHeadingCollapsed": true
   },
   "source": [
    "### CatBoosting"
   ]
  },
  {
   "cell_type": "code",
   "execution_count": 62,
   "id": "7988009e-3349-4494-bd61-855d23149c85",
   "metadata": {},
   "outputs": [],
   "source": [
    "# Basic Model\n",
    "def cat_boost_model(x_train,y_train):\n",
    "    model = CatBoostClassifier(verbose=False, task_type=\"GPU\")\n",
    "    model.fit(x_train,y_train)\n",
    "\n",
    "    return model\n",
    "\n",
    "# Bayes Model\n",
    "def objective_cat_boost(learning_rate, iterations, depth, l2_leaf_reg, border_count):\n",
    "    cv = StratifiedKFold(n_splits=3, shuffle=True, random_state=27)\n",
    "    \n",
    "    params = {\n",
    "        'learning_rate': learning_rate,\n",
    "        'iterations': int(iterations),\n",
    "        'depth': int(depth),\n",
    "        'l2_leaf_reg': l2_leaf_reg,\n",
    "        'border_count': int(border_count),\n",
    "        'task_type': 'GPU',\n",
    "        'random_seed': 27,\n",
    "        'verbose': 0\n",
    "    }\n",
    "    \n",
    "    model = CatBoostClassifier(**params)\n",
    "    score = cross_val_score(model, x_train, y_train, cv=cv, scoring=scorer).mean()\n",
    "    return score\n",
    "\n",
    "\n",
    "def cat_baye_model(x_train, y_train, param_baye):\n",
    "    cat_bo = BayesianOptimization(\n",
    "        f=objective_cat_boost,\n",
    "        pbounds=param_baye,\n",
    "        random_state=27,\n",
    "    )\n",
    "    \n",
    "    cat_bo.maximize(init_points=5, n_iter=20)\n",
    "\n",
    "\n",
    "    best_params = cat_bo.max['params']\n",
    "    best_params_updated = {\n",
    "        'learning_rate': best_params['learning_rate'],\n",
    "        'iterations': int(best_params['iterations']),\n",
    "        'depth': int(best_params['depth']),\n",
    "        'l2_leaf_reg': best_params['l2_leaf_reg'],\n",
    "        'border_count': int(best_params['border_count']),\n",
    "        'task_type': 'GPU',\n",
    "        'random_seed': 27,\n",
    "        'verbose': 0\n",
    "    }\n",
    "\n",
    "    print(best_params_updated)\n",
    "    \n",
    "\n",
    "    model = CatBoostClassifier(**best_params_updated)\n",
    "    model.fit(x_train, y_train)\n",
    "\n",
    "\n",
    "    cat_results = pd.DataFrame(cat_bo.res)\n",
    "    cat_results.sort_values(by=\"target\", ascending=False, inplace=True)\n",
    "\n",
    "    return model, cat_results, cat_bo.max"
   ]
  },
  {
   "cell_type": "markdown",
   "id": "a321cb68-bfcb-4c4d-9f42-5fefc5bd8fae",
   "metadata": {
    "jp-MarkdownHeadingCollapsed": true
   },
   "source": [
    "### Voting Ensemble"
   ]
  },
  {
   "cell_type": "code",
   "execution_count": 63,
   "id": "d5a235fe-fe4e-4ffa-b626-c76a23765f88",
   "metadata": {},
   "outputs": [],
   "source": [
    "def voting_ensemble(x_train,y_train,estimators):\n",
    "    model = VotingClassifier(estimators=estimators, voting=\"hard\")\n",
    "    model.fit(x_train,y_train)\n",
    "    \n",
    "    return model"
   ]
  },
  {
   "cell_type": "markdown",
   "id": "e02a00bb-6550-4b06-b35a-3dec482bacfa",
   "metadata": {},
   "source": [
    "### Stacking Ensemble"
   ]
  },
  {
   "cell_type": "code",
   "execution_count": 64,
   "id": "6a67cfa8-41eb-471a-ac39-e430f4b628d7",
   "metadata": {},
   "outputs": [],
   "source": [
    "def stacking_ensemble(x_train,y_train,estimators):\n",
    "    cv = StratifiedKFold(n_splits=5, shuffle=True, random_state=27)\n",
    "    \n",
    "    model = StackingClassifier(\n",
    "        estimators=estimators, \n",
    "        final_estimator=LogisticRegression(verbose=0,random_state=27), \n",
    "        cv=cv, \n",
    "        n_jobs=-1,\n",
    "    )\n",
    "    \n",
    "    model.fit(x_train,y_train)\n",
    "    \n",
    "    return model"
   ]
  },
  {
   "cell_type": "markdown",
   "id": "772e6359-5c5e-47eb-ab74-648b1ccc128d",
   "metadata": {},
   "source": [
    "## Models Applier"
   ]
  },
  {
   "cell_type": "code",
   "execution_count": 65,
   "id": "9f969089-d33c-4638-8145-f97cb4f4a163",
   "metadata": {},
   "outputs": [],
   "source": [
    "def apply_basic_models(x_train,y_train,x_test,y_test,n_repeats=4, title=\"Models Macro F1 Comparison\", rf=1, xgb=1, gradient=0, cat=0, log=1, light=1,svm=1):\n",
    "        \n",
    "    if rf:\n",
    "        rf_model = random_forest_model(x_train,y_train)\n",
    "        results[\"RandomForest\"] = [rf_model,None]\n",
    "    else:\n",
    "        rf_model = None\n",
    "\n",
    "    if xgb:\n",
    "        xgb_model = xgboost_model(x_train,y_train)\n",
    "        results[\"XGBoost\"] = [xgb_model,None]\n",
    "    else:\n",
    "        xgb_model = None\n",
    "        \n",
    "    if gradient:\n",
    "        gradient_model = gradient_boost_model(x_train,y_train)\n",
    "        results[\"GradientBoost\"] = [gradient_model,None]\n",
    "    else:\n",
    "        gradient_model = None\n",
    "        \n",
    "    if cat:\n",
    "        cat_model = cat_boost_model(x_train,y_train)\n",
    "        results[\"CatBoost\"] = [cat_model,None]\n",
    "    else:\n",
    "        cat_model = None\n",
    "        \n",
    "    if log:\n",
    "        log_model = log_reg_model(x_train,y_train)\n",
    "        results[\"Logistic\"] = [log_model,None]\n",
    "    else:\n",
    "        log_model = None      \n",
    "\n",
    "    if light:\n",
    "        light_model = light_boost_model(x_train,y_train)\n",
    "        results[\"LightGBM\"] = [light_model,None]\n",
    "    else:\n",
    "        light_model = None  \n",
    "\n",
    "    if svm:\n",
    "        svm_model = svm_train_model(x_train,y_train)\n",
    "        results[\"SVM\"] = [svm_model,None]\n",
    "    else:\n",
    "        svm_model = None \n",
    "\n",
    "    models_comparison(results,title,x_train=x_train,y_train=y_train,n_repeats=n_repeats)\n",
    "\n",
    "    return rf_model, xgb_model, gradient_model, cat_model, log_model, light_model, svm_model"
   ]
  },
  {
   "cell_type": "markdown",
   "id": "5ffb5d95-8408-4db4-bb79-4e816a2d428b",
   "metadata": {},
   "source": [
    "## Models Comparison"
   ]
  },
  {
   "cell_type": "code",
   "execution_count": 66,
   "id": "de5f44f7-a002-43b7-807e-fa797791c2fa",
   "metadata": {},
   "outputs": [],
   "source": [
    "def models_comparison(results, title, x_train, y_train,n_repeats=2):\n",
    "    cv = RepeatedStratifiedKFold(n_splits=5, n_repeats=n_repeats, random_state=27)\n",
    "    \n",
    "    for result in results:\n",
    "        if results[result][1] is None:\n",
    "            # Calcular F1 Score usando cross-validation\n",
    "            f1_scores = cross_val_score(\n",
    "                results[result][0], x_train, y_train, cv=cv, scoring=make_scorer(f1_score, average=\"macro\")\n",
    "            )\n",
    "            results[result][1] = round(f1_scores.mean(),4)\n",
    "            print(f\"F1 Macro Score em {result}: {results[result][1]} ± {round(f1_scores.std(),3)}\")\n",
    "        \n",
    "        else:\n",
    "            print(f\"F1 Macro Score em {result}: {results[result][1]}\")\n",
    "        \n",
    "    \n",
    "    # Criar gráfico\n",
    "    models_score = plt.figure(figsize=(6, 3))\n",
    "\n",
    "    mod = list(results.keys())\n",
    "    f1 = list([score[1] for score in results.values()])\n",
    "    \n",
    "    plt.bar(mod, f1, color=\"lightblue\", width=0.5)\n",
    "    plt.xlabel(\"Modelo\")\n",
    "    plt.ylabel(\"Macro F1\")\n",
    "    plt.xticks(rotation=15)\n",
    "    plt.title(title)\n",
    "    plt.show()"
   ]
  },
  {
   "cell_type": "markdown",
   "id": "4259902e-082b-48e5-a566-81a54050e92f",
   "metadata": {
    "jp-MarkdownHeadingCollapsed": true
   },
   "source": [
    "## MultiClass Analysis"
   ]
  },
  {
   "cell_type": "code",
   "execution_count": 67,
   "id": "3c4d017b-0d3a-41dc-b177-55bcfe50e77a",
   "metadata": {},
   "outputs": [],
   "source": [
    "from sklearn.model_selection import cross_val_predict\n",
    "from sklearn.metrics import confusion_matrix\n",
    "import numpy as np\n",
    "import matplotlib.pyplot as plt\n",
    "import seaborn as sns\n",
    "\n",
    "def class_accuracy_cv(model, x_train, y_train):\n",
    "    # Obtém previsões para todos os folds de validação cruzada\n",
    "    y_pred = cross_val_predict(model, x_train, y_train, cv=5)  # Aqui 'cv=5' é o número de folds, pode ser ajustado\n",
    "    \n",
    "    # Calcula a matriz de confusão\n",
    "    conf_matrix = confusion_matrix(y_train, y_pred)\n",
    "    \n",
    "    # Acurácia por classe\n",
    "    class_accuracies = np.diag(conf_matrix) / np.sum(conf_matrix, axis=1)\n",
    "    class_accuracies_percentage = class_accuracies * 100\n",
    "    total_per_class = np.sum(conf_matrix, axis=1) \n",
    "    correct_per_class = np.diag(conf_matrix)\n",
    "    \n",
    "    # Plot de acurácia por classe\n",
    "    plt.figure(figsize=(7, 4))\n",
    "    classes = np.unique(y_train)\n",
    "    plt.bar(classes, class_accuracies_percentage, color='skyblue', alpha=0.8)\n",
    "    plt.xlabel(\"Classes\")\n",
    "    plt.ylabel(\"Accuracy (%)\")\n",
    "    plt.title(\"Accuracy per Class (Cross-Validation)\")\n",
    "    plt.ylim(0, 100)\n",
    "    \n",
    "    # Adiciona os valores das contagens no gráfico\n",
    "    for i, v in enumerate(class_accuracies_percentage):\n",
    "        text = f\"{correct_per_class[i]}/{total_per_class[i]} ({v:.1f}%)\"\n",
    "        plt.text(classes[i], v + 2, text, ha='center', fontsize=10)\n",
    "    \n",
    "    plt.show()\n",
    "    \n",
    "    # Plot da matriz de confusão\n",
    "    plt.figure(figsize=(7, 4))\n",
    "    sns.heatmap(conf_matrix, annot=True, fmt=\"d\", cmap=\"Blues\", \n",
    "                xticklabels=classes, yticklabels=classes)\n",
    "    plt.xlabel(\"Predicted\")\n",
    "    plt.ylabel(\"True Values\")\n",
    "    plt.title(\"Confusion Matrix (Cross-Validation)\")\n",
    "    plt.show()\n"
   ]
  },
  {
   "cell_type": "markdown",
   "id": "4b9817b1-e794-4cfa-8d34-3632b5d406d8",
   "metadata": {
    "jp-MarkdownHeadingCollapsed": true
   },
   "source": [
    "## ROC & AUC Analysis"
   ]
  },
  {
   "cell_type": "code",
   "execution_count": 68,
   "id": "91142899-d12e-4378-b11e-98ec2fdf85ed",
   "metadata": {},
   "outputs": [],
   "source": [
    "def roc_auc_mm_cv(models, X_train, y_train, cv=5):\n",
    "    # Binariza o target para multiclasse\n",
    "    y_train_bin = label_binarize(y_train, classes=[0, 1, 2, 3, 4])\n",
    "    n_classes = y_train_bin.shape[1]\n",
    "\n",
    "    # Define o número de linhas e colunas para a grade de subgráficos\n",
    "    n_cols = 2  # Número fixo de colunas\n",
    "    n_rows = math.ceil(n_classes / n_cols)  # Calcula o número de linhas necessárias\n",
    "\n",
    "    # Configura os subgráficos e aumenta o tamanho da figura\n",
    "    fig, axs = plt.subplots(n_rows, n_cols, figsize=(14, 5 * n_rows))\n",
    "    axs = axs.flatten()  # Achata a matriz de axs para facilitar o acesso\n",
    "\n",
    "    colors = ['blue', 'green', 'red', 'purple', 'orange']  # Cores para cada modelo\n",
    "\n",
    "    # Dicionário para armazenar as AUCs médias por classe para cada modelo\n",
    "    aucs_per_class = {name: [] for name in models.keys()}\n",
    "\n",
    "    # Cross-validation e cálculo das AUCs\n",
    "    for classe in range(n_classes):\n",
    "        ax = axs[classe]  # Acessa o subplot correspondente à classe\n",
    "\n",
    "        for i, (name, model) in enumerate(models.items()):\n",
    "            # Obtém as previsões e probabilidades usando cross-validation\n",
    "            y_score = cross_val_predict(model, X_train, y_train, cv=cv, method='predict_proba')\n",
    "\n",
    "            # Calcula a curva ROC e AUC para a classe atual e o modelo atual\n",
    "            fpr, tpr, _ = roc_curve(y_train_bin[:, classe], y_score[:, classe])\n",
    "            auc = roc_auc_score(y_train_bin[:, classe], y_score[:, classe])\n",
    "\n",
    "            # Adiciona a AUC à lista de AUCs por classe\n",
    "            aucs_per_class[name].append(auc)\n",
    "\n",
    "            # Plota a curva ROC para o modelo na classe atual\n",
    "            ax.plot(fpr, tpr, color=colors[i], linestyle='--', label=f'{name} (AUC = {auc:.2f})')\n",
    "\n",
    "        # Linha de referência (modelo aleatório)\n",
    "        ax.plot([0, 1], [0, 1], 'k--', label='Aleatório (AUC = 0.5)')\n",
    "        ax.set_title(f'Classe {classe}')\n",
    "        ax.set_xlabel('Falsos Positivos (FPR)')\n",
    "\n",
    "        # Apenas o primeiro gráfico precisa do rótulo do eixo Y\n",
    "        if classe % n_cols == 0:\n",
    "            ax.set_ylabel('Verdadeiros Positivos (TPR)')\n",
    "\n",
    "        # Adiciona a legenda em cada subgráfico\n",
    "        ax.legend(loc='lower right')\n",
    "\n",
    "    # Remove subgráficos extras, caso o número de classes não preencha todos os subgráficos\n",
    "    for i in range(n_classes, len(axs)):\n",
    "        fig.delaxes(axs[i])\n",
    "\n",
    "    # Título principal\n",
    "    plt.suptitle('Curvas ROC Multiclasse Comparativas (One-vs-Rest) - Cross-Validation')\n",
    "    plt.tight_layout(rect=[0, 0, 1, 0.95])  # Ajusta o layout para incluir o título\n",
    "    plt.show()\n",
    "\n",
    "    # Calcula o MM (média das AUCs médias por classe)\n",
    "    auc_means = {name: np.mean(aucs) for name, aucs in aucs_per_class.items()}\n",
    "    mm = np.mean(list(auc_means.values()))  # Média das médias\n",
    "\n",
    "    # Exibe o MM para todos os modelos\n",
    "    print(\"Média das AUCs para cada modelo:\")\n",
    "    for name, mean_auc in auc_means.items():\n",
    "        print(f'{name}: {mean_auc:.2f}')\n",
    "    \n",
    "    print(f'Média geral das AUCs (MM): {mm:.2f}')\n",
    "    return mm\n"
   ]
  },
  {
   "cell_type": "code",
   "execution_count": 69,
   "id": "749312fd-e08e-4d7b-9416-b0547c9a6274",
   "metadata": {},
   "outputs": [],
   "source": [
    "def bayes_visualization(params,bayes_results,best_hyperparameters):\n",
    "    param_names = list(params.keys())\n",
    "\n",
    "    cols = 3\n",
    "    rows = math.ceil(len(param_names)/cols)\n",
    "    \n",
    "    fig, axes = plt.subplots(rows,cols,figsize=(4*cols,4*rows))\n",
    "    fig.subplots_adjust(hspace=0.5, wspace=0.5)\n",
    "\n",
    "    for i, param in enumerate(param_names):\n",
    "        if param != \"target\":\n",
    "            ax = axes[i//3, i%3]\n",
    "            ax.plot(bayes_results['params'].apply(lambda x: x[param]),\n",
    "                bayes_results['target'], 'bo-', lw=1, markersize=4)\n",
    "            ax.set_title(f'Optimization of {param}')\n",
    "            ax.set_xlabel(param)\n",
    "            ax.set_ylabel('F1 Macro Score')\n",
    "     \n",
    "            best_value = best_hyperparameters['params'][param]\n",
    "            ax.plot(best_value, best_hyperparameters['target'], 'yo', markersize=6)\n",
    "            \n",
    "    for i in range(len(param_names), 6):\n",
    "        fig.delaxes(axes.flatten()[i])\n",
    " \n",
    "    plt.show()"
   ]
  },
  {
   "cell_type": "markdown",
   "id": "1fda91d0-ae3b-4a6d-ab92-d306b1ffa6de",
   "metadata": {},
   "source": [
    "# Models Tester"
   ]
  },
  {
   "cell_type": "code",
   "execution_count": null,
   "id": "87cd1fb9-1312-49c0-aeb2-d352e2feda6f",
   "metadata": {
    "scrolled": true
   },
   "outputs": [],
   "source": [
    "rf_model,xgb_model,gradient_model,cat_model, log_model,light_model, svm_model = apply_basic_models(x_train,y_train,x_test,y_test,n_repeats=3)"
   ]
  },
  {
   "cell_type": "code",
   "execution_count": null,
   "id": "1e7f24ad-5402-4291-a75b-ebacd9644989",
   "metadata": {},
   "outputs": [],
   "source": [
    "stacking_model = stacking_ensemble(x_train,y_train,[(\"rf\",rf_model),(\"xgb\",xgb_model),(\"light\",light_model)])\n",
    "results[\"StackingBasicSVM\"] = [stacking_model,None]\n",
    "stacking_model_svm = stacking_ensemble(x_train,y_train,[(\"svm\",svm_model),(\"rf\",rf_model),(\"xgb\",xgb_model),(\"light\",light_model)])\n",
    "results[\"StackingBasicSVM\"] = [stacking_model_svm,None]\n",
    "stacking_model_log = stacking_ensemble(x_train,y_train,[(\"log\",log_model),(\"svm\",svm_model),(\"rf\",rf_model),(\"xgb\",xgb_model),(\"light\",light_model)])\n",
    "results[\"StackingBasicLog\"] = [stacking_model_log,None]\n",
    "\n",
    "models_comparison(results,\"Ensemble\",x_train=x_train,y_train=y_train,n_repeats=3)"
   ]
  },
  {
   "cell_type": "code",
   "execution_count": null,
   "id": "9bcc3bf7-8fff-4206-ada9-254a566db808",
   "metadata": {},
   "outputs": [],
   "source": [
    "class_accuracy_cv(stacking_model_log,x_train,y_train)"
   ]
  },
  {
   "cell_type": "markdown",
   "id": "a9a7073a-3619-4daf-bcd3-8e2cdba46362",
   "metadata": {},
   "source": [
    "## Bayesian Optimization"
   ]
  },
  {
   "cell_type": "code",
   "execution_count": null,
   "id": "3b410e61-4156-47a7-b1ec-134313148857",
   "metadata": {
    "scrolled": true
   },
   "outputs": [],
   "source": [
    "results = {}\n",
    "\n",
    "rf_baye_model, rf_baye_results, best_params = random_forest_baye_model(x_train,y_train)\n",
    "results[\"RandomForestBaye\"] = [rf_baye_model,None]\n",
    "bayes_visualization(param_baye_rf, rf_baye_results, best_params)\n",
    "models_comparison(results, \"BayeSearch\",x_train=x_train,y_train=y_train)\n",
    "\n",
    "xgb_baye_model, xgb_baye_results, best_params = xgboost_baye_model(x_train,y_train)\n",
    "results[\"XGBoostBaye\"] = [xgb_baye_model,None]\n",
    "bayes_visualization(param_baye_xgb, xgb_baye_results, best_params)\n",
    "models_comparison(results, \"BayeSearch\",x_train=x_train,y_train=y_train)\n",
    "\n",
    "light_baye_model, light_baye_results, best_params = light_baye_train_model(x_train,y_train)\n",
    "results[\"LightBoostBaye\"] = [light_baye_model,None]\n",
    "bayes_visualization(param_baye_light, light_baye_results, best_params)\n",
    "models_comparison(results, \"BayeSearch\",x_train=x_train,y_train=y_train)\n",
    "\n",
    "svm_baye_model, svm_baye_results, best_params = svm_baye_train_model(x_train,y_train)\n",
    "results[\"SVMBaye\"] = [svm_baye_model,None]\n",
    "bayes_visualization(param_baye_svm, svm_baye_results, best_params)\n",
    "models_comparison(results, \"BayeSearch\",x_train=x_train,y_train=y_train)\n",
    "\n",
    "log_baye_model, log_baye_results, best_params = log_baye_train_model(x_train,y_train)\n",
    "results[\"LogBaye\"] = [log_baye_model,None]\n",
    "models_comparison(results, \"BayeSearch\",x_train=x_train,y_train=y_train)"
   ]
  },
  {
   "cell_type": "code",
   "execution_count": 70,
   "id": "41a0a018-e7be-4a8e-a497-ffa0fa568222",
   "metadata": {},
   "outputs": [],
   "source": [
    "\"\"\"\n",
    "save_stuff(rf_baye_model, f\"Models/rf_baye_model_{str(round(results['RandomForestBaye'][1], 2)).replace('.', '_')}.pkl\")\n",
    "save_stuff(xgb_baye_model, f\"Models/xgb_baye_model_{str(round(results['XGBoostBaye'][1], 2)).replace('.', '_')}.pkl\")\n",
    "save_stuff(light_baye_model, f\"Models/light_baye_model_{str(round(results['LightBoostBaye'][1], 2)).replace('.', '_')}.pkl\")\n",
    "save_stuff(svm_baye_model, f\"Models/svm_baye_model_{str(round(results['SVMBaye'][1], 2)).replace('.', '_')}.pkl\")\n",
    "save_stuff(log_baye_model, f\"Models/log_baye_model_{str(round(results['LogBaye'][1], 2)).replace('.', '_')}.pkl\")\n",
    "\"\"\"\n",
    "\n",
    "rf_baye_model = load_stuff(f\"Models/rf_baye_model_0_35.pkl\")\n",
    "xgb_baye_model = load_stuff(f\"Models/xgb_baye_model_0_35.pkl\")\n",
    "light_baye_model = load_stuff(f\"Models/light_baye_model_0_38.pkl\")\n",
    "svm_baye_model = load_stuff(f\"Models/svm_baye_model_0_31.pkl\")\n",
    "log_baye_model = load_stuff(f\"Models/log_baye_model_0_32.pkl\")"
   ]
  },
  {
   "cell_type": "code",
   "execution_count": 71,
   "id": "636a9322-9137-45c0-bd32-cab6bd827f3a",
   "metadata": {},
   "outputs": [],
   "source": [
    "rf_baye_model = RandomForestClassifier(**rf_baye_model.get_params())\n",
    "xgb_baye_model = XGBClassifier(**xgb_baye_model.get_params())\n",
    "light_baye_model = lgb.LGBMClassifier(**light_baye_model.get_params())\n",
    "svm_baye_model = SVC(**svm_baye_model.get_params())\n",
    "log_baye_model = LogisticRegression(**log_baye_model.get_params())"
   ]
  },
  {
   "cell_type": "code",
   "execution_count": null,
   "id": "4c2a02bd-b0f6-46c3-99e9-53115986f789",
   "metadata": {},
   "outputs": [],
   "source": [
    "stacking_model_log = stacking_ensemble(x_train,y_train,[(\"log\",log_baye_model),(\"svm\",svm_baye_model),(\"rf\",rf_baye_model),(\"xgb\",xgb_baye_model),(\"light\",light_baye_model)])\n",
    "results[\"StackingBayeLog\"] = [stacking_model_log,None]\n",
    "\n",
    "models_comparison(results,\"BayeEnsemble\",x_train=x_train,y_train=y_train,n_repeats=4)"
   ]
  },
  {
   "cell_type": "code",
   "execution_count": null,
   "id": "45b50781-1583-4bd3-b9d0-facae3b75939",
   "metadata": {},
   "outputs": [],
   "source": [
    "class_accuracy_cv(stacking_model_log,x_train,y_train)"
   ]
  },
  {
   "cell_type": "markdown",
   "id": "1247c696-0181-4342-be91-f02dc403cec6",
   "metadata": {},
   "source": [
    "# SHAP Analysis"
   ]
  },
  {
   "cell_type": "code",
   "execution_count": 136,
   "id": "15a83743-2697-4789-a245-5d91307158a4",
   "metadata": {},
   "outputs": [
    {
     "data": {
      "text/plain": [
       "(305, 812)"
      ]
     },
     "execution_count": 136,
     "metadata": {},
     "output_type": "execute_result"
    }
   ],
   "source": [
    "X_shap_init = corr_train_df.drop(\"Transition_code\", axis=1)  # Features\n",
    "y_shap_init = corr_train_df[\"Transition_code\"]\n",
    "\n",
    "X_shap_init.shape"
   ]
  },
  {
   "cell_type": "code",
   "execution_count": 137,
   "id": "9c1d6ddb-7002-4a50-a1ea-cddee24103c2",
   "metadata": {
    "scrolled": true
   },
   "outputs": [
    {
     "ename": "KeyboardInterrupt",
     "evalue": "",
     "output_type": "error",
     "traceback": [
      "\u001b[1;31m---------------------------------------------------------------------------\u001b[0m",
      "\u001b[1;31mKeyboardInterrupt\u001b[0m                         Traceback (most recent call last)",
      "Cell \u001b[1;32mIn[137], line 2\u001b[0m\n\u001b[0;32m      1\u001b[0m rf_baye_model\u001b[38;5;241m.\u001b[39mfit(X_shap_init, y_shap_init)\n\u001b[1;32m----> 2\u001b[0m \u001b[43mxgb_baye_model\u001b[49m\u001b[38;5;241;43m.\u001b[39;49m\u001b[43mfit\u001b[49m\u001b[43m(\u001b[49m\u001b[43mX_shap_init\u001b[49m\u001b[43m,\u001b[49m\u001b[43m \u001b[49m\u001b[43my_shap_init\u001b[49m\u001b[43m)\u001b[49m\n\u001b[0;32m      3\u001b[0m light_baye_model\u001b[38;5;241m.\u001b[39mfit(X_shap_init, y_shap_init)\n\u001b[0;32m      4\u001b[0m log_baye_model\u001b[38;5;241m.\u001b[39mfit(X_shap_init, y_shap_init)\n",
      "File \u001b[1;32m~\\AppData\\Local\\Packages\\PythonSoftwareFoundation.Python.3.11_qbz5n2kfra8p0\\LocalCache\\local-packages\\Python311\\site-packages\\xgboost\\core.py:726\u001b[0m, in \u001b[0;36mrequire_keyword_args.<locals>.throw_if.<locals>.inner_f\u001b[1;34m(*args, **kwargs)\u001b[0m\n\u001b[0;32m    724\u001b[0m \u001b[38;5;28;01mfor\u001b[39;00m k, arg \u001b[38;5;129;01min\u001b[39;00m \u001b[38;5;28mzip\u001b[39m(sig\u001b[38;5;241m.\u001b[39mparameters, args):\n\u001b[0;32m    725\u001b[0m     kwargs[k] \u001b[38;5;241m=\u001b[39m arg\n\u001b[1;32m--> 726\u001b[0m \u001b[38;5;28;01mreturn\u001b[39;00m \u001b[43mfunc\u001b[49m\u001b[43m(\u001b[49m\u001b[38;5;241;43m*\u001b[39;49m\u001b[38;5;241;43m*\u001b[39;49m\u001b[43mkwargs\u001b[49m\u001b[43m)\u001b[49m\n",
      "File \u001b[1;32m~\\AppData\\Local\\Packages\\PythonSoftwareFoundation.Python.3.11_qbz5n2kfra8p0\\LocalCache\\local-packages\\Python311\\site-packages\\xgboost\\sklearn.py:1531\u001b[0m, in \u001b[0;36mXGBClassifier.fit\u001b[1;34m(self, X, y, sample_weight, base_margin, eval_set, verbose, xgb_model, sample_weight_eval_set, base_margin_eval_set, feature_weights)\u001b[0m\n\u001b[0;32m   1511\u001b[0m model, metric, params \u001b[38;5;241m=\u001b[39m \u001b[38;5;28mself\u001b[39m\u001b[38;5;241m.\u001b[39m_configure_fit(xgb_model, params)\n\u001b[0;32m   1512\u001b[0m train_dmatrix, evals \u001b[38;5;241m=\u001b[39m _wrap_evaluation_matrices(\n\u001b[0;32m   1513\u001b[0m     missing\u001b[38;5;241m=\u001b[39m\u001b[38;5;28mself\u001b[39m\u001b[38;5;241m.\u001b[39mmissing,\n\u001b[0;32m   1514\u001b[0m     X\u001b[38;5;241m=\u001b[39mX,\n\u001b[1;32m   (...)\u001b[0m\n\u001b[0;32m   1528\u001b[0m     feature_types\u001b[38;5;241m=\u001b[39m\u001b[38;5;28mself\u001b[39m\u001b[38;5;241m.\u001b[39mfeature_types,\n\u001b[0;32m   1529\u001b[0m )\n\u001b[1;32m-> 1531\u001b[0m \u001b[38;5;28mself\u001b[39m\u001b[38;5;241m.\u001b[39m_Booster \u001b[38;5;241m=\u001b[39m \u001b[43mtrain\u001b[49m\u001b[43m(\u001b[49m\n\u001b[0;32m   1532\u001b[0m \u001b[43m    \u001b[49m\u001b[43mparams\u001b[49m\u001b[43m,\u001b[49m\n\u001b[0;32m   1533\u001b[0m \u001b[43m    \u001b[49m\u001b[43mtrain_dmatrix\u001b[49m\u001b[43m,\u001b[49m\n\u001b[0;32m   1534\u001b[0m \u001b[43m    \u001b[49m\u001b[38;5;28;43mself\u001b[39;49m\u001b[38;5;241;43m.\u001b[39;49m\u001b[43mget_num_boosting_rounds\u001b[49m\u001b[43m(\u001b[49m\u001b[43m)\u001b[49m\u001b[43m,\u001b[49m\n\u001b[0;32m   1535\u001b[0m \u001b[43m    \u001b[49m\u001b[43mevals\u001b[49m\u001b[38;5;241;43m=\u001b[39;49m\u001b[43mevals\u001b[49m\u001b[43m,\u001b[49m\n\u001b[0;32m   1536\u001b[0m \u001b[43m    \u001b[49m\u001b[43mearly_stopping_rounds\u001b[49m\u001b[38;5;241;43m=\u001b[39;49m\u001b[38;5;28;43mself\u001b[39;49m\u001b[38;5;241;43m.\u001b[39;49m\u001b[43mearly_stopping_rounds\u001b[49m\u001b[43m,\u001b[49m\n\u001b[0;32m   1537\u001b[0m \u001b[43m    \u001b[49m\u001b[43mevals_result\u001b[49m\u001b[38;5;241;43m=\u001b[39;49m\u001b[43mevals_result\u001b[49m\u001b[43m,\u001b[49m\n\u001b[0;32m   1538\u001b[0m \u001b[43m    \u001b[49m\u001b[43mobj\u001b[49m\u001b[38;5;241;43m=\u001b[39;49m\u001b[43mobj\u001b[49m\u001b[43m,\u001b[49m\n\u001b[0;32m   1539\u001b[0m \u001b[43m    \u001b[49m\u001b[43mcustom_metric\u001b[49m\u001b[38;5;241;43m=\u001b[39;49m\u001b[43mmetric\u001b[49m\u001b[43m,\u001b[49m\n\u001b[0;32m   1540\u001b[0m \u001b[43m    \u001b[49m\u001b[43mverbose_eval\u001b[49m\u001b[38;5;241;43m=\u001b[39;49m\u001b[43mverbose\u001b[49m\u001b[43m,\u001b[49m\n\u001b[0;32m   1541\u001b[0m \u001b[43m    \u001b[49m\u001b[43mxgb_model\u001b[49m\u001b[38;5;241;43m=\u001b[39;49m\u001b[43mmodel\u001b[49m\u001b[43m,\u001b[49m\n\u001b[0;32m   1542\u001b[0m \u001b[43m    \u001b[49m\u001b[43mcallbacks\u001b[49m\u001b[38;5;241;43m=\u001b[39;49m\u001b[38;5;28;43mself\u001b[39;49m\u001b[38;5;241;43m.\u001b[39;49m\u001b[43mcallbacks\u001b[49m\u001b[43m,\u001b[49m\n\u001b[0;32m   1543\u001b[0m \u001b[43m\u001b[49m\u001b[43m)\u001b[49m\n\u001b[0;32m   1545\u001b[0m \u001b[38;5;28;01mif\u001b[39;00m \u001b[38;5;129;01mnot\u001b[39;00m \u001b[38;5;28mcallable\u001b[39m(\u001b[38;5;28mself\u001b[39m\u001b[38;5;241m.\u001b[39mobjective):\n\u001b[0;32m   1546\u001b[0m     \u001b[38;5;28mself\u001b[39m\u001b[38;5;241m.\u001b[39mobjective \u001b[38;5;241m=\u001b[39m params[\u001b[38;5;124m\"\u001b[39m\u001b[38;5;124mobjective\u001b[39m\u001b[38;5;124m\"\u001b[39m]\n",
      "File \u001b[1;32m~\\AppData\\Local\\Packages\\PythonSoftwareFoundation.Python.3.11_qbz5n2kfra8p0\\LocalCache\\local-packages\\Python311\\site-packages\\xgboost\\core.py:726\u001b[0m, in \u001b[0;36mrequire_keyword_args.<locals>.throw_if.<locals>.inner_f\u001b[1;34m(*args, **kwargs)\u001b[0m\n\u001b[0;32m    724\u001b[0m \u001b[38;5;28;01mfor\u001b[39;00m k, arg \u001b[38;5;129;01min\u001b[39;00m \u001b[38;5;28mzip\u001b[39m(sig\u001b[38;5;241m.\u001b[39mparameters, args):\n\u001b[0;32m    725\u001b[0m     kwargs[k] \u001b[38;5;241m=\u001b[39m arg\n\u001b[1;32m--> 726\u001b[0m \u001b[38;5;28;01mreturn\u001b[39;00m \u001b[43mfunc\u001b[49m\u001b[43m(\u001b[49m\u001b[38;5;241;43m*\u001b[39;49m\u001b[38;5;241;43m*\u001b[39;49m\u001b[43mkwargs\u001b[49m\u001b[43m)\u001b[49m\n",
      "File \u001b[1;32m~\\AppData\\Local\\Packages\\PythonSoftwareFoundation.Python.3.11_qbz5n2kfra8p0\\LocalCache\\local-packages\\Python311\\site-packages\\xgboost\\training.py:181\u001b[0m, in \u001b[0;36mtrain\u001b[1;34m(params, dtrain, num_boost_round, evals, obj, feval, maximize, early_stopping_rounds, evals_result, verbose_eval, xgb_model, callbacks, custom_metric)\u001b[0m\n\u001b[0;32m    179\u001b[0m \u001b[38;5;28;01mif\u001b[39;00m cb_container\u001b[38;5;241m.\u001b[39mbefore_iteration(bst, i, dtrain, evals):\n\u001b[0;32m    180\u001b[0m     \u001b[38;5;28;01mbreak\u001b[39;00m\n\u001b[1;32m--> 181\u001b[0m \u001b[43mbst\u001b[49m\u001b[38;5;241;43m.\u001b[39;49m\u001b[43mupdate\u001b[49m\u001b[43m(\u001b[49m\u001b[43mdtrain\u001b[49m\u001b[43m,\u001b[49m\u001b[43m \u001b[49m\u001b[43miteration\u001b[49m\u001b[38;5;241;43m=\u001b[39;49m\u001b[43mi\u001b[49m\u001b[43m,\u001b[49m\u001b[43m \u001b[49m\u001b[43mfobj\u001b[49m\u001b[38;5;241;43m=\u001b[39;49m\u001b[43mobj\u001b[49m\u001b[43m)\u001b[49m\n\u001b[0;32m    182\u001b[0m \u001b[38;5;28;01mif\u001b[39;00m cb_container\u001b[38;5;241m.\u001b[39mafter_iteration(bst, i, dtrain, evals):\n\u001b[0;32m    183\u001b[0m     \u001b[38;5;28;01mbreak\u001b[39;00m\n",
      "File \u001b[1;32m~\\AppData\\Local\\Packages\\PythonSoftwareFoundation.Python.3.11_qbz5n2kfra8p0\\LocalCache\\local-packages\\Python311\\site-packages\\xgboost\\core.py:2101\u001b[0m, in \u001b[0;36mBooster.update\u001b[1;34m(self, dtrain, iteration, fobj)\u001b[0m\n\u001b[0;32m   2097\u001b[0m \u001b[38;5;28mself\u001b[39m\u001b[38;5;241m.\u001b[39m_assign_dmatrix_features(dtrain)\n\u001b[0;32m   2099\u001b[0m \u001b[38;5;28;01mif\u001b[39;00m fobj \u001b[38;5;129;01mis\u001b[39;00m \u001b[38;5;28;01mNone\u001b[39;00m:\n\u001b[0;32m   2100\u001b[0m     _check_call(\n\u001b[1;32m-> 2101\u001b[0m         \u001b[43m_LIB\u001b[49m\u001b[38;5;241;43m.\u001b[39;49m\u001b[43mXGBoosterUpdateOneIter\u001b[49m\u001b[43m(\u001b[49m\n\u001b[0;32m   2102\u001b[0m \u001b[43m            \u001b[49m\u001b[38;5;28;43mself\u001b[39;49m\u001b[38;5;241;43m.\u001b[39;49m\u001b[43mhandle\u001b[49m\u001b[43m,\u001b[49m\u001b[43m \u001b[49m\u001b[43mctypes\u001b[49m\u001b[38;5;241;43m.\u001b[39;49m\u001b[43mc_int\u001b[49m\u001b[43m(\u001b[49m\u001b[43miteration\u001b[49m\u001b[43m)\u001b[49m\u001b[43m,\u001b[49m\u001b[43m \u001b[49m\u001b[43mdtrain\u001b[49m\u001b[38;5;241;43m.\u001b[39;49m\u001b[43mhandle\u001b[49m\n\u001b[0;32m   2103\u001b[0m \u001b[43m        \u001b[49m\u001b[43m)\u001b[49m\n\u001b[0;32m   2104\u001b[0m     )\n\u001b[0;32m   2105\u001b[0m \u001b[38;5;28;01melse\u001b[39;00m:\n\u001b[0;32m   2106\u001b[0m     pred \u001b[38;5;241m=\u001b[39m \u001b[38;5;28mself\u001b[39m\u001b[38;5;241m.\u001b[39mpredict(dtrain, output_margin\u001b[38;5;241m=\u001b[39m\u001b[38;5;28;01mTrue\u001b[39;00m, training\u001b[38;5;241m=\u001b[39m\u001b[38;5;28;01mTrue\u001b[39;00m)\n",
      "\u001b[1;31mKeyboardInterrupt\u001b[0m: "
     ]
    }
   ],
   "source": [
    "rf_baye_model.fit(X_shap_init, y_shap_init)\n",
    "xgb_baye_model.fit(X_shap_init, y_shap_init)\n",
    "light_baye_model.fit(X_shap_init, y_shap_init)\n",
    "log_baye_model.fit(X_shap_init, y_shap_init)\n",
    "\n",
    "explainer = shap.TreeExplainer(rf_baye_model,X_shap_init)\n",
    "shap_values_rf = explainer(X_shap_init)\n",
    "explainer = shap.TreeExplainer(xgb_baye_model,X_shap_init)\n",
    "shap_values_xgb = explainer(X_shap_init)\n",
    "explainer = shap.TreeExplainer(light_baye_model,X_shap_init)\n",
    "shap_values_light = explainer(X_shap_init)\n",
    "explainer = shap.LinearExplainer(log_baye_model,X_shap_init)\n",
    "shap_values_log = explainer(X_shap_init)"
   ]
  },
  {
   "cell_type": "code",
   "execution_count": 138,
   "id": "3fdb924d-a41e-4511-a14a-5953b246d202",
   "metadata": {},
   "outputs": [],
   "source": [
    "\"\"\"\n",
    "save_stuff(shap_values_rf,\"SHAP_Values/shap_values_rf.pkl\")\n",
    "save_stuff(shap_values_xgb,\"SHAP_Values/shap_values_xgb.pkl\")\n",
    "save_stuff(shap_values_light,\"SHAP_Values/shap_values_light.pkl\")\n",
    "save_stuff(shap_values_log,\"SHAP_Values/shap_values_log.pkl\")\n",
    "\"\"\"\n",
    "shap_values_rf = load_stuff(\"SHAP_Values/shap_values_rf.pkl\")\n",
    "shap_values_xgb = load_stuff(\"SHAP_Values/shap_values_xgb.pkl\")\n",
    "shap_values_light = load_stuff(\"SHAP_Values/shap_values_light.pkl\")\n",
    "shap_values_log = load_stuff(\"SHAP_Values/shap_values_log.pkl\")"
   ]
  },
  {
   "cell_type": "markdown",
   "id": "cd24be7f-8a85-4353-a433-49547d337054",
   "metadata": {},
   "source": [
    "## Deep SHAP Analysis"
   ]
  },
  {
   "cell_type": "markdown",
   "id": "71e960aa-7b1b-456a-9455-1f8b929a1e5c",
   "metadata": {
    "jp-MarkdownHeadingCollapsed": true
   },
   "source": [
    "### Methods"
   ]
  },
  {
   "cell_type": "code",
   "execution_count": 75,
   "id": "e8a681e7-bbea-4fd9-933f-73f9ed881235",
   "metadata": {},
   "outputs": [],
   "source": [
    "def get_global_shap_info_df(shap_values_list, X):\n",
    "    all_shap_values = []\n",
    "\n",
    "    for shap_values in shap_values_list:\n",
    "        if hasattr(shap_values, 'values'):\n",
    "            shap_array = shap_values.values\n",
    "        else:\n",
    "            shap_array = shap_values \n",
    "        \n",
    "        all_shap_values.append(shap_array)\n",
    "    \n",
    "    # Concatena todos os SHAP values dos modelos\n",
    "    all_shap_values = np.concatenate(all_shap_values, axis=0)  # Concatena ao longo do eixo 0 (modelos)\n",
    "    \n",
    "    abs_shap_values = np.abs(all_shap_values)\n",
    "    \n",
    "    # Calcula a média global dos SHAP values\n",
    "    feature_shap_mean = np.mean(abs_shap_values, axis=(0, 2))  # Média global dos SHAP values absolutos\n",
    "    feature_shap_max = np.max(abs_shap_values, axis=(0, 2))  # Máximo global dos SHAP values absolutos\n",
    "    feature_shap_std = np.std(abs_shap_values, axis=(0, 2))  # Desvio padrão global dos SHAP values absolutos\n",
    "    feature_shap_positive_ratio = np.mean(all_shap_values > 0, axis=(0, 2))  # Proporção de SHAP values positivos\n",
    "    feature_shap_negative_ratio = np.mean(all_shap_values < 0, axis=(0, 2))  # Proporção de SHAP values negativos\n",
    "    \n",
    "    # Cria o DataFrame com as importâncias e métricas adicionais\n",
    "    feature_shap_importance_df = pd.DataFrame({\n",
    "        \"feature\": X.columns,\n",
    "        \"importance_mean\": feature_shap_mean,\n",
    "        \"importance_max\": feature_shap_max,\n",
    "        \"importance_std\": feature_shap_std,\n",
    "        \"positive_ratio\": feature_shap_positive_ratio,\n",
    "        \"negative_ratio\": feature_shap_negative_ratio\n",
    "    }).sort_values(by=\"importance_mean\", ascending=False)  # Ordena pelo valor médio global dos SHAP\n",
    "\n",
    "    return feature_shap_importance_df\n"
   ]
  },
  {
   "cell_type": "code",
   "execution_count": 76,
   "id": "852d11b2-428d-4a9b-8a73-2c4357570528",
   "metadata": {},
   "outputs": [],
   "source": [
    "def get_shap_info_df(shap_values, X):\n",
    "    # Verifica se shap_values é um objeto shap.Explanation ou um ndarray\n",
    "    if hasattr(shap_values, 'values'):\n",
    "        shap_array = shap_values.values\n",
    "    else:\n",
    "        shap_array = shap_values \n",
    "    \n",
    "    abs_shap_values = np.abs(shap_array)\n",
    "    \n",
    "    feature_shap_mean = np.mean(abs_shap_values, axis=(0, 2))  # Média dos SHAP values absolutos\n",
    "    feature_shap_max = np.max(abs_shap_values, axis=(0, 2))  # Máximo dos SHAP values absolutos\n",
    "    feature_shap_std = np.std(abs_shap_values, axis=(0, 2))  # Desvio padrão dos SHAP values absolutos\n",
    "    feature_shap_positive_ratio = np.mean(shap_array > 0, axis=(0, 2))\n",
    "    feature_shap_negative_ratio = np.mean(shap_array < 0, axis=(0, 2))\n",
    "\n",
    "    \n",
    "    # Cria o DataFrame com as importâncias e métricas adicionais\n",
    "    feature_shap_importance_df = pd.DataFrame({\n",
    "        \"feature\": X.columns,\n",
    "        \"importance_mean\": feature_shap_mean,\n",
    "        \"importance_max\": feature_shap_max,\n",
    "        \"importance_std\": feature_shap_std,\n",
    "        \"positive_ratio\": feature_shap_positive_ratio,\n",
    "        \"negative_ratio\": feature_shap_negative_ratio\n",
    "    }).sort_values(by=\"importance_mean\", ascending=False)  # Ordena pelo valor máximo de SHAP\n",
    "\n",
    "    return feature_shap_importance_df\n"
   ]
  },
  {
   "cell_type": "code",
   "execution_count": 77,
   "id": "dcaf945e-5121-4a66-92eb-b51300674f21",
   "metadata": {},
   "outputs": [],
   "source": [
    "def get_shap_info_per_class(shap_values, X):\n",
    "    # Verifica se shap_values é um objeto shap.Explanation ou um ndarray\n",
    "    if hasattr(shap_values, 'values'):\n",
    "        shap_array = shap_values.values\n",
    "    else:\n",
    "        shap_array = shap_values \n",
    "\n",
    "    abs_shap_values = np.abs(shap_array)  # Valores absolutos dos SHAP values\n",
    "    n_classes = shap_array.shape[2]  # Número de classes\n",
    "    \n",
    "    # Normaliza os valores absolutos pelo máximo global de cada classe\n",
    "    max_global_per_class = np.max(abs_shap_values, axis=(0, 1))  # Máximo global por classe\n",
    "    \n",
    "    for class_idx in range(n_classes):\n",
    "        # Extrai SHAP values para a classe atual\n",
    "        class_abs_shap_values = abs_shap_values[:, :, class_idx]\n",
    "        class_shap_values = shap_array[:, :, class_idx]\n",
    "        \n",
    "        # Calcula métricas normalizadas\n",
    "        feature_shap_mean = np.mean(class_abs_shap_values, axis=0)  # Média\n",
    "        feature_shap_max = np.max(class_abs_shap_values, axis=0)  # Máximo\n",
    "        feature_shap_std = np.std(class_abs_shap_values, axis=0)  # Desvio padrão\n",
    "        feature_shap_positive_ratio = np.mean(class_shap_values > 0, axis=0)  # Razão de valores positivos\n",
    "        feature_shap_negative_ratio = np.mean(class_shap_values < 0, axis=0)  # Razão de valores negativos\n",
    "\n",
    "        # Cria DataFrame com as informações\n",
    "        class_df = pd.DataFrame({\n",
    "            \"feature\": X.columns,\n",
    "            \"importance_mean\": feature_shap_mean,\n",
    "            \"importance_max\": feature_shap_max,\n",
    "            \"importance_std\": feature_shap_std,\n",
    "            \"positive_ratio\": feature_shap_positive_ratio,\n",
    "            \"negative_ratio\": feature_shap_negative_ratio\n",
    "        }).sort_values(by=\"importance_mean\", ascending=False)  # Ordena pelo valor médio\n",
    "\n",
    "        # Salva em CSV\n",
    "        class_df.to_csv(f\"../Dataset/SHAP_Values/class{class_idx}_shap_values.csv\", index=False)\n"
   ]
  },
  {
   "cell_type": "code",
   "execution_count": 78,
   "id": "d53af652-5139-4568-a40d-cbef606132e2",
   "metadata": {},
   "outputs": [],
   "source": [
    "def new_shap_values(shap_values,discard_features):\n",
    "    shap_array = shap_values.values\n",
    "    feature_names = shap_values.feature_names\n",
    "    \n",
    "    features_a_remover = discard_features if isinstance(discard_features, list) else [discard_features]\n",
    "    features_a_remover = set(features_a_remover) & set(list(feature_names))\n",
    "    indices_a_remover = [feature_names.index(feature) for feature in features_a_remover]\n",
    "\n",
    "    shap_values_filtrados = np.delete(shap_array, indices_a_remover, axis=1)\n",
    "    \n",
    "    features_restantes = [f for i, f in enumerate(feature_names) if i not in indices_a_remover]\n",
    "    shap_values_filtrados = shap.Explanation(values=shap_values_filtrados, \n",
    "                                             base_values=shap_values_xgb.base_values, \n",
    "                                             feature_names=features_restantes)\n",
    "\n",
    "    return shap_values_filtrados"
   ]
  },
  {
   "cell_type": "code",
   "execution_count": 79,
   "id": "9c1efa0b-d81c-438d-b028-a9cd641bceb8",
   "metadata": {},
   "outputs": [],
   "source": [
    "def clean_shap_df(df,discard):\n",
    "    shap_importances_df_cleaned = df[~df['feature'].isin(discard)]\n",
    "    shap_importances_df_cleaned.to_csv(\"../Dataset/SHAP_Values/global_shap_values.csv\",index=False)\n",
    "    return shap_importances_df_cleaned"
   ]
  },
  {
   "cell_type": "code",
   "execution_count": 80,
   "id": "4e614581-1547-408a-96d5-52a6bf2128f3",
   "metadata": {},
   "outputs": [],
   "source": [
    "def sorted_shap_values(shap_values,X_shap, class_index):\n",
    "    if hasattr(shap_values, 'values'):\n",
    "        shap_array = shap_values.values\n",
    "    else:\n",
    "        shap_array = shap_values \n",
    "\n",
    "    shap_class_values = shap_array[:, :, class_index]\n",
    "\n",
    "    mean_shap_values = np.mean(np.abs(shap_class_values), axis=0)\n",
    "\n",
    "    shap_df = pd.DataFrame(mean_shap_values, index=X_shap.columns, columns=[\"mean_shap_value\"])\n",
    "\n",
    "    sorted_features = shap_df.sort_values(by=\"mean_shap_value\", ascending=False)\n",
    "\n",
    "    return sorted_features"
   ]
  },
  {
   "cell_type": "code",
   "execution_count": 81,
   "id": "78fc46fb-d234-4eff-b6f5-dc5af0acbd32",
   "metadata": {},
   "outputs": [],
   "source": [
    "def shap_values_df_analysis(df):\n",
    "    \n",
    "    fig, axes = plt.subplots(4, 2, figsize=(14, 15))\n",
    "    fig.suptitle(\"Distribuição dos Valores de Importância das Features\", fontsize=16)\n",
    "    \n",
    "    importance_columns = df.drop(columns=[\"feature\"]).columns\n",
    "    \n",
    "    for idx, col in enumerate(importance_columns):\n",
    "        ax = axes[idx // 2, idx % 2]\n",
    "        ax.hist(df[col], bins=30, color='teal', edgecolor='black', alpha=0.7)\n",
    "        ax.set_title(f'Distribuição de {col}')\n",
    "        ax.set_xlabel(col)\n",
    "        ax.set_ylabel('Frequência')\n",
    "    \n",
    "    plt.tight_layout(rect=[0, 0.03, 1, 0.95])\n",
    "    plt.show()"
   ]
  },
  {
   "cell_type": "code",
   "execution_count": 82,
   "id": "3d0f98b8-7aef-45de-a528-45196f7191ae",
   "metadata": {},
   "outputs": [],
   "source": [
    "def show_shap_importance_summary_plot(shap_values,X_shap, classe):\n",
    "    sorted_shap_values_df = sorted_shap_values(shap_values,X_shap,classe)\n",
    "    sorted_columns = sorted_shap_values_df.index\n",
    "    \n",
    "    n_features = len(sorted_columns)\n",
    "    n_features_per_plot = 10\n",
    "    \n",
    "    feature_indices = [X_shap.columns.get_loc(feature) for feature in sorted_columns]\n",
    "\n",
    "    for i in range(0, n_features, n_features_per_plot):\n",
    "        selected_columns = feature_indices[i:i + n_features_per_plot]\n",
    "\n",
    "        shap.summary_plot(shap_values[:, selected_columns, classe])\n",
    "        \n",
    "        plt.show()"
   ]
  },
  {
   "cell_type": "code",
   "execution_count": 83,
   "id": "7684bdc7-e297-470b-bea1-2d3998b72da9",
   "metadata": {},
   "outputs": [],
   "source": [
    "def show_shap_importance_heatmap(shap_values,X_shap,classe):\n",
    "    sorted_shap_values_df = sorted_shap_values(shap_values,X_shap,classe)\n",
    "    sorted_columns = sorted_shap_values_df.index\n",
    "    \n",
    "    n_features = len(sorted_columns)\n",
    "    n_features_per_plot = 10\n",
    "    \n",
    "    feature_indices = [X_shap.columns.get_loc(feature) for feature in sorted_columns]\n",
    "\n",
    "    for i in range(0, n_features, n_features_per_plot):\n",
    "        selected_columns = feature_indices[i:i + n_features_per_plot]\n",
    "        \n",
    "        shap.plots.heatmap(shap_values[:, selected_columns, classe])\n",
    "        \n",
    "        plt.show()"
   ]
  },
  {
   "cell_type": "markdown",
   "id": "af95dd64-b063-4ccf-a516-de132fc38f5a",
   "metadata": {},
   "source": [
    "### Global\n",
    "1. remover features que tenham `SHAP Value` = 0 para a média de todos os modelos.\n",
    "2. caso seja insuficiente, aplicar um threshold muito baixo para remover as insignificantes\n",
    "3. analisar independentemente os SHAP Values de cada modelo\n",
    "4. tentar utilizar apenas as features importantes para cada modelo e depois fazer ensemble (cada modelo usa um dataset)"
   ]
  },
  {
   "cell_type": "code",
   "execution_count": 266,
   "id": "084c92b5-e62a-4fb1-a2bf-26ed82552e8e",
   "metadata": {},
   "outputs": [],
   "source": [
    "results={}"
   ]
  },
  {
   "cell_type": "markdown",
   "id": "a46e7de2-21e8-4d57-b2b8-db0eb925459b",
   "metadata": {},
   "source": [
    "#### RF"
   ]
  },
  {
   "cell_type": "code",
   "execution_count": 221,
   "id": "a0f34a2a-c685-4b09-9ed2-d25c524707d3",
   "metadata": {},
   "outputs": [],
   "source": [
    "shap_importances_df_rf = get_shap_info_df(shap_values_rf,X_shap_init)\n",
    "shap_importances_df_rf.to_csv(\"../Dataset/SHAP_Values/global_shap_values_rf.csv\",index=False)"
   ]
  },
  {
   "cell_type": "code",
   "execution_count": 222,
   "id": "ae745727-a449-442e-b385-62e3f6191092",
   "metadata": {},
   "outputs": [
    {
     "data": {
      "text/html": [
       "<div>\n",
       "<style scoped>\n",
       "    .dataframe tbody tr th:only-of-type {\n",
       "        vertical-align: middle;\n",
       "    }\n",
       "\n",
       "    .dataframe tbody tr th {\n",
       "        vertical-align: top;\n",
       "    }\n",
       "\n",
       "    .dataframe thead th {\n",
       "        text-align: right;\n",
       "    }\n",
       "</style>\n",
       "<table border=\"1\" class=\"dataframe\">\n",
       "  <thead>\n",
       "    <tr style=\"text-align: right;\">\n",
       "      <th></th>\n",
       "      <th>importance_mean</th>\n",
       "      <th>importance_max</th>\n",
       "      <th>importance_std</th>\n",
       "      <th>positive_ratio</th>\n",
       "      <th>negative_ratio</th>\n",
       "    </tr>\n",
       "  </thead>\n",
       "  <tbody>\n",
       "    <tr>\n",
       "      <th>count</th>\n",
       "      <td>812.000000</td>\n",
       "      <td>812.000000</td>\n",
       "      <td>812.000000</td>\n",
       "      <td>812.000000</td>\n",
       "      <td>812.000000</td>\n",
       "    </tr>\n",
       "    <tr>\n",
       "      <th>mean</th>\n",
       "      <td>0.000405</td>\n",
       "      <td>0.004525</td>\n",
       "      <td>0.000498</td>\n",
       "      <td>0.458798</td>\n",
       "      <td>0.475063</td>\n",
       "    </tr>\n",
       "    <tr>\n",
       "      <th>std</th>\n",
       "      <td>0.000552</td>\n",
       "      <td>0.003788</td>\n",
       "      <td>0.000501</td>\n",
       "      <td>0.071268</td>\n",
       "      <td>0.078041</td>\n",
       "    </tr>\n",
       "    <tr>\n",
       "      <th>min</th>\n",
       "      <td>0.000000</td>\n",
       "      <td>0.000000</td>\n",
       "      <td>0.000000</td>\n",
       "      <td>0.000000</td>\n",
       "      <td>0.000000</td>\n",
       "    </tr>\n",
       "    <tr>\n",
       "      <th>25%</th>\n",
       "      <td>0.000155</td>\n",
       "      <td>0.002471</td>\n",
       "      <td>0.000252</td>\n",
       "      <td>0.418361</td>\n",
       "      <td>0.431475</td>\n",
       "    </tr>\n",
       "    <tr>\n",
       "      <th>50%</th>\n",
       "      <td>0.000240</td>\n",
       "      <td>0.003420</td>\n",
       "      <td>0.000346</td>\n",
       "      <td>0.468197</td>\n",
       "      <td>0.489180</td>\n",
       "    </tr>\n",
       "    <tr>\n",
       "      <th>75%</th>\n",
       "      <td>0.000397</td>\n",
       "      <td>0.005278</td>\n",
       "      <td>0.000519</td>\n",
       "      <td>0.502295</td>\n",
       "      <td>0.525902</td>\n",
       "    </tr>\n",
       "    <tr>\n",
       "      <th>max</th>\n",
       "      <td>0.005866</td>\n",
       "      <td>0.040933</td>\n",
       "      <td>0.004594</td>\n",
       "      <td>0.695738</td>\n",
       "      <td>0.649180</td>\n",
       "    </tr>\n",
       "  </tbody>\n",
       "</table>\n",
       "</div>"
      ],
      "text/plain": [
       "       importance_mean  importance_max  importance_std  positive_ratio  \\\n",
       "count       812.000000      812.000000      812.000000      812.000000   \n",
       "mean          0.000405        0.004525        0.000498        0.458798   \n",
       "std           0.000552        0.003788        0.000501        0.071268   \n",
       "min           0.000000        0.000000        0.000000        0.000000   \n",
       "25%           0.000155        0.002471        0.000252        0.418361   \n",
       "50%           0.000240        0.003420        0.000346        0.468197   \n",
       "75%           0.000397        0.005278        0.000519        0.502295   \n",
       "max           0.005866        0.040933        0.004594        0.695738   \n",
       "\n",
       "       negative_ratio  \n",
       "count      812.000000  \n",
       "mean         0.475063  \n",
       "std          0.078041  \n",
       "min          0.000000  \n",
       "25%          0.431475  \n",
       "50%          0.489180  \n",
       "75%          0.525902  \n",
       "max          0.649180  "
      ]
     },
     "execution_count": 222,
     "metadata": {},
     "output_type": "execute_result"
    }
   ],
   "source": [
    "shap_importances_df_rf.describe()"
   ]
  },
  {
   "cell_type": "code",
   "execution_count": 406,
   "id": "2df6dd98-3563-4828-88c7-276b2a47a5fa",
   "metadata": {},
   "outputs": [
    {
     "name": "stdout",
     "output_type": "stream",
     "text": [
      "714\n"
     ]
    }
   ],
   "source": [
    "discard_features_rf = shap_importances_df_rf[\n",
    "        (shap_importances_df_rf[\"importance_mean\"] <= 0.00075)\n",
    "    ][\"feature\"].tolist()\n",
    "print(len(discard_features_rf))"
   ]
  },
  {
   "cell_type": "code",
   "execution_count": 407,
   "id": "82d78fdc-48e0-4c57-9aff-4972c6dce876",
   "metadata": {},
   "outputs": [
    {
     "data": {
      "text/plain": [
       "(305, 98)"
      ]
     },
     "execution_count": 407,
     "metadata": {},
     "output_type": "execute_result"
    }
   ],
   "source": [
    "x_train_rf = corr_train_df.drop(columns=discard_features_rf)\n",
    "x_test_rf = corr_test_df.drop(columns=discard_features_rf)\n",
    "x_train_rf = x_train_rf.drop(columns=[\"Transition_code\"])\n",
    "\n",
    "x_train_rf.shape"
   ]
  },
  {
   "cell_type": "code",
   "execution_count": 408,
   "id": "2eca84bf-1154-4047-93af-e869513d370f",
   "metadata": {},
   "outputs": [],
   "source": [
    "rf_shap_model = random_forest_model(x_train_rf,y_train)\n",
    "results[\"rf_shap_model\"] = [rf_shap_model,None]"
   ]
  },
  {
   "cell_type": "code",
   "execution_count": 409,
   "id": "da72421a-2da1-4cdc-9fde-453bd85f9b7c",
   "metadata": {},
   "outputs": [
    {
     "name": "stdout",
     "output_type": "stream",
     "text": [
      "F1 Macro Score em rf_shap_model: 0.3597 ± 0.054\n"
     ]
    },
    {
     "data": {
      "image/png": "[encoded data removed]",
      "text/plain": [
       "<Figure size 600x300 with 1 Axes>"
      ]
     },
     "metadata": {},
     "output_type": "display_data"
    }
   ],
   "source": [
    "models_comparison(results,\"Ensemble\",x_train=x_train_rf,y_train=y_train,n_repeats=5)"
   ]
  },
  {
   "cell_type": "markdown",
   "id": "e12534bf-8d32-4488-b0d7-c3c60be55ddf",
   "metadata": {},
   "source": [
    "#### XGB"
   ]
  },
  {
   "cell_type": "code",
   "execution_count": 410,
   "id": "a1e32c74-1736-4911-9620-f3b2f1683c8e",
   "metadata": {},
   "outputs": [],
   "source": [
    "shap_importances_df_xgb = get_shap_info_df(shap_values_xgb,X_shap_init)\n",
    "shap_importances_df_xgb.to_csv(\"../Dataset/SHAP_Values/global_shap_values_xgb.csv\",index=False)"
   ]
  },
  {
   "cell_type": "code",
   "execution_count": 411,
   "id": "b17461b1-3ab9-44ce-9fe0-1682eb5519c4",
   "metadata": {},
   "outputs": [
    {
     "data": {
      "text/html": [
       "<div>\n",
       "<style scoped>\n",
       "    .dataframe tbody tr th:only-of-type {\n",
       "        vertical-align: middle;\n",
       "    }\n",
       "\n",
       "    .dataframe tbody tr th {\n",
       "        vertical-align: top;\n",
       "    }\n",
       "\n",
       "    .dataframe thead th {\n",
       "        text-align: right;\n",
       "    }\n",
       "</style>\n",
       "<table border=\"1\" class=\"dataframe\">\n",
       "  <thead>\n",
       "    <tr style=\"text-align: right;\">\n",
       "      <th></th>\n",
       "      <th>importance_mean</th>\n",
       "      <th>importance_max</th>\n",
       "      <th>importance_std</th>\n",
       "      <th>positive_ratio</th>\n",
       "      <th>negative_ratio</th>\n",
       "    </tr>\n",
       "  </thead>\n",
       "  <tbody>\n",
       "    <tr>\n",
       "      <th>count</th>\n",
       "      <td>812.000000</td>\n",
       "      <td>812.000000</td>\n",
       "      <td>812.000000</td>\n",
       "      <td>812.000000</td>\n",
       "      <td>812.000000</td>\n",
       "    </tr>\n",
       "    <tr>\n",
       "      <th>mean</th>\n",
       "      <td>0.007460</td>\n",
       "      <td>0.072975</td>\n",
       "      <td>0.013368</td>\n",
       "      <td>0.132673</td>\n",
       "      <td>0.157228</td>\n",
       "    </tr>\n",
       "    <tr>\n",
       "      <th>std</th>\n",
       "      <td>0.010842</td>\n",
       "      <td>0.107130</td>\n",
       "      <td>0.018754</td>\n",
       "      <td>0.110914</td>\n",
       "      <td>0.130509</td>\n",
       "    </tr>\n",
       "    <tr>\n",
       "      <th>min</th>\n",
       "      <td>0.000000</td>\n",
       "      <td>0.000000</td>\n",
       "      <td>0.000000</td>\n",
       "      <td>0.000000</td>\n",
       "      <td>0.000000</td>\n",
       "    </tr>\n",
       "    <tr>\n",
       "      <th>25%</th>\n",
       "      <td>0.000561</td>\n",
       "      <td>0.011903</td>\n",
       "      <td>0.001928</td>\n",
       "      <td>0.022951</td>\n",
       "      <td>0.035902</td>\n",
       "    </tr>\n",
       "    <tr>\n",
       "      <th>50%</th>\n",
       "      <td>0.003969</td>\n",
       "      <td>0.043607</td>\n",
       "      <td>0.008096</td>\n",
       "      <td>0.123279</td>\n",
       "      <td>0.142623</td>\n",
       "    </tr>\n",
       "    <tr>\n",
       "      <th>75%</th>\n",
       "      <td>0.008906</td>\n",
       "      <td>0.091478</td>\n",
       "      <td>0.016231</td>\n",
       "      <td>0.206557</td>\n",
       "      <td>0.243115</td>\n",
       "    </tr>\n",
       "    <tr>\n",
       "      <th>max</th>\n",
       "      <td>0.080157</td>\n",
       "      <td>1.217653</td>\n",
       "      <td>0.168329</td>\n",
       "      <td>0.492459</td>\n",
       "      <td>0.558689</td>\n",
       "    </tr>\n",
       "  </tbody>\n",
       "</table>\n",
       "</div>"
      ],
      "text/plain": [
       "       importance_mean  importance_max  importance_std  positive_ratio  \\\n",
       "count       812.000000      812.000000      812.000000      812.000000   \n",
       "mean          0.007460        0.072975        0.013368        0.132673   \n",
       "std           0.010842        0.107130        0.018754        0.110914   \n",
       "min           0.000000        0.000000        0.000000        0.000000   \n",
       "25%           0.000561        0.011903        0.001928        0.022951   \n",
       "50%           0.003969        0.043607        0.008096        0.123279   \n",
       "75%           0.008906        0.091478        0.016231        0.206557   \n",
       "max           0.080157        1.217653        0.168329        0.492459   \n",
       "\n",
       "       negative_ratio  \n",
       "count      812.000000  \n",
       "mean         0.157228  \n",
       "std          0.130509  \n",
       "min          0.000000  \n",
       "25%          0.035902  \n",
       "50%          0.142623  \n",
       "75%          0.243115  \n",
       "max          0.558689  "
      ]
     },
     "execution_count": 411,
     "metadata": {},
     "output_type": "execute_result"
    }
   ],
   "source": [
    "shap_importances_df_xgb.describe()"
   ]
  },
  {
   "cell_type": "code",
   "execution_count": 419,
   "id": "9043fcce",
   "metadata": {},
   "outputs": [
    {
     "name": "stdout",
     "output_type": "stream",
     "text": [
      "369\n"
     ]
    }
   ],
   "source": [
    "discard_features_xgb = shap_importances_df_xgb[\n",
    "        (shap_importances_df_xgb[\"importance_mean\"] <= 0.003)\n",
    "    ][\"feature\"].tolist()\n",
    "print(len(discard_features_xgb))"
   ]
  },
  {
   "cell_type": "code",
   "execution_count": 420,
   "id": "509d048d-47d2-4936-8628-53d02fa69d94",
   "metadata": {},
   "outputs": [
    {
     "data": {
      "text/plain": [
       "(305, 443)"
      ]
     },
     "execution_count": 420,
     "metadata": {},
     "output_type": "execute_result"
    }
   ],
   "source": [
    "x_train_xgb = corr_train_df.drop(columns=discard_features_xgb)\n",
    "x_test_xgb = corr_test_df.drop(columns=discard_features_xgb)\n",
    "x_train_xgb = x_train_xgb.drop(columns=[\"Transition_code\"])\n",
    "x_train_xgb.shape"
   ]
  },
  {
   "cell_type": "code",
   "execution_count": 421,
   "id": "4988d79e-df20-4bc5-b9f7-0cb9095d5b46",
   "metadata": {},
   "outputs": [],
   "source": [
    "xgb_shap_model = xgboost_model(x_train_xgb,y_train)\n",
    "results[\"xgb_shap_model\"] = [xgb_shap_model,None]"
   ]
  },
  {
   "cell_type": "code",
   "execution_count": null,
   "id": "64466433-28d3-412c-84d2-e7d36205351a",
   "metadata": {},
   "outputs": [
    {
     "name": "stdout",
     "output_type": "stream",
     "text": [
      "F1 Macro Score em rf_shap_model: 0.3597\n"
     ]
    }
   ],
   "source": [
    "models_comparison(results,\"Ensemble\",x_train=x_train_xgb,y_train=y_train,n_repeats=4)"
   ]
  },
  {
   "cell_type": "markdown",
   "id": "2ba9c6a0-7e7f-4b94-be80-0dee2998a474",
   "metadata": {},
   "source": [
    "#### LGB"
   ]
  },
  {
   "cell_type": "code",
   "execution_count": 234,
   "id": "1b908de9-86d7-415f-81e6-2c59384f268b",
   "metadata": {},
   "outputs": [],
   "source": [
    "shap_importances_df_light = get_shap_info_df(shap_values_light,X_shap_init)\n",
    "shap_importances_df_light.to_csv(\"../Dataset/SHAP_Values/global_shap_values_light.csv\",index=False)"
   ]
  },
  {
   "cell_type": "code",
   "execution_count": 235,
   "id": "750ed5fd-f230-4688-b304-2685536318b1",
   "metadata": {},
   "outputs": [
    {
     "data": {
      "text/html": [
       "<div>\n",
       "<style scoped>\n",
       "    .dataframe tbody tr th:only-of-type {\n",
       "        vertical-align: middle;\n",
       "    }\n",
       "\n",
       "    .dataframe tbody tr th {\n",
       "        vertical-align: top;\n",
       "    }\n",
       "\n",
       "    .dataframe thead th {\n",
       "        text-align: right;\n",
       "    }\n",
       "</style>\n",
       "<table border=\"1\" class=\"dataframe\">\n",
       "  <thead>\n",
       "    <tr style=\"text-align: right;\">\n",
       "      <th></th>\n",
       "      <th>importance_mean</th>\n",
       "      <th>importance_max</th>\n",
       "      <th>importance_std</th>\n",
       "      <th>positive_ratio</th>\n",
       "      <th>negative_ratio</th>\n",
       "    </tr>\n",
       "  </thead>\n",
       "  <tbody>\n",
       "    <tr>\n",
       "      <th>count</th>\n",
       "      <td>812.000000</td>\n",
       "      <td>812.000000</td>\n",
       "      <td>812.000000</td>\n",
       "      <td>812.000000</td>\n",
       "      <td>812.000000</td>\n",
       "    </tr>\n",
       "    <tr>\n",
       "      <th>mean</th>\n",
       "      <td>0.009776</td>\n",
       "      <td>0.162421</td>\n",
       "      <td>0.021431</td>\n",
       "      <td>0.279142</td>\n",
       "      <td>0.300960</td>\n",
       "    </tr>\n",
       "    <tr>\n",
       "      <th>std</th>\n",
       "      <td>0.016082</td>\n",
       "      <td>0.265795</td>\n",
       "      <td>0.036398</td>\n",
       "      <td>0.137117</td>\n",
       "      <td>0.145457</td>\n",
       "    </tr>\n",
       "    <tr>\n",
       "      <th>min</th>\n",
       "      <td>0.000000</td>\n",
       "      <td>0.000000</td>\n",
       "      <td>0.000000</td>\n",
       "      <td>0.000000</td>\n",
       "      <td>0.000000</td>\n",
       "    </tr>\n",
       "    <tr>\n",
       "      <th>25%</th>\n",
       "      <td>0.001769</td>\n",
       "      <td>0.036163</td>\n",
       "      <td>0.004505</td>\n",
       "      <td>0.187213</td>\n",
       "      <td>0.197705</td>\n",
       "    </tr>\n",
       "    <tr>\n",
       "      <th>50%</th>\n",
       "      <td>0.004614</td>\n",
       "      <td>0.080885</td>\n",
       "      <td>0.010211</td>\n",
       "      <td>0.281311</td>\n",
       "      <td>0.299016</td>\n",
       "    </tr>\n",
       "    <tr>\n",
       "      <th>75%</th>\n",
       "      <td>0.010459</td>\n",
       "      <td>0.168734</td>\n",
       "      <td>0.020995</td>\n",
       "      <td>0.366557</td>\n",
       "      <td>0.397541</td>\n",
       "    </tr>\n",
       "    <tr>\n",
       "      <th>max</th>\n",
       "      <td>0.134457</td>\n",
       "      <td>3.443917</td>\n",
       "      <td>0.412623</td>\n",
       "      <td>0.721967</td>\n",
       "      <td>0.704262</td>\n",
       "    </tr>\n",
       "  </tbody>\n",
       "</table>\n",
       "</div>"
      ],
      "text/plain": [
       "       importance_mean  importance_max  importance_std  positive_ratio  \\\n",
       "count       812.000000      812.000000      812.000000      812.000000   \n",
       "mean          0.009776        0.162421        0.021431        0.279142   \n",
       "std           0.016082        0.265795        0.036398        0.137117   \n",
       "min           0.000000        0.000000        0.000000        0.000000   \n",
       "25%           0.001769        0.036163        0.004505        0.187213   \n",
       "50%           0.004614        0.080885        0.010211        0.281311   \n",
       "75%           0.010459        0.168734        0.020995        0.366557   \n",
       "max           0.134457        3.443917        0.412623        0.721967   \n",
       "\n",
       "       negative_ratio  \n",
       "count      812.000000  \n",
       "mean         0.300960  \n",
       "std          0.145457  \n",
       "min          0.000000  \n",
       "25%          0.197705  \n",
       "50%          0.299016  \n",
       "75%          0.397541  \n",
       "max          0.704262  "
      ]
     },
     "execution_count": 235,
     "metadata": {},
     "output_type": "execute_result"
    }
   ],
   "source": [
    "shap_importances_df_light.describe()"
   ]
  },
  {
   "cell_type": "code",
   "execution_count": 236,
   "id": "f0089fcd",
   "metadata": {},
   "outputs": [
    {
     "name": "stdout",
     "output_type": "stream",
     "text": [
      "791\n"
     ]
    }
   ],
   "source": [
    "discard_features_light = shap_importances_df_light[\n",
    "        (shap_importances_df_light[\"importance_mean\"] <= 0.05)\n",
    "    ][\"feature\"].tolist()\n",
    "print(len(discard_features_light))"
   ]
  },
  {
   "cell_type": "code",
   "execution_count": 237,
   "id": "528976b2-2158-40d2-87cc-28c93d7c9204",
   "metadata": {},
   "outputs": [
    {
     "data": {
      "text/plain": [
       "(305, 21)"
      ]
     },
     "execution_count": 237,
     "metadata": {},
     "output_type": "execute_result"
    }
   ],
   "source": [
    "x_train_light = corr_train_df.drop(columns=discard_features_light)\n",
    "x_test_light = corr_test_df.drop(columns=discard_features_light)\n",
    "x_train_light = x_train_light.drop(columns=[\"Transition_code\"])\n",
    "x_train_light.shape"
   ]
  },
  {
   "cell_type": "code",
   "execution_count": 238,
   "id": "c98a7f9f-77b7-4461-b009-212db5cd823a",
   "metadata": {},
   "outputs": [],
   "source": [
    "light_shap_model = light_boost_model(x_train_light,y_train)\n",
    "results[\"light_shap_model\"] = [light_shap_model,None]"
   ]
  },
  {
   "cell_type": "code",
   "execution_count": 239,
   "id": "bfb8c463-9be4-464d-b048-4a38905b3538",
   "metadata": {},
   "outputs": [
    {
     "name": "stdout",
     "output_type": "stream",
     "text": [
      "F1 Macro Score em rf_shap_model: 0.3369\n",
      "F1 Macro Score em xgb_shap_model: 0.3759\n",
      "F1 Macro Score em light_shap_model: 0.4461 ± 0.075\n"
     ]
    },
    {
     "data": {
      "image/png": "[encoded data removed]",
      "text/plain": [
       "<Figure size 600x300 with 1 Axes>"
      ]
     },
     "metadata": {},
     "output_type": "display_data"
    }
   ],
   "source": [
    "models_comparison(results,\"Ensemble\",x_train=x_train_light,y_train=y_train,n_repeats=5)"
   ]
  },
  {
   "cell_type": "markdown",
   "id": "248985dd-1f2e-45ac-a505-366ca4856d77",
   "metadata": {},
   "source": [
    "#### Log"
   ]
  },
  {
   "cell_type": "code",
   "execution_count": 240,
   "id": "4bb0abb2-756d-4472-87b8-208e176e312f",
   "metadata": {},
   "outputs": [],
   "source": [
    "shap_importances_df_log = get_shap_info_df(shap_values_log,X_shap_init)\n",
    "shap_importances_df_log.to_csv(\"../Dataset/SHAP_Values/global_shap_values_log.csv\",index=False)"
   ]
  },
  {
   "cell_type": "code",
   "execution_count": 245,
   "id": "66820ab2-e93f-4013-baf6-324bc7f6b123",
   "metadata": {},
   "outputs": [
    {
     "data": {
      "text/html": [
       "<div>\n",
       "<style scoped>\n",
       "    .dataframe tbody tr th:only-of-type {\n",
       "        vertical-align: middle;\n",
       "    }\n",
       "\n",
       "    .dataframe tbody tr th {\n",
       "        vertical-align: top;\n",
       "    }\n",
       "\n",
       "    .dataframe thead th {\n",
       "        text-align: right;\n",
       "    }\n",
       "</style>\n",
       "<table border=\"1\" class=\"dataframe\">\n",
       "  <thead>\n",
       "    <tr style=\"text-align: right;\">\n",
       "      <th></th>\n",
       "      <th>importance_mean</th>\n",
       "      <th>importance_max</th>\n",
       "      <th>importance_std</th>\n",
       "      <th>positive_ratio</th>\n",
       "      <th>negative_ratio</th>\n",
       "    </tr>\n",
       "  </thead>\n",
       "  <tbody>\n",
       "    <tr>\n",
       "      <th>count</th>\n",
       "      <td>812.000000</td>\n",
       "      <td>812.000000</td>\n",
       "      <td>812.000000</td>\n",
       "      <td>812.000000</td>\n",
       "      <td>812.000000</td>\n",
       "    </tr>\n",
       "    <tr>\n",
       "      <th>mean</th>\n",
       "      <td>0.035971</td>\n",
       "      <td>0.377873</td>\n",
       "      <td>0.043056</td>\n",
       "      <td>0.501001</td>\n",
       "      <td>0.498999</td>\n",
       "    </tr>\n",
       "    <tr>\n",
       "      <th>std</th>\n",
       "      <td>0.019084</td>\n",
       "      <td>0.240735</td>\n",
       "      <td>0.022346</td>\n",
       "      <td>0.025922</td>\n",
       "      <td>0.025922</td>\n",
       "    </tr>\n",
       "    <tr>\n",
       "      <th>min</th>\n",
       "      <td>0.001427</td>\n",
       "      <td>0.007308</td>\n",
       "      <td>0.001342</td>\n",
       "      <td>0.375082</td>\n",
       "      <td>0.339672</td>\n",
       "    </tr>\n",
       "    <tr>\n",
       "      <th>25%</th>\n",
       "      <td>0.022829</td>\n",
       "      <td>0.210674</td>\n",
       "      <td>0.027295</td>\n",
       "      <td>0.489836</td>\n",
       "      <td>0.488525</td>\n",
       "    </tr>\n",
       "    <tr>\n",
       "      <th>50%</th>\n",
       "      <td>0.032213</td>\n",
       "      <td>0.331137</td>\n",
       "      <td>0.039458</td>\n",
       "      <td>0.500328</td>\n",
       "      <td>0.499672</td>\n",
       "    </tr>\n",
       "    <tr>\n",
       "      <th>75%</th>\n",
       "      <td>0.044779</td>\n",
       "      <td>0.473731</td>\n",
       "      <td>0.054686</td>\n",
       "      <td>0.511475</td>\n",
       "      <td>0.510164</td>\n",
       "    </tr>\n",
       "    <tr>\n",
       "      <th>max</th>\n",
       "      <td>0.143329</td>\n",
       "      <td>1.946421</td>\n",
       "      <td>0.175892</td>\n",
       "      <td>0.660328</td>\n",
       "      <td>0.624918</td>\n",
       "    </tr>\n",
       "  </tbody>\n",
       "</table>\n",
       "</div>"
      ],
      "text/plain": [
       "       importance_mean  importance_max  importance_std  positive_ratio  \\\n",
       "count       812.000000      812.000000      812.000000      812.000000   \n",
       "mean          0.035971        0.377873        0.043056        0.501001   \n",
       "std           0.019084        0.240735        0.022346        0.025922   \n",
       "min           0.001427        0.007308        0.001342        0.375082   \n",
       "25%           0.022829        0.210674        0.027295        0.489836   \n",
       "50%           0.032213        0.331137        0.039458        0.500328   \n",
       "75%           0.044779        0.473731        0.054686        0.511475   \n",
       "max           0.143329        1.946421        0.175892        0.660328   \n",
       "\n",
       "       negative_ratio  \n",
       "count      812.000000  \n",
       "mean         0.498999  \n",
       "std          0.025922  \n",
       "min          0.339672  \n",
       "25%          0.488525  \n",
       "50%          0.499672  \n",
       "75%          0.510164  \n",
       "max          0.624918  "
      ]
     },
     "execution_count": 245,
     "metadata": {},
     "output_type": "execute_result"
    }
   ],
   "source": [
    "shap_importances_df_log.describe()"
   ]
  },
  {
   "cell_type": "code",
   "execution_count": 248,
   "id": "4e34d7b1",
   "metadata": {},
   "outputs": [
    {
     "name": "stdout",
     "output_type": "stream",
     "text": [
      "806\n"
     ]
    }
   ],
   "source": [
    "discard_features_log = shap_importances_df_log[\n",
    "        (shap_importances_df_log[\"importance_mean\"] <= 0.1)\n",
    "    ][\"feature\"].tolist()\n",
    "print(len(discard_features_log))"
   ]
  },
  {
   "cell_type": "code",
   "execution_count": 249,
   "id": "6967dfcd-2848-4ad9-b4a5-8a2b1fea3864",
   "metadata": {},
   "outputs": [
    {
     "data": {
      "text/plain": [
       "(305, 6)"
      ]
     },
     "execution_count": 249,
     "metadata": {},
     "output_type": "execute_result"
    }
   ],
   "source": [
    "x_train_log = corr_train_df.drop(columns=discard_features_log)\n",
    "x_test_log = corr_test_df.drop(columns=discard_features_log)\n",
    "x_train_log = x_train_log.drop(columns=[\"Transition_code\"])\n",
    "x_train_log.shape"
   ]
  },
  {
   "cell_type": "code",
   "execution_count": 250,
   "id": "9bd0f7bf-1e5c-4108-8ca6-e1fba73ec8b8",
   "metadata": {},
   "outputs": [],
   "source": [
    "log_shap_model = log_reg_model(x_train_log,y_train)\n",
    "results[\"log_shap_model\"] = [log_shap_model,None]"
   ]
  },
  {
   "cell_type": "code",
   "execution_count": 251,
   "id": "186a574c-ef3d-45ad-b80a-7a57b6840052",
   "metadata": {},
   "outputs": [
    {
     "name": "stdout",
     "output_type": "stream",
     "text": [
      "F1 Macro Score em rf_shap_model: 0.3369\n",
      "F1 Macro Score em xgb_shap_model: 0.3759\n",
      "F1 Macro Score em light_shap_model: 0.4461\n",
      "F1 Macro Score em log_shap_model: 0.3746 ± 0.053\n"
     ]
    },
    {
     "data": {
      "image/png": "[encoded data removed]",
      "text/plain": [
       "<Figure size 600x300 with 1 Axes>"
      ]
     },
     "metadata": {},
     "output_type": "display_data"
    }
   ],
   "source": [
    "models_comparison(results,\"Ensemble\",x_train=x_train_light,y_train=y_train,n_repeats=5)"
   ]
  },
  {
   "cell_type": "markdown",
   "id": "a7f6cc98-a668-44d2-bf8b-ffe229153acc",
   "metadata": {},
   "source": [
    "#### SVM"
   ]
  },
  {
   "cell_type": "code",
   "execution_count": 252,
   "id": "bd4e3f62-d1e6-4fa4-a500-1cd4a0ab584f",
   "metadata": {},
   "outputs": [],
   "source": [
    "shap_importances_df_global = get_global_shap_info_df([shap_values_rf,shap_values_xgb,shap_values_light,shap_values_log],X_shap_init)\n",
    "shap_importances_df_global.to_csv(\"../Dataset/SHAP_Values/global_shap_values.csv\",index=False)"
   ]
  },
  {
   "cell_type": "code",
   "execution_count": 253,
   "id": "8b71578c-84bc-4f31-91fe-6355526d636d",
   "metadata": {},
   "outputs": [
    {
     "data": {
      "text/html": [
       "<div>\n",
       "<style scoped>\n",
       "    .dataframe tbody tr th:only-of-type {\n",
       "        vertical-align: middle;\n",
       "    }\n",
       "\n",
       "    .dataframe tbody tr th {\n",
       "        vertical-align: top;\n",
       "    }\n",
       "\n",
       "    .dataframe thead th {\n",
       "        text-align: right;\n",
       "    }\n",
       "</style>\n",
       "<table border=\"1\" class=\"dataframe\">\n",
       "  <thead>\n",
       "    <tr style=\"text-align: right;\">\n",
       "      <th></th>\n",
       "      <th>importance_mean</th>\n",
       "      <th>importance_max</th>\n",
       "      <th>importance_std</th>\n",
       "      <th>positive_ratio</th>\n",
       "      <th>negative_ratio</th>\n",
       "    </tr>\n",
       "  </thead>\n",
       "  <tbody>\n",
       "    <tr>\n",
       "      <th>count</th>\n",
       "      <td>812.000000</td>\n",
       "      <td>812.000000</td>\n",
       "      <td>812.000000</td>\n",
       "      <td>812.000000</td>\n",
       "      <td>812.000000</td>\n",
       "    </tr>\n",
       "    <tr>\n",
       "      <th>mean</th>\n",
       "      <td>0.013403</td>\n",
       "      <td>0.417261</td>\n",
       "      <td>0.031814</td>\n",
       "      <td>0.342904</td>\n",
       "      <td>0.358063</td>\n",
       "    </tr>\n",
       "    <tr>\n",
       "      <th>std</th>\n",
       "      <td>0.008930</td>\n",
       "      <td>0.296245</td>\n",
       "      <td>0.021019</td>\n",
       "      <td>0.055306</td>\n",
       "      <td>0.062145</td>\n",
       "    </tr>\n",
       "    <tr>\n",
       "      <th>min</th>\n",
       "      <td>0.001721</td>\n",
       "      <td>0.044990</td>\n",
       "      <td>0.004498</td>\n",
       "      <td>0.102295</td>\n",
       "      <td>0.125410</td>\n",
       "    </tr>\n",
       "    <tr>\n",
       "      <th>25%</th>\n",
       "      <td>0.007519</td>\n",
       "      <td>0.232940</td>\n",
       "      <td>0.019375</td>\n",
       "      <td>0.305369</td>\n",
       "      <td>0.317869</td>\n",
       "    </tr>\n",
       "    <tr>\n",
       "      <th>50%</th>\n",
       "      <td>0.011144</td>\n",
       "      <td>0.354687</td>\n",
       "      <td>0.027394</td>\n",
       "      <td>0.343607</td>\n",
       "      <td>0.355984</td>\n",
       "    </tr>\n",
       "    <tr>\n",
       "      <th>75%</th>\n",
       "      <td>0.016564</td>\n",
       "      <td>0.516331</td>\n",
       "      <td>0.037947</td>\n",
       "      <td>0.378893</td>\n",
       "      <td>0.398033</td>\n",
       "    </tr>\n",
       "    <tr>\n",
       "      <th>max</th>\n",
       "      <td>0.079150</td>\n",
       "      <td>3.443917</td>\n",
       "      <td>0.237583</td>\n",
       "      <td>0.505246</td>\n",
       "      <td>0.531639</td>\n",
       "    </tr>\n",
       "  </tbody>\n",
       "</table>\n",
       "</div>"
      ],
      "text/plain": [
       "       importance_mean  importance_max  importance_std  positive_ratio  \\\n",
       "count       812.000000      812.000000      812.000000      812.000000   \n",
       "mean          0.013403        0.417261        0.031814        0.342904   \n",
       "std           0.008930        0.296245        0.021019        0.055306   \n",
       "min           0.001721        0.044990        0.004498        0.102295   \n",
       "25%           0.007519        0.232940        0.019375        0.305369   \n",
       "50%           0.011144        0.354687        0.027394        0.343607   \n",
       "75%           0.016564        0.516331        0.037947        0.378893   \n",
       "max           0.079150        3.443917        0.237583        0.505246   \n",
       "\n",
       "       negative_ratio  \n",
       "count      812.000000  \n",
       "mean         0.358063  \n",
       "std          0.062145  \n",
       "min          0.125410  \n",
       "25%          0.317869  \n",
       "50%          0.355984  \n",
       "75%          0.398033  \n",
       "max          0.531639  "
      ]
     },
     "execution_count": 253,
     "metadata": {},
     "output_type": "execute_result"
    }
   ],
   "source": [
    "shap_importances_df_global.describe()"
   ]
  },
  {
   "cell_type": "code",
   "execution_count": 254,
   "id": "c03d46d9-0c28-43ce-b533-3a7e98d94642",
   "metadata": {},
   "outputs": [
    {
     "name": "stdout",
     "output_type": "stream",
     "text": [
      "808\n"
     ]
    }
   ],
   "source": [
    "discard_features_global = shap_importances_df_global[\n",
    "        (shap_importances_df_global[\"importance_mean\"] <= 0.05)\n",
    "    ][\"feature\"].tolist()\n",
    "print(len(discard_features_global))"
   ]
  },
  {
   "cell_type": "code",
   "execution_count": 255,
   "id": "6eb43d33-56b8-4fe8-a24d-c15e1b394786",
   "metadata": {},
   "outputs": [
    {
     "data": {
      "text/plain": [
       "(305, 4)"
      ]
     },
     "execution_count": 255,
     "metadata": {},
     "output_type": "execute_result"
    }
   ],
   "source": [
    "x_train_svm = corr_train_df.drop(columns=discard_features_global)\n",
    "x_test_svm = corr_test_df.drop(columns=discard_features_global)\n",
    "x_train_svm = x_train_svm.drop(columns=[\"Transition_code\"])\n",
    "\n",
    "x_train_svm.shape"
   ]
  },
  {
   "cell_type": "code",
   "execution_count": 256,
   "id": "b9ecb38a-b9b4-49d8-ad32-5ec4c171d72e",
   "metadata": {},
   "outputs": [],
   "source": [
    "svm_shap_model = svm_train_model(x_train_svm,y_train)\n",
    "results[\"svm_shap_model\"] = [svm_shap_model,None]"
   ]
  },
  {
   "cell_type": "code",
   "execution_count": 257,
   "id": "ddfa68a8-aa26-45a7-9c70-a859256a93b6",
   "metadata": {},
   "outputs": [
    {
     "name": "stdout",
     "output_type": "stream",
     "text": [
      "F1 Macro Score em rf_shap_model: 0.3369\n",
      "F1 Macro Score em xgb_shap_model: 0.3759\n",
      "F1 Macro Score em light_shap_model: 0.4461\n",
      "F1 Macro Score em log_shap_model: 0.3746\n",
      "F1 Macro Score em svm_shap_model: 0.3479 ± 0.041\n"
     ]
    },
    {
     "data": {
      "image/png": "[encoded data removed]",
      "text/plain": [
       "<Figure size 600x300 with 1 Axes>"
      ]
     },
     "metadata": {},
     "output_type": "display_data"
    }
   ],
   "source": [
    "models_comparison(results,\"Ensemble\",x_train=x_train_svm,y_train=y_train,n_repeats=5)"
   ]
  },
  {
   "cell_type": "markdown",
   "id": "e478cb22-fc64-4130-bfdf-d0b6357a9f02",
   "metadata": {},
   "source": [
    "#### Ensemble Manual"
   ]
  },
  {
   "cell_type": "code",
   "execution_count": 262,
   "id": "fc929212-a937-4124-b931-6fe4ff87559a",
   "metadata": {},
   "outputs": [],
   "source": [
    "def manual_r_corr_val(x_shap_train,n_repeats=5,n_splits=5):\n",
    "    models_results= []\n",
    "    for i in range(n_repeats):\n",
    "        x_train, x_test, y_train, y_test = define_X_y(x_shap_train,random_state=i*342)\n",
    "        ensemble, meta_features_test = manual_ensemble(\n",
    "                x_train.drop(columns=discard_features_rf),\n",
    "                x_train.drop(columns=discard_features_xgb),\n",
    "                x_train.drop(columns=discard_features_global),\n",
    "                x_train.drop(columns=discard_features_log),\n",
    "                x_train.drop(columns=discard_features_light),\n",
    "                x_test.drop(columns=discard_features_rf),\n",
    "                x_test.drop(columns=discard_features_xgb),\n",
    "                x_test.drop(columns=discard_features_global),\n",
    "                x_test.drop(columns=discard_features_log),\n",
    "                x_test.drop(columns=discard_features_light),\n",
    "                x_train,\n",
    "                x_test,\n",
    "                y_train,\n",
    "                y_test\n",
    "        )\n",
    "        preds = ensemble.predict(meta_features_test)\n",
    "        f1_macro=f1_score(y_test,preds,average=\"macro\")\n",
    "        models_results.append(f1_macro)\n",
    "\n",
    "    return np.mean(models_results), np.std(models_results), np.var(models_results)"
   ]
  },
  {
   "cell_type": "code",
   "execution_count": 263,
   "id": "154f33fe-2fe1-4201-9598-6b050ac7f958",
   "metadata": {},
   "outputs": [],
   "source": [
    "def manual_ensemble(x_train_rf,x_train_xgb,x_train_svm,x_train_log,x_train_light,x_test_rf,x_test_xgb,x_test_svm,x_test_log,x_test_light,x_train,x_test,y_train,y_test):\n",
    "    kf = StratifiedKFold(n_splits=5,shuffle=True,random_state=27)\n",
    "    \n",
    "    meta_features_train = np.zeros((len(x_train),5))\n",
    "    meta_features_test = np.zeros((len(x_test),5))\n",
    "\n",
    "    for fold_idx, (train_idx, val_idx) in enumerate(kf.split(x_train,y_train)):\n",
    "        # Dividir dados no fold\n",
    "        x_fold_train, x_fold_val = x_train.iloc[train_idx], x_train.iloc[val_idx]\n",
    "        y_fold_train, y_fold_val = y_train.iloc[train_idx], y_train.iloc[val_idx]\n",
    "        \n",
    "        # Criar subsets para cada modelo\n",
    "        x_fold_train_rf, x_fold_val_rf = x_fold_train[x_train_rf.columns], x_fold_val[x_train_rf.columns]\n",
    "        x_fold_train_xgb, x_fold_val_xgb = x_fold_train[x_train_xgb.columns], x_fold_val[x_train_xgb.columns]\n",
    "        x_fold_train_svm, x_fold_val_svm = x_fold_train[x_train_svm.columns], x_fold_val[x_train_svm.columns]\n",
    "        x_fold_train_lr, x_fold_val_lr = x_fold_train[x_train_log.columns], x_fold_val[x_train_log.columns]\n",
    "        x_fold_train_lgb, x_fold_val_lgb = x_fold_train[x_train_light.columns], x_fold_val[x_train_light.columns]\n",
    "        \n",
    "        # Treinar modelos em cada fold\n",
    "        rf_shap_model.fit(x_fold_train_rf, y_fold_train)\n",
    "        xgb_shap_model.fit(x_fold_train_xgb, y_fold_train)\n",
    "        svm_shap_model.fit(x_fold_train_svm, y_fold_train)\n",
    "        log_shap_model.fit(x_fold_train_lr, y_fold_train)\n",
    "        light_shap_model.fit(x_fold_train_lgb, y_fold_train)\n",
    "        \n",
    "        # Previsões para o meta learner\n",
    "        meta_features_train[val_idx, 0] = rf_shap_model.predict_proba(x_fold_val_rf)[:, 1]\n",
    "        meta_features_train[val_idx, 1] = xgb_shap_model.predict_proba(x_fold_val_xgb)[:, 1]\n",
    "        meta_features_train[val_idx, 2] = svm_shap_model.predict_proba(x_fold_val_svm)[:, 1]\n",
    "        meta_features_train[val_idx, 3] = log_shap_model.predict_proba(x_fold_val_lr)[:, 1]\n",
    "        meta_features_train[val_idx, 4] = light_shap_model.predict_proba(x_fold_val_lgb)[:, 1]\n",
    "\n",
    "    rf_shap_model.fit(x_train_rf, y_train)\n",
    "    xgb_shap_model.fit(x_train_xgb, y_train)\n",
    "    svm_shap_model.fit(x_train_svm, y_train)\n",
    "    log_shap_model.fit(x_train_log, y_train)\n",
    "    light_shap_model.fit(x_train_light, y_train)\n",
    "    \n",
    "    meta_features_test[:, 0] = rf_shap_model.predict_proba(x_test_rf)[:, 1]\n",
    "    meta_features_test[:, 1] = xgb_shap_model.predict_proba(x_test_xgb)[:, 1]\n",
    "    meta_features_test[:, 2] = svm_shap_model.predict_proba(x_test_svm)[:, 1]\n",
    "    meta_features_test[:, 3] = log_shap_model.predict_proba(x_test_log)[:, 1]\n",
    "    meta_features_test[:, 4] = light_shap_model.predict_proba(x_test_light)[:, 1]\n",
    "\n",
    "    meta_learner = LogisticRegression()\n",
    "    meta_learner.fit(meta_features_train,y_train)\n",
    "\n",
    "    return meta_learner, meta_features_test"
   ]
  },
  {
   "cell_type": "code",
   "execution_count": 264,
   "id": "a6c5a554-6624-4e93-9b68-bef62f526062",
   "metadata": {},
   "outputs": [],
   "source": [
    "manual_ens_score = manual_r_corr_val(corr_train_df)\n",
    "results[\"man_ensemble\"] = [None, manual_ens_score[0]]"
   ]
  },
  {
   "cell_type": "code",
   "execution_count": 265,
   "id": "ed3bf6fe-de72-47d0-ad1b-b1cf1847ae43",
   "metadata": {},
   "outputs": [
    {
     "name": "stdout",
     "output_type": "stream",
     "text": [
      "(0.34270789584341343, 0.03903143392656983, 0.0015234528343641865)\n",
      "F1 Macro Score em rf_shap_model: 0.3369\n",
      "F1 Macro Score em xgb_shap_model: 0.3759\n",
      "F1 Macro Score em light_shap_model: 0.4461\n",
      "F1 Macro Score em log_shap_model: 0.3746\n",
      "F1 Macro Score em svm_shap_model: 0.3479\n",
      "F1 Macro Score em man_ensemble: 0.34270789584341343\n"
     ]
    },
    {
     "data": {
      "image/png": "[encoded data removed]",
      "text/plain": [
       "<Figure size 600x300 with 1 Axes>"
      ]
     },
     "metadata": {},
     "output_type": "display_data"
    }
   ],
   "source": [
    "print(manual_ens_score)\n",
    "models_comparison(results,\"Ensemble\",x_train=x_train_svm,y_train=y_train,n_repeats=5)"
   ]
  },
  {
   "cell_type": "code",
   "execution_count": 122,
   "id": "0ce333c2-2a0d-4d8b-bcbb-198dceb71323",
   "metadata": {},
   "outputs": [],
   "source": []
  },
  {
   "cell_type": "markdown",
   "id": "778b7dba-2530-4995-8a6e-0b1b0c781459",
   "metadata": {
    "jp-MarkdownHeadingCollapsed": true
   },
   "source": [
    "### MultiClass"
   ]
  },
  {
   "cell_type": "code",
   "execution_count": null,
   "id": "b65a7b85-44ce-4816-a02e-46f0a1588fe4",
   "metadata": {},
   "outputs": [],
   "source": [
    "get_shap_info_per_class(shap_values,X_shap)"
   ]
  },
  {
   "cell_type": "markdown",
   "id": "fd4ef43a-0117-4596-b6bf-5b7a82f45496",
   "metadata": {},
   "source": [
    "#### Class 0"
   ]
  },
  {
   "cell_type": "code",
   "execution_count": null,
   "id": "a1f72f84-80ff-49e0-ab9b-e580d962b592",
   "metadata": {},
   "outputs": [],
   "source": [
    "class0_df = pd.read_csv(\"../Dataset/SHAP_Values/class0_shap_values.csv\")\n",
    "class0_df.describe()"
   ]
  },
  {
   "cell_type": "code",
   "execution_count": null,
   "id": "cabda4be-0c2e-4342-a63b-fda918714338",
   "metadata": {},
   "outputs": [],
   "source": [
    "class0_discard_features = class0_df[\n",
    "        (class0_df[\"importance_mean\"] <= 0.00) | \n",
    "        ((class0_df[\"negative_ratio\"] - class0_df[\"positive_ratio\"] > 0.5) & \n",
    "        (class0_df[\"importance_mean\"] < 0.02))\n",
    "    ][\"feature\"].tolist()\n",
    "print(len(class0_discard_features))"
   ]
  },
  {
   "cell_type": "markdown",
   "id": "de5f22da-a650-46fa-a1b5-d1e90f6f3967",
   "metadata": {},
   "source": [
    "#### Class 1"
   ]
  },
  {
   "cell_type": "code",
   "execution_count": null,
   "id": "1768de85-f55d-49cd-bcf5-1796f3fb86e5",
   "metadata": {},
   "outputs": [],
   "source": [
    "class1_df = pd.read_csv(\"../Dataset/SHAP_Values/class1_shap_values.csv\")\n",
    "class1_df.describe()"
   ]
  },
  {
   "cell_type": "code",
   "execution_count": null,
   "id": "e28e80f9-8551-419f-8ba7-087784722e5c",
   "metadata": {},
   "outputs": [],
   "source": [
    "class1_discard_features = class1_df[\n",
    "        (class1_df[\"importance_mean\"] <= 0.0) | \n",
    "        ((class1_df[\"negative_ratio\"] - class1_df[\"positive_ratio\"] > 0.5) & \n",
    "        (class1_df[\"importance_mean\"] < 0.02))\n",
    "    ][\"feature\"].tolist()\n",
    "print(len(class1_discard_features))"
   ]
  },
  {
   "cell_type": "markdown",
   "id": "47dcb56d-1803-4023-8d31-935fda096edf",
   "metadata": {},
   "source": [
    "#### Class 2"
   ]
  },
  {
   "cell_type": "code",
   "execution_count": null,
   "id": "07ec1b67-3236-4de0-be1e-e068bdee8346",
   "metadata": {},
   "outputs": [],
   "source": [
    "class2_df = pd.read_csv(\"../Dataset/SHAP_Values/class2_shap_values.csv\")\n",
    "class2_df.describe()"
   ]
  },
  {
   "cell_type": "code",
   "execution_count": null,
   "id": "30c35a7f-1d05-4a0a-8353-04a651e782b7",
   "metadata": {},
   "outputs": [],
   "source": [
    "class2_discard_features = class2_df[\n",
    "        (class2_df[\"importance_mean\"] <= 0.0) | \n",
    "        ((class2_df[\"negative_ratio\"] - class2_df[\"positive_ratio\"] > 0.5) & \n",
    "        (class2_df[\"importance_mean\"] < 0.02))\n",
    "    ][\"feature\"].tolist()\n",
    "print(len(class2_discard_features))"
   ]
  },
  {
   "cell_type": "markdown",
   "id": "29cced22-f2f7-44c2-9024-5461785faf2c",
   "metadata": {},
   "source": [
    "#### Class 3"
   ]
  },
  {
   "cell_type": "code",
   "execution_count": null,
   "id": "8f772b31-88ba-46e4-9c52-af5681bf3610",
   "metadata": {},
   "outputs": [],
   "source": [
    "class3_df = pd.read_csv(\"../Dataset/SHAP_Values/class3_shap_values.csv\")\n",
    "class3_df.describe()"
   ]
  },
  {
   "cell_type": "code",
   "execution_count": null,
   "id": "5789b2c7-bcc9-4ed9-a83f-0a537bda680d",
   "metadata": {},
   "outputs": [],
   "source": [
    "class3_discard_features = class3_df[\n",
    "        (class3_df[\"importance_mean\"] <= 0.0) | \n",
    "        ((class3_df[\"negative_ratio\"] - class0_df[\"positive_ratio\"] > 0.5) & \n",
    "        (class3_df[\"importance_mean\"] < 0.02))\n",
    "    ][\"feature\"].tolist()\n",
    "print(len(class3_discard_features))"
   ]
  },
  {
   "cell_type": "markdown",
   "id": "a81926dd-bb8a-4349-b308-35adf5cba50b",
   "metadata": {},
   "source": [
    "#### Class 4"
   ]
  },
  {
   "cell_type": "code",
   "execution_count": null,
   "id": "d64df209-f2c7-4173-b939-e671c25bf4a5",
   "metadata": {},
   "outputs": [],
   "source": [
    "class4_df = pd.read_csv(\"../Dataset/SHAP_Values/class4_shap_values.csv\")\n",
    "class4_df.describe()"
   ]
  },
  {
   "cell_type": "code",
   "execution_count": null,
   "id": "c66c76d4-2899-477f-a511-36180f3071cd",
   "metadata": {},
   "outputs": [],
   "source": [
    "class4_discard_features = class4_df[\n",
    "        (class4_df[\"importance_mean\"] <= 0.0) | \n",
    "        ((class4_df[\"negative_ratio\"] - class0_df[\"positive_ratio\"] > 0.5) & \n",
    "        (class4_df[\"importance_mean\"] < 0.02))\n",
    "    ][\"feature\"].tolist()\n",
    "print(len(class4_discard_features))"
   ]
  },
  {
   "cell_type": "code",
   "execution_count": null,
   "id": "66d1d389-2e58-4109-af9b-c57d72155fbf",
   "metadata": {},
   "outputs": [],
   "source": [
    "# Lista das features a descartar para cada classe\n",
    "class_discard_features = [class0_discard_features, class1_discard_features, class2_discard_features, class3_discard_features, class4_discard_features]\n",
    "\n",
    "# Contar quantas classes descartam cada feature\n",
    "feature_counts = {}\n",
    "for discard_list in class_discard_features:\n",
    "    for feature in discard_list:\n",
    "        if feature not in feature_counts:\n",
    "            feature_counts[feature] = 0\n",
    "        feature_counts[feature] += 1\n",
    "\n",
    "# Selecionar as features que são descartadas em 3 ou mais classes\n",
    "combined_classes = [feature for feature, count in feature_counts.items() if count > 3]\n",
    "\n",
    "# Verificar quantas features serão descartadas\n",
    "print(len(combined_classes))"
   ]
  },
  {
   "cell_type": "code",
   "execution_count": null,
   "id": "1efc0f1b-1157-4721-8e7a-d0fcedc1d20c",
   "metadata": {},
   "outputs": [],
   "source": [
    "shap_train_df = shap_train_df.drop(columns=combined_classes)\n",
    "shap_control_df = shap_control_df.drop(columns=combined_classes)\n",
    "shap_test_df = shap_test_df.drop(columns=combined_classes)\n",
    "shap_train_df.to_csv(\"../Dataset/train_df_without_shap_low_values.csv\",index=False)\n",
    "shap_importances_df_cleaned = clean_shap_df(shap_importances_df_cleaned,combined_classes)"
   ]
  },
  {
   "cell_type": "code",
   "execution_count": null,
   "id": "1c59d8e2-5639-422e-a8fb-c9188af1cbb2",
   "metadata": {},
   "outputs": [],
   "source": [
    "shap_values = new_shap_values(shap_values,combined_classes)\n",
    "X_shap = shap_train_df.drop(\"Transition_code\",axis=1)"
   ]
  },
  {
   "cell_type": "code",
   "execution_count": null,
   "id": "2f75e44e-6cbe-4f33-b0ec-abd96928dcda",
   "metadata": {},
   "outputs": [],
   "source": [
    "shap_importances_df_cleaned.describe()"
   ]
  },
  {
   "cell_type": "markdown",
   "id": "a7eedc07-1300-4dd6-839f-960c3de04a5a",
   "metadata": {
    "jp-MarkdownHeadingCollapsed": true
   },
   "source": [
    "#### SHAP Plots"
   ]
  },
  {
   "cell_type": "code",
   "execution_count": null,
   "id": "a18ff4fe-7eb6-4186-9764-3f8b33e19685",
   "metadata": {
    "scrolled": true
   },
   "outputs": [],
   "source": [
    "show_shap_importance_summary_plot(shap_values,X_shap, 0)\n",
    "show_shap_importance_heatmap(shap_values,X_shap, 0)"
   ]
  },
  {
   "cell_type": "code",
   "execution_count": null,
   "id": "f414a6ca-1502-4d72-827a-392827e82da7",
   "metadata": {
    "scrolled": true
   },
   "outputs": [],
   "source": [
    "show_shap_importance_summary_plot(shap_values,X_shap, 1)\n",
    "show_shap_importance_heatmap(shap_values,X_shap, 1)"
   ]
  },
  {
   "cell_type": "code",
   "execution_count": null,
   "id": "55b6ebf4-9f9f-4dcd-bf94-71d236280286",
   "metadata": {
    "scrolled": true
   },
   "outputs": [],
   "source": [
    "show_shap_importance_summary_plot(shap_values,X_shap, 2)\n",
    "show_shap_importance_heatmap(shap_values,X_shap, 2)"
   ]
  },
  {
   "cell_type": "code",
   "execution_count": null,
   "id": "12a3f551-cf7a-4fbb-8d4a-7e2a7d40a1b1",
   "metadata": {
    "scrolled": true
   },
   "outputs": [],
   "source": [
    "show_shap_importance_summary_plot(shap_values,X_shap, 3)\n",
    "show_shap_importance_heatmap(shap_values,X_shap, 3)"
   ]
  },
  {
   "cell_type": "code",
   "execution_count": null,
   "id": "4a6637cc-e019-4821-9af9-27261ad44b44",
   "metadata": {
    "scrolled": true
   },
   "outputs": [],
   "source": [
    "show_shap_importance_summary_plot(shap_values,X_shap, 4)\n",
    "show_shap_importance_heatmap(shap_values,X_shap, 4)"
   ]
  },
  {
   "cell_type": "markdown",
   "id": "0907896b-8870-4a80-9b01-5465853623b0",
   "metadata": {},
   "source": [
    "# Models Tester"
   ]
  },
  {
   "cell_type": "code",
   "execution_count": null,
   "id": "baa63bd2-8bf5-45d9-b492-0cc93063a141",
   "metadata": {},
   "outputs": [],
   "source": [
    "results = {}\n",
    "x_train, x_test, y_train, y_test = define_X_y(shap_train_df,random_state=12)\n",
    "main_exploration(x_train)\n",
    "main_exploration(x_test)\n"
   ]
  },
  {
   "cell_type": "markdown",
   "id": "d3a28a82-fb57-4505-be32-c1730676001f",
   "metadata": {},
   "source": [
    "## Basic Models"
   ]
  },
  {
   "cell_type": "code",
   "execution_count": null,
   "id": "6cbab156-3e68-4bc1-89e0-734aa8af920c",
   "metadata": {},
   "outputs": [],
   "source": [
    "rf_model, xgb_model, gradient_model, cat_model, log_model, light_model,svm_model = apply_basic_models(x_train,y_train,x_test,y_test,n_repeats=3)"
   ]
  },
  {
   "cell_type": "code",
   "execution_count": null,
   "id": "2a674899-93a1-4a67-9078-c744fc50d48a",
   "metadata": {},
   "outputs": [],
   "source": [
    "#stacking_model = stacking_ensemble(x_train,y_train,[(\"rf\",rf_model),(\"xgb\",xgb_model),(\"light\",light_model)])\n",
    "#results[\"StackingBasic\"] = [stacking_model,None]\n",
    "#stacking_model_svm = stacking_ensemble(x_train,y_train,[(\"svm\",svm_model),(\"rf\",rf_model),(\"xgb\",xgb_model),(\"light\",light_model)])\n",
    "#results[\"StackingBasicSVM\"] = [stacking_model_svm,None]\n",
    "stacking_model_log = stacking_ensemble(x_train,y_train,[(\"log\",log_model),(\"svm\",svm_model),(\"rf\",rf_model),(\"xgb\",xgb_model),(\"light\",light_model)])\n",
    "results[\"StackingBasicLog\"] = [stacking_model_log,None]\n",
    "models_comparison(results,\"Ensemble\",x_train=x_train,y_train=y_train,n_repeats=2)\n",
    "\n",
    "#stacking_model_log = stacking_ensemble(x_train,y_train,[(\"log\",log_baye_model),(\"svm\",svm_baye_model),(\"rf\",rf_baye_model),(\"xgb\",xgb_baye_model),(\"light\",light_baye_model)])\n",
    "#results[\"StackingBayeLog\"] = [stacking_model_log,None]\n"
   ]
  },
  {
   "cell_type": "code",
   "execution_count": null,
   "id": "210c9cd6-7cce-4c76-83fd-e5ba19c23c05",
   "metadata": {
    "scrolled": true
   },
   "outputs": [],
   "source": [
    "class_accuracy_cv(stacking_model_log,x_train,y_train)\n",
    "class_accuracy_cv(log_model,x_train,y_train)\n",
    "class_accuracy_cv(svm_model,x_train,y_train)\n",
    "class_accuracy_cv(rf_model,x_train,y_train)\n",
    "class_accuracy_cv(xgb_model,x_train,y_train)\n",
    "class_accuracy_cv(light_model,x_train,y_train)"
   ]
  },
  {
   "cell_type": "code",
   "execution_count": null,
   "id": "12a59a00-cf59-4084-a7d1-b7111aa0de38",
   "metadata": {},
   "outputs": [],
   "source": [
    "roc_auc(models,x_train, y_train, x_test, y_test)\n",
    "models = {\"RF\": rf_model,\"XGB\": xgb_model,\"Light\":light_model,\"Stacking\": stacking_model_svm}"
   ]
  },
  {
   "cell_type": "markdown",
   "id": "5aab34a7-82b3-4ef6-9437-5b897b62e3e0",
   "metadata": {},
   "source": [
    "## GridSearch Tuning"
   ]
  },
  {
   "cell_type": "code",
   "execution_count": null,
   "id": "50d2a515-2874-4c3a-bf54-f167ed50b648",
   "metadata": {
    "scrolled": true
   },
   "outputs": [],
   "source": [
    "results = {}\n",
    "svm_grid_model = svm_grid_train_model(x_train,y_train)\n",
    "results[\"SVMGrid\"] = [svm_grid_model,None]\n",
    "models_comparison(results, \"GridSearch\",x_train=x_train,y_train=y_train)\n",
    "\n",
    "log_grid_model = log_grid_train_model(x_train,y_train)\n",
    "results[\"LogGrid\"] = [log_grid_model,None]\n",
    "models_comparison(results, \"GridSearch\",x_train=x_train,y_train=y_train)\n",
    "\n",
    "rf_grid_model = random_forest_grid_model(x_train,y_train)\n",
    "results[\"RandomForestGrid\"] = [rf_grid_model,None]\n",
    "models_comparison(results, \"GridSearch\",x_train=x_train,y_train=y_train)\n",
    "\n",
    "xgb_grid_model = xgboost_grid_model(x_train,y_train)\n",
    "results[\"XGBoostGrid\"] = [xgb_grid_model,None]\n",
    "models_comparison(results, \"GridSearch\",x_train=x_train,y_train=y_train)\n",
    "\n",
    "light_grid_model = light_grid_train_model(x_train,y_train)\n",
    "results[\"lightGrid\"] = [light_grid_model,None]\n",
    "models_comparison(results, \"GridSearch\",x_train=x_train,y_train=y_train)\n"
   ]
  },
  {
   "cell_type": "code",
   "execution_count": null,
   "id": "53c6433c-1def-4c58-b902-9455b19c3f1e",
   "metadata": {
    "scrolled": true
   },
   "outputs": [],
   "source": [
    "rf_grid_model = RandomForestClassifier(**rf_grid_model.get_params())\n",
    "xgb_grid_model = XGBClassifier(**xgb_grid_model.get_params())\n",
    "light_grid_model = lgb.LGBMClassifier(**light_grid_model.get_params())\n",
    "svm_grid_model = SVC(**svm_grid_model.get_params())\n",
    "log_grid_model = LogisticRegression(**log_grid_model.get_params())\n",
    "\n",
    "stacking_model_log = stacking_ensemble(x_train,y_train,estimators=[(\"log\",log_grid_model),(\"svm\",svm_grid_model),(\"rf\",rf_grid_model),(\"xgb\",xgb_grid_model),(\"light\",light_grid_model)])\n",
    "\n",
    "results[\"StackingGridLog\"] = [stacking_model_log,None]\n",
    "\n",
    "models_comparison(results,\"Grid Ensemble\",x_train=x_train,y_train=y_train,n_repeats=5)"
   ]
  },
  {
   "cell_type": "code",
   "execution_count": null,
   "id": "6426e5c3-8eaa-44c7-a0f4-af3ff28fddb0",
   "metadata": {
    "scrolled": true
   },
   "outputs": [],
   "source": [
    "class_accuracy_cv(log_grid_model,x_train,y_train)\n",
    "class_accuracy_cv(svm_grid_model,x_train,y_train)\n",
    "class_accuracy_cv(rf_grid_model,x_train,y_train)\n",
    "class_accuracy_cv(xgb_grid_model,x_train,y_train)\n",
    "class_accuracy_cv(light_grid_model,x_train,y_train)\n",
    "class_accuracy_cv(stacking_model_log,x_train,y_train)"
   ]
  },
  {
   "cell_type": "code",
   "execution_count": null,
   "id": "d427e6d9-cc9f-4bd3-a000-f3de50b2e32b",
   "metadata": {},
   "outputs": [],
   "source": [
    "models = {\"RF\": rf_model,\"XGB\": xgb_model,\"Light\":light_model,\"Stacking\": stacking_model_svm}\n",
    "roc_auc(models,x_train, y_train, x_test, y_test)"
   ]
  },
  {
   "cell_type": "markdown",
   "id": "2eccc891-9601-48be-b92a-0a79fede308e",
   "metadata": {
    "jp-MarkdownHeadingCollapsed": true
   },
   "source": [
    "## Ensemble with Best Models"
   ]
  },
  {
   "cell_type": "code",
   "execution_count": null,
   "id": "9b703505-f8e8-46fe-9e61-e2f6be502c6b",
   "metadata": {},
   "outputs": [],
   "source": [
    "rf_best_model = RandomForestClassifier(**rf_baye_model.get_params())\n",
    "xgb_best_model = XGBClassifier(**xgb_grid_model.get_params())\n",
    "light_best_model = lgb.LGBMClassifier(**light_grid_model.get_params())\n",
    "svm_best_model = SVC(**svm_grid_model.get_params())\n",
    "\n",
    "stacking_model = stacking_ensemble(x_train,y_train,estimators=[(\"rf\",rf_best_model),(\"xgb\",xgb_best_model),(\"light\",light_best_model)])\n",
    "stacking_model_svm = stacking_ensemble(x_train,y_train,estimators=[(\"svm\",svm_best_model),(\"rf\",rf_best_model),(\"xgb\",xgb_best_model),(\"light\",light_best_model)])\n",
    "\n",
    "results[\"StackingGrid\"] = [stacking_model,None]\n",
    "results[\"StackingGridSVM\"] = [stacking_model_svm,None]\n",
    "\n",
    "models_comparison(results,\"Grid Ensemble\",x_train=x_train,y_train=y_train,n_repeats=10)"
   ]
  },
  {
   "cell_type": "code",
   "execution_count": null,
   "id": "ca58de16-ea73-499c-b52a-071e6c32b4d8",
   "metadata": {},
   "outputs": [],
   "source": [
    "class_accuracy(stacking_model,x_test,y_test)"
   ]
  },
  {
   "cell_type": "markdown",
   "id": "dc456b74-0cb0-4a4f-9b5f-d1903169aa93",
   "metadata": {},
   "source": [
    "# Get Preds"
   ]
  },
  {
   "cell_type": "code",
   "execution_count": null,
   "id": "01e3b37f-b677-4c9e-994e-d4e45c860bdb",
   "metadata": {},
   "outputs": [],
   "source": [
    "results = {}\n",
    "x_train_final, x_test_final, y_train_final, y_test_final = define_X_y(shap_train_df,shap_test_df,random_state=20)\n",
    "main_exploration(x_train_final)\n",
    "main_exploration(x_test_final)"
   ]
  },
  {
   "cell_type": "code",
   "execution_count": null,
   "id": "402cc846-24ff-41e2-97d2-4b5fc62db65d",
   "metadata": {},
   "outputs": [],
   "source": [
    "rf_params = rf_model.get_params()\n",
    "xgb_params = xgb_model.get_params()\n",
    "light_params = light_model.get_params()\n",
    "svm_params = svm_model.get_params()"
   ]
  },
  {
   "cell_type": "code",
   "execution_count": null,
   "id": "2247faee",
   "metadata": {},
   "outputs": [],
   "source": [
    "rf_grid_params = rf_grid_model.get_params()\n",
    "xgb_grid_params = xgb_grid_model.get_params()\n",
    "light_grid_params = light_grid_model.get_params()\n",
    "svm_grid_params = svm_grid_model.get_params()\n",
    "log_grid_model = log_grid_model.get_params()"
   ]
  },
  {
   "cell_type": "code",
   "execution_count": null,
   "id": "f1494ee0-d0b0-4200-9f0a-9591994b77bf",
   "metadata": {},
   "outputs": [],
   "source": [
    "rf_preds_model = RandomForestClassifier(**rf_grid_params)\n",
    "xgb_preds_model = XGBClassifier(**xgb_grid_params)\n",
    "light_preds_model = lgb.LGBMClassifier(**light_grid_params)\n",
    "svm_preds_model = SVC(**svm_grid_params)\n",
    "log_grid_model = LogisticRegression(**log_grid_model)\n"
   ]
  },
  {
   "cell_type": "code",
   "execution_count": null,
   "id": "f358e7f4-d4f5-4507-b055-1b303697a164",
   "metadata": {},
   "outputs": [],
   "source": [
    "#stacking_model = stacking_ensemble(x_train_final,y_train_final,estimators=[(\"rf\",rf_preds_model),(\"xgb\",xgb_preds_model),(\"light\",light_preds_model)])\n",
    "#stacking_model_svm = stacking_ensemble(x_train_final,y_train_final,estimators=[(\"svm\",svm_preds_model),(\"rf\",rf_preds_model),(\"xgb\",xgb_preds_model),(\"light\",light_preds_model)])\n",
    "stacking_model_log = stacking_ensemble(x_train_final,y_train_final,estimators=[(\"log\",log_grid_model),(\"svm\",svm_preds_model),(\"rf\",rf_preds_model),(\"xgb\",xgb_preds_model),(\"light\",light_preds_model)])\n"
   ]
  },
  {
   "cell_type": "markdown",
   "id": "fe4d23bf-cf5c-407a-a716-8f94560a160d",
   "metadata": {},
   "source": [
    "## Final Test"
   ]
  },
  {
   "cell_type": "code",
   "execution_count": null,
   "id": "9b27def6-cc39-430d-b00c-558920c374c0",
   "metadata": {},
   "outputs": [],
   "source": [
    "def final_test_cv(model, x_train, y_train, n_repeats=5, n_splits=5,random_state=27):\n",
    "    cv = RepeatedStratifiedKFold(n_splits=n_splits, n_repeats=n_repeats, random_state=random_state)\n",
    "    \n",
    "    score_mean = cross_val_score(model, x_train, y_train, cv=cv, scoring='f1_macro').mean()\n",
    "    \n",
    "    print(f\"F1 Score mean Stacking: {score_mean}\")\n"
   ]
  },
  {
   "cell_type": "code",
   "execution_count": null,
   "id": "583282fe-a681-4eef-84f4-c9e82c31b5e7",
   "metadata": {
    "scrolled": true
   },
   "outputs": [],
   "source": [
    "final_test_cv(stacking_model_log,x_train_final,y_train_final,n_repeats=5,n_splits=5,random_state=12)\n",
    "final_test_cv(stacking_model_log,x_train_final,y_train_final,n_repeats=5,n_splits=5,random_state=332)\n",
    "final_test_cv(stacking_model_log,x_train_final,y_train_final,n_repeats=5,n_splits=5,random_state=3)\n",
    "final_test_cv(stacking_model_log,x_train_final,y_train_final,n_repeats=5,n_splits=5,random_state=331231)"
   ]
  },
  {
   "cell_type": "markdown",
   "id": "457f1010-990c-4ed3-9cbf-cda33b16ad08",
   "metadata": {},
   "source": [
    "## Preds to CSV"
   ]
  },
  {
   "cell_type": "code",
   "execution_count": null,
   "id": "1afd3292-6a06-4138-a0ad-4fc866b60a5b",
   "metadata": {},
   "outputs": [],
   "source": [
    "def preds_to_csv(preds, df=dummy_df):\n",
    "    if len(preds) == 100:\n",
    "        y_pred_original = target_decoder(le_make_train, preds)\n",
    "        \n",
    "        df[\"Result\"] = y_pred_original\n",
    "        \n",
    "        df.to_csv(\"../Dataset/dummy_submission.csv\", index=False)\n",
    "\n",
    "        print(\"CSV updated!\\n\", y_pred_original)\n",
    "    else:\n",
    "        print(\"Invalid input!\")\n"
   ]
  },
  {
   "cell_type": "code",
   "execution_count": null,
   "id": "b786fa31-dc43-4854-9bde-848b790668f6",
   "metadata": {},
   "outputs": [],
   "source": [
    "preds_to_csv(stacking_model_svm.predict(x_test_final))"
   ]
  },
  {
   "cell_type": "code",
   "execution_count": null,
   "id": "7e3b528d-ce9c-41ac-8321-e789c1d473fd",
   "metadata": {},
   "outputs": [],
   "source": [
    "save_stuff(stacking_model_log,\"Models/stacking_reduction_dos_shap_globais_thre_0_02.pkl\")"
   ]
  },
  {
   "cell_type": "code",
   "execution_count": null,
   "id": "05edb01b-b8ba-4244-89cb-58e8a287456a",
   "metadata": {},
   "outputs": [],
   "source": [
    "stacking_model"
   ]
  }
 ],
 "metadata": {
  "kernelspec": {
   "display_name": "Python 3 (ipykernel)",
   "language": "python",
   "name": "python3"
  },
  "language_info": {
   "codemirror_mode": {
    "name": "ipython",
    "version": 3
   },
   "file_extension": ".py",
   "mimetype": "text/x-python",
   "name": "python",
   "nbconvert_exporter": "python",
   "pygments_lexer": "ipython3",
   "version": "3.11.9"
  }
 },
 "nbformat": 4,
 "nbformat_minor": 5
}
