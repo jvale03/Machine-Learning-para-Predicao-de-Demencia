{
 "cells": [
  {
   "cell_type": "code",
   "execution_count": 1,
   "id": "05e10f9e-96b4-46a1-b71a-21f6955473be",
   "metadata": {},
   "outputs": [],
   "source": [
    "import pandas as pd\n",
    "import matplotlib.pyplot as plt\n",
    "import seaborn as sns\n",
    "import numpy as np\n",
    "import ast\n",
    "import shap\n",
    "import pickle\n",
    "import os\n",
    "import math"
   ]
  },
  {
   "cell_type": "markdown",
   "id": "dc130e07-0a0c-4599-b463-9f992d967169",
   "metadata": {},
   "source": [
    "## Sklearn"
   ]
  },
  {
   "cell_type": "code",
   "execution_count": 2,
   "id": "da427352-519e-4c85-ba1b-fa1d55d16f36",
   "metadata": {},
   "outputs": [],
   "source": [
    "from sklearn.preprocessing import MinMaxScaler, LabelEncoder, StandardScaler, label_binarize, OneHotEncoder\n",
    "from sklearn.model_selection import train_test_split, StratifiedKFold, GridSearchCV, RandomizedSearchCV, cross_val_score, RepeatedStratifiedKFold, cross_val_predict\n",
    "from sklearn.ensemble import RandomForestClassifier, VotingClassifier, StackingClassifier, GradientBoostingClassifier, AdaBoostClassifier\n",
    "from sklearn.metrics import accuracy_score, f1_score, classification_report, make_scorer, confusion_matrix, roc_curve, roc_auc_score, mean_squared_error,log_loss\n",
    "from sklearn.tree import DecisionTreeClassifier\n",
    "from sklearn.linear_model import LinearRegression, LogisticRegression\n",
    "from sklearn.inspection import permutation_importance\n",
    "from scipy.stats import skew, kurtosis\n",
    "from sklearn.base import BaseEstimator, ClassifierMixin\n",
    "from sklearn.feature_selection import VarianceThreshold"
   ]
  },
  {
   "cell_type": "markdown",
   "id": "4834eae1-df21-4f1d-a5b5-8504f679d67b",
   "metadata": {},
   "source": [
    "## Pytorch"
   ]
  },
  {
   "cell_type": "code",
   "execution_count": 3,
   "id": "f900f011-64d0-4266-a5b9-dee1237eb167",
   "metadata": {},
   "outputs": [],
   "source": [
    "import torch\n",
    "import torch.nn as nn\n",
    "import torch.optim as optim\n",
    "from torch.utils.data import DataLoader, TensorDataset"
   ]
  },
  {
   "cell_type": "markdown",
   "id": "a0687816-c343-4b81-abb0-82eb77a9c38a",
   "metadata": {},
   "source": [
    "## Models"
   ]
  },
  {
   "cell_type": "code",
   "execution_count": 4,
   "id": "e4878983-64d3-4dfa-9628-eaf833e06e63",
   "metadata": {},
   "outputs": [],
   "source": [
    "from catboost import CatBoostClassifier, Pool\n",
    "import lightgbm as lgb\n",
    "from xgboost import XGBClassifier\n",
    "from bayes_opt import BayesianOptimization\n",
    "from sklearn.svm import SVC"
   ]
  },
  {
   "cell_type": "markdown",
   "id": "38adeb9f-efc6-4f3d-be74-c4a07ecf7179",
   "metadata": {},
   "source": [
    "# Load CSVs"
   ]
  },
  {
   "cell_type": "code",
   "execution_count": 5,
   "id": "bcccdc4c-1115-4dc4-9117-e00bcf3f1b78",
   "metadata": {},
   "outputs": [],
   "source": [
    "control_df = pd.read_csv(\"../Dataset/train_radiomics_occipital_CONTROL.csv\")\n",
    "train_df = pd.read_csv(\"../Dataset/train_radiomics_hipocamp.csv\")\n",
    "test_df = pd.read_csv(\"../Dataset/test_radiomics_hipocamp.csv\")\n",
    "dummy_df = pd.read_csv(\"../Dataset/dummy_submission.csv\")"
   ]
  },
  {
   "cell_type": "markdown",
   "id": "d28fab95-d134-486d-a64f-34b1be1affe9",
   "metadata": {},
   "source": [
    "# Save & Load Data"
   ]
  },
  {
   "cell_type": "code",
   "execution_count": 6,
   "id": "faf90db6-321d-4505-a826-0a24d619fa52",
   "metadata": {},
   "outputs": [],
   "source": [
    "uni_path = \"../DataSaver/\"\n",
    "\n",
    "def save_stuff(data,path):\n",
    "    file_path = os.path.join(uni_path, path)\n",
    "    \n",
    "    with open(file_path,\"wb\") as file:\n",
    "        pickle.dump(data,file)\n",
    "\n",
    "def load_stuff(path):\n",
    "    file_path = os.path.join(uni_path,path)\n",
    "\n",
    "    with open(file_path,\"rb\") as file:\n",
    "        data = pickle.load(file)\n",
    "\n",
    "    return data"
   ]
  },
  {
   "cell_type": "markdown",
   "id": "001cbdce-d4c9-4a00-bf8f-fe65f8898aa5",
   "metadata": {
    "jp-MarkdownHeadingCollapsed": true
   },
   "source": [
    "# Data Exploration"
   ]
  },
  {
   "cell_type": "markdown",
   "id": "f5c66db7-f4ad-4a89-85de-89b4d997c287",
   "metadata": {},
   "source": [
    "## Category Encoder and Decoder"
   ]
  },
  {
   "cell_type": "code",
   "execution_count": 7,
   "id": "f55608d5-d037-4309-83d1-b8336c249d19",
   "metadata": {},
   "outputs": [],
   "source": [
    "def target_encoder(df, target=\"Transition\"):\n",
    "    le_make = LabelEncoder()\n",
    "    df[f\"{target}_code\"] = le_make.fit_transform(df[target])\n",
    "    return le_make\n",
    "\n",
    "def target_decoder(le_make, preds):\n",
    "    return le_make.inverse_transform(preds)\n"
   ]
  },
  {
   "cell_type": "code",
   "execution_count": 8,
   "id": "0f85f23e-c323-442b-b9e9-ad4a15b9344c",
   "metadata": {},
   "outputs": [],
   "source": [
    "le_make_train = target_encoder(train_df)\n",
    "le_make_control = target_encoder(control_df)"
   ]
  },
  {
   "cell_type": "code",
   "execution_count": 9,
   "id": "18f74bb6-401d-48f1-9f04-de4648f1eb84",
   "metadata": {},
   "outputs": [
    {
     "data": {
      "image/png": "[encoded data removed]",
      "text/plain": [
       "<Figure size 600x350 with 1 Axes>"
      ]
     },
     "metadata": {},
     "output_type": "display_data"
    }
   ],
   "source": [
    "# Obtenção da distribuição e contagem de cada classe\n",
    "target_distribution = train_df['Transition_code'].value_counts(normalize=True).sort_index()\n",
    "target_counts = train_df['Transition_code'].value_counts().sort_index()\n",
    "\n",
    "plt.figure(figsize=(6, 3.5))\n",
    "ax = sns.barplot(x=target_distribution.index, y=target_distribution.values)\n",
    "plt.title(\"Distribuição da variável alvo (Transition_code)\")\n",
    "plt.xlabel(\"Classes\")\n",
    "plt.ylabel(\"Frequência\")\n",
    "\n",
    "le_make = target_encoder(train_df) \n",
    "decoded_labels = le_make.inverse_transform(target_distribution.index)\n",
    "\n",
    "for index, value in enumerate(target_distribution.index):\n",
    "    ax.text(index, target_distribution[value] + 0.01, f'{target_counts[value]} ({decoded_labels[index]})', ha='center')\n",
    "\n",
    "plt.show()"
   ]
  },
  {
   "cell_type": "markdown",
   "id": "47266102-bf79-4e83-bd35-8053870b7620",
   "metadata": {},
   "source": [
    "## MatPlots"
   ]
  },
  {
   "cell_type": "code",
   "execution_count": 10,
   "id": "131b467a-b41f-4348-a8bb-edf6857ad797",
   "metadata": {},
   "outputs": [],
   "source": [
    "def show_histogram(df,title=\"histogram\"):\n",
    "    plt.figure(figsize=(13,8))\n",
    "    plt.subplots_adjust(bottom=0.17)\n",
    "    plt.title(title)\n",
    "    sns.histplot(df)\n",
    "    plt.show()"
   ]
  },
  {
   "cell_type": "code",
   "execution_count": 11,
   "id": "f7925e3f-751d-4272-8d85-37455e1de3c3",
   "metadata": {},
   "outputs": [],
   "source": [
    "def show_pie(df,title=\"pie\"):\n",
    "    labels = df.unique().tolist()\n",
    "    counts = df.value_counts()\n",
    "    sizes = [counts[var_cat] for var_cat in labels]\n",
    "    _, ax1 = plt.subplots()\n",
    "    ax1.pie(sizes, labels=labels, autopct=\"%1.1f%%\",shadow=True)\n",
    "    ax1.axis(\"equal\")\n",
    "    plt.title(title)\n",
    "    plt.show()"
   ]
  },
  {
   "cell_type": "code",
   "execution_count": 12,
   "id": "4a3e6a7e-3194-4b77-8ee2-3252b09e2fdd",
   "metadata": {},
   "outputs": [],
   "source": [
    "def show_boxplot(df,title=\"boxplot\"):\n",
    "    plt.figure(figsize=(13,8))\n",
    "    plt.subplots_adjust(bottom=0.17)\n",
    "    df.boxplot()\n",
    "    plt.xticks(rotation=15)\n",
    "    plt.title(title)\n",
    "    plt.show()\n"
   ]
  },
  {
   "cell_type": "code",
   "execution_count": 13,
   "id": "3a537480-3e00-4143-8048-991fa667476c",
   "metadata": {},
   "outputs": [],
   "source": [
    "def show_heatmap(df,title=\"correlation heatmap\"):\n",
    "    df = df.select_dtypes(include=\"number\")\n",
    "    plt.figure(figsize=(6,3.5))\n",
    "    plt.subplots_adjust(bottom=0.25,left=0.22,right=0.95)\n",
    "    plt.xticks(rotation=15)\n",
    "    plt.title(title)\n",
    "    sns.heatmap(df.corr(),annot=True,cmap=\"coolwarm\",linewidths=0.5)\n",
    "    plt.show()"
   ]
  },
  {
   "cell_type": "code",
   "execution_count": 14,
   "id": "dd9737cd-d910-4d61-84d8-8a55f4b13fa4",
   "metadata": {},
   "outputs": [],
   "source": [
    "def show_jointplot(df,x_label,y_label,title=\"jointplot\",hue=\"Transition_code\"):\n",
    "    sns.jointplot(data=df,x=x_label,y=y_label,hue=hue)\n",
    "    plt.show()"
   ]
  },
  {
   "cell_type": "code",
   "execution_count": 15,
   "id": "995e7449-da98-4994-b96b-dfefc0e85f25",
   "metadata": {},
   "outputs": [],
   "source": [
    "def show_catplot(df, x_label, y_label, title=\"catplot\", hue=\"Transition_code\", height=3, aspect=1.5):\n",
    "    sns.catplot(data=df, x=x_label, y=y_label, hue=hue, height=height, aspect=aspect)\n",
    "    plt.title(title)\n",
    "    plt.xlabel(x_label)\n",
    "    plt.ylabel(y_label)\n",
    "    plt.show()"
   ]
  },
  {
   "cell_type": "code",
   "execution_count": 16,
   "id": "9e4806ab-e084-4a82-b83b-c468240afcf0",
   "metadata": {},
   "outputs": [],
   "source": [
    "def show_pairplot(df,hue=\"Transition_code\"):\n",
    "    sns.pairplot(df,hue=hue)\n",
    "    plt.show()"
   ]
  },
  {
   "cell_type": "markdown",
   "id": "233d4132-95f8-4a0c-8528-45e2c2e7881b",
   "metadata": {},
   "source": [
    "## Basic Exploration"
   ]
  },
  {
   "cell_type": "code",
   "execution_count": 17,
   "id": "511ce1f5-4007-4842-b34a-97eb46b299a8",
   "metadata": {},
   "outputs": [],
   "source": [
    "def main_exploration(df):\n",
    "    print(df.shape) "
   ]
  },
  {
   "cell_type": "code",
   "execution_count": 18,
   "id": "c4a0cea5-fb88-449b-83d6-4b9377be1aec",
   "metadata": {},
   "outputs": [],
   "source": [
    "def numerical_exploration(df):\n",
    "    # age exploration\n",
    "    show_histogram(df[\"Age\"],title=\"Histogram\")\n",
    "    print(df[\"Age\"].describe())"
   ]
  },
  {
   "cell_type": "code",
   "execution_count": 19,
   "id": "1c485d1c-5873-4b6b-bdcd-d7d6a56ce0f3",
   "metadata": {},
   "outputs": [
    {
     "data": {
      "text/html": [
       "<div>\n",
       "<style scoped>\n",
       "    .dataframe tbody tr th:only-of-type {\n",
       "        vertical-align: middle;\n",
       "    }\n",
       "\n",
       "    .dataframe tbody tr th {\n",
       "        vertical-align: top;\n",
       "    }\n",
       "\n",
       "    .dataframe thead th {\n",
       "        text-align: right;\n",
       "    }\n",
       "</style>\n",
       "<table border=\"1\" class=\"dataframe\">\n",
       "  <thead>\n",
       "    <tr style=\"text-align: right;\">\n",
       "      <th></th>\n",
       "      <th>diagnostics_Image-original_Dimensionality</th>\n",
       "      <th>diagnostics_Image-original_Mean</th>\n",
       "      <th>diagnostics_Image-original_Minimum</th>\n",
       "      <th>diagnostics_Image-original_Maximum</th>\n",
       "      <th>diagnostics_Mask-original_VoxelNum</th>\n",
       "      <th>diagnostics_Mask-original_VolumeNum</th>\n",
       "      <th>original_shape_Elongation</th>\n",
       "      <th>original_shape_Flatness</th>\n",
       "      <th>original_shape_LeastAxisLength</th>\n",
       "      <th>original_shape_MajorAxisLength</th>\n",
       "      <th>...</th>\n",
       "      <th>lbp-3D-k_glszm_ZonePercentage</th>\n",
       "      <th>lbp-3D-k_glszm_ZoneVariance</th>\n",
       "      <th>lbp-3D-k_ngtdm_Busyness</th>\n",
       "      <th>lbp-3D-k_ngtdm_Coarseness</th>\n",
       "      <th>lbp-3D-k_ngtdm_Complexity</th>\n",
       "      <th>lbp-3D-k_ngtdm_Contrast</th>\n",
       "      <th>lbp-3D-k_ngtdm_Strength</th>\n",
       "      <th>Sex</th>\n",
       "      <th>Age</th>\n",
       "      <th>Transition_code</th>\n",
       "    </tr>\n",
       "  </thead>\n",
       "  <tbody>\n",
       "    <tr>\n",
       "      <th>count</th>\n",
       "      <td>305.0</td>\n",
       "      <td>305.000000</td>\n",
       "      <td>305.0</td>\n",
       "      <td>305.000000</td>\n",
       "      <td>305.000000</td>\n",
       "      <td>305.0</td>\n",
       "      <td>305.000000</td>\n",
       "      <td>305.000000</td>\n",
       "      <td>305.000000</td>\n",
       "      <td>305.000000</td>\n",
       "      <td>...</td>\n",
       "      <td>305.000000</td>\n",
       "      <td>305.000000</td>\n",
       "      <td>305.000000</td>\n",
       "      <td>305.000000</td>\n",
       "      <td>305.000000</td>\n",
       "      <td>305.000000</td>\n",
       "      <td>305.000000</td>\n",
       "      <td>305.000000</td>\n",
       "      <td>305.000000</td>\n",
       "      <td>305.000000</td>\n",
       "    </tr>\n",
       "    <tr>\n",
       "      <th>mean</th>\n",
       "      <td>3.0</td>\n",
       "      <td>5.810469</td>\n",
       "      <td>0.0</td>\n",
       "      <td>173.504918</td>\n",
       "      <td>6714.790164</td>\n",
       "      <td>2.0</td>\n",
       "      <td>0.411819</td>\n",
       "      <td>0.096916</td>\n",
       "      <td>10.137707</td>\n",
       "      <td>104.883349</td>\n",
       "      <td>...</td>\n",
       "      <td>0.010477</td>\n",
       "      <td>266015.006289</td>\n",
       "      <td>362.064990</td>\n",
       "      <td>0.002024</td>\n",
       "      <td>0.155767</td>\n",
       "      <td>0.012415</td>\n",
       "      <td>0.002091</td>\n",
       "      <td>0.567213</td>\n",
       "      <td>75.171148</td>\n",
       "      <td>1.980328</td>\n",
       "    </tr>\n",
       "    <tr>\n",
       "      <th>std</th>\n",
       "      <td>0.0</td>\n",
       "      <td>0.613858</td>\n",
       "      <td>0.0</td>\n",
       "      <td>24.108871</td>\n",
       "      <td>1066.815670</td>\n",
       "      <td>0.0</td>\n",
       "      <td>0.028993</td>\n",
       "      <td>0.009739</td>\n",
       "      <td>0.911329</td>\n",
       "      <td>6.180335</td>\n",
       "      <td>...</td>\n",
       "      <td>0.002009</td>\n",
       "      <td>59267.210682</td>\n",
       "      <td>102.133366</td>\n",
       "      <td>0.000531</td>\n",
       "      <td>0.024285</td>\n",
       "      <td>0.003814</td>\n",
       "      <td>0.000552</td>\n",
       "      <td>0.496276</td>\n",
       "      <td>6.675866</td>\n",
       "      <td>1.504251</td>\n",
       "    </tr>\n",
       "    <tr>\n",
       "      <th>min</th>\n",
       "      <td>3.0</td>\n",
       "      <td>4.321602</td>\n",
       "      <td>0.0</td>\n",
       "      <td>128.000000</td>\n",
       "      <td>3609.000000</td>\n",
       "      <td>2.0</td>\n",
       "      <td>0.330890</td>\n",
       "      <td>0.075142</td>\n",
       "      <td>8.420713</td>\n",
       "      <td>90.675836</td>\n",
       "      <td>...</td>\n",
       "      <td>0.005818</td>\n",
       "      <td>138177.996378</td>\n",
       "      <td>130.618182</td>\n",
       "      <td>0.001137</td>\n",
       "      <td>0.071124</td>\n",
       "      <td>0.002565</td>\n",
       "      <td>0.001168</td>\n",
       "      <td>0.000000</td>\n",
       "      <td>55.300000</td>\n",
       "      <td>0.000000</td>\n",
       "    </tr>\n",
       "    <tr>\n",
       "      <th>25%</th>\n",
       "      <td>3.0</td>\n",
       "      <td>5.317298</td>\n",
       "      <td>0.0</td>\n",
       "      <td>157.000000</td>\n",
       "      <td>5941.000000</td>\n",
       "      <td>2.0</td>\n",
       "      <td>0.392944</td>\n",
       "      <td>0.089977</td>\n",
       "      <td>9.525253</td>\n",
       "      <td>100.501871</td>\n",
       "      <td>...</td>\n",
       "      <td>0.009060</td>\n",
       "      <td>225781.559367</td>\n",
       "      <td>285.617369</td>\n",
       "      <td>0.001632</td>\n",
       "      <td>0.140791</td>\n",
       "      <td>0.009751</td>\n",
       "      <td>0.001688</td>\n",
       "      <td>0.000000</td>\n",
       "      <td>71.300000</td>\n",
       "      <td>1.000000</td>\n",
       "    </tr>\n",
       "    <tr>\n",
       "      <th>50%</th>\n",
       "      <td>3.0</td>\n",
       "      <td>5.811449</td>\n",
       "      <td>0.0</td>\n",
       "      <td>172.000000</td>\n",
       "      <td>6723.000000</td>\n",
       "      <td>2.0</td>\n",
       "      <td>0.412479</td>\n",
       "      <td>0.096609</td>\n",
       "      <td>10.106838</td>\n",
       "      <td>104.370667</td>\n",
       "      <td>...</td>\n",
       "      <td>0.010580</td>\n",
       "      <td>259226.493061</td>\n",
       "      <td>353.841144</td>\n",
       "      <td>0.001934</td>\n",
       "      <td>0.156580</td>\n",
       "      <td>0.012297</td>\n",
       "      <td>0.001995</td>\n",
       "      <td>1.000000</td>\n",
       "      <td>75.000000</td>\n",
       "      <td>1.000000</td>\n",
       "    </tr>\n",
       "    <tr>\n",
       "      <th>75%</th>\n",
       "      <td>3.0</td>\n",
       "      <td>6.237751</td>\n",
       "      <td>0.0</td>\n",
       "      <td>190.000000</td>\n",
       "      <td>7396.000000</td>\n",
       "      <td>2.0</td>\n",
       "      <td>0.431621</td>\n",
       "      <td>0.102240</td>\n",
       "      <td>10.635093</td>\n",
       "      <td>108.677326</td>\n",
       "      <td>...</td>\n",
       "      <td>0.011706</td>\n",
       "      <td>298836.166667</td>\n",
       "      <td>431.288497</td>\n",
       "      <td>0.002305</td>\n",
       "      <td>0.173700</td>\n",
       "      <td>0.015166</td>\n",
       "      <td>0.002373</td>\n",
       "      <td>1.000000</td>\n",
       "      <td>79.900000</td>\n",
       "      <td>3.000000</td>\n",
       "    </tr>\n",
       "    <tr>\n",
       "      <th>max</th>\n",
       "      <td>3.0</td>\n",
       "      <td>7.583210</td>\n",
       "      <td>0.0</td>\n",
       "      <td>255.000000</td>\n",
       "      <td>9453.000000</td>\n",
       "      <td>2.0</td>\n",
       "      <td>0.491496</td>\n",
       "      <td>0.144082</td>\n",
       "      <td>14.370911</td>\n",
       "      <td>126.209296</td>\n",
       "      <td>...</td>\n",
       "      <td>0.017015</td>\n",
       "      <td>465865.829238</td>\n",
       "      <td>670.406531</td>\n",
       "      <td>0.004325</td>\n",
       "      <td>0.223273</td>\n",
       "      <td>0.024548</td>\n",
       "      <td>0.004417</td>\n",
       "      <td>1.000000</td>\n",
       "      <td>91.000000</td>\n",
       "      <td>4.000000</td>\n",
       "    </tr>\n",
       "  </tbody>\n",
       "</table>\n",
       "<p>8 rows × 2162 columns</p>\n",
       "</div>"
      ],
      "text/plain": [
       "       diagnostics_Image-original_Dimensionality  \\\n",
       "count                                      305.0   \n",
       "mean                                         3.0   \n",
       "std                                          0.0   \n",
       "min                                          3.0   \n",
       "25%                                          3.0   \n",
       "50%                                          3.0   \n",
       "75%                                          3.0   \n",
       "max                                          3.0   \n",
       "\n",
       "       diagnostics_Image-original_Mean  diagnostics_Image-original_Minimum  \\\n",
       "count                       305.000000                               305.0   \n",
       "mean                          5.810469                                 0.0   \n",
       "std                           0.613858                                 0.0   \n",
       "min                           4.321602                                 0.0   \n",
       "25%                           5.317298                                 0.0   \n",
       "50%                           5.811449                                 0.0   \n",
       "75%                           6.237751                                 0.0   \n",
       "max                           7.583210                                 0.0   \n",
       "\n",
       "       diagnostics_Image-original_Maximum  diagnostics_Mask-original_VoxelNum  \\\n",
       "count                          305.000000                          305.000000   \n",
       "mean                           173.504918                         6714.790164   \n",
       "std                             24.108871                         1066.815670   \n",
       "min                            128.000000                         3609.000000   \n",
       "25%                            157.000000                         5941.000000   \n",
       "50%                            172.000000                         6723.000000   \n",
       "75%                            190.000000                         7396.000000   \n",
       "max                            255.000000                         9453.000000   \n",
       "\n",
       "       diagnostics_Mask-original_VolumeNum  original_shape_Elongation  \\\n",
       "count                                305.0                 305.000000   \n",
       "mean                                   2.0                   0.411819   \n",
       "std                                    0.0                   0.028993   \n",
       "min                                    2.0                   0.330890   \n",
       "25%                                    2.0                   0.392944   \n",
       "50%                                    2.0                   0.412479   \n",
       "75%                                    2.0                   0.431621   \n",
       "max                                    2.0                   0.491496   \n",
       "\n",
       "       original_shape_Flatness  original_shape_LeastAxisLength  \\\n",
       "count               305.000000                      305.000000   \n",
       "mean                  0.096916                       10.137707   \n",
       "std                   0.009739                        0.911329   \n",
       "min                   0.075142                        8.420713   \n",
       "25%                   0.089977                        9.525253   \n",
       "50%                   0.096609                       10.106838   \n",
       "75%                   0.102240                       10.635093   \n",
       "max                   0.144082                       14.370911   \n",
       "\n",
       "       original_shape_MajorAxisLength  ...  lbp-3D-k_glszm_ZonePercentage  \\\n",
       "count                      305.000000  ...                     305.000000   \n",
       "mean                       104.883349  ...                       0.010477   \n",
       "std                          6.180335  ...                       0.002009   \n",
       "min                         90.675836  ...                       0.005818   \n",
       "25%                        100.501871  ...                       0.009060   \n",
       "50%                        104.370667  ...                       0.010580   \n",
       "75%                        108.677326  ...                       0.011706   \n",
       "max                        126.209296  ...                       0.017015   \n",
       "\n",
       "       lbp-3D-k_glszm_ZoneVariance  lbp-3D-k_ngtdm_Busyness  \\\n",
       "count                   305.000000               305.000000   \n",
       "mean                 266015.006289               362.064990   \n",
       "std                   59267.210682               102.133366   \n",
       "min                  138177.996378               130.618182   \n",
       "25%                  225781.559367               285.617369   \n",
       "50%                  259226.493061               353.841144   \n",
       "75%                  298836.166667               431.288497   \n",
       "max                  465865.829238               670.406531   \n",
       "\n",
       "       lbp-3D-k_ngtdm_Coarseness  lbp-3D-k_ngtdm_Complexity  \\\n",
       "count                 305.000000                 305.000000   \n",
       "mean                    0.002024                   0.155767   \n",
       "std                     0.000531                   0.024285   \n",
       "min                     0.001137                   0.071124   \n",
       "25%                     0.001632                   0.140791   \n",
       "50%                     0.001934                   0.156580   \n",
       "75%                     0.002305                   0.173700   \n",
       "max                     0.004325                   0.223273   \n",
       "\n",
       "       lbp-3D-k_ngtdm_Contrast  lbp-3D-k_ngtdm_Strength         Sex  \\\n",
       "count               305.000000               305.000000  305.000000   \n",
       "mean                  0.012415                 0.002091    0.567213   \n",
       "std                   0.003814                 0.000552    0.496276   \n",
       "min                   0.002565                 0.001168    0.000000   \n",
       "25%                   0.009751                 0.001688    0.000000   \n",
       "50%                   0.012297                 0.001995    1.000000   \n",
       "75%                   0.015166                 0.002373    1.000000   \n",
       "max                   0.024548                 0.004417    1.000000   \n",
       "\n",
       "              Age  Transition_code  \n",
       "count  305.000000       305.000000  \n",
       "mean    75.171148         1.980328  \n",
       "std      6.675866         1.504251  \n",
       "min     55.300000         0.000000  \n",
       "25%     71.300000         1.000000  \n",
       "50%     75.000000         1.000000  \n",
       "75%     79.900000         3.000000  \n",
       "max     91.000000         4.000000  \n",
       "\n",
       "[8 rows x 2162 columns]"
      ]
     },
     "execution_count": 19,
     "metadata": {},
     "output_type": "execute_result"
    }
   ],
   "source": [
    "train_df.describe()"
   ]
  },
  {
   "cell_type": "code",
   "execution_count": 20,
   "id": "4f9252dc-8297-4de8-a76f-0c2a04e13e6d",
   "metadata": {},
   "outputs": [
    {
     "data": {
      "image/png": "[encoded data removed]",
      "text/plain": [
       "<Figure size 1300x800 with 1 Axes>"
      ]
     },
     "metadata": {},
     "output_type": "display_data"
    },
    {
     "name": "stdout",
     "output_type": "stream",
     "text": [
      "count    305.000000\n",
      "mean      75.171148\n",
      "std        6.675866\n",
      "min       55.300000\n",
      "25%       71.300000\n",
      "50%       75.000000\n",
      "75%       79.900000\n",
      "max       91.000000\n",
      "Name: Age, dtype: float64\n"
     ]
    }
   ],
   "source": [
    "numerical_exploration(train_df)"
   ]
  },
  {
   "cell_type": "code",
   "execution_count": 21,
   "id": "3665348d-031f-4317-bafb-5051cb42b80a",
   "metadata": {},
   "outputs": [],
   "source": [
    "def categorical_exploration(df):\n",
    "    \"\"\"\n",
    "    Transition description:\n",
    "    CN - Cognitive Normal, estado normal\n",
    "    MCI - Mild Cognitive Impairment, estado entre o avanço normal da perda de memoria com a idade e um certo declinio serio de demencia\n",
    "    AD - Azlheimer Disease, forma mais comum de demencia nas pessoas mais velhas\n",
    "    \"\"\"\n",
    "    categorical_df = df[[\"Sex\",\"Transition\"]]\n",
    "\n",
    "    for column in categorical_df.columns:\n",
    "        show_histogram(categorical_df[column],title=f\"{column} histogram\")\n",
    "        print(df[column].value_counts())"
   ]
  },
  {
   "cell_type": "code",
   "execution_count": 22,
   "id": "eb81429d-b430-4177-8086-7272b02f8335",
   "metadata": {},
   "outputs": [
    {
     "data": {
      "image/png": "[encoded data removed]",
      "text/plain": [
       "<Figure size 508.875x300 with 1 Axes>"
      ]
     },
     "metadata": {},
     "output_type": "display_data"
    },
    {
     "data": {
      "image/png": "[encoded data removed]",
      "text/plain": [
       "<Figure size 600x350 with 2 Axes>"
      ]
     },
     "metadata": {},
     "output_type": "display_data"
    }
   ],
   "source": [
    "show_catplot(train_df, \"Age\", \"Transition\", hue=\"Sex\")\n",
    "show_heatmap(train_df[[\"Age\",\"Transition_code\",\"Sex\"]])"
   ]
  },
  {
   "cell_type": "code",
   "execution_count": 23,
   "id": "18f6e165-1860-44bc-a95a-eeb4bb98f3a0",
   "metadata": {},
   "outputs": [],
   "source": [
    "diagnostics_configs_columns = [\"diagnostics_Configuration_Settings\",\"diagnostics_Configuration_EnabledImageTypes\"]\n",
    "def diagnostics_configs(df):\n",
    "    for col in diagnostics_configs_columns:\n",
    "        print(len(df[col].unique()))"
   ]
  },
  {
   "cell_type": "code",
   "execution_count": 24,
   "id": "d42ab21b-9c99-42d3-a64b-30a6beb36df6",
   "metadata": {},
   "outputs": [
    {
     "name": "stdout",
     "output_type": "stream",
     "text": [
      "1\n",
      "1\n"
     ]
    }
   ],
   "source": [
    "diagnostics_configs(train_df)"
   ]
  },
  {
   "cell_type": "code",
   "execution_count": 25,
   "id": "3109d113-17cd-449c-b8cc-8a33b07e3c0b",
   "metadata": {},
   "outputs": [],
   "source": [
    "diagnostics_versions_columns = [\"diagnostics_Versions_PyRadiomics\",\"diagnostics_Versions_Numpy\",\"diagnostics_Versions_SimpleITK\",\"diagnostics_Versions_PyWavelet\",\"diagnostics_Versions_Python\"] \n",
    "def diagnostics_versions_explorer(df):\n",
    "    for column in diagnostics_versions_columns:\n",
    "        print(column,\": \")\n",
    "        values = df[column].unique()\n",
    "        print(values)"
   ]
  },
  {
   "cell_type": "code",
   "execution_count": 26,
   "id": "60242111-4b7f-4c07-b4ba-c63c6230e2ac",
   "metadata": {},
   "outputs": [
    {
     "name": "stdout",
     "output_type": "stream",
     "text": [
      "diagnostics_Versions_PyRadiomics : \n",
      "['2.2.0']\n",
      "diagnostics_Versions_Numpy : \n",
      "['1.18.5']\n",
      "diagnostics_Versions_SimpleITK : \n",
      "['1.2.4']\n",
      "diagnostics_Versions_PyWavelet : \n",
      "['1.1.1']\n",
      "diagnostics_Versions_Python : \n",
      "['3.7.7']\n"
     ]
    }
   ],
   "source": [
    "diagnostics_versions_explorer(train_df)"
   ]
  },
  {
   "cell_type": "code",
   "execution_count": 27,
   "id": "010d37be-59ec-4d57-8ac3-cd3386f2a487",
   "metadata": {},
   "outputs": [],
   "source": [
    "diagnostics_versions_columns = [\"diagnostics_Versions_PyRadiomics\",\"diagnostics_Versions_Numpy\",\"diagnostics_Versions_SimpleITK\",\"diagnostics_Versions_PyWavelet\",\"diagnostics_Versions_Python\"] "
   ]
  },
  {
   "cell_type": "code",
   "execution_count": 28,
   "id": "1bb53271-048d-4c21-927a-1caf40759231",
   "metadata": {},
   "outputs": [],
   "source": [
    "diagnostics_configs_columns = [\"diagnostics_Configuration_Settings\",\"diagnostics_Configuration_EnabledImageTypes\"]"
   ]
  },
  {
   "cell_type": "code",
   "execution_count": 29,
   "id": "785b08a3-59b4-4521-91dc-2fad1f1cf5b7",
   "metadata": {},
   "outputs": [],
   "source": [
    "unnecessary_columns = diagnostics_versions_columns + diagnostics_configs_columns +[\"diagnostics_Image-original_Dimensionality\",\"diagnostics_Image-original_Minimum\",\"diagnostics_Image-original_Size\",\"diagnostics_Mask-original_Spacing\",\"diagnostics_Image-original_Spacing\",\"diagnostics_Mask-original_Size\",\"diagnostics_Image-original_Hash\",\"diagnostics_Mask-original_Hash\",\"ID\",\"Image\",\"Mask\",'diagnostics_Mask-original_CenterOfMassIndex','diagnostics_Versions_PyRadiomics', 'diagnostics_Versions_Numpy', 'diagnostics_Versions_SimpleITK', 'diagnostics_Versions_PyWavelet', 'diagnostics_Versions_Python', 'diagnostics_Configuration_Settings', 'diagnostics_Configuration_EnabledImageTypes']"
   ]
  },
  {
   "cell_type": "code",
   "execution_count": 30,
   "id": "417445db-dc61-40fd-a842-6811ce728ac6",
   "metadata": {},
   "outputs": [
    {
     "data": {
      "image/png": "[encoded data removed]",
      "text/plain": [
       "<Figure size 600x350 with 2 Axes>"
      ]
     },
     "metadata": {},
     "output_type": "display_data"
    }
   ],
   "source": [
    "unnecessary_df = pd.DataFrame()\n",
    "for col in unnecessary_columns+[\"Transition\"]:\n",
    "    le_make = LabelEncoder()\n",
    "    unnecessary_df[f\"{col}_code\"] = le_make.fit_transform(train_df[col])\n",
    "\n",
    "show_heatmap(unnecessary_df)"
   ]
  },
  {
   "cell_type": "code",
   "execution_count": 31,
   "id": "4fdf2b70-d593-4e1c-8ec3-c2a3b13af26d",
   "metadata": {},
   "outputs": [
    {
     "name": "stdout",
     "output_type": "stream",
     "text": [
      "           ID                                              Image  \\\n",
      "0  006_S_0681  /notebooks/disk2/DS2_FreeSurfer/ADNI_006_S_068...   \n",
      "1  941_S_1203  /notebooks/disk2/DS2_FreeSurfer/ADNI_941_S_120...   \n",
      "2  011_S_0003  /notebooks/disk2/DS2_FreeSurfer/ADNI_011_S_000...   \n",
      "3  057_S_0779  /notebooks/disk2/DS2_FreeSurfer/ADNI_057_S_077...   \n",
      "4  033_S_0920  /notebooks/disk2/DS2_FreeSurfer/ADNI_033_S_092...   \n",
      "\n",
      "                                                Mask  \\\n",
      "0  /notebooks/disk2/DS2_FreeSurfer/ADNI_006_S_068...   \n",
      "1  /notebooks/disk2/DS2_FreeSurfer/ADNI_941_S_120...   \n",
      "2  /notebooks/disk2/DS2_FreeSurfer/ADNI_011_S_000...   \n",
      "3  /notebooks/disk2/DS2_FreeSurfer/ADNI_057_S_077...   \n",
      "4  /notebooks/disk2/DS2_FreeSurfer/ADNI_033_S_092...   \n",
      "\n",
      "  diagnostics_Versions_PyRadiomics diagnostics_Versions_Numpy  \\\n",
      "0                            2.2.0                     1.18.5   \n",
      "1                            2.2.0                     1.18.5   \n",
      "2                            2.2.0                     1.18.5   \n",
      "3                            2.2.0                     1.18.5   \n",
      "4                            2.2.0                     1.18.5   \n",
      "\n",
      "  diagnostics_Versions_SimpleITK diagnostics_Versions_PyWavelet  \\\n",
      "0                          1.2.4                          1.1.1   \n",
      "1                          1.2.4                          1.1.1   \n",
      "2                          1.2.4                          1.1.1   \n",
      "3                          1.2.4                          1.1.1   \n",
      "4                          1.2.4                          1.1.1   \n",
      "\n",
      "  diagnostics_Versions_Python  \\\n",
      "0                       3.7.7   \n",
      "1                       3.7.7   \n",
      "2                       3.7.7   \n",
      "3                       3.7.7   \n",
      "4                       3.7.7   \n",
      "\n",
      "                  diagnostics_Configuration_Settings  \\\n",
      "0  {'minimumROIDimensions': 2, 'minimumROISize': ...   \n",
      "1  {'minimumROIDimensions': 2, 'minimumROISize': ...   \n",
      "2  {'minimumROIDimensions': 2, 'minimumROISize': ...   \n",
      "3  {'minimumROIDimensions': 2, 'minimumROISize': ...   \n",
      "4  {'minimumROIDimensions': 2, 'minimumROISize': ...   \n",
      "\n",
      "         diagnostics_Configuration_EnabledImageTypes  \\\n",
      "0  {'Original': {}, 'Wavelet': {}, 'LoG': {'sigma...   \n",
      "1  {'Original': {}, 'Wavelet': {}, 'LoG': {'sigma...   \n",
      "2  {'Original': {}, 'Wavelet': {}, 'LoG': {'sigma...   \n",
      "3  {'Original': {}, 'Wavelet': {}, 'LoG': {'sigma...   \n",
      "4  {'Original': {}, 'Wavelet': {}, 'LoG': {'sigma...   \n",
      "\n",
      "            diagnostics_Image-original_Hash  \\\n",
      "0  b5d774a32163a7ee822d42a07808a787f8687f56   \n",
      "1  397042d736bd790b7880b372b1749ff424f89cbe   \n",
      "2  84d679a88812c4aaf03a6d99f00c913b2f64506f   \n",
      "3  168f330d2ca3f097146e5d041f33b40672d230df   \n",
      "4  ea5f291ea107dfda5e5c725eae7c0555ced44ce4   \n",
      "\n",
      "  diagnostics_Image-original_Spacing diagnostics_Image-original_Size  \\\n",
      "0                    (1.0, 1.0, 1.0)                 (256, 256, 256)   \n",
      "1                    (1.0, 1.0, 1.0)                 (256, 256, 256)   \n",
      "2                    (1.0, 1.0, 1.0)                 (256, 256, 256)   \n",
      "3                    (1.0, 1.0, 1.0)                 (256, 256, 256)   \n",
      "4                    (1.0, 1.0, 1.0)                 (256, 256, 256)   \n",
      "\n",
      "             diagnostics_Mask-original_Hash diagnostics_Mask-original_Spacing  \\\n",
      "0  315bdd7a06bb73df17bfc1297398b4398e36e180                   (1.0, 1.0, 1.0)   \n",
      "1  208a2b034b72592489315104ef526ca10d434f24                   (1.0, 1.0, 1.0)   \n",
      "2  352220437f6381b051fd4173969519887b530df6                   (1.0, 1.0, 1.0)   \n",
      "3  9f62584e8badeb5de90b797d0c86c5170465d90f                   (1.0, 1.0, 1.0)   \n",
      "4  62ab23b0a4ea4c9e7574b1ea410bd90236fe1d6e                   (1.0, 1.0, 1.0)   \n",
      "\n",
      "  diagnostics_Mask-original_Size diagnostics_Mask-original_BoundingBox  \\\n",
      "0                (256, 256, 256)            (103, 113, 93, 36, 30, 71)   \n",
      "1                (256, 256, 256)             (81, 127, 93, 47, 16, 73)   \n",
      "2                (256, 256, 256)             (77, 119, 89, 49, 30, 81)   \n",
      "3                (256, 256, 256)             (93, 102, 90, 41, 29, 78)   \n",
      "4                (256, 256, 256)             (87, 119, 91, 40, 27, 75)   \n",
      "\n",
      "         diagnostics_Mask-original_CenterOfMassIndex  \\\n",
      "0  (121.94230227976358, 129.27272727272728, 128.4...   \n",
      "1  (107.06170458927883, 135.28088443244633, 128.2...   \n",
      "2  (103.3640972118682, 135.28164604144922, 128.98...   \n",
      "3  (116.29827315541601, 118.67431469629271, 129.3...   \n",
      "4  (108.26561977948546, 132.05462746408287, 127.6...   \n",
      "\n",
      "              diagnostics_Mask-original_CenterOfMass Transition  \n",
      "0  (121.94230227976358, 129.27272727272728, 128.4...      CN-CN  \n",
      "1  (107.06170458927883, 135.28088443244633, 128.2...      CN-CN  \n",
      "2  (103.3640972118682, 135.28164604144922, 128.98...      AD-AD  \n",
      "3  (116.29827315541601, 118.67431469629271, 129.3...     CN-MCI  \n",
      "4  (108.26561977948546, 132.05462746408287, 127.6...      CN-CN  \n"
     ]
    }
   ],
   "source": [
    "colunas_nao_numericas = train_df.select_dtypes(exclude=['number']).columns\n",
    "\n",
    "print(train_df[colunas_nao_numericas].head())"
   ]
  },
  {
   "cell_type": "markdown",
   "id": "c1d7e629-38f0-4e68-8b8b-1e5709d6ecf6",
   "metadata": {},
   "source": [
    "## Correlations"
   ]
  },
  {
   "cell_type": "code",
   "execution_count": 32,
   "id": "1c55d42f-b354-452c-aa4c-bcea996b5256",
   "metadata": {},
   "outputs": [],
   "source": [
    "def top_correlations(df, target=\"Transition_code\",starts_with=None,number=10,ascending=False):\n",
    "    if starts_with == None:\n",
    "        corr_columns = df.select_dtypes(include=[\"int64\",\"float64\"]).columns\n",
    "    else:\n",
    "        corr_columns = df.columns[df.columns.str.startswith(starts_with)]\n",
    "\n",
    "    corr_matrix = df[corr_columns].corrwith(df[target])\n",
    "\n",
    "    top_features = corr_matrix.sort_values(ascending=ascending).head(number).index.tolist()\n",
    "    top_features.append(target)\n",
    "    top_features = pd.Index(top_features)\n",
    "    \n",
    "    return top_features"
   ]
  },
  {
   "cell_type": "code",
   "execution_count": 33,
   "id": "c2168eae-809d-4450-988a-db729b2d74c9",
   "metadata": {},
   "outputs": [
    {
     "name": "stderr",
     "output_type": "stream",
     "text": [
      "/Library/Frameworks/Python.framework/Versions/3.12/lib/python3.12/site-packages/numpy/lib/function_base.py:2897: RuntimeWarning: invalid value encountered in divide\n",
      "  c /= stddev[:, None]\n",
      "/Library/Frameworks/Python.framework/Versions/3.12/lib/python3.12/site-packages/numpy/lib/function_base.py:2898: RuntimeWarning: invalid value encountered in divide\n",
      "  c /= stddev[None, :]\n"
     ]
    },
    {
     "data": {
      "image/png": "[encoded data removed]",
      "text/plain": [
       "<Figure size 600x350 with 2 Axes>"
      ]
     },
     "metadata": {},
     "output_type": "display_data"
    }
   ],
   "source": [
    "rad_corr = top_correlations(train_df,starts_with=\"lbp\",number=20)\n",
    "show_heatmap(train_df[rad_corr])"
   ]
  },
  {
   "cell_type": "markdown",
   "id": "34abd5e2-0ac2-4a0c-b41c-87b879032658",
   "metadata": {
    "jp-MarkdownHeadingCollapsed": true
   },
   "source": [
    "# Data Processing"
   ]
  },
  {
   "cell_type": "markdown",
   "id": "5958e519-82a3-4992-925d-ea7739b311e1",
   "metadata": {},
   "source": [
    "## Drop Unnecessary Columns"
   ]
  },
  {
   "cell_type": "code",
   "execution_count": 34,
   "id": "78d3bc16-bd50-40bf-977b-da504bff4485",
   "metadata": {},
   "outputs": [],
   "source": [
    "control_df = control_df.drop(columns=unnecessary_columns,axis=1,errors=\"ignore\")\n",
    "train_df = train_df.drop(columns=unnecessary_columns,axis=1,errors=\"ignore\")\n",
    "test_df = test_df.drop(columns=unnecessary_columns,axis=1,errors=\"ignore\")"
   ]
  },
  {
   "cell_type": "code",
   "execution_count": 35,
   "id": "29377a42-d41f-48a7-a414-55261712ab62",
   "metadata": {},
   "outputs": [
    {
     "data": {
      "text/html": [
       "<div>\n",
       "<style scoped>\n",
       "    .dataframe tbody tr th:only-of-type {\n",
       "        vertical-align: middle;\n",
       "    }\n",
       "\n",
       "    .dataframe tbody tr th {\n",
       "        vertical-align: top;\n",
       "    }\n",
       "\n",
       "    .dataframe thead th {\n",
       "        text-align: right;\n",
       "    }\n",
       "</style>\n",
       "<table border=\"1\" class=\"dataframe\">\n",
       "  <thead>\n",
       "    <tr style=\"text-align: right;\">\n",
       "      <th></th>\n",
       "      <th>diagnostics_Mask-original_BoundingBox</th>\n",
       "    </tr>\n",
       "  </thead>\n",
       "  <tbody>\n",
       "    <tr>\n",
       "      <th>0</th>\n",
       "      <td>(103, 113, 93, 36, 30, 71)</td>\n",
       "    </tr>\n",
       "    <tr>\n",
       "      <th>1</th>\n",
       "      <td>(81, 127, 93, 47, 16, 73)</td>\n",
       "    </tr>\n",
       "    <tr>\n",
       "      <th>2</th>\n",
       "      <td>(77, 119, 89, 49, 30, 81)</td>\n",
       "    </tr>\n",
       "    <tr>\n",
       "      <th>3</th>\n",
       "      <td>(93, 102, 90, 41, 29, 78)</td>\n",
       "    </tr>\n",
       "    <tr>\n",
       "      <th>4</th>\n",
       "      <td>(87, 119, 91, 40, 27, 75)</td>\n",
       "    </tr>\n",
       "    <tr>\n",
       "      <th>...</th>\n",
       "      <td>...</td>\n",
       "    </tr>\n",
       "    <tr>\n",
       "      <th>300</th>\n",
       "      <td>(88, 118, 89, 41, 25, 78)</td>\n",
       "    </tr>\n",
       "    <tr>\n",
       "      <th>301</th>\n",
       "      <td>(103, 103, 93, 38, 27, 70)</td>\n",
       "    </tr>\n",
       "    <tr>\n",
       "      <th>302</th>\n",
       "      <td>(80, 131, 89, 48, 17, 82)</td>\n",
       "    </tr>\n",
       "    <tr>\n",
       "      <th>303</th>\n",
       "      <td>(93, 103, 91, 40, 31, 75)</td>\n",
       "    </tr>\n",
       "    <tr>\n",
       "      <th>304</th>\n",
       "      <td>(95, 126, 93, 40, 22, 74)</td>\n",
       "    </tr>\n",
       "  </tbody>\n",
       "</table>\n",
       "<p>305 rows × 1 columns</p>\n",
       "</div>"
      ],
      "text/plain": [
       "    diagnostics_Mask-original_BoundingBox\n",
       "0              (103, 113, 93, 36, 30, 71)\n",
       "1               (81, 127, 93, 47, 16, 73)\n",
       "2               (77, 119, 89, 49, 30, 81)\n",
       "3               (93, 102, 90, 41, 29, 78)\n",
       "4               (87, 119, 91, 40, 27, 75)\n",
       "..                                    ...\n",
       "300             (88, 118, 89, 41, 25, 78)\n",
       "301            (103, 103, 93, 38, 27, 70)\n",
       "302             (80, 131, 89, 48, 17, 82)\n",
       "303             (93, 103, 91, 40, 31, 75)\n",
       "304             (95, 126, 93, 40, 22, 74)\n",
       "\n",
       "[305 rows x 1 columns]"
      ]
     },
     "execution_count": 35,
     "metadata": {},
     "output_type": "execute_result"
    }
   ],
   "source": [
    "train_df[['diagnostics_Mask-original_BoundingBox']]\n"
   ]
  },
  {
   "cell_type": "markdown",
   "id": "d8838bb5-31c4-439f-a682-52f4dd1bba18",
   "metadata": {},
   "source": [
    "## Non Numerical Columns"
   ]
  },
  {
   "cell_type": "code",
   "execution_count": 36,
   "id": "35aa25e4-30ba-4bf1-a3da-4d2e0db5d565",
   "metadata": {},
   "outputs": [],
   "source": [
    "# Separar a coluna de BoundingBox em várias colunas\n",
    "train_df[['x_min', 'y_min', 'largura', 'altura', 'profundidade', 'extra']] = train_df['diagnostics_Mask-original_BoundingBox'].str.strip('()').str.split(',', expand=True).astype(float)\n",
    "\n",
    "# Separar a coluna de CenterOfMassIndex em várias colunas\n",
    "train_df[['x_center', 'y_center', 'z_center']] = train_df['diagnostics_Mask-original_CenterOfMass'].str.strip('()').str.split(',', expand=True).astype(float)"
   ]
  },
  {
   "cell_type": "code",
   "execution_count": 37,
   "id": "fbb49107-c4e3-4770-80ad-b2033a148ff1",
   "metadata": {},
   "outputs": [],
   "source": [
    "# Separar a coluna de BoundingBox em várias colunas\n",
    "test_df[['x_min', 'y_min', 'largura', 'altura', 'profundidade', 'extra']] = test_df['diagnostics_Mask-original_BoundingBox'].str.strip('()').str.split(',', expand=True).astype(float)\n",
    "\n",
    "# Separar a coluna de CenterOfMassIndex em várias colunas\n",
    "test_df[['x_center', 'y_center', 'z_center']] = test_df['diagnostics_Mask-original_CenterOfMass'].str.strip('()').str.split(',', expand=True).astype(float)"
   ]
  },
  {
   "cell_type": "code",
   "execution_count": 38,
   "id": "0b425306-7743-43e6-8b93-56e4246fc313",
   "metadata": {},
   "outputs": [],
   "source": [
    "# Separar a coluna de BoundingBox em várias colunas\n",
    "control_df[['x_min', 'y_min', 'largura', 'altura', 'profundidade', 'extra']] = control_df['diagnostics_Mask-original_BoundingBox'].str.strip('()').str.split(',', expand=True).astype(float)\n",
    "\n",
    "# Separar a coluna de CenterOfMassIndex em várias colunas\n",
    "control_df[['x_center', 'y_center', 'z_center']] = control_df['diagnostics_Mask-original_CenterOfMass'].str.strip('()').str.split(',', expand=True).astype(float)"
   ]
  },
  {
   "cell_type": "code",
   "execution_count": 39,
   "id": "fe7e31a2-d0e5-442c-9b8a-b402c35154eb",
   "metadata": {},
   "outputs": [],
   "source": [
    "train_df = train_df.drop(['diagnostics_Mask-original_BoundingBox', 'diagnostics_Mask-original_CenterOfMass'], axis=1, errors=\"ignore\")\n",
    "test_df = test_df.drop(['diagnostaics_Mask-original_BoundingBox', 'diagnostics_Mask-original_CenterOfMass'], axis=1, errors=\"ignore\")\n",
    "control_df = control_df.drop(['diagnostics_Mask-original_BoundingBox', 'diagnostics_Mask-original_CenterOfMass'], axis=1, errors=\"ignore\")"
   ]
  },
  {
   "cell_type": "code",
   "execution_count": 40,
   "id": "ac88a6c6-c7a6-40b8-aedb-7fd404a742eb",
   "metadata": {},
   "outputs": [
    {
     "name": "stdout",
     "output_type": "stream",
     "text": [
      "(305, 2170)\n"
     ]
    }
   ],
   "source": [
    "main_exploration(train_df)"
   ]
  },
  {
   "cell_type": "code",
   "execution_count": 41,
   "id": "20e71fea-f173-49ca-b097-6acc26b4e07a",
   "metadata": {},
   "outputs": [],
   "source": [
    "train_df = train_df.select_dtypes(include=['number'])\n",
    "control_df = control_df.select_dtypes(include=['number'])\n",
    "test_df = test_df.select_dtypes(include=['number'])"
   ]
  },
  {
   "cell_type": "code",
   "execution_count": 42,
   "id": "b7cc5700-2747-43a5-b7bc-dffa4535c65a",
   "metadata": {},
   "outputs": [
    {
     "name": "stdout",
     "output_type": "stream",
     "text": [
      "(305, 2169)\n"
     ]
    }
   ],
   "source": [
    "main_exploration(train_df)"
   ]
  },
  {
   "cell_type": "markdown",
   "id": "fd574094-6b77-4955-b66b-0180c16c5fc9",
   "metadata": {},
   "source": [
    "## Data Scaler"
   ]
  },
  {
   "cell_type": "code",
   "execution_count": 43,
   "id": "dbe228b5-2efc-4d2f-a8ba-76a001c5c774",
   "metadata": {},
   "outputs": [],
   "source": [
    "from sklearn.preprocessing import StandardScaler\n",
    "\n",
    "def data_scaler(df):\n",
    "    scaler_df = df.drop(columns=[\"Transition\",\"Transition_code\"],errors=\"ignore\")\n",
    "    scaler = StandardScaler()\n",
    "    df_scaled = pd.DataFrame(scaler.fit_transform(scaler_df),columns=scaler_df.columns)\n",
    "    return df_scaled\n"
   ]
  },
  {
   "cell_type": "code",
   "execution_count": 44,
   "id": "f3673254-be15-425d-8d51-795ba784fafe",
   "metadata": {},
   "outputs": [
    {
     "data": {
      "text/plain": [
       "(305, 2169)"
      ]
     },
     "execution_count": 44,
     "metadata": {},
     "output_type": "execute_result"
    }
   ],
   "source": [
    "scaled_train_df = data_scaler(train_df)\n",
    "scaled_control_df = data_scaler(control_df)\n",
    "scaled_test_df = data_scaler(test_df)\n",
    "\n",
    "scaled_train_df[\"Transition_code\"] = train_df[\"Transition_code\"].values\n",
    "scaled_control_df[\"Transition_code\"] = train_df[\"Transition_code\"].values\n",
    "\n",
    "scaled_train_df.shape"
   ]
  },
  {
   "cell_type": "markdown",
   "id": "49d8348c-da9b-40d4-8469-8405d73aa057",
   "metadata": {},
   "source": [
    "## Correlation Analisys"
   ]
  },
  {
   "cell_type": "code",
   "execution_count": 45,
   "id": "ec915239-cd55-4258-8117-7489babcaf20",
   "metadata": {},
   "outputs": [],
   "source": [
    "corr_df = scaled_train_df.copy()\n",
    "corr_df.loc[:,\"Transition_code\"] = train_df[\"Transition_code\"].values\n",
    "target = \"Transition_code\""
   ]
  },
  {
   "cell_type": "code",
   "execution_count": 46,
   "id": "a0204db3-cc59-448c-b103-f3cb78b9636f",
   "metadata": {},
   "outputs": [],
   "source": [
    "corr_threshold_target = 0.005\n",
    "corr_threshold_features = 0.9\n",
    "\n",
    "def apply_correlation(df, threshold_target, threshold_features):\n",
    "    # Remove a coluna \"Transition\" se existir\n",
    "    df = df.drop(columns=[\"Transition\"], errors=\"ignore\")\n",
    "    \n",
    "    # Calcula a correlação com o target\n",
    "    correlation_with_target = df.corr()[target].abs()\n",
    "    important_features = correlation_with_target[correlation_with_target > threshold_target].index.tolist()\n",
    "    \n",
    "    if target in important_features:\n",
    "        important_features.remove(target)\n",
    "    \n",
    "    # Remove features que são muito correlacionadas entre si\n",
    "    correlation_matrix = df[important_features].corr().abs()\n",
    "    selected_features = important_features.copy()\n",
    "    \n",
    "    for i, feature in enumerate(important_features):\n",
    "        for other_feature in important_features[i+1:]:\n",
    "            if correlation_matrix.loc[feature, other_feature] > threshold_features:\n",
    "                if other_feature in selected_features:\n",
    "                    selected_features.remove(other_feature)\n",
    "    \n",
    "    return selected_features\n"
   ]
  },
  {
   "cell_type": "code",
   "execution_count": 47,
   "id": "398cce14-9e76-4ded-b7ae-aae16e9f153a",
   "metadata": {},
   "outputs": [
    {
     "name": "stdout",
     "output_type": "stream",
     "text": [
      "655\n"
     ]
    }
   ],
   "source": [
    "important_features = apply_correlation(scaled_train_df, corr_threshold_target, corr_threshold_features)\n",
    "print(len(important_features))"
   ]
  },
  {
   "cell_type": "code",
   "execution_count": 48,
   "id": "bb4aca39-4412-44f4-951e-366b8909a30d",
   "metadata": {},
   "outputs": [
    {
     "data": {
      "text/plain": [
       "(305, 655)"
      ]
     },
     "execution_count": 48,
     "metadata": {},
     "output_type": "execute_result"
    }
   ],
   "source": [
    "corr_train_df = scaled_train_df[important_features]\n",
    "corr_control_df = scaled_control_df[important_features]\n",
    "corr_test_df = scaled_test_df[important_features]\n",
    "corr_train_df.shape"
   ]
  },
  {
   "cell_type": "code",
   "execution_count": 49,
   "id": "8f8bb632-22fc-4742-b761-4ec1ac6357c3",
   "metadata": {},
   "outputs": [
    {
     "name": "stderr",
     "output_type": "stream",
     "text": [
      "/var/folders/mw/3tkw6q2j7wn1mq2731n0bv_40000gn/T/ipykernel_10107/3502452529.py:1: SettingWithCopyWarning: \n",
      "A value is trying to be set on a copy of a slice from a DataFrame.\n",
      "Try using .loc[row_indexer,col_indexer] = value instead\n",
      "\n",
      "See the caveats in the documentation: https://pandas.pydata.org/pandas-docs/stable/user_guide/indexing.html#returning-a-view-versus-a-copy\n",
      "  corr_train_df[\"Transition_code\"] = train_df[\"Transition_code\"].values\n",
      "/var/folders/mw/3tkw6q2j7wn1mq2731n0bv_40000gn/T/ipykernel_10107/3502452529.py:2: SettingWithCopyWarning: \n",
      "A value is trying to be set on a copy of a slice from a DataFrame.\n",
      "Try using .loc[row_indexer,col_indexer] = value instead\n",
      "\n",
      "See the caveats in the documentation: https://pandas.pydata.org/pandas-docs/stable/user_guide/indexing.html#returning-a-view-versus-a-copy\n",
      "  corr_control_df[\"Transition_code\"] = train_df[\"Transition_code\"].values\n"
     ]
    }
   ],
   "source": [
    "corr_train_df[\"Transition_code\"] = train_df[\"Transition_code\"].values\n",
    "corr_control_df[\"Transition_code\"] = train_df[\"Transition_code\"].values"
   ]
  },
  {
   "cell_type": "code",
   "execution_count": 50,
   "id": "64b5212a-c3e3-48a8-b506-b0269845ccd9",
   "metadata": {},
   "outputs": [
    {
     "name": "stdout",
     "output_type": "stream",
     "text": [
      "(305, 656)\n",
      "(305, 656)\n",
      "(100, 655)\n"
     ]
    }
   ],
   "source": [
    "main_exploration(corr_train_df)\n",
    "main_exploration(corr_control_df)\n",
    "main_exploration(corr_test_df)"
   ]
  },
  {
   "cell_type": "markdown",
   "id": "3bc01f05-4105-4b8f-bddd-4ae5d61afc0a",
   "metadata": {},
   "source": [
    "# Testing Phase"
   ]
  },
  {
   "cell_type": "code",
   "execution_count": 51,
   "id": "aaa3de45-db2b-4bb4-93ab-7b4c52617f51",
   "metadata": {},
   "outputs": [],
   "source": [
    "def define_X_y(train_df, test_df = pd.DataFrame(),random_state=42):\n",
    "    if test_df.empty:\n",
    "        X = train_df.drop(columns=[\"Transition_code\",\"Transition\"],errors=\"ignore\")\n",
    "        y = train_df[\"Transition_code\"]\n",
    "\n",
    "        x_train, x_test, y_train, y_test = train_test_split(X, y, test_size=0.2,stratify=y,random_state=random_state)\n",
    "\n",
    "        return x_train, x_test, y_train, y_test\n",
    "\n",
    "    else:\n",
    "        x_train = train_df.drop(\"Transition_code\",axis=1,errors=\"ignore\")\n",
    "        y_train = train_df[\"Transition_code\"]\n",
    "        x_test = test_df\n",
    "\n",
    "        return x_train, x_test, y_train, None"
   ]
  },
  {
   "cell_type": "code",
   "execution_count": 52,
   "id": "c1d954ef-b8f8-4570-a6a3-2197cfeefd08",
   "metadata": {},
   "outputs": [
    {
     "name": "stdout",
     "output_type": "stream",
     "text": [
      "(244, 655)\n",
      "(61, 655)\n"
     ]
    }
   ],
   "source": [
    "results = {}\n",
    "x_train, x_test, y_train, y_test = define_X_y(corr_train_df)\n",
    "main_exploration(x_train)\n",
    "main_exploration(x_test)\n",
    "\n",
    "scorer = make_scorer(f1_score, average='macro')"
   ]
  },
  {
   "cell_type": "markdown",
   "id": "4a7702e2-193f-495c-bcde-c44463132981",
   "metadata": {},
   "source": [
    "## Params"
   ]
  },
  {
   "cell_type": "code",
   "execution_count": 53,
   "id": "67f09efb-4fb8-4484-b43f-38bd99090f66",
   "metadata": {},
   "outputs": [],
   "source": [
    "total_samples = len(x_train)\n",
    "\n",
    "class_counts = np.bincount(y_train)\n",
    "\n",
    "scale_pos_weight = total_samples / class_counts\n",
    "\n",
    "weights = {i:w for i,w in enumerate(scale_pos_weight)}\n",
    "\n",
    "sample_class_weights = {i: total_samples / count for i,count in enumerate(class_counts)}\n",
    "sample_weights = np.array([sample_class_weights[label] for label in y_train])"
   ]
  },
  {
   "cell_type": "markdown",
   "id": "d18ee2da-1db2-4f8e-8447-44a819b1f5fc",
   "metadata": {},
   "source": [
    "### Grid Params"
   ]
  },
  {
   "cell_type": "code",
   "execution_count": 54,
   "id": "9656a7ab-e9a0-4169-9411-3d4b66aa84e7",
   "metadata": {},
   "outputs": [],
   "source": [
    "param_grid_rf = {\n",
    "    'n_estimators': [100, 200, 300],\n",
    "    'max_depth': [5, 10, 15],\n",
    "    'min_samples_split': [2, 5, 10],\n",
    "    'min_samples_leaf': [1, 2, 5],\n",
    "    'bootstrap': [True, False],\n",
    "    'max_features': ['sqrt', 'log2', None],\n",
    "    'class_weight': ['balanced', 'balanced_subsample']\n",
    "}\n",
    "\n",
    "\n",
    "param_grid_xgb = {\n",
    "    'learning_rate': [0.05, 0.1],\n",
    "    'n_estimators': [50, 100, 200],\n",
    "    'max_depth': [3, 5, 7],\n",
    "    'subsample': [0.7, 0.9],\n",
    "    'colsample_bytree': [0.7, 0.9],\n",
    "    'min_child_weight': [3, 5],\n",
    "    'reg_alpha': [0.1, 0.5],\n",
    "    'reg_lambda': [0.1, 0.5]\n",
    "}\n",
    "\n",
    "param_grid_light = {\n",
    "    'learning_rate': [0.05, 0.1],\n",
    "    'n_estimators': [50, 100, 200],\n",
    "    'num_leaves': [31, 50],\n",
    "    'max_depth': [5, 10],\n",
    "    'objective': ['multiclassova'],\n",
    "    'subsample': [0.7,  0.9],\n",
    "    'colsample_bytree': [0.7, 0.9],\n",
    "    'lambda_l1': [0.1, 0.5],\n",
    "    'lambda_l2': [0.1, 0.5],\n",
    "}\n",
    "\n",
    "\n",
    "param_grid_svm = {\n",
    "    'C': [0.1, 1, 10],\n",
    "    'kernel': ['linear', 'rbf'],\n",
    "    'gamma': ['scale', 'auto'],\n",
    "    'degree': [3, 4, 5]\n",
    "}\n",
    "\n",
    "param_grid_log = {\n",
    "    'C': [0.01, 0.1, 1, 10],\n",
    "    'penalty': ['l1', 'l2'],\n",
    "    'max_iter': [100, 200, 500]\n",
    "}"
   ]
  },
  {
   "cell_type": "markdown",
   "id": "33f8deb3-ba40-4d8c-9ec7-cb7f365d5dce",
   "metadata": {},
   "source": [
    "### Bayes Params"
   ]
  },
  {
   "cell_type": "code",
   "execution_count": 55,
   "id": "b4dace4b-5b99-4f6b-b5f2-227483bfab4f",
   "metadata": {},
   "outputs": [],
   "source": [
    "param_baye_rf = {\n",
    "    'n_estimators': (100, 300),\n",
    "    'max_depth': (5, 30),\n",
    "    'min_samples_split': (2, 10),\n",
    "    'min_samples_leaf': (1, 4),\n",
    "    'bootstrap': (0, 1),\n",
    "    'class_weight': (0, 1),\n",
    "}\n",
    "\n",
    "\n",
    "param_baye_xgb = {\n",
    "    'learning_rate': (0.01, 0.15),\n",
    "    'n_estimators': (100, 300),\n",
    "    'max_depth': (5, 20),\n",
    "    'subsample': (0.7, 1.0),\n",
    "    'colsample_bytree': (0.7, 1.0),\n",
    "    'min_child_weight': (1, 15),\n",
    "}\n",
    "\n",
    "param_baye_light = {\n",
    "    'learning_rate': (0.01, 0.2),\n",
    "    'num_leaves': (20, 50),\n",
    "    'max_depth': (5, 15),\n",
    "    'min_data_in_leaf': (10, 30),\n",
    "    'bagging_fraction': (0.5, 1.0)\n",
    "}\n",
    "\n",
    "\n",
    "param_baye_svm = {\n",
    "    'C': (1, 100),\n",
    "    'gamma': (0.01, 1),\n",
    "    'kernel': (0, 1),\n",
    "    'class_weight': (0, 1),\n",
    "    'degree': (2, 4),\n",
    "    'tol': (1e-4, 1e-3)\n",
    "}\n",
    "\n",
    "param_baye_log = {\n",
    "    'C': (0.01, 10),\n",
    "    'max_iter': (300, 1500),\n",
    "    'solver': (0,2)  # Selecione os solvers compatíveis com os dados.\n",
    "}"
   ]
  },
  {
   "cell_type": "markdown",
   "id": "7478bafe-dc48-4ee9-8e5b-f87fd04f7e27",
   "metadata": {},
   "source": [
    "## Models"
   ]
  },
  {
   "cell_type": "markdown",
   "id": "edf1453a-b040-46ad-a331-d8ec13a39ada",
   "metadata": {},
   "source": [
    "### RandomForest"
   ]
  },
  {
   "cell_type": "code",
   "execution_count": 56,
   "id": "00111d1b-ad88-460b-8bde-5f6cbb660b9b",
   "metadata": {},
   "outputs": [],
   "source": [
    "# Basic Model\n",
    "def random_forest_model(x_train,y_train):\n",
    "    model = RandomForestClassifier(random_state=42, class_weight='balanced')\n",
    "    model.fit(x_train,y_train)\n",
    "    \n",
    "    return model\n",
    "\n",
    "# Grid Model\n",
    "def random_forest_grid_model(x_train,y_train, param_grid_rf=param_grid_rf):\n",
    "    model = RandomForestClassifier(random_state=42)\n",
    "    cv = StratifiedKFold(n_splits=5, shuffle=True, random_state=42)\n",
    "    \n",
    "    grid_search = GridSearchCV(model, param_grid_rf, cv=cv, scoring=scorer, n_jobs=-1, verbose=1)\n",
    "    grid_search.fit(x_train,y_train)\n",
    "    print(grid_search.best_params_)\n",
    "\n",
    "    return grid_search.best_estimator_\n",
    "\n",
    "#Bayes Model\n",
    "def objective_random_forest(n_estimators, max_depth, min_samples_split, min_samples_leaf,bootstrap,class_weight):\n",
    "    cv = RepeatedStratifiedKFold(n_splits=5, n_repeats=1, random_state=42)\n",
    "    \n",
    "    params = {\n",
    "        'n_estimators': int(n_estimators),\n",
    "        'max_depth': int(max_depth),\n",
    "        'min_samples_split': int(min_samples_split),\n",
    "        'min_samples_leaf': int(min_samples_leaf),\n",
    "        'bootstrap': bool(round(bootstrap)),\n",
    "        'class_weight': None if round(class_weight) == 0 else 'balanced',\n",
    "        'random_state': 42\n",
    "    }\n",
    "    \n",
    "    model = RandomForestClassifier(**params)\n",
    "    score = cross_val_score(model, x_train, y_train, cv=cv, scoring=scorer).mean()\n",
    "    return score\n",
    "\n",
    "def random_forest_baye_model(x_train,y_train, param_baye=param_baye_rf):\n",
    "    rf_bo = BayesianOptimization(\n",
    "        f=objective_random_forest,\n",
    "        pbounds=param_baye,\n",
    "        random_state=42,\n",
    "    )\n",
    "    \n",
    "    rf_bo.maximize(init_points=7, n_iter=25)\n",
    "\n",
    "    best_params = rf_bo.max['params']\n",
    "    bootstrap = bool(round(best_params[\"bootstrap\"]))\n",
    "    best_params_updated = {\n",
    "        'n_estimators': int(best_params['n_estimators']),\n",
    "        'max_depth': int(best_params['max_depth']),\n",
    "        'min_samples_split': int(best_params['min_samples_split']),\n",
    "        'min_samples_leaf': int(best_params['min_samples_leaf']),\n",
    "        'bootstrap': bootstrap,\n",
    "        'class_weight': None if round(best_params['class_weight']) == 0 else 'balanced',\n",
    "        'random_state': 42\n",
    "    }\n",
    "\n",
    "    print(best_params_updated)\n",
    "\n",
    "    model = RandomForestClassifier(**best_params_updated)\n",
    "    model.fit(x_train,y_train)\n",
    "\n",
    "    rf_results = pd.DataFrame(rf_bo.res)\n",
    "    rf_results.sort_values(by=\"target\",ascending=False,inplace=True)\n",
    "\n",
    "    return model, rf_results, rf_bo.max"
   ]
  },
  {
   "cell_type": "markdown",
   "id": "6574b7b3-85e1-432f-8a2d-5a8656cf75c7",
   "metadata": {},
   "source": [
    "### SVM"
   ]
  },
  {
   "cell_type": "code",
   "execution_count": 57,
   "id": "c6b4420e-0d92-4a8d-9a67-cea9f42e916a",
   "metadata": {},
   "outputs": [],
   "source": [
    "def svm_train_model(x_train,y_train):\n",
    "    model = SVC(random_state=42,class_weight=\"balanced\", probability=True,decision_function_shape='ovo')\n",
    "    model.fit(x_train,y_train)\n",
    "\n",
    "    return model\n",
    "\n",
    "# Grid Model\n",
    "def svm_grid_train_model(x_train,y_train, param_grid=param_grid_svm):\n",
    "    model = SVC(random_state=42,decision_function_shape='ovo',class_weight=\"balanced\",probability=True)\n",
    "    cv = StratifiedKFold(n_splits=5, shuffle=True, random_state=42)\n",
    "\n",
    "    grid_search = GridSearchCV(model, param_grid, cv=cv, scoring=scorer, n_jobs=-1, verbose=1)\n",
    "    grid_search.fit(x_train,y_train)\n",
    "    print(grid_search.best_params_)\n",
    "\n",
    "    return grid_search.best_estimator_\n",
    "\n",
    "def objective_svm(C, gamma, kernel, class_weight, degree, tol):\n",
    "    cv = RepeatedStratifiedKFold(n_splits=5, n_repeats=5, random_state=42)\n",
    "    \n",
    "    params = {\n",
    "        'C': C,\n",
    "        'gamma': 'scale' if round(gamma) == 0 else gamma,  # 'scale' ou um valor float de gamma\n",
    "        'kernel': 'linear' if round(kernel) == 0 else 'rbf',  # 'linear' ou 'rbf'\n",
    "        'class_weight': None if round(class_weight) == 0 else 'balanced',\n",
    "        'degree': int(degree) if round(kernel) == 1 else 3,  # Degree apenas para kernel polinomial\n",
    "        'tol': tol,\n",
    "        'random_state': 42\n",
    "    }\n",
    "    \n",
    "    model = SVC(**params)\n",
    "    score = cross_val_score(model, x_train, y_train, cv=cv, scoring='accuracy').mean()  # Troque \"scorer\" por \"accuracy\"\n",
    "    return score\n",
    "\n",
    "def svm_baye_train_model(x_train, y_train, param_baye=param_baye_svm):\n",
    "    svm_bo = BayesianOptimization(\n",
    "        f=objective_svm,\n",
    "        pbounds=param_baye,\n",
    "        random_state=42,\n",
    "    )\n",
    "    \n",
    "    svm_bo.maximize(init_points=7, n_iter=25)\n",
    "\n",
    "    best_params = svm_bo.max['params']\n",
    "\n",
    "    gamma = 'scale' if round(best_params[\"gamma\"]) == 0 else best_params[\"gamma\"]\n",
    "    kernel = 'linear' if round(best_params[\"kernel\"]) == 0 else 'rbf'\n",
    "    best_params_updated = {\n",
    "        'C': best_params['C'],\n",
    "        'gamma': gamma,\n",
    "        'kernel': kernel,\n",
    "        'class_weight': None if round(best_params['class_weight']) == 0 else 'balanced',\n",
    "        'degree': int(best_params['degree']) if kernel == 'rbf' else 3,  # Degree só para kernel 'rbf'\n",
    "        'tol': best_params['tol'],\n",
    "        'random_state': 42\n",
    "    }\n",
    "\n",
    "    print(best_params_updated)\n",
    "\n",
    "    model = SVC(**best_params_updated)\n",
    "    model.fit(x_train, y_train)\n",
    "\n",
    "    svm_results = pd.DataFrame(svm_bo.res)\n",
    "    svm_results.sort_values(by=\"target\", ascending=False, inplace=True)\n",
    "\n",
    "    return model, svm_results, svm_bo.max"
   ]
  },
  {
   "cell_type": "markdown",
   "id": "2e91c192-caa6-41c4-87a2-1a034300ccd9",
   "metadata": {},
   "source": [
    "### XGBoost"
   ]
  },
  {
   "cell_type": "code",
   "execution_count": 58,
   "id": "7ed085c1-3e1b-46db-ae5f-d3bef2a7f5ef",
   "metadata": {},
   "outputs": [],
   "source": [
    "# Basic Model\n",
    "def xgboost_model(x_train,y_train):\n",
    "    model = XGBClassifier(random_state=42,objective='multi:softprob')\n",
    "    model.fit(x_train,y_train, sample_weight=sample_weights)\n",
    "\n",
    "    return model\n",
    "\n",
    "# Grid Model\n",
    "def xgboost_grid_model(x_train,y_train, param_grid_xgb=param_grid_xgb):\n",
    "    model = XGBClassifier(random_state=42,objective='multi:softprob')\n",
    "    cv = StratifiedKFold(n_splits=5, shuffle=True, random_state=42)\n",
    "\n",
    "    grid_search = GridSearchCV(model, param_grid_xgb, cv=cv, scoring=scorer, n_jobs=-1, verbose=1)\n",
    "    grid_search.fit(x_train,y_train)\n",
    "    print(grid_search.best_params_)\n",
    "    \n",
    "\n",
    "    return grid_search.best_estimator_\n",
    "\n",
    "# Baye Model\n",
    "def objective_xgboost(learning_rate, n_estimators, max_depth, subsample, colsample_bytree,min_child_weight):\n",
    "    cv = RepeatedStratifiedKFold(n_splits=5, n_repeats=1, random_state=42)\n",
    "    \n",
    "    params = {\n",
    "        'learning_rate': learning_rate,\n",
    "        'n_estimators': int(n_estimators),\n",
    "        'max_depth': int(max_depth),\n",
    "        'subsample': subsample,\n",
    "        'colsample_bytree': colsample_bytree,\n",
    "        'min_child_weight': min_child_weight,\n",
    "        'random_state': 42\n",
    "    }\n",
    "    \n",
    "    model = XGBClassifier(**params)\n",
    "    score = cross_val_score(model, x_train, y_train, cv=cv, scoring=scorer).mean()\n",
    "    return score\n",
    "    \n",
    "def xgboost_baye_model(x_train,y_train, param_baye=param_baye_xgb):\n",
    "    xgb_bo = BayesianOptimization(\n",
    "    f=objective_xgboost,\n",
    "    pbounds=param_baye,\n",
    "    random_state=42,\n",
    "    )\n",
    "    \n",
    "    xgb_bo.maximize(init_points=7, n_iter=25)\n",
    "\n",
    "    best_params = xgb_bo.max['params']\n",
    "    best_params_updated = {\n",
    "        'learning_rate': best_params['learning_rate'],\n",
    "        'n_estimators': int(best_params['n_estimators']),\n",
    "        'max_depth': int(best_params['max_depth']), \n",
    "        'subsample': best_params['subsample'],\n",
    "        'colsample_bytree': best_params['colsample_bytree'],\n",
    "        'min_child_weight': best_params['min_child_weight'],\n",
    "        'random_state': 42\n",
    "    }\n",
    "\n",
    "    print(best_params_updated)\n",
    "    \n",
    "    model = XGBClassifier(**best_params_updated)\n",
    "    model.fit(x_train,y_train, sample_weight=sample_weights)\n",
    "\n",
    "    xgb_results = pd.DataFrame(xgb_bo.res)\n",
    "    xgb_results.sort_values(by=\"target\",ascending=False,inplace=True)\n",
    "\n",
    "    return model, xgb_results, xgb_bo.max"
   ]
  },
  {
   "cell_type": "markdown",
   "id": "e9889b7f-9cfe-4aa5-91d8-6e6bef035fc8",
   "metadata": {},
   "source": [
    "### LightGBM"
   ]
  },
  {
   "cell_type": "code",
   "execution_count": 59,
   "id": "4f5fdb12-cb92-4e2e-8f2f-b8e38c57d9da",
   "metadata": {},
   "outputs": [],
   "source": [
    "# Basic Model\n",
    "def light_boost_model(x_train,y_train):\n",
    "    model =  lgb.LGBMClassifier(verbose=-1,objective='multiclassova',class_weight=weights)\n",
    "    model.fit(x_train,y_train)\n",
    "\n",
    "    return model\n",
    "\n",
    "# Grid Model\n",
    "def light_grid_train_model(x_train,y_train, param_grid=param_grid_light):\n",
    "    model = lgb.LGBMClassifier(verbose=-1,random_state=42,class_weight=weights)\n",
    "    cv = StratifiedKFold(n_splits=5, shuffle=True, random_state=42)\n",
    "\n",
    "    grid_search = GridSearchCV(model, param_grid_light, cv=cv, scoring=scorer, n_jobs=-1, verbose=1)\n",
    "    grid_search.fit(x_train,y_train)\n",
    "    print(grid_search.best_params_)\n",
    "\n",
    "    return grid_search.best_estimator_\n",
    "\n",
    "# Bayes Model\n",
    "def objective_light_boost(learning_rate, num_leaves, max_depth, min_data_in_leaf, bagging_fraction):\n",
    "    cv = RepeatedStratifiedKFold(n_splits=5, n_repeats=1, random_state=42)\n",
    "    \n",
    "    params = {\n",
    "        'learning_rate': learning_rate,\n",
    "        'num_leaves': int(num_leaves),\n",
    "        'max_depth': int(max_depth),\n",
    "        'min_data_in_leaf': int(min_data_in_leaf),\n",
    "        'bagging_fraction': bagging_fraction,\n",
    "        'boosting_type': 'gbdt',\n",
    "        'objective': 'multiclassova', \n",
    "        'num_class': 5,\n",
    "        'is_unbalance': True,\n",
    "        'n_jobs': -1,\n",
    "        'random_state': 42,\n",
    "        'class_weight': weights,\n",
    "        'verbose': -1\n",
    "    }\n",
    "    \n",
    "    model = lgb.LGBMClassifier(**params)\n",
    "    score = cross_val_score(model, x_train, y_train, cv=cv, scoring=scorer).mean()\n",
    "    return score\n",
    "\n",
    "\n",
    "def light_baye_train_model(x_train, y_train, param_baye=param_baye_light):\n",
    "    light_bo = BayesianOptimization(\n",
    "        f=objective_light_boost,\n",
    "        pbounds=param_baye,\n",
    "        random_state=42,\n",
    "    )\n",
    "    \n",
    "    light_bo.maximize(init_points=7, n_iter=20)\n",
    "\n",
    "    best_params = light_bo.max['params']\n",
    "    best_params_updated = {\n",
    "        'learning_rate': best_params['learning_rate'],\n",
    "        'num_leaves': int(best_params['num_leaves']),\n",
    "        'max_depth': int(best_params['max_depth']),\n",
    "        'min_data_in_leaf': int(best_params['min_data_in_leaf']),\n",
    "        'bagging_fraction': best_params['bagging_fraction'],\n",
    "        'boosting_type': 'gbdt',\n",
    "        'objective': 'multiclass',\n",
    "        'num_class': 5,\n",
    "        'is_unbalance': True,\n",
    "        'n_jobs': -1,\n",
    "        'random_state': 42,\n",
    "        'verbose': -1\n",
    "    }\n",
    "\n",
    "    print(best_params_updated)\n",
    "    \n",
    "    model = lgb.LGBMClassifier(**best_params_updated)\n",
    "    model.fit(x_train, y_train)\n",
    "\n",
    "    light_results = pd.DataFrame(light_bo.res)\n",
    "    light_results.sort_values(by=\"target\", ascending=False, inplace=True)\n",
    "\n",
    "    return model, light_results, light_bo.max"
   ]
  },
  {
   "cell_type": "markdown",
   "id": "000e339e-7409-43a9-a37e-413a68f1adea",
   "metadata": {},
   "source": [
    "### Logistic Regression"
   ]
  },
  {
   "cell_type": "code",
   "execution_count": 60,
   "id": "f5d27b99-6c6d-40ee-bf55-6add4b525bd2",
   "metadata": {},
   "outputs": [],
   "source": [
    "# Basic Model\n",
    "def log_reg_model(x_train,y_train):\n",
    "    model = LogisticRegression(max_iter=1000,random_state=42,class_weight='balanced')\n",
    "    model.fit(x_train,y_train)\n",
    "    \n",
    "    return model\n",
    "\n",
    "# Grid Model\n",
    "def log_grid_train_model(x_train,y_train, param_grid=param_grid_log):\n",
    "    model = LogisticRegression(random_state=42, verbose=0,class_weight='balanced')\n",
    "    cv = StratifiedKFold(n_splits=5, shuffle=True, random_state=42)\n",
    "\n",
    "    grid_search = GridSearchCV(model, param_grid, cv=cv, scoring=scorer, n_jobs=-1, verbose=1)\n",
    "    grid_search.fit(x_train,y_train)\n",
    "    print(grid_search.best_params_)\n",
    "\n",
    "    return grid_search.best_estimator_\n",
    "\n",
    "# Função de objetivo para otimização bayesiana\n",
    "def objective_logistic_regression(C, max_iter, solver):\n",
    "    cv = RepeatedStratifiedKFold(n_splits=5, n_repeats=2, random_state=42)\n",
    "\n",
    "    solvers = ['lbfgs', 'liblinear', 'saga']\n",
    "    solver = solvers[int(round(solver))]  # Converte o índice numérico de volta para string\n",
    "\n",
    "\n",
    "    params = {\n",
    "        'C': C,\n",
    "        'max_iter': int(max_iter),\n",
    "        'solver': solver,\n",
    "        'random_state': 42,\n",
    "        'verbose': 0\n",
    "    }\n",
    "\n",
    "    model = LogisticRegression(**params)\n",
    "    score = cross_val_score(model, x_train, y_train, cv=cv, scoring=scorer).mean()\n",
    "    return score\n",
    "\n",
    "# Função principal para regressão logística com BayesOpt\n",
    "def log_baye_train_model(x_train, y_train, param_baye=param_baye_log):\n",
    "    log_bo = BayesianOptimization(\n",
    "        f=objective_logistic_regression,\n",
    "        pbounds=param_baye,\n",
    "        random_state=42,\n",
    "    )\n",
    "    \n",
    "    log_bo.maximize(init_points=5, n_iter=25)\n",
    "\n",
    "    best_params = log_bo.max['params']\n",
    "\n",
    "    # Mapeando o índice numérico de volta para o solver real\n",
    "    solvers = ['lbfgs', 'liblinear', 'saga']\n",
    "    best_solver = solvers[int(round(best_params['solver']))]  # Converte índice para string\n",
    "\n",
    "    best_params_updated = {\n",
    "        'C': best_params['C'],\n",
    "        'max_iter': int(best_params['max_iter']),\n",
    "        'solver': best_solver,  # Usa o nome do solver mapeado\n",
    "        'random_state': 42,\n",
    "        'verbose': 0\n",
    "    }\n",
    "\n",
    "    print(best_params_updated)\n",
    "\n",
    "    model = LogisticRegression(**best_params_updated)\n",
    "    model.fit(x_train, y_train)\n",
    "\n",
    "    # Criar DataFrame com resultados da otimização\n",
    "    log_results = pd.DataFrame(log_bo.res)\n",
    "    log_results.sort_values(by=\"target\", ascending=False, inplace=True)\n",
    "\n",
    "    return model, log_results, log_bo.max"
   ]
  },
  {
   "cell_type": "markdown",
   "id": "3100c317-44a6-47be-b8a6-4a9b62f70416",
   "metadata": {
    "jp-MarkdownHeadingCollapsed": true
   },
   "source": [
    "### GradientBoost"
   ]
  },
  {
   "cell_type": "code",
   "execution_count": 61,
   "id": "fc5702c1-f818-4ffd-a9bf-7094c308b569",
   "metadata": {},
   "outputs": [],
   "source": [
    "# Basic Model\n",
    "def gradient_boost_model(x_train, y_train):\n",
    "    model = GradientBoostingClassifier(random_state=42)\n",
    "    model.fit(x_train,y_train)\n",
    "    \n",
    "    return model\n",
    "\n",
    "# Grid Model\n",
    "def gradient_grid_model(x_train,y_train, param_grid_gb):\n",
    "    model = GradientBoostingClassifier(random_state=42)\n",
    "    cv = StratifiedKFold(n_splits=3, shuffle=True, random_state=42)\n",
    "\n",
    "    grid_search_gb = GridSearchCV(model, param_grid_gb, cv=cv, scoring=scorer, n_jobs=-1, verbose=1)\n",
    "    grid_search_gb.fit(x_train,y_train)\n",
    "    print(grid_search_gb.best_params_)\n",
    "\n",
    "    return grid_search_gb.best_estimator_\n",
    "\n",
    "\n",
    "# Baye Model\n",
    "def objective_gradient_boost(learning_rate, n_estimators, max_depth, subsample,min_samples_split,min_samples_leaf):\n",
    "    cv = StratifiedKFold(n_splits=5, shuffle=True, random_state=42)\n",
    "    \n",
    "    params = {\n",
    "        'learning_rate': learning_rate,\n",
    "        'n_estimators': int(n_estimators),\n",
    "        'max_depth': int(max_depth),\n",
    "        'subsample': subsample,\n",
    "        'min_samples_split': int(min_samples_split),\n",
    "        'min_samples_leaf': int(min_samples_leaf),\n",
    "        'random_state': 42\n",
    "    }\n",
    "    \n",
    "    model = GradientBoostingClassifier(**params)\n",
    "    score = cross_val_score(model, x_train, y_train, cv=cv, scoring=scorer).mean()\n",
    "    return score\n",
    "\n",
    "\n",
    "def gradient_baye_model(x_train,y_train, param_baye):\n",
    "    gb_bo = BayesianOptimization(\n",
    "        f=objective_gradient_boost,\n",
    "        pbounds=param_baye,\n",
    "        random_state=42,\n",
    "    )\n",
    "    \n",
    "    gb_bo.maximize(init_points=7, n_iter=70)\n",
    "\n",
    "    best_params = gb_bo.max['params']\n",
    "    best_params_updated = {\n",
    "        'learning_rate': best_params['learning_rate'],\n",
    "        'n_estimators': int(best_params['n_estimators']),\n",
    "        'max_depth': int(best_params['max_depth']),  \n",
    "        'subsample': best_params['subsample'],\n",
    "        'min_samples_split': int(best_params['min_samples_split']), \n",
    "        'min_samples_leaf': int(best_params['min_samples_leaf']), \n",
    "        'random_state': 42 \n",
    "    }\n",
    "\n",
    "    print(best_params_updated)\n",
    "    \n",
    "    model = GradientBoostingClassifier(**best_params_updated)\n",
    "    model.fit(x_train,y_train)\n",
    "\n",
    "    gb_results = pd.DataFrame(gb_bo.res)\n",
    "    gb_results.sort_values(by=\"target\",ascending=False,inplace=True)\n",
    "\n",
    "    return model, gb_results, gb_bo.max"
   ]
  },
  {
   "cell_type": "markdown",
   "id": "eb946498-5865-4d89-a194-8bb088778c7b",
   "metadata": {
    "jp-MarkdownHeadingCollapsed": true
   },
   "source": [
    "### CatBoosting"
   ]
  },
  {
   "cell_type": "code",
   "execution_count": 62,
   "id": "7988009e-3349-4494-bd61-855d23149c85",
   "metadata": {},
   "outputs": [],
   "source": [
    "# Basic Model\n",
    "def cat_boost_model(x_train,y_train):\n",
    "    model = CatBoostClassifier(verbose=False, task_type=\"GPU\")\n",
    "    model.fit(x_train,y_train)\n",
    "\n",
    "    return model\n",
    "\n",
    "# Bayes Model\n",
    "def objective_cat_boost(learning_rate, iterations, depth, l2_leaf_reg, border_count):\n",
    "    cv = StratifiedKFold(n_splits=3, shuffle=True, random_state=42)\n",
    "    \n",
    "    params = {\n",
    "        'learning_rate': learning_rate,\n",
    "        'iterations': int(iterations),\n",
    "        'depth': int(depth),\n",
    "        'l2_leaf_reg': l2_leaf_reg,\n",
    "        'border_count': int(border_count),\n",
    "        'task_type': 'GPU',\n",
    "        'random_seed': 42,\n",
    "        'verbose': 0\n",
    "    }\n",
    "    \n",
    "    model = CatBoostClassifier(**params)\n",
    "    score = cross_val_score(model, x_train, y_train, cv=cv, scoring=scorer).mean()\n",
    "    return score\n",
    "\n",
    "\n",
    "def cat_baye_model(x_train, y_train, param_baye):\n",
    "    cat_bo = BayesianOptimization(\n",
    "        f=objective_cat_boost,\n",
    "        pbounds=param_baye,\n",
    "        random_state=42,\n",
    "    )\n",
    "    \n",
    "    cat_bo.maximize(init_points=5, n_iter=20)\n",
    "\n",
    "\n",
    "    best_params = cat_bo.max['params']\n",
    "    best_params_updated = {\n",
    "        'learning_rate': best_params['learning_rate'],\n",
    "        'iterations': int(best_params['iterations']),\n",
    "        'depth': int(best_params['depth']),\n",
    "        'l2_leaf_reg': best_params['l2_leaf_reg'],\n",
    "        'border_count': int(best_params['border_count']),\n",
    "        'task_type': 'GPU',\n",
    "        'random_seed': 42,\n",
    "        'verbose': 0\n",
    "    }\n",
    "\n",
    "    print(best_params_updated)\n",
    "    \n",
    "\n",
    "    model = CatBoostClassifier(**best_params_updated)\n",
    "    model.fit(x_train, y_train)\n",
    "\n",
    "\n",
    "    cat_results = pd.DataFrame(cat_bo.res)\n",
    "    cat_results.sort_values(by=\"target\", ascending=False, inplace=True)\n",
    "\n",
    "    return model, cat_results, cat_bo.max"
   ]
  },
  {
   "cell_type": "markdown",
   "id": "a321cb68-bfcb-4c4d-9f42-5fefc5bd8fae",
   "metadata": {
    "jp-MarkdownHeadingCollapsed": true
   },
   "source": [
    "### Voting Ensemble"
   ]
  },
  {
   "cell_type": "code",
   "execution_count": 63,
   "id": "d5a235fe-fe4e-4ffa-b626-c76a23765f88",
   "metadata": {},
   "outputs": [],
   "source": [
    "def voting_ensemble(x_train,y_train,estimators):\n",
    "    model = VotingClassifier(estimators=estimators, voting=\"hard\")\n",
    "    model.fit(x_train,y_train)\n",
    "    \n",
    "    return model"
   ]
  },
  {
   "cell_type": "markdown",
   "id": "e02a00bb-6550-4b06-b35a-3dec482bacfa",
   "metadata": {},
   "source": [
    "### Stacking Ensemble"
   ]
  },
  {
   "cell_type": "code",
   "execution_count": 64,
   "id": "6a67cfa8-41eb-471a-ac39-e430f4b628d7",
   "metadata": {},
   "outputs": [],
   "source": [
    "def stacking_ensemble(x_train,y_train,rf_model,xgb_model,light_model,svm_model,log_model):\n",
    "    cv = StratifiedKFold(n_splits=5, shuffle=True, random_state=42)\n",
    "\n",
    "    estimators = [\n",
    "        (\"rf\",RandomForestClassifier(**rf_model.get_params())),\n",
    "        (\"xgb\",XGBClassifier(**xgb_model.get_params())),\n",
    "        (\"light\",lgb.LGBMClassifier(**light_model.get_params())),\n",
    "        (\"svm\",SVC(**svm_model.get_params())),\n",
    "        (\"log\",LogisticRegression(**log_model.get_params())),\n",
    "          \n",
    "    ]\n",
    "    \n",
    "    model = StackingClassifier(\n",
    "        estimators=estimators, \n",
    "        final_estimator=LogisticRegression(class_weight=\"balanced\",n_jobs=-1,max_iter=3000,verbose=0,random_state=42), \n",
    "        cv=cv, \n",
    "        n_jobs=-1,\n",
    "    )\n",
    "    \n",
    "    model.fit(x_train,y_train)\n",
    "    \n",
    "    return model\n",
    "\n",
    "def grid_stacking_ensemble(x_train,y_train,rf_model,xgb_model,light_model,svm_model,log_model):\n",
    "    cv = StratifiedKFold(n_splits=5, shuffle=True, random_state=42)\n",
    "    \n",
    "    estimators = [\n",
    "        (\"rf\",RandomForestClassifier(**rf_model.get_params())),\n",
    "        (\"xgb\",XGBClassifier(**xgb_model.get_params())),\n",
    "        (\"light\",lgb.LGBMClassifier(**light_model.get_params())),\n",
    "        (\"svm\",SVC(**svm_model.get_params())),\n",
    "        (\"log\",LogisticRegression(**log_model.get_params())),\n",
    "          \n",
    "    ]\n",
    "\n",
    "    meta_learner = LogisticRegression(solver='liblinear', random_state=42)\n",
    "\n",
    "    stacking_model = StackingClassifier(estimators=estimators, final_estimator=meta_learner)\n",
    "\n",
    "    param_grid = {\n",
    "        'final_estimator__C': [0.01, 0.1, 1, 10],  # Regularização\n",
    "        'final_estimator__penalty': ['l2'],  # Penalização L2\n",
    "        'final_estimator__solver': ['liblinear', 'saga'],  # Solvers para regressão logística\n",
    "        'final_estimator__max_iter': [100, 200, 500]  # Número de iterações\n",
    "    }\n",
    "\n",
    "    grid_search = GridSearchCV(estimator=stacking_model, param_grid=param_grid, cv=cv, n_jobs=-1, verbose=1)\n",
    "\n",
    "    grid_search.fit(x_train, y_train)\n",
    "\n",
    "    return grid_search.best_estimator_"
   ]
  },
  {
   "cell_type": "markdown",
   "id": "da0b46cf-85cd-42cd-aedc-b47c629f1270",
   "metadata": {},
   "source": [
    "### Neural Networks"
   ]
  },
  {
   "cell_type": "code",
   "execution_count": 128,
   "id": "f5aa0376-6858-41ff-a6a6-24cb14911761",
   "metadata": {},
   "outputs": [],
   "source": [
    "def tensor_converter(x_train, x_test, y_train, y_test):\n",
    "    # Converter para np array\n",
    "    x_train_np = x_train.values  \n",
    "    y_train_np = y_train.values  \n",
    "\n",
    "    x_test_np = x_test.values\n",
    "    y_test_np = y_test.values\n",
    "    # Convertendo os dados para tensores\n",
    "    x_train_tensor = torch.tensor(x_train_np, dtype=torch.float32)\n",
    "    y_train_tensor = torch.tensor(y_train_np, dtype=torch.long)  # Usando long para labels inteiros\n",
    "    \n",
    "    x_test_tensor = torch.tensor(x_test_np, dtype=torch.float32)\n",
    "    y_test_tensor = torch.tensor(y_test_np, dtype=torch.long)\n",
    "    \n",
    "    # Criando DataLoader\n",
    "    train_dataset = TensorDataset(x_train_tensor, y_train_tensor)\n",
    "    test_dataset = TensorDataset(x_test_tensor, y_test_tensor)\n",
    "    \n",
    "    train_loader = DataLoader(train_dataset, batch_size=32, shuffle=True)\n",
    "    test_loader = DataLoader(test_dataset, batch_size=32, shuffle=False)\n",
    "\n",
    "    return train_loader,test_loader"
   ]
  },
  {
   "cell_type": "code",
   "execution_count": 129,
   "id": "ce6f0bde-1462-41aa-ae6a-69c0aa2ad012",
   "metadata": {},
   "outputs": [],
   "source": [
    "class ANNModel(nn.Module):\n",
    "    def __init__(self, input_size, hidden_size, output_size):\n",
    "        super(ANNModel, self).__init__()\n",
    "        self.fc1 = nn.Linear(input_size, hidden_size)  # Camada de entrada\n",
    "        self.fc2 = nn.Linear(hidden_size, hidden_size)  # Camada oculta\n",
    "        self.fc3 = nn.Linear(hidden_size, output_size)  # Camada de saída\n",
    "        self.relu = nn.ReLU()  # Função de ativação\n",
    "\n",
    "    def forward(self, x):\n",
    "        x = self.relu(self.fc1(x))\n",
    "        x = self.relu(self.fc2(x))\n",
    "        x = self.fc3(x) \n",
    "        return x "
   ]
  },
  {
   "cell_type": "code",
   "execution_count": 130,
   "id": "07891ca1-3d4f-4474-bd09-887ca23dc3eb",
   "metadata": {},
   "outputs": [],
   "source": [
    "def train_model(train_loader,ann_model,criterion,optimizer):\n",
    "    epochs = 20 \n",
    "\n",
    "    for epoch in range(epochs):\n",
    "        ann_model.train()\n",
    "        running_loss = 0.0\n",
    "    \n",
    "        for inputs, labels in train_loader:\n",
    "            optimizer.zero_grad()  # Zera os gradientes\n",
    "            outputs = ann_model(inputs)  # Passa os inputs pelo modelo\n",
    "            loss = criterion(outputs, labels)  # Calcula a perda\n",
    "            loss.backward() \n",
    "            optimizer.step()  # Atualiza os pesos\n",
    "    \n",
    "            running_loss += loss.item()"
   ]
  },
  {
   "cell_type": "code",
   "execution_count": 131,
   "id": "e5a3934c-c0e5-4aa6-8b81-dcde83035892",
   "metadata": {},
   "outputs": [],
   "source": [
    "def model_evaluate(test_loader,ann_model):\n",
    "    ann_model.eval()  # Coloca o modelo em modo de avaliação\n",
    "    all_labels = []\n",
    "    all_predictions = []\n",
    "    \n",
    "    with torch.no_grad():  # Desativa o cálculo de gradientes para otimização de memória\n",
    "        for inputs, labels in test_loader:\n",
    "            outputs = ann_model(inputs)\n",
    "            _, predicted = torch.max(outputs, 1)  # Obtém a previsão (classe com maior probabilidade)\n",
    "            all_labels.extend(labels.cpu().numpy())  # Coleta as labels reais\n",
    "            all_predictions.extend(predicted.cpu().numpy())  # Coleta as previsões\n",
    "    \n",
    "    # Calcula o F1 Macro Score\n",
    "    f1_macro = f1_score(all_labels, all_predictions, average='macro')\n",
    "    print(f'F1 Macro Score on test set: {f1_macro:.4f}')\n",
    "\n",
    "    return f1_macro"
   ]
  },
  {
   "cell_type": "code",
   "execution_count": 132,
   "id": "65ccdf7e-73d4-488d-9500-1be157a701fe",
   "metadata": {},
   "outputs": [],
   "source": [
    "def ann_init(x_train, x_test, y_train, y_test):\n",
    "    train_loader, test_loader = tensor_converter(x_train, x_test, y_train, y_test)\n",
    "    \n",
    "    input_size = x_train.shape[1]  \n",
    "    hidden_size = 64  # Tamanho da camada oculta\n",
    "    output_size = 5\n",
    "    \n",
    "    ann_model = ANNModel(input_size, hidden_size, output_size)\n",
    "    \n",
    "    criterion = nn.CrossEntropyLoss()  # Para problemas de classificação multiclasse\n",
    "    optimizer = optim.Adam(ann_model.parameters(), lr=0.001)\n",
    "    \n",
    "    train_model(train_loader,ann_model,criterion,optimizer)\n",
    "    \n",
    "    return model_evaluate(test_loader,ann_model)"
   ]
  },
  {
   "cell_type": "markdown",
   "id": "772e6359-5c5e-47eb-ab74-648b1ccc128d",
   "metadata": {
    "jp-MarkdownHeadingCollapsed": true
   },
   "source": [
    "## Models Applier"
   ]
  },
  {
   "cell_type": "code",
   "execution_count": 82,
   "id": "9f969089-d33c-4638-8145-f97cb4f4a163",
   "metadata": {},
   "outputs": [],
   "source": [
    "def apply_basic_models(x_train,y_train,x_test,y_test,n_repeats=4, title=\"Models Macro F1 Comparison\", rf=1, xgb=1, gradient=0, cat=0, log=1, light=1,svm=1):\n",
    "        \n",
    "    if rf:\n",
    "        rf_model = random_forest_model(x_train,y_train)\n",
    "        results[\"RandomForest\"] = [rf_model,None]\n",
    "    else:\n",
    "        rf_model = None\n",
    "\n",
    "    if xgb:\n",
    "        xgb_model = xgboost_model(x_train,y_train)\n",
    "        results[\"XGBoost\"] = [xgb_model,None]\n",
    "    else:\n",
    "        xgb_model = None\n",
    "        \n",
    "    if gradient:\n",
    "        gradient_model = gradient_boost_model(x_train,y_train)\n",
    "        results[\"GradientBoost\"] = [gradient_model,None]\n",
    "    else:\n",
    "        gradient_model = None\n",
    "        \n",
    "    if cat:\n",
    "        cat_model = cat_boost_model(x_train,y_train)\n",
    "        results[\"CatBoost\"] = [cat_model,None]\n",
    "    else:\n",
    "        cat_model = None\n",
    "        \n",
    "    if log:\n",
    "        log_model = log_reg_model(x_train,y_train)\n",
    "        results[\"Logistic\"] = [log_model,None]\n",
    "    else:\n",
    "        log_model = None      \n",
    "\n",
    "    if light:\n",
    "        light_model = light_boost_model(x_train,y_train)\n",
    "        results[\"LightGBM\"] = [light_model,None]\n",
    "    else:\n",
    "        light_model = None  \n",
    "\n",
    "    if svm:\n",
    "        svm_model = svm_train_model(x_train,y_train)\n",
    "        results[\"SVM\"] = [svm_model,None]\n",
    "    else:\n",
    "        svm_model = None \n",
    "        \n",
    "    models_comparison(results,title,x_train=x_train,y_train=y_train)\n",
    "\n",
    "    return rf_model, xgb_model, gradient_model, cat_model, log_model, light_model, svm_model"
   ]
  },
  {
   "cell_type": "markdown",
   "id": "5ffb5d95-8408-4db4-bb79-4e816a2d428b",
   "metadata": {
    "jp-MarkdownHeadingCollapsed": true
   },
   "source": [
    "## Models Comparison"
   ]
  },
  {
   "cell_type": "code",
   "execution_count": 71,
   "id": "de5f44f7-a002-43b7-807e-fa797791c2fa",
   "metadata": {},
   "outputs": [],
   "source": [
    "def models_comparison(results, title, x_train, y_train):\n",
    "    cv = StratifiedKFold(n_splits=5, shuffle=True, random_state=42)\n",
    "    x_train = np.array(x_train)\n",
    "    y_train = np.array(y_train)\n",
    "\n",
    "    # OneHotEncoder para converter os valores reais de y_train em one-hot\n",
    "    encoder = OneHotEncoder(sparse_output=False)\n",
    "    y_train_one_hot = encoder.fit_transform(y_train.reshape(-1, 1))\n",
    "\n",
    "    for result in results:\n",
    "        if results[result][1] is None:\n",
    "            predictions = []\n",
    "            true_values = []\n",
    "            f1_scores = []\n",
    "\n",
    "            for train_idx, val_idx in cv.split(x_train, y_train):\n",
    "                X_train, X_val = x_train[train_idx], x_train[val_idx]\n",
    "                Y_train, Y_val = y_train[train_idx], y_train[val_idx]\n",
    "                Y_val_one_hot = y_train_one_hot[val_idx]\n",
    "\n",
    "                model = results[result][0]\n",
    "                model.fit(X_train, Y_train)\n",
    "                y_pred_prob = model.predict_proba(X_val)  # Probabilidades das classes\n",
    "                y_pred = np.argmax(y_pred_prob, axis=1)  # A classe com maior probabilidade\n",
    "\n",
    "                predictions.append(y_pred_prob)\n",
    "                true_values.append(Y_val_one_hot)\n",
    "\n",
    "                # F1 Score (macro)\n",
    "                f1 = f1_score(Y_val, y_pred, average='macro')\n",
    "                f1_scores.append(f1)\n",
    "\n",
    "            predictions = np.concatenate(predictions)\n",
    "            true_values = np.concatenate(true_values)\n",
    "\n",
    "            # Bias^2 (usando probabilidades)\n",
    "            avg_predictions = predictions.mean(axis=0)  # Média das probabilidades por classe\n",
    "            bias_squared = np.mean(np.sum((avg_predictions - true_values) ** 2, axis=1))  # Erro médio quadrático entre as probabilidades médias e os valores reais\n",
    "\n",
    "            # Variance (variância das previsões por classe)\n",
    "            variance = np.mean(np.var(predictions, axis=0))  # Variância das probabilidades de previsão\n",
    "\n",
    "            # Total Error (usando log loss)\n",
    "            total_error = log_loss(true_values, predictions)  # Erro logarítmico total entre as probabilidades preditas e os valores reais\n",
    "\n",
    "            # Noise (Ruído)\n",
    "            noise = total_error - (bias_squared + variance)  # Ruído é a diferença entre o erro total e a soma de bias e variância\n",
    "\n",
    "            f1_macro_avg = np.mean(f1_scores)\n",
    "\n",
    "            results[result][1] = round(f1_macro_avg, 4)\n",
    "\n",
    "            print(f\"F1 Macro Score em {result}: {results[result][1]} -> bias: {round(bias_squared, 3)} variance: {round(variance, 3)} ruído: {round(noise, 3)}\")\n",
    "\n",
    "        else:\n",
    "            print(f\"F1 Macro Score em {result}: {results[result][1]}\")\n",
    "\n",
    "    # Criar gráfico\n",
    "    models_score = plt.figure(figsize=(6, 3))\n",
    "    mod = list(results.keys())\n",
    "    f1 = list([score[1] for score in results.values()])\n",
    "\n",
    "    plt.bar(mod, f1, color=\"lightblue\", width=0.5)\n",
    "    plt.xlabel(\"Modelo\")\n",
    "    plt.ylabel(\"Macro F1\")\n",
    "    plt.xticks(rotation=15)\n",
    "    plt.title(title)\n",
    "    plt.show()"
   ]
  },
  {
   "cell_type": "markdown",
   "id": "4259902e-082b-48e5-a566-81a54050e92f",
   "metadata": {},
   "source": [
    "## MultiClass Analysis"
   ]
  },
  {
   "cell_type": "code",
   "execution_count": 72,
   "id": "3c4d017b-0d3a-41dc-b177-55bcfe50e77a",
   "metadata": {},
   "outputs": [],
   "source": [
    "def class_accuracy(model,x_test,y_test):\n",
    "    conf_matrix = confusion_matrix(y_test, model.predict(x_test))\n",
    "    # grafico de barras com a percentagem de acertos\n",
    "    class_accuracies = np.diag(conf_matrix) / np.sum(conf_matrix, axis=1)\n",
    "    class_accuracies_percentage = class_accuracies * 100  \n",
    "    total_per_class = np.sum(conf_matrix, axis=1) \n",
    "    correct_per_class = np.diag(conf_matrix) \n",
    "    \n",
    "    plt.figure(figsize=(7, 4))\n",
    "    classes = np.unique(y_test)\n",
    "    plt.bar(classes, class_accuracies_percentage, color='skyblue', alpha=0.8)\n",
    "    plt.xlabel(\"Classes\")\n",
    "    plt.ylabel(\"Accuracy (%)\")\n",
    "    plt.title(\"Accuracy per Class\")\n",
    "    plt.ylim(0, 100) \n",
    "    \n",
    "\n",
    "    for i, v in enumerate(class_accuracies_percentage):\n",
    "        text = f\"{correct_per_class[i]}/{total_per_class[i]} ({v:.1f}%)\"\n",
    "        plt.text(classes[i], v + 2, text, ha='center', fontsize=10)\n",
    "    \n",
    "    plt.show()\n",
    "    \n",
    "    # matriz de confusão\n",
    "    \n",
    "    plt.figure(figsize=(7, 4))\n",
    "    sns.heatmap(conf_matrix, annot=True, fmt=\"d\", cmap=\"Blues\", \n",
    "                xticklabels=np.unique(y_test), yticklabels=np.unique(y_test))\n",
    "    plt.xlabel(\"Predict\")\n",
    "    plt.ylabel(\"Real Values\")\n",
    "    plt.title(\"Confusion Matrix\")\n",
    "    plt.show()"
   ]
  },
  {
   "cell_type": "markdown",
   "id": "4b9817b1-e794-4cfa-8d34-3632b5d406d8",
   "metadata": {
    "jp-MarkdownHeadingCollapsed": true
   },
   "source": [
    "## ROC & AUC Analysis"
   ]
  },
  {
   "cell_type": "code",
   "execution_count": 73,
   "id": "91142899-d12e-4378-b11e-98ec2fdf85ed",
   "metadata": {},
   "outputs": [],
   "source": [
    "def roc_auc(model, X_test, y_test):\n",
    "    # Binariza o target para multiclasse\n",
    "    y_test_bin = label_binarize(y_test, classes=[0, 1, 2, 3, 4])\n",
    "    n_classes = y_test_bin.shape[1]\n",
    "\n",
    "    # Prepara o gráfico\n",
    "    plt.figure(figsize=(6, 5))\n",
    "    colors = ['blue', 'green', 'red', 'purple', 'orange']  # Cores para cada classe\n",
    "\n",
    "    for classe in range(n_classes):\n",
    "        # Calcula as pontuações preditas para o modelo\n",
    "        y_score = model.predict_proba(X_test)\n",
    "        \n",
    "        # Calcula a curva ROC e a AUC para a classe atual\n",
    "        fpr, tpr, _ = roc_curve(y_test_bin[:, classe], y_score[:, classe])\n",
    "        auc = roc_auc_score(y_test_bin[:, classe], y_score[:, classe])\n",
    "        \n",
    "        # Plota a curva ROC para a classe atual\n",
    "        plt.plot(fpr, tpr, color=colors[classe], label=f'Classe {classe} (AUC = {auc:.2f})')\n",
    "\n",
    "    # Linha de referência (modelo aleatório)\n",
    "    plt.plot([0, 1], [0, 1], 'k--', label='Aleatório (AUC = 0.5)')\n",
    "    plt.title('Curvas ROC por Classe (One-vs-Rest)')\n",
    "    plt.xlabel('Falsos Positivos (FPR)')\n",
    "    plt.ylabel('Verdadeiros Positivos (TPR)')\n",
    "    plt.legend(loc='lower right')\n",
    "    plt.grid(alpha=0.4)\n",
    "    plt.tight_layout()\n",
    "    plt.show()"
   ]
  },
  {
   "cell_type": "markdown",
   "id": "0098c6e4-1872-4900-b38a-eaa90d0bc07d",
   "metadata": {},
   "source": [
    "## Final Predict"
   ]
  },
  {
   "cell_type": "code",
   "execution_count": 74,
   "id": "c964e15d-82f9-4a64-b337-7505a57924d9",
   "metadata": {},
   "outputs": [],
   "source": [
    "def final_score(model,x_test,y_test,plot=1):\n",
    "    predictions = []\n",
    "    true_values = []\n",
    "    f1_scores = []\n",
    "\n",
    "    x_test_1 = np.array(x_test)\n",
    "    y_test_1 = np.array(y_test)\n",
    "\n",
    "    encoder = OneHotEncoder(sparse_output=False)\n",
    "    y_test_one_hot = encoder.fit_transform(y_test_1.reshape(-1, 1))\n",
    "    \n",
    "    y_pred_prob = model.predict_proba(x_test)\n",
    "    y_pred = np.argmax(y_pred_prob, axis=1)\n",
    "\n",
    "    true_values.append(y_test_one_hot)\n",
    "    predictions.append(y_pred_prob)\n",
    "\n",
    "    f1 = f1_score(y_test, y_pred, average='macro')\n",
    "\n",
    "    predictions = np.concatenate(predictions)\n",
    "    true_values = np.concatenate(true_values)\n",
    "\n",
    "    # Bias^2 (usando probabilidades)\n",
    "    avg_predictions = predictions.mean(axis=0)  # Média das probabilidades por classe\n",
    "    bias_squared = np.mean(np.sum((avg_predictions - true_values) ** 2, axis=1))  # Erro médio quadrático entre as probabilidades médias e os valores reais\n",
    "\n",
    "    # Variance (variância das previsões por classe)\n",
    "    variance = np.mean(np.var(predictions, axis=0))  # Variância das probabilidades de previsão\n",
    "\n",
    "    # Total Error (usando log loss)\n",
    "    total_error = log_loss(true_values, predictions)  # Erro logarítmico total entre as probabilidades preditas e os valores reais\n",
    "\n",
    "    # Noise (Ruído)\n",
    "    noise = total_error - (bias_squared + variance)  # Ruído é a diferença entre o erro total e a soma de bias e variância\n",
    "\n",
    "    print(f\"F1 Macro Score: {round(f1, 4)}\\nBias: {round(bias_squared, 3)}\\nVariance: {round(variance, 3)}\\nRuído: {round(noise, 3)}\")\n",
    "\n",
    "    if plot==1:\n",
    "        roc_auc(model, x_test, y_test)\n",
    "        class_accuracy(model, x_test, y_test) \n",
    "\n",
    "    return f1\n",
    "\n",
    "def plot_final_scores(test_results):\n",
    "    keys = list(test_results.keys())\n",
    "    values = list(test_results.values())\n",
    "\n",
    "    plt.plot(keys, values, marker='o', linestyle='', color='green')\n",
    "    plt.xlabel('Número de Features')\n",
    "    plt.ylabel('Score')\n",
    "    plt.grid()\n",
    "    plt.show()"
   ]
  },
  {
   "cell_type": "markdown",
   "id": "1fda91d0-ae3b-4a6d-ab92-d306b1ffa6de",
   "metadata": {},
   "source": [
    "# Models Tester"
   ]
  },
  {
   "cell_type": "code",
   "execution_count": 95,
   "id": "87cd1fb9-1312-49c0-aeb2-d352e2feda6f",
   "metadata": {},
   "outputs": [
    {
     "name": "stdout",
     "output_type": "stream",
     "text": [
      "F1 Macro Score em RandomForest: 0.3512 -> bias: 0.757 variance: 0.016 ruído: 0.487\n",
      "F1 Macro Score em XGBoost: 0.3242 -> bias: 0.761 variance: 0.07000000029802322 ruído: 0.799\n",
      "F1 Macro Score em Logistic: 0.3408 -> bias: 0.759 variance: 0.097 ruído: 1.566\n"
     ]
    },
    {
     "name": "stderr",
     "output_type": "stream",
     "text": [
      "/Library/Frameworks/Python.framework/Versions/3.12/lib/python3.12/site-packages/sklearn/metrics/_classification.py:2956: UserWarning: The y_pred values do not sum to one. Make sure to pass probabilities.\n",
      "  warnings.warn(\n"
     ]
    },
    {
     "name": "stdout",
     "output_type": "stream",
     "text": [
      "F1 Macro Score em LightGBM: 0.3608 -> bias: 0.788 variance: 0.056 ruído: 1.753\n",
      "F1 Macro Score em SVM: 0.3367 -> bias: 0.758 variance: 0.018 ruído: 0.475\n",
      "F1 Macro Score em ANNModel: 0.2891078270388615\n"
     ]
    },
    {
     "data": {
      "image/png": "[encoded data removed]",
      "text/plain": [
       "<Figure size 600x300 with 1 Axes>"
      ]
     },
     "metadata": {},
     "output_type": "display_data"
    },
    {
     "name": "stdout",
     "output_type": "stream",
     "text": [
      "F1 Macro Score on test set: 0.2891\n",
      "F1 Macro Score em RandomForest: 0.3512\n",
      "F1 Macro Score em XGBoost: 0.3242\n",
      "F1 Macro Score em Logistic: 0.3408\n",
      "F1 Macro Score em LightGBM: 0.3608\n",
      "F1 Macro Score em SVM: 0.3367\n",
      "F1 Macro Score em ANNModel: 0.2891078270388615\n"
     ]
    },
    {
     "data": {
      "image/png": "[encoded data removed]",
      "text/plain": [
       "<Figure size 600x300 with 1 Axes>"
      ]
     },
     "metadata": {},
     "output_type": "display_data"
    }
   ],
   "source": [
    "rf_model,xgb_model,gradient_model,cat_model, log_model,light_model, svm_model = apply_basic_models(x_train,y_train,x_test,y_test,n_repeats=3)\n",
    "\n",
    "results[\"ANNModel\"] = [ann_model,ann_init(x_train, x_test, y_train, y_test)]\n",
    "models_comparison(results, \"WithANN\", x_train, y_train)"
   ]
  },
  {
   "cell_type": "markdown",
   "id": "a9a7073a-3619-4daf-bcd3-8e2cdba46362",
   "metadata": {
    "jp-MarkdownHeadingCollapsed": true
   },
   "source": [
    "## Bayesian Optimization"
   ]
  },
  {
   "cell_type": "code",
   "execution_count": null,
   "id": "3b410e61-4156-47a7-b1ec-134313148857",
   "metadata": {
    "scrolled": true
   },
   "outputs": [],
   "source": [
    "results = {}\n",
    "\n",
    "rf_baye_model, rf_baye_results, best_params = random_forest_baye_model(x_train,y_train)\n",
    "results[\"RandomForestBaye\"] = [rf_baye_model,None]\n",
    "bayes_visualization(param_baye_rf, rf_baye_results, best_params)\n",
    "models_comparison(results, \"BayeSearch\",x_train=x_train,y_train=y_train)\n",
    "\n",
    "xgb_baye_model, xgb_baye_results, best_params = xgboost_baye_model(x_train,y_train)\n",
    "results[\"XGBoostBaye\"] = [xgb_baye_model,None]\n",
    "models_comparison(results, \"BayeSearch\",x_train=x_train,y_train=y_train)\n",
    "\n",
    "light_baye_model, light_baye_results, best_params = light_baye_train_model(x_train,y_train)\n",
    "results[\"LightBoostBaye\"] = [light_baye_model,None]\n",
    "models_comparison(results, \"BayeSearch\",x_train=x_train,y_train=y_train)\n",
    "\n",
    "\n",
    "log_baye_model, log_baye_results, best_params = log_baye_train_model(x_train,y_train)\n",
    "results[\"LogBaye\"] = [log_baye_model,None]\n",
    "models_comparison(results, \"BayeSearch\",x_train=x_train,y_train=y_train)"
   ]
  },
  {
   "cell_type": "code",
   "execution_count": null,
   "id": "41a0a018-e7be-4a8e-a497-ffa0fa568222",
   "metadata": {},
   "outputs": [],
   "source": [
    "save_stuff(rf_baye_model, f\"Models/rf_baye_model_{str(round(results['RandomForestBaye'][1], 2)).replace('.', '_')}.pkl\")\n",
    "save_stuff(xgb_baye_model, f\"Models/xgb_baye_model_{str(round(results['XGBoostBaye'][1], 2)).replace('.', '_')}.pkl\")\n",
    "save_stuff(light_baye_model, f\"Models/light_baye_model_{str(round(results['LightBoostBaye'][1], 2)).replace('.', '_')}.pkl\")\n",
    "save_stuff(log_baye_model, f\"Models/log_baye_model_{str(round(results['LogBaye'][1], 2)).replace('.', '_')}.pkl\")\n",
    "\n",
    "\"\"\"\n",
    "rf_baye_model = load_stuff(f\"Models/rf_baye_model_0_35.pkl\")\n",
    "xgb_baye_model = load_stuff(f\"Models/xgb_baye_model_0_35.pkl\")\n",
    "light_baye_model = load_stuff(f\"Models/light_baye_model_0_38.pkl\")\n",
    "svm_baye_model = load_stuff(f\"Models/svm_baye_model_0_31.pkl\")\n",
    "log_baye_model = load_stuff(f\"Models/log_baye_model_0_32.pkl\")\n",
    "\"\"\""
   ]
  },
  {
   "cell_type": "code",
   "execution_count": null,
   "id": "636a9322-9137-45c0-bd32-cab6bd827f3a",
   "metadata": {},
   "outputs": [],
   "source": [
    "rf_baye_model = RandomForestClassifier(**rf_baye_model.get_params())\n",
    "xgb_baye_model = XGBClassifier(**xgb_baye_model.get_params())\n",
    "light_baye_model = lgb.LGBMClassifier(**light_baye_model.get_params())\n",
    "svm_baye_model = SVC(**svm_baye_model.get_params())\n",
    "log_baye_model = LogisticRegression(**log_baye_model.get_params())"
   ]
  },
  {
   "cell_type": "code",
   "execution_count": null,
   "id": "4c2a02bd-b0f6-46c3-99e9-53115986f789",
   "metadata": {},
   "outputs": [],
   "source": [
    "stacking_model_log = stacking_ensemble(x_train,y_train,[(\"log\",log_baye_model),(\"svm\",svm_baye_model),(\"rf\",rf_baye_model),(\"xgb\",xgb_baye_model),(\"light\",light_baye_model)])\n",
    "results[\"StackingBayeLog\"] = [stacking_model_log,None]\n",
    "\n",
    "models_comparison(results,\"BayeEnsemble\",x_train=x_train,y_train=y_train,n_repeats=4)"
   ]
  },
  {
   "cell_type": "code",
   "execution_count": null,
   "id": "45b50781-1583-4bd3-b9d0-facae3b75939",
   "metadata": {},
   "outputs": [],
   "source": [
    "class_accuracy_cv(stacking_model_log,x_train,y_train)"
   ]
  },
  {
   "cell_type": "markdown",
   "id": "1247c696-0181-4342-be91-f02dc403cec6",
   "metadata": {},
   "source": [
    "# SHAP Analysis"
   ]
  },
  {
   "cell_type": "markdown",
   "id": "b0a2cf2f-1b10-495c-b511-1f9d7537894c",
   "metadata": {},
   "source": [
    "## Calculate SHAP Values"
   ]
  },
  {
   "cell_type": "code",
   "execution_count": 96,
   "id": "15a83743-2697-4789-a245-5d91307158a4",
   "metadata": {},
   "outputs": [
    {
     "data": {
      "text/plain": [
       "(244, 655)"
      ]
     },
     "execution_count": 96,
     "metadata": {},
     "output_type": "execute_result"
    }
   ],
   "source": [
    "X_shap_init = x_train  # Features\n",
    "y_shap_init = y_train\n",
    "\n",
    "X_shap_init.shape "
   ]
  },
  {
   "cell_type": "code",
   "execution_count": null,
   "id": "9c1d6ddb-7002-4a50-a1ea-cddee24103c2",
   "metadata": {
    "scrolled": true
   },
   "outputs": [],
   "source": [
    "rf_model.fit(X_shap_init, y_shap_init)\n",
    "xgb_model.fit(X_shap_init, y_shap_init)\n",
    "light_model.fit(X_shap_init, y_shap_init)\n",
    "log_model.fit(X_shap_init, y_shap_init)\n",
    "\n",
    "explainer = shap.TreeExplainer(rf_model,X_shap_init)\n",
    "shap_values_rf = explainer(X_shap_init,check_additivity=False)\n",
    "explainer = shap.TreeExplainer(xgb_model,X_shap_init)\n",
    "shap_values_xgb = explainer(X_shap_init,check_additivity=False)\n",
    "explainer = shap.TreeExplainer(light_model,X_shap_init)\n",
    "shap_values_light = explainer(X_shap_init,check_additivity=False)\n",
    "explainer = shap.LinearExplainer(log_model,X_shap_init)\n",
    "shap_values_log = explainer(X_shap_init)"
   ]
  },
  {
   "cell_type": "code",
   "execution_count": 97,
   "id": "3fdb924d-a41e-4511-a14a-5953b246d202",
   "metadata": {},
   "outputs": [],
   "source": [
    "\"\"\"\n",
    "save_stuff(shap_values_rf,\"SHAP_Values/shap_values_rf.pkl\")\n",
    "save_stuff(shap_values_xgb,\"SHAP_Values/shap_values_xgb.pkl\")\n",
    "save_stuff(shap_values_light,\"SHAP_Values/shap_values_light.pkl\")\n",
    "save_stuff(shap_values_log,\"SHAP_Values/shap_values_log.pkl\")\n",
    "\"\"\"\n",
    "shap_values_rf = load_stuff(\"SHAP_Values/shap_values_rf.pkl\")\n",
    "shap_values_xgb = load_stuff(\"SHAP_Values/shap_values_xgb.pkl\")\n",
    "shap_values_light = load_stuff(\"SHAP_Values/shap_values_light.pkl\")\n",
    "shap_values_log = load_stuff(\"SHAP_Values/shap_values_log.pkl\")"
   ]
  },
  {
   "cell_type": "markdown",
   "id": "cd24be7f-8a85-4353-a433-49547d337054",
   "metadata": {},
   "source": [
    "## Deep SHAP Analysis"
   ]
  },
  {
   "cell_type": "markdown",
   "id": "71e960aa-7b1b-456a-9455-1f8b929a1e5c",
   "metadata": {},
   "source": [
    "### Methods"
   ]
  },
  {
   "cell_type": "code",
   "execution_count": 98,
   "id": "e8a681e7-bbea-4fd9-933f-73f9ed881235",
   "metadata": {},
   "outputs": [],
   "source": [
    "def get_global_shap_info_df(shap_values_list, X):\n",
    "    all_shap_values = []\n",
    "\n",
    "    for shap_values in shap_values_list:\n",
    "        if hasattr(shap_values, 'values'):\n",
    "            shap_array = shap_values.values\n",
    "        else:\n",
    "            shap_array = shap_values \n",
    "        \n",
    "        all_shap_values.append(shap_array)\n",
    "    \n",
    "    # Concatena todos os SHAP values dos modelos\n",
    "    all_shap_values = np.concatenate(all_shap_values, axis=0)  # Concatena ao longo do eixo 0 (modelos)\n",
    "    \n",
    "    abs_shap_values = np.abs(all_shap_values)\n",
    "    \n",
    "    # Calcula a média global dos SHAP values\n",
    "    feature_shap_mean = np.mean(abs_shap_values, axis=(0, 2))  # Média global dos SHAP values absolutos\n",
    "    feature_shap_max = np.max(abs_shap_values, axis=(0, 2))  # Máximo global dos SHAP values absolutos\n",
    "    feature_shap_std = np.std(abs_shap_values, axis=(0, 2))  # Desvio padrão global dos SHAP values absolutos\n",
    "    feature_shap_positive_ratio = np.mean(all_shap_values > 0, axis=(0, 2))  # Proporção de SHAP values positivos\n",
    "    feature_shap_negative_ratio = np.mean(all_shap_values < 0, axis=(0, 2))  # Proporção de SHAP values negativos\n",
    "    \n",
    "    # Cria o DataFrame com as importâncias e métricas adicionais\n",
    "    feature_shap_importance_df = pd.DataFrame({\n",
    "        \"feature\": X.columns,\n",
    "        \"importance_mean\": feature_shap_mean,\n",
    "        \"importance_max\": feature_shap_max,\n",
    "        \"importance_std\": feature_shap_std,\n",
    "        \"positive_ratio\": feature_shap_positive_ratio,\n",
    "        \"negative_ratio\": feature_shap_negative_ratio\n",
    "    }).sort_values(by=\"importance_mean\", ascending=False)  # Ordena pelo valor médio global dos SHAP\n",
    "\n",
    "    return feature_shap_importance_df\n"
   ]
  },
  {
   "cell_type": "code",
   "execution_count": 99,
   "id": "852d11b2-428d-4a9b-8a73-2c4357570528",
   "metadata": {},
   "outputs": [],
   "source": [
    "def get_shap_info_df(shap_values, X):\n",
    "    # Verifica se shap_values é um objeto shap.Explanation ou um ndarray\n",
    "    if hasattr(shap_values, 'values'):\n",
    "        shap_array = shap_values.values\n",
    "    else:\n",
    "        shap_array = shap_values \n",
    "    \n",
    "    abs_shap_values = np.abs(shap_array)\n",
    "    \n",
    "    feature_shap_mean = np.mean(abs_shap_values, axis=(0, 2))  # Média dos SHAP values absolutos\n",
    "    feature_shap_max = np.max(abs_shap_values, axis=(0, 2))  # Máximo dos SHAP values absolutos\n",
    "    feature_shap_std = np.std(abs_shap_values, axis=(0, 2))  # Desvio padrão dos SHAP values absolutos\n",
    "    feature_shap_positive_ratio = np.mean(shap_array > 0, axis=(0, 2))\n",
    "    feature_shap_negative_ratio = np.mean(shap_array < 0, axis=(0, 2))\n",
    "\n",
    "    \n",
    "    # Cria o DataFrame com as importâncias e métricas adicionais\n",
    "    feature_shap_importance_df = pd.DataFrame({\n",
    "        \"feature\": X.columns,\n",
    "        \"importance_mean\": feature_shap_mean,\n",
    "        \"importance_max\": feature_shap_max,\n",
    "        \"importance_std\": feature_shap_std,\n",
    "        \"positive_ratio\": feature_shap_positive_ratio,\n",
    "        \"negative_ratio\": feature_shap_negative_ratio\n",
    "    }).sort_values(by=\"importance_std\", ascending=False)  # Ordena pelo valor máximo de SHAP\n",
    "\n",
    "    return feature_shap_importance_df\n"
   ]
  },
  {
   "cell_type": "code",
   "execution_count": 100,
   "id": "dcaf945e-5121-4a66-92eb-b51300674f21",
   "metadata": {},
   "outputs": [],
   "source": [
    "def get_shap_info_per_class(shap_values, X, name):\n",
    "    # Verifica se shap_values é um objeto shap.Explanation ou um ndarray\n",
    "    if hasattr(shap_values, 'values'):\n",
    "        shap_array = shap_values.values\n",
    "    else:\n",
    "        shap_array = shap_values \n",
    "\n",
    "    abs_shap_values = np.abs(shap_array)  # Valores absolutos dos SHAP values\n",
    "    n_classes = shap_array.shape[2]  # Número de classes\n",
    "    \n",
    "    # Normaliza os valores absolutos pelo máximo global de cada classe\n",
    "    max_global_per_class = np.max(abs_shap_values, axis=(0, 1))  # Máximo global por classe\n",
    "    \n",
    "    for class_idx in range(n_classes):\n",
    "        # Extrai SHAP values para a classe atual\n",
    "        class_abs_shap_values = abs_shap_values[:, :, class_idx]\n",
    "        class_shap_values = shap_array[:, :, class_idx]\n",
    "        \n",
    "        # Calcula métricas normalizadas\n",
    "        feature_shap_mean = np.mean(class_abs_shap_values, axis=0)  # Média\n",
    "        feature_shap_max = np.max(class_abs_shap_values, axis=0)  # Máximo\n",
    "        feature_shap_std = np.std(class_abs_shap_values, axis=0)  # Desvio padrão\n",
    "        feature_shap_positive_ratio = np.mean(class_shap_values > 0, axis=0)  # Razão de valores positivos\n",
    "        feature_shap_negative_ratio = np.mean(class_shap_values < 0, axis=0)  # Razão de valores negativos\n",
    "        feature_shap_skewness = skew(class_abs_shap_values, axis=0)  # Skewness dos valores absolutos\n",
    "\n",
    "        # Cria DataFrame com as informações\n",
    "        class_df = pd.DataFrame({\n",
    "            \"feature\": X.columns,\n",
    "            \"importance_mean\": feature_shap_mean,\n",
    "            \"importance_max\": feature_shap_max,\n",
    "            \"importance_std\": feature_shap_std,\n",
    "            \"positive_ratio\": feature_shap_positive_ratio,\n",
    "            \"negative_ratio\": feature_shap_negative_ratio,\n",
    "            \"skewness\": feature_shap_skewness  # Adiciona a métrica de skewness\n",
    "        }).sort_values(by=\"importance_std\", ascending=False)  # Ordena pelo desvio padrão\n",
    "\n",
    "        # Salva em CSV\n",
    "        class_df.to_csv(f\"../Dataset/SHAP_Values/{name}class{class_idx}_shap_values.csv\", index=False)"
   ]
  },
  {
   "cell_type": "code",
   "execution_count": 101,
   "id": "a0593553-3992-4b34-801e-7cac91c07e44",
   "metadata": {},
   "outputs": [],
   "source": [
    "def get_discard_feature_per_class(model_name, importance_mean, ratio_thre, ratio_mean, std_thre):\n",
    "    class_discard_features = []\n",
    "    \n",
    "    for i in range(5):\n",
    "        df = pd.read_csv(f\"../Dataset/SHAP_Values/{model_name}class{i}_shap_values.csv\")\n",
    "\n",
    "        discard_features = df[\n",
    "            (df[\"importance_mean\"] <= importance_mean) | \n",
    "            ((df[\"negative_ratio\"] - df[\"positive_ratio\"] > ratio_thre) & \n",
    "            (df[\"importance_mean\"] < ratio_mean)) |\n",
    "            (df[\"importance_std\"] >= std_thre)\n",
    "        ][\"feature\"].tolist()\n",
    "        \n",
    "        class_discard_features.append(discard_features)\n",
    "        \n",
    "    # Contar quantas classes descartam cada feature\n",
    "    feature_counts = {}\n",
    "    for discard_list in class_discard_features:\n",
    "        for feature in discard_list:\n",
    "            if feature not in feature_counts:\n",
    "                feature_counts[feature] = 0\n",
    "            feature_counts[feature] += 1\n",
    "    \n",
    "    # Selecionar as features que são descartadas em 3 ou mais classes\n",
    "    combined_classes = [feature for feature, count in feature_counts.items() if count > 3]\n",
    "    \n",
    "    # Verificar quantas features serão descartadas\n",
    "    print(len(combined_classes))\n",
    "\n",
    "    return combined_classes\n",
    "\n",
    "    "
   ]
  },
  {
   "cell_type": "code",
   "execution_count": 102,
   "id": "d53af652-5139-4568-a40d-cbef606132e2",
   "metadata": {},
   "outputs": [],
   "source": [
    "def new_shap_values(shap_values,discard_features):\n",
    "    shap_array = shap_values.values\n",
    "    feature_names = shap_values.feature_names\n",
    "    \n",
    "    features_a_remover = discard_features if isinstance(discard_features, list) else [discard_features]\n",
    "    features_a_remover = set(features_a_remover) & set(list(feature_names))\n",
    "    indices_a_remover = [feature_names.index(feature) for feature in features_a_remover]\n",
    "\n",
    "    shap_values_filtrados = np.delete(shap_array, indices_a_remover, axis=1)\n",
    "    \n",
    "    features_restantes = [f for i, f in enumerate(feature_names) if i not in indices_a_remover]\n",
    "    shap_values_filtrados = shap.Explanation(values=shap_values_filtrados, \n",
    "                                             base_values=shap_values_xgb.base_values, \n",
    "                                             feature_names=features_restantes)\n",
    "\n",
    "    return shap_values_filtrados"
   ]
  },
  {
   "cell_type": "code",
   "execution_count": 103,
   "id": "9c1efa0b-d81c-438d-b028-a9cd641bceb8",
   "metadata": {},
   "outputs": [],
   "source": [
    "def clean_shap_df(df,discard):\n",
    "    shap_importances_df_cleaned = df[~df['feature'].isin(discard)]\n",
    "    shap_importances_df_cleaned.to_csv(\"../Dataset/SHAP_Values/global_shap_values.csv\",index=False)\n",
    "    return shap_importances_df_cleaned"
   ]
  },
  {
   "cell_type": "code",
   "execution_count": 104,
   "id": "4e614581-1547-408a-96d5-52a6bf2128f3",
   "metadata": {},
   "outputs": [],
   "source": [
    "def sorted_shap_values(shap_values,X_shap, class_index):\n",
    "    if hasattr(shap_values, 'values'):\n",
    "        shap_array = shap_values.values\n",
    "    else:\n",
    "        shap_array = shap_values \n",
    "\n",
    "    shap_class_values = shap_array[:, :, class_index]\n",
    "\n",
    "    mean_shap_values = np.mean(np.abs(shap_class_values), axis=0)\n",
    "\n",
    "    shap_df = pd.DataFrame(mean_shap_values, index=X_shap.columns, columns=[\"mean_shap_value\"])\n",
    "\n",
    "    sorted_features = shap_df.sort_values(by=\"mean_shap_value\", ascending=False)\n",
    "\n",
    "    return sorted_features"
   ]
  },
  {
   "cell_type": "code",
   "execution_count": 105,
   "id": "78fc46fb-d234-4eff-b6f5-dc5af0acbd32",
   "metadata": {},
   "outputs": [],
   "source": [
    "def shap_values_df_analysis(df):\n",
    "    \n",
    "    fig, axes = plt.subplots(3, 2, figsize=(14, 15))\n",
    "    fig.suptitle(\"Distribuição dos Valores de Importância das Features\", fontsize=16)\n",
    "    \n",
    "    importance_columns = df.drop(columns=[\"feature\"]).columns\n",
    "    \n",
    "    for idx, col in enumerate(importance_columns):\n",
    "        ax = axes[idx // 2, idx % 2]\n",
    "        ax.hist(df[col], bins=30, color='teal', edgecolor='black', alpha=0.7)\n",
    "        ax.set_title(f'Distribuição de {col}')\n",
    "        ax.set_xlabel(col)\n",
    "        ax.set_ylabel('Frequência')\n",
    "    \n",
    "    plt.tight_layout(rect=[0, 0.03, 1, 0.95])\n",
    "    plt.show()"
   ]
  },
  {
   "cell_type": "code",
   "execution_count": 106,
   "id": "3d0f98b8-7aef-45de-a528-45196f7191ae",
   "metadata": {},
   "outputs": [],
   "source": [
    "def show_shap_importance_summary_plot(shap_values,X_shap, classe):\n",
    "    sorted_shap_values_df = sorted_shap_values(shap_values,X_shap,classe)\n",
    "    sorted_columns = sorted_shap_values_df.index\n",
    "    \n",
    "    n_features = len(sorted_columns)\n",
    "    n_features_per_plot = 10\n",
    "    \n",
    "    feature_indices = [X_shap.columns.get_loc(feature) for feature in sorted_columns]\n",
    "\n",
    "    for i in range(0, n_features, n_features_per_plot):\n",
    "        selected_columns = feature_indices[i:i + n_features_per_plot]\n",
    "\n",
    "        shap.summary_plot(shap_values[:, selected_columns, classe])\n",
    "        \n",
    "        plt.show()"
   ]
  },
  {
   "cell_type": "code",
   "execution_count": 107,
   "id": "7684bdc7-e297-470b-bea1-2d3998b72da9",
   "metadata": {},
   "outputs": [],
   "source": [
    "def show_shap_importance_heatmap(shap_values,X_shap,classe):\n",
    "    sorted_shap_values_df = sorted_shap_values(shap_values,X_shap,classe)\n",
    "    sorted_columns = sorted_shap_values_df.index\n",
    "    \n",
    "    n_features = len(sorted_columns)\n",
    "    n_features_per_plot = 10\n",
    "    \n",
    "    feature_indices = [X_shap.columns.get_loc(feature) for feature in sorted_columns]\n",
    "\n",
    "    for i in range(0, n_features, n_features_per_plot):\n",
    "        selected_columns = feature_indices[i:i + n_features_per_plot]\n",
    "        \n",
    "        shap.plots.heatmap(shap_values[:, selected_columns, classe])\n",
    "        \n",
    "        plt.show()"
   ]
  },
  {
   "cell_type": "markdown",
   "id": "384edcf9-c7ae-4d8c-92f8-c9187137b1e5",
   "metadata": {},
   "source": [
    "### Global SHAP Values analysis"
   ]
  },
  {
   "cell_type": "code",
   "execution_count": 108,
   "id": "e5493b96-5c54-4058-9f87-a103caeac87f",
   "metadata": {},
   "outputs": [],
   "source": [
    "shap_importances_rf = get_shap_info_df(shap_values_rf, X_shap_init)\n",
    "shap_importances_xgb = get_shap_info_df(shap_values_xgb, X_shap_init)\n",
    "shap_importances_light = get_shap_info_df(shap_values_light, X_shap_init)\n",
    "shap_importances_log = get_shap_info_df(shap_values_log, X_shap_init)"
   ]
  },
  {
   "cell_type": "code",
   "execution_count": 109,
   "id": "48114753-60a3-4621-ba46-b029c3d7b8a4",
   "metadata": {},
   "outputs": [],
   "source": [
    "shap_importances_xgb.to_csv(\"../Dataset/SHAP_Values/global_shap_values_xgb.csv\",index=False)\n",
    "get_shap_info_per_class(shap_values_xgb,X_shap_init,\"XGB\")"
   ]
  },
  {
   "cell_type": "code",
   "execution_count": 110,
   "id": "f61ded16-426c-4132-b9ad-223ad5a3510e",
   "metadata": {},
   "outputs": [],
   "source": [
    "shap_importances_xgb = pd.read_csv(\"../Dataset/SHAP_Values/global_shap_values_xgb.csv\")\n",
    "shap_importances_xgb_0 = pd.read_csv(\"../Dataset/SHAP_Values/XGBclass0_shap_values.csv\")\n",
    "shap_importances_xgb_1 = pd.read_csv(\"../Dataset/SHAP_Values/XGBclass1_shap_values.csv\")\n",
    "shap_importances_xgb_2 = pd.read_csv(\"../Dataset/SHAP_Values/XGBclass2_shap_values.csv\")\n",
    "shap_importances_xgb_3 = pd.read_csv(\"../Dataset/SHAP_Values/XGBclass3_shap_values.csv\")\n",
    "shap_importances_xgb_4 = pd.read_csv(\"../Dataset/SHAP_Values/XGBclass4_shap_values.csv\")"
   ]
  },
  {
   "cell_type": "code",
   "execution_count": 111,
   "id": "749d9717-202e-4d3c-a28a-89b4d2f24277",
   "metadata": {},
   "outputs": [
    {
     "data": {
      "text/html": [
       "<div>\n",
       "<style scoped>\n",
       "    .dataframe tbody tr th:only-of-type {\n",
       "        vertical-align: middle;\n",
       "    }\n",
       "\n",
       "    .dataframe tbody tr th {\n",
       "        vertical-align: top;\n",
       "    }\n",
       "\n",
       "    .dataframe thead th {\n",
       "        text-align: right;\n",
       "    }\n",
       "</style>\n",
       "<table border=\"1\" class=\"dataframe\">\n",
       "  <thead>\n",
       "    <tr style=\"text-align: right;\">\n",
       "      <th></th>\n",
       "      <th>importance_mean</th>\n",
       "      <th>importance_max</th>\n",
       "      <th>importance_std</th>\n",
       "      <th>positive_ratio</th>\n",
       "      <th>negative_ratio</th>\n",
       "    </tr>\n",
       "  </thead>\n",
       "  <tbody>\n",
       "    <tr>\n",
       "      <th>count</th>\n",
       "      <td>655.000000</td>\n",
       "      <td>655.000000</td>\n",
       "      <td>655.000000</td>\n",
       "      <td>655.000000</td>\n",
       "      <td>655.000000</td>\n",
       "    </tr>\n",
       "    <tr>\n",
       "      <th>mean</th>\n",
       "      <td>0.007885</td>\n",
       "      <td>0.136206</td>\n",
       "      <td>0.017982</td>\n",
       "      <td>0.106542</td>\n",
       "      <td>0.120975</td>\n",
       "    </tr>\n",
       "    <tr>\n",
       "      <th>std</th>\n",
       "      <td>0.013854</td>\n",
       "      <td>0.207428</td>\n",
       "      <td>0.028987</td>\n",
       "      <td>0.099988</td>\n",
       "      <td>0.117965</td>\n",
       "    </tr>\n",
       "    <tr>\n",
       "      <th>min</th>\n",
       "      <td>0.000000</td>\n",
       "      <td>0.000000</td>\n",
       "      <td>0.000000</td>\n",
       "      <td>0.000000</td>\n",
       "      <td>0.000000</td>\n",
       "    </tr>\n",
       "    <tr>\n",
       "      <th>25%</th>\n",
       "      <td>0.000000</td>\n",
       "      <td>0.000000</td>\n",
       "      <td>0.000000</td>\n",
       "      <td>0.000000</td>\n",
       "      <td>0.000000</td>\n",
       "    </tr>\n",
       "    <tr>\n",
       "      <th>50%</th>\n",
       "      <td>0.003219</td>\n",
       "      <td>0.067568</td>\n",
       "      <td>0.009046</td>\n",
       "      <td>0.097541</td>\n",
       "      <td>0.104098</td>\n",
       "    </tr>\n",
       "    <tr>\n",
       "      <th>75%</th>\n",
       "      <td>0.008869</td>\n",
       "      <td>0.165089</td>\n",
       "      <td>0.020786</td>\n",
       "      <td>0.177869</td>\n",
       "      <td>0.195902</td>\n",
       "    </tr>\n",
       "    <tr>\n",
       "      <th>max</th>\n",
       "      <td>0.102715</td>\n",
       "      <td>1.825959</td>\n",
       "      <td>0.218181</td>\n",
       "      <td>0.482787</td>\n",
       "      <td>0.559836</td>\n",
       "    </tr>\n",
       "  </tbody>\n",
       "</table>\n",
       "</div>"
      ],
      "text/plain": [
       "       importance_mean  importance_max  importance_std  positive_ratio  \\\n",
       "count       655.000000      655.000000      655.000000      655.000000   \n",
       "mean          0.007885        0.136206        0.017982        0.106542   \n",
       "std           0.013854        0.207428        0.028987        0.099988   \n",
       "min           0.000000        0.000000        0.000000        0.000000   \n",
       "25%           0.000000        0.000000        0.000000        0.000000   \n",
       "50%           0.003219        0.067568        0.009046        0.097541   \n",
       "75%           0.008869        0.165089        0.020786        0.177869   \n",
       "max           0.102715        1.825959        0.218181        0.482787   \n",
       "\n",
       "       negative_ratio  \n",
       "count      655.000000  \n",
       "mean         0.120975  \n",
       "std          0.117965  \n",
       "min          0.000000  \n",
       "25%          0.000000  \n",
       "50%          0.104098  \n",
       "75%          0.195902  \n",
       "max          0.559836  "
      ]
     },
     "execution_count": 111,
     "metadata": {},
     "output_type": "execute_result"
    }
   ],
   "source": [
    "shap_importances_xgb.describe()"
   ]
  },
  {
   "cell_type": "code",
   "execution_count": 112,
   "id": "00be2c3e-0888-4fad-a7c1-a4e574500fea",
   "metadata": {},
   "outputs": [
    {
     "data": {
      "text/html": [
       "<div>\n",
       "<style scoped>\n",
       "    .dataframe tbody tr th:only-of-type {\n",
       "        vertical-align: middle;\n",
       "    }\n",
       "\n",
       "    .dataframe tbody tr th {\n",
       "        vertical-align: top;\n",
       "    }\n",
       "\n",
       "    .dataframe thead th {\n",
       "        text-align: right;\n",
       "    }\n",
       "</style>\n",
       "<table border=\"1\" class=\"dataframe\">\n",
       "  <thead>\n",
       "    <tr style=\"text-align: right;\">\n",
       "      <th></th>\n",
       "      <th>importance_mean</th>\n",
       "      <th>importance_max</th>\n",
       "      <th>importance_std</th>\n",
       "      <th>positive_ratio</th>\n",
       "      <th>negative_ratio</th>\n",
       "      <th>skewness</th>\n",
       "    </tr>\n",
       "  </thead>\n",
       "  <tbody>\n",
       "    <tr>\n",
       "      <th>count</th>\n",
       "      <td>655.000000</td>\n",
       "      <td>655.000000</td>\n",
       "      <td>655.000000</td>\n",
       "      <td>655.000000</td>\n",
       "      <td>655.000000</td>\n",
       "      <td>146.000000</td>\n",
       "    </tr>\n",
       "    <tr>\n",
       "      <th>mean</th>\n",
       "      <td>0.008114</td>\n",
       "      <td>0.035725</td>\n",
       "      <td>0.006544</td>\n",
       "      <td>0.098692</td>\n",
       "      <td>0.122519</td>\n",
       "      <td>2.888779</td>\n",
       "    </tr>\n",
       "    <tr>\n",
       "      <th>std</th>\n",
       "      <td>0.030074</td>\n",
       "      <td>0.113440</td>\n",
       "      <td>0.020675</td>\n",
       "      <td>0.220326</td>\n",
       "      <td>0.259070</td>\n",
       "      <td>1.980686</td>\n",
       "    </tr>\n",
       "    <tr>\n",
       "      <th>min</th>\n",
       "      <td>0.000000</td>\n",
       "      <td>0.000000</td>\n",
       "      <td>0.000000</td>\n",
       "      <td>0.000000</td>\n",
       "      <td>0.000000</td>\n",
       "      <td>-0.312767</td>\n",
       "    </tr>\n",
       "    <tr>\n",
       "      <th>25%</th>\n",
       "      <td>0.000000</td>\n",
       "      <td>0.000000</td>\n",
       "      <td>0.000000</td>\n",
       "      <td>0.000000</td>\n",
       "      <td>0.000000</td>\n",
       "      <td>1.309063</td>\n",
       "    </tr>\n",
       "    <tr>\n",
       "      <th>50%</th>\n",
       "      <td>0.000000</td>\n",
       "      <td>0.000000</td>\n",
       "      <td>0.000000</td>\n",
       "      <td>0.000000</td>\n",
       "      <td>0.000000</td>\n",
       "      <td>2.514550</td>\n",
       "    </tr>\n",
       "    <tr>\n",
       "      <th>75%</th>\n",
       "      <td>0.000000</td>\n",
       "      <td>0.000000</td>\n",
       "      <td>0.000000</td>\n",
       "      <td>0.000000</td>\n",
       "      <td>0.000000</td>\n",
       "      <td>4.107987</td>\n",
       "    </tr>\n",
       "    <tr>\n",
       "      <th>max</th>\n",
       "      <td>0.307048</td>\n",
       "      <td>1.250126</td>\n",
       "      <td>0.211041</td>\n",
       "      <td>0.979508</td>\n",
       "      <td>0.979508</td>\n",
       "      <td>7.713615</td>\n",
       "    </tr>\n",
       "  </tbody>\n",
       "</table>\n",
       "</div>"
      ],
      "text/plain": [
       "       importance_mean  importance_max  importance_std  positive_ratio  \\\n",
       "count       655.000000      655.000000      655.000000      655.000000   \n",
       "mean          0.008114        0.035725        0.006544        0.098692   \n",
       "std           0.030074        0.113440        0.020675        0.220326   \n",
       "min           0.000000        0.000000        0.000000        0.000000   \n",
       "25%           0.000000        0.000000        0.000000        0.000000   \n",
       "50%           0.000000        0.000000        0.000000        0.000000   \n",
       "75%           0.000000        0.000000        0.000000        0.000000   \n",
       "max           0.307048        1.250126        0.211041        0.979508   \n",
       "\n",
       "       negative_ratio    skewness  \n",
       "count      655.000000  146.000000  \n",
       "mean         0.122519    2.888779  \n",
       "std          0.259070    1.980686  \n",
       "min          0.000000   -0.312767  \n",
       "25%          0.000000    1.309063  \n",
       "50%          0.000000    2.514550  \n",
       "75%          0.000000    4.107987  \n",
       "max          0.979508    7.713615  "
      ]
     },
     "execution_count": 112,
     "metadata": {},
     "output_type": "execute_result"
    }
   ],
   "source": [
    "shap_importances_xgb_0.describe()"
   ]
  },
  {
   "cell_type": "code",
   "execution_count": 113,
   "id": "25c574a5-d62c-4471-a324-2760a2284fe6",
   "metadata": {},
   "outputs": [
    {
     "name": "stdout",
     "output_type": "stream",
     "text": [
      "635\n"
     ]
    }
   ],
   "source": [
    "discard_features_0 = shap_importances_xgb_0[\n",
    "            (shap_importances_xgb_0[\"importance_mean\"] <= 0.0) |\n",
    "            (shap_importances_xgb_0[\"importance_std\"] <= 0.01) | \n",
    "            (shap_importances_xgb_0[\"skewness\"].abs() > 1) | \n",
    "            (shap_importances_xgb_0[\"negative_ratio\"] - shap_importances_xgb_0[\"positive_ratio\"] > 0.7)\n",
    "        ][\"feature\"].tolist()\n",
    "\n",
    "print(len(discard_features_0))"
   ]
  },
  {
   "cell_type": "code",
   "execution_count": 114,
   "id": "895fe502-fc57-4b2f-bb7b-8c56b36daafa",
   "metadata": {},
   "outputs": [
    {
     "data": {
      "text/html": [
       "<div>\n",
       "<style scoped>\n",
       "    .dataframe tbody tr th:only-of-type {\n",
       "        vertical-align: middle;\n",
       "    }\n",
       "\n",
       "    .dataframe tbody tr th {\n",
       "        vertical-align: top;\n",
       "    }\n",
       "\n",
       "    .dataframe thead th {\n",
       "        text-align: right;\n",
       "    }\n",
       "</style>\n",
       "<table border=\"1\" class=\"dataframe\">\n",
       "  <thead>\n",
       "    <tr style=\"text-align: right;\">\n",
       "      <th></th>\n",
       "      <th>importance_mean</th>\n",
       "      <th>importance_max</th>\n",
       "      <th>importance_std</th>\n",
       "      <th>positive_ratio</th>\n",
       "      <th>negative_ratio</th>\n",
       "      <th>skewness</th>\n",
       "    </tr>\n",
       "  </thead>\n",
       "  <tbody>\n",
       "    <tr>\n",
       "      <th>count</th>\n",
       "      <td>655.000000</td>\n",
       "      <td>655.000000</td>\n",
       "      <td>655.000000</td>\n",
       "      <td>655.000000</td>\n",
       "      <td>655.000000</td>\n",
       "      <td>176.000000</td>\n",
       "    </tr>\n",
       "    <tr>\n",
       "      <th>mean</th>\n",
       "      <td>0.009809</td>\n",
       "      <td>0.039769</td>\n",
       "      <td>0.007229</td>\n",
       "      <td>0.123958</td>\n",
       "      <td>0.140890</td>\n",
       "      <td>2.401322</td>\n",
       "    </tr>\n",
       "    <tr>\n",
       "      <th>std</th>\n",
       "      <td>0.035297</td>\n",
       "      <td>0.116558</td>\n",
       "      <td>0.020664</td>\n",
       "      <td>0.233526</td>\n",
       "      <td>0.258271</td>\n",
       "      <td>1.713600</td>\n",
       "    </tr>\n",
       "    <tr>\n",
       "      <th>min</th>\n",
       "      <td>0.000000</td>\n",
       "      <td>0.000000</td>\n",
       "      <td>0.000000</td>\n",
       "      <td>0.000000</td>\n",
       "      <td>0.000000</td>\n",
       "      <td>-0.332459</td>\n",
       "    </tr>\n",
       "    <tr>\n",
       "      <th>25%</th>\n",
       "      <td>0.000000</td>\n",
       "      <td>0.000000</td>\n",
       "      <td>0.000000</td>\n",
       "      <td>0.000000</td>\n",
       "      <td>0.000000</td>\n",
       "      <td>1.133700</td>\n",
       "    </tr>\n",
       "    <tr>\n",
       "      <th>50%</th>\n",
       "      <td>0.000000</td>\n",
       "      <td>0.000000</td>\n",
       "      <td>0.000000</td>\n",
       "      <td>0.000000</td>\n",
       "      <td>0.000000</td>\n",
       "      <td>2.039830</td>\n",
       "    </tr>\n",
       "    <tr>\n",
       "      <th>75%</th>\n",
       "      <td>0.005441</td>\n",
       "      <td>0.026359</td>\n",
       "      <td>0.006409</td>\n",
       "      <td>0.131148</td>\n",
       "      <td>0.163934</td>\n",
       "      <td>3.560000</td>\n",
       "    </tr>\n",
       "    <tr>\n",
       "      <th>max</th>\n",
       "      <td>0.476448</td>\n",
       "      <td>1.354727</td>\n",
       "      <td>0.246186</td>\n",
       "      <td>0.946721</td>\n",
       "      <td>0.954918</td>\n",
       "      <td>7.319185</td>\n",
       "    </tr>\n",
       "  </tbody>\n",
       "</table>\n",
       "</div>"
      ],
      "text/plain": [
       "       importance_mean  importance_max  importance_std  positive_ratio  \\\n",
       "count       655.000000      655.000000      655.000000      655.000000   \n",
       "mean          0.009809        0.039769        0.007229        0.123958   \n",
       "std           0.035297        0.116558        0.020664        0.233526   \n",
       "min           0.000000        0.000000        0.000000        0.000000   \n",
       "25%           0.000000        0.000000        0.000000        0.000000   \n",
       "50%           0.000000        0.000000        0.000000        0.000000   \n",
       "75%           0.005441        0.026359        0.006409        0.131148   \n",
       "max           0.476448        1.354727        0.246186        0.946721   \n",
       "\n",
       "       negative_ratio    skewness  \n",
       "count      655.000000  176.000000  \n",
       "mean         0.140890    2.401322  \n",
       "std          0.258271    1.713600  \n",
       "min          0.000000   -0.332459  \n",
       "25%          0.000000    1.133700  \n",
       "50%          0.000000    2.039830  \n",
       "75%          0.163934    3.560000  \n",
       "max          0.954918    7.319185  "
      ]
     },
     "execution_count": 114,
     "metadata": {},
     "output_type": "execute_result"
    }
   ],
   "source": [
    "shap_importances_xgb_1.describe()"
   ]
  },
  {
   "cell_type": "code",
   "execution_count": 115,
   "id": "24e687bc-6093-4640-bb6f-330318756243",
   "metadata": {},
   "outputs": [
    {
     "name": "stdout",
     "output_type": "stream",
     "text": [
      "633\n"
     ]
    }
   ],
   "source": [
    "discard_features_1 = shap_importances_xgb_1[\n",
    "            (shap_importances_xgb_1[\"importance_mean\"] <= 0.0) |\n",
    "            (shap_importances_xgb_1[\"importance_std\"] <= 0.01) | \n",
    "            (shap_importances_xgb_1[\"skewness\"].abs() > 1) | \n",
    "            (shap_importances_xgb_1[\"negative_ratio\"] - shap_importances_xgb_1[\"positive_ratio\"] > 0.7)\n",
    "        ][\"feature\"].tolist()\n",
    "\n",
    "print(len(discard_features_1))"
   ]
  },
  {
   "cell_type": "code",
   "execution_count": 116,
   "id": "7d8c6769-557e-411a-89bc-15e402bfbce3",
   "metadata": {},
   "outputs": [
    {
     "data": {
      "text/html": [
       "<div>\n",
       "<style scoped>\n",
       "    .dataframe tbody tr th:only-of-type {\n",
       "        vertical-align: middle;\n",
       "    }\n",
       "\n",
       "    .dataframe tbody tr th {\n",
       "        vertical-align: top;\n",
       "    }\n",
       "\n",
       "    .dataframe thead th {\n",
       "        text-align: right;\n",
       "    }\n",
       "</style>\n",
       "<table border=\"1\" class=\"dataframe\">\n",
       "  <thead>\n",
       "    <tr style=\"text-align: right;\">\n",
       "      <th></th>\n",
       "      <th>importance_mean</th>\n",
       "      <th>importance_max</th>\n",
       "      <th>importance_std</th>\n",
       "      <th>positive_ratio</th>\n",
       "      <th>negative_ratio</th>\n",
       "      <th>skewness</th>\n",
       "    </tr>\n",
       "  </thead>\n",
       "  <tbody>\n",
       "    <tr>\n",
       "      <th>count</th>\n",
       "      <td>655.000000</td>\n",
       "      <td>655.000000</td>\n",
       "      <td>655.000000</td>\n",
       "      <td>655.000000</td>\n",
       "      <td>655.000000</td>\n",
       "      <td>41.000000</td>\n",
       "    </tr>\n",
       "    <tr>\n",
       "      <th>mean</th>\n",
       "      <td>0.002390</td>\n",
       "      <td>0.016375</td>\n",
       "      <td>0.002854</td>\n",
       "      <td>0.015242</td>\n",
       "      <td>0.046640</td>\n",
       "      <td>3.710596</td>\n",
       "    </tr>\n",
       "    <tr>\n",
       "      <th>std</th>\n",
       "      <td>0.017374</td>\n",
       "      <td>0.103838</td>\n",
       "      <td>0.018752</td>\n",
       "      <td>0.075653</td>\n",
       "      <td>0.188550</td>\n",
       "      <td>2.372950</td>\n",
       "    </tr>\n",
       "    <tr>\n",
       "      <th>min</th>\n",
       "      <td>0.000000</td>\n",
       "      <td>0.000000</td>\n",
       "      <td>0.000000</td>\n",
       "      <td>0.000000</td>\n",
       "      <td>0.000000</td>\n",
       "      <td>-0.387794</td>\n",
       "    </tr>\n",
       "    <tr>\n",
       "      <th>25%</th>\n",
       "      <td>0.000000</td>\n",
       "      <td>0.000000</td>\n",
       "      <td>0.000000</td>\n",
       "      <td>0.000000</td>\n",
       "      <td>0.000000</td>\n",
       "      <td>2.075487</td>\n",
       "    </tr>\n",
       "    <tr>\n",
       "      <th>50%</th>\n",
       "      <td>0.000000</td>\n",
       "      <td>0.000000</td>\n",
       "      <td>0.000000</td>\n",
       "      <td>0.000000</td>\n",
       "      <td>0.000000</td>\n",
       "      <td>3.479967</td>\n",
       "    </tr>\n",
       "    <tr>\n",
       "      <th>75%</th>\n",
       "      <td>0.000000</td>\n",
       "      <td>0.000000</td>\n",
       "      <td>0.000000</td>\n",
       "      <td>0.000000</td>\n",
       "      <td>0.000000</td>\n",
       "      <td>4.708913</td>\n",
       "    </tr>\n",
       "    <tr>\n",
       "      <th>max</th>\n",
       "      <td>0.299516</td>\n",
       "      <td>1.825959</td>\n",
       "      <td>0.349474</td>\n",
       "      <td>0.696721</td>\n",
       "      <td>0.987705</td>\n",
       "      <td>9.246768</td>\n",
       "    </tr>\n",
       "  </tbody>\n",
       "</table>\n",
       "</div>"
      ],
      "text/plain": [
       "       importance_mean  importance_max  importance_std  positive_ratio  \\\n",
       "count       655.000000      655.000000      655.000000      655.000000   \n",
       "mean          0.002390        0.016375        0.002854        0.015242   \n",
       "std           0.017374        0.103838        0.018752        0.075653   \n",
       "min           0.000000        0.000000        0.000000        0.000000   \n",
       "25%           0.000000        0.000000        0.000000        0.000000   \n",
       "50%           0.000000        0.000000        0.000000        0.000000   \n",
       "75%           0.000000        0.000000        0.000000        0.000000   \n",
       "max           0.299516        1.825959        0.349474        0.696721   \n",
       "\n",
       "       negative_ratio   skewness  \n",
       "count      655.000000  41.000000  \n",
       "mean         0.046640   3.710596  \n",
       "std          0.188550   2.372950  \n",
       "min          0.000000  -0.387794  \n",
       "25%          0.000000   2.075487  \n",
       "50%          0.000000   3.479967  \n",
       "75%          0.000000   4.708913  \n",
       "max          0.987705   9.246768  "
      ]
     },
     "execution_count": 116,
     "metadata": {},
     "output_type": "execute_result"
    }
   ],
   "source": [
    "shap_importances_xgb_2.describe()"
   ]
  },
  {
   "cell_type": "code",
   "execution_count": 117,
   "id": "646032f7-5056-4b81-ab9f-dfb608a470ee",
   "metadata": {},
   "outputs": [
    {
     "name": "stdout",
     "output_type": "stream",
     "text": [
      "649\n"
     ]
    }
   ],
   "source": [
    "discard_features_2 = shap_importances_xgb_2[\n",
    "            (shap_importances_xgb_2[\"importance_mean\"] <= 0.000) |\n",
    "            (shap_importances_xgb_2[\"importance_std\"] <= 0.00) | \n",
    "            (shap_importances_xgb_2[\"skewness\"].abs() > 1) | \n",
    "            (shap_importances_xgb_2[\"negative_ratio\"] - shap_importances_xgb_2[\"positive_ratio\"] > 0.7)\n",
    "        ][\"feature\"].tolist()\n",
    "\n",
    "print(len(discard_features_2))"
   ]
  },
  {
   "cell_type": "code",
   "execution_count": 118,
   "id": "c9a538db-a1c7-41a5-8d78-33751f385d31",
   "metadata": {},
   "outputs": [
    {
     "data": {
      "text/html": [
       "<div>\n",
       "<style scoped>\n",
       "    .dataframe tbody tr th:only-of-type {\n",
       "        vertical-align: middle;\n",
       "    }\n",
       "\n",
       "    .dataframe tbody tr th {\n",
       "        vertical-align: top;\n",
       "    }\n",
       "\n",
       "    .dataframe thead th {\n",
       "        text-align: right;\n",
       "    }\n",
       "</style>\n",
       "<table border=\"1\" class=\"dataframe\">\n",
       "  <thead>\n",
       "    <tr style=\"text-align: right;\">\n",
       "      <th></th>\n",
       "      <th>importance_mean</th>\n",
       "      <th>importance_max</th>\n",
       "      <th>importance_std</th>\n",
       "      <th>positive_ratio</th>\n",
       "      <th>negative_ratio</th>\n",
       "      <th>skewness</th>\n",
       "    </tr>\n",
       "  </thead>\n",
       "  <tbody>\n",
       "    <tr>\n",
       "      <th>count</th>\n",
       "      <td>655.000000</td>\n",
       "      <td>655.000000</td>\n",
       "      <td>655.000000</td>\n",
       "      <td>655.000000</td>\n",
       "      <td>655.000000</td>\n",
       "      <td>191.000000</td>\n",
       "    </tr>\n",
       "    <tr>\n",
       "      <th>mean</th>\n",
       "      <td>0.009010</td>\n",
       "      <td>0.037514</td>\n",
       "      <td>0.007130</td>\n",
       "      <td>0.145683</td>\n",
       "      <td>0.145044</td>\n",
       "      <td>2.645884</td>\n",
       "    </tr>\n",
       "    <tr>\n",
       "      <th>std</th>\n",
       "      <td>0.029774</td>\n",
       "      <td>0.096223</td>\n",
       "      <td>0.018407</td>\n",
       "      <td>0.258841</td>\n",
       "      <td>0.257391</td>\n",
       "      <td>1.818586</td>\n",
       "    </tr>\n",
       "    <tr>\n",
       "      <th>min</th>\n",
       "      <td>0.000000</td>\n",
       "      <td>0.000000</td>\n",
       "      <td>0.000000</td>\n",
       "      <td>0.000000</td>\n",
       "      <td>0.000000</td>\n",
       "      <td>-0.858829</td>\n",
       "    </tr>\n",
       "    <tr>\n",
       "      <th>25%</th>\n",
       "      <td>0.000000</td>\n",
       "      <td>0.000000</td>\n",
       "      <td>0.000000</td>\n",
       "      <td>0.000000</td>\n",
       "      <td>0.000000</td>\n",
       "      <td>1.212048</td>\n",
       "    </tr>\n",
       "    <tr>\n",
       "      <th>50%</th>\n",
       "      <td>0.000000</td>\n",
       "      <td>0.000000</td>\n",
       "      <td>0.000000</td>\n",
       "      <td>0.000000</td>\n",
       "      <td>0.000000</td>\n",
       "      <td>2.383056</td>\n",
       "    </tr>\n",
       "    <tr>\n",
       "      <th>75%</th>\n",
       "      <td>0.005899</td>\n",
       "      <td>0.032463</td>\n",
       "      <td>0.007189</td>\n",
       "      <td>0.227459</td>\n",
       "      <td>0.229508</td>\n",
       "      <td>3.769942</td>\n",
       "    </tr>\n",
       "    <tr>\n",
       "      <th>max</th>\n",
       "      <td>0.320307</td>\n",
       "      <td>0.880265</td>\n",
       "      <td>0.171676</td>\n",
       "      <td>0.963115</td>\n",
       "      <td>0.983607</td>\n",
       "      <td>8.760103</td>\n",
       "    </tr>\n",
       "  </tbody>\n",
       "</table>\n",
       "</div>"
      ],
      "text/plain": [
       "       importance_mean  importance_max  importance_std  positive_ratio  \\\n",
       "count       655.000000      655.000000      655.000000      655.000000   \n",
       "mean          0.009010        0.037514        0.007130        0.145683   \n",
       "std           0.029774        0.096223        0.018407        0.258841   \n",
       "min           0.000000        0.000000        0.000000        0.000000   \n",
       "25%           0.000000        0.000000        0.000000        0.000000   \n",
       "50%           0.000000        0.000000        0.000000        0.000000   \n",
       "75%           0.005899        0.032463        0.007189        0.227459   \n",
       "max           0.320307        0.880265        0.171676        0.963115   \n",
       "\n",
       "       negative_ratio    skewness  \n",
       "count      655.000000  191.000000  \n",
       "mean         0.145044    2.645884  \n",
       "std          0.257391    1.818586  \n",
       "min          0.000000   -0.858829  \n",
       "25%          0.000000    1.212048  \n",
       "50%          0.000000    2.383056  \n",
       "75%          0.229508    3.769942  \n",
       "max          0.983607    8.760103  "
      ]
     },
     "execution_count": 118,
     "metadata": {},
     "output_type": "execute_result"
    }
   ],
   "source": [
    "shap_importances_xgb_3.describe()"
   ]
  },
  {
   "cell_type": "code",
   "execution_count": 119,
   "id": "cc4ba5d5-0379-48ce-b7ab-51fe03c3025a",
   "metadata": {},
   "outputs": [
    {
     "name": "stdout",
     "output_type": "stream",
     "text": [
      "627\n"
     ]
    }
   ],
   "source": [
    "discard_features_3 = shap_importances_xgb_3[\n",
    "            (shap_importances_xgb_3[\"importance_mean\"] <= 0.0) |\n",
    "            (shap_importances_xgb_3[\"importance_std\"] <= 0.01) | \n",
    "            (shap_importances_xgb_3[\"skewness\"].abs() > 1) | \n",
    "            (shap_importances_xgb_3[\"negative_ratio\"] - shap_importances_xgb_3[\"positive_ratio\"] > 0.7)\n",
    "        ][\"feature\"].tolist()\n",
    "\n",
    "print(len(discard_features_3))"
   ]
  },
  {
   "cell_type": "code",
   "execution_count": 120,
   "id": "28f628cf-d893-405f-9af3-0401277affd7",
   "metadata": {},
   "outputs": [
    {
     "data": {
      "text/html": [
       "<div>\n",
       "<style scoped>\n",
       "    .dataframe tbody tr th:only-of-type {\n",
       "        vertical-align: middle;\n",
       "    }\n",
       "\n",
       "    .dataframe tbody tr th {\n",
       "        vertical-align: top;\n",
       "    }\n",
       "\n",
       "    .dataframe thead th {\n",
       "        text-align: right;\n",
       "    }\n",
       "</style>\n",
       "<table border=\"1\" class=\"dataframe\">\n",
       "  <thead>\n",
       "    <tr style=\"text-align: right;\">\n",
       "      <th></th>\n",
       "      <th>importance_mean</th>\n",
       "      <th>importance_max</th>\n",
       "      <th>importance_std</th>\n",
       "      <th>positive_ratio</th>\n",
       "      <th>negative_ratio</th>\n",
       "      <th>skewness</th>\n",
       "    </tr>\n",
       "  </thead>\n",
       "  <tbody>\n",
       "    <tr>\n",
       "      <th>count</th>\n",
       "      <td>655.000000</td>\n",
       "      <td>655.000000</td>\n",
       "      <td>655.000000</td>\n",
       "      <td>655.000000</td>\n",
       "      <td>655.000000</td>\n",
       "      <td>196.000000</td>\n",
       "    </tr>\n",
       "    <tr>\n",
       "      <th>mean</th>\n",
       "      <td>0.010102</td>\n",
       "      <td>0.040085</td>\n",
       "      <td>0.007783</td>\n",
       "      <td>0.149137</td>\n",
       "      <td>0.149781</td>\n",
       "      <td>2.466889</td>\n",
       "    </tr>\n",
       "    <tr>\n",
       "      <th>std</th>\n",
       "      <td>0.033418</td>\n",
       "      <td>0.113928</td>\n",
       "      <td>0.022902</td>\n",
       "      <td>0.261355</td>\n",
       "      <td>0.262301</td>\n",
       "      <td>1.774683</td>\n",
       "    </tr>\n",
       "    <tr>\n",
       "      <th>min</th>\n",
       "      <td>0.000000</td>\n",
       "      <td>0.000000</td>\n",
       "      <td>0.000000</td>\n",
       "      <td>0.000000</td>\n",
       "      <td>0.000000</td>\n",
       "      <td>-1.053245</td>\n",
       "    </tr>\n",
       "    <tr>\n",
       "      <th>25%</th>\n",
       "      <td>0.000000</td>\n",
       "      <td>0.000000</td>\n",
       "      <td>0.000000</td>\n",
       "      <td>0.000000</td>\n",
       "      <td>0.000000</td>\n",
       "      <td>1.022329</td>\n",
       "    </tr>\n",
       "    <tr>\n",
       "      <th>50%</th>\n",
       "      <td>0.000000</td>\n",
       "      <td>0.000000</td>\n",
       "      <td>0.000000</td>\n",
       "      <td>0.000000</td>\n",
       "      <td>0.000000</td>\n",
       "      <td>2.284341</td>\n",
       "    </tr>\n",
       "    <tr>\n",
       "      <th>75%</th>\n",
       "      <td>0.006596</td>\n",
       "      <td>0.031752</td>\n",
       "      <td>0.007773</td>\n",
       "      <td>0.245902</td>\n",
       "      <td>0.237705</td>\n",
       "      <td>3.586357</td>\n",
       "    </tr>\n",
       "    <tr>\n",
       "      <th>max</th>\n",
       "      <td>0.376601</td>\n",
       "      <td>1.544241</td>\n",
       "      <td>0.322179</td>\n",
       "      <td>0.963115</td>\n",
       "      <td>0.983607</td>\n",
       "      <td>8.306558</td>\n",
       "    </tr>\n",
       "  </tbody>\n",
       "</table>\n",
       "</div>"
      ],
      "text/plain": [
       "       importance_mean  importance_max  importance_std  positive_ratio  \\\n",
       "count       655.000000      655.000000      655.000000      655.000000   \n",
       "mean          0.010102        0.040085        0.007783        0.149137   \n",
       "std           0.033418        0.113928        0.022902        0.261355   \n",
       "min           0.000000        0.000000        0.000000        0.000000   \n",
       "25%           0.000000        0.000000        0.000000        0.000000   \n",
       "50%           0.000000        0.000000        0.000000        0.000000   \n",
       "75%           0.006596        0.031752        0.007773        0.245902   \n",
       "max           0.376601        1.544241        0.322179        0.963115   \n",
       "\n",
       "       negative_ratio    skewness  \n",
       "count      655.000000  196.000000  \n",
       "mean         0.149781    2.466889  \n",
       "std          0.262301    1.774683  \n",
       "min          0.000000   -1.053245  \n",
       "25%          0.000000    1.022329  \n",
       "50%          0.000000    2.284341  \n",
       "75%          0.237705    3.586357  \n",
       "max          0.983607    8.306558  "
      ]
     },
     "execution_count": 120,
     "metadata": {},
     "output_type": "execute_result"
    }
   ],
   "source": [
    "shap_importances_xgb_4.describe()"
   ]
  },
  {
   "cell_type": "code",
   "execution_count": 121,
   "id": "32bd5a95-3786-4254-90af-842b0ee3b3b3",
   "metadata": {},
   "outputs": [
    {
     "name": "stdout",
     "output_type": "stream",
     "text": [
      "634\n"
     ]
    }
   ],
   "source": [
    "discard_features_4 = shap_importances_xgb_4[\n",
    "            (shap_importances_xgb_4[\"importance_mean\"] <= 0.0) |\n",
    "            (shap_importances_xgb_4[\"importance_std\"] <= 0.015) | \n",
    "            (shap_importances_xgb_4[\"skewness\"].abs() > 1) | \n",
    "            (shap_importances_xgb_4[\"negative_ratio\"] - shap_importances_xgb_4[\"positive_ratio\"] > 0.7)\n",
    "        ][\"feature\"].tolist()\n",
    "\n",
    "print(len(discard_features_4))"
   ]
  },
  {
   "cell_type": "code",
   "execution_count": 122,
   "id": "6568d04b-cf95-4a21-b8d8-a25ad9dd2587",
   "metadata": {},
   "outputs": [
    {
     "name": "stdout",
     "output_type": "stream",
     "text": [
      "564\n"
     ]
    }
   ],
   "source": [
    "class_discard_features = []\n",
    "class_discard_features.append(discard_features_0)\n",
    "class_discard_features.append(discard_features_1)\n",
    "class_discard_features.append(discard_features_2)\n",
    "class_discard_features.append(discard_features_3)\n",
    "class_discard_features.append(discard_features_4)\n",
    "\n",
    "feature_counts = {}\n",
    "for discard_list in class_discard_features:\n",
    "    for feature in discard_list:\n",
    "        if feature not in feature_counts:\n",
    "            feature_counts[feature] = 0\n",
    "        feature_counts[feature] += 1\n",
    "    \n",
    "# Selecionar as features que são descartadas em 3 ou mais classes\n",
    "combined_classes = [feature for feature, count in feature_counts.items() if count > 4]\n",
    "print(len(combined_classes))"
   ]
  },
  {
   "cell_type": "code",
   "execution_count": 123,
   "id": "24e88a1c-d691-4fd3-ab76-ff8949725cc2",
   "metadata": {},
   "outputs": [],
   "source": [
    "shap_train_df = corr_train_df.drop(columns=combined_classes, errors=\"ignore\")\n",
    "shap_control_df = corr_control_df.drop(columns=combined_classes, errors=\"ignore\")\n",
    "shap_test_df = corr_test_df.drop(columns=combined_classes, errors=\"ignore\")"
   ]
  },
  {
   "cell_type": "markdown",
   "id": "0907896b-8870-4a80-9b01-5465853623b0",
   "metadata": {},
   "source": [
    "# Models Tester"
   ]
  },
  {
   "cell_type": "code",
   "execution_count": 124,
   "id": "34a408c8-9854-4a5a-95a8-f71ea6249288",
   "metadata": {},
   "outputs": [],
   "source": [
    "results = {}\n",
    "test_results = {}"
   ]
  },
  {
   "cell_type": "code",
   "execution_count": 125,
   "id": "baa63bd2-8bf5-45d9-b492-0cc93063a141",
   "metadata": {},
   "outputs": [
    {
     "name": "stdout",
     "output_type": "stream",
     "text": [
      "(244, 91)\n",
      "(61, 91)\n"
     ]
    }
   ],
   "source": [
    "x_train, x_test, y_train, y_test = define_X_y(shap_train_df,random_state=42)\n",
    "main_exploration(x_train)\n",
    "main_exploration(x_test)\n",
    "\n",
    "scorer = make_scorer(f1_score, average='macro')"
   ]
  },
  {
   "cell_type": "markdown",
   "id": "d3a28a82-fb57-4505-be32-c1730676001f",
   "metadata": {},
   "source": [
    "## Basic Models"
   ]
  },
  {
   "cell_type": "code",
   "execution_count": 133,
   "id": "6cbab156-3e68-4bc1-89e0-734aa8af920c",
   "metadata": {},
   "outputs": [
    {
     "name": "stdout",
     "output_type": "stream",
     "text": [
      "F1 Macro Score em RandomForest: 0.3404 -> bias: 0.757 variance: 0.018 ruído: 0.401\n",
      "F1 Macro Score em XGBoost: 0.3913 -> bias: 0.759 variance: 0.0729999989271164 ruído: 0.515\n",
      "F1 Macro Score em Logistic: 0.3792 -> bias: 0.758 variance: 0.097 ruído: 1.255\n"
     ]
    },
    {
     "name": "stderr",
     "output_type": "stream",
     "text": [
      "/Library/Frameworks/Python.framework/Versions/3.12/lib/python3.12/site-packages/sklearn/metrics/_classification.py:2956: UserWarning: The y_pred values do not sum to one. Make sure to pass probabilities.\n",
      "  warnings.warn(\n"
     ]
    },
    {
     "name": "stdout",
     "output_type": "stream",
     "text": [
      "F1 Macro Score em LightGBM: 0.4149 -> bias: 0.781 variance: 0.056 ruído: 1.136\n",
      "F1 Macro Score em SVM: 0.3532 -> bias: 0.758 variance: 0.028 ruído: 0.349\n"
     ]
    },
    {
     "data": {
      "image/png": "[encoded data removed]",
      "text/plain": [
       "<Figure size 600x300 with 1 Axes>"
      ]
     },
     "metadata": {},
     "output_type": "display_data"
    },
    {
     "name": "stdout",
     "output_type": "stream",
     "text": [
      "F1 Macro Score on test set: 0.3471\n",
      "F1 Macro Score em RandomForest: 0.3404\n",
      "F1 Macro Score em XGBoost: 0.3913\n",
      "F1 Macro Score em Logistic: 0.3792\n",
      "F1 Macro Score em LightGBM: 0.4149\n",
      "F1 Macro Score em SVM: 0.3532\n",
      "F1 Macro Score em ANNModel: 0.34705653021442495\n"
     ]
    },
    {
     "data": {
      "image/png": "[encoded data removed]",
      "text/plain": [
       "<Figure size 600x300 with 1 Axes>"
      ]
     },
     "metadata": {},
     "output_type": "display_data"
    }
   ],
   "source": [
    "rf_model, xgb_model, gradient_model, cat_model, log_model, light_model,svm_model = apply_basic_models(x_train,y_train,x_test,y_test)\n",
    "\n",
    "results[\"ANNModel\"] = [ann_model,ann_init(x_train, x_test, y_train, y_test)]\n",
    "models_comparison(results, \"WithANN\", x_train, y_train)"
   ]
  },
  {
   "cell_type": "code",
   "execution_count": null,
   "id": "2a674899-93a1-4a67-9078-c744fc50d48a",
   "metadata": {},
   "outputs": [],
   "source": [
    "stacking_model = stacking_ensemble(x_train,y_train,rf_model,xgb_model,light_model,svm_model,log_model)\n",
    "results[\"StackingBasicLog\"] = [stacking_model,None]\n",
    "models_comparison(results,\"Ensemble\",x_train=x_train,y_train=y_train)"
   ]
  },
  {
   "cell_type": "code",
   "execution_count": null,
   "id": "a262eaa5-62c2-4b33-a7f3-da39b2e2b73d",
   "metadata": {
    "scrolled": true
   },
   "outputs": [],
   "source": [
    "stacking_model = stacking_ensemble(x_train,y_train,rf_model,xgb_model,light_model,svm_model,log_model)\n",
    "f1_macro = final_score(stacking_model, x_test, y_test,plot=1)\n",
    "test_results[x_train.shape[1]] = f1_macro\n",
    "plot_final_scores(test_results)"
   ]
  },
  {
   "cell_type": "markdown",
   "id": "5aab34a7-82b3-4ef6-9437-5b897b62e3e0",
   "metadata": {},
   "source": [
    "## GridSearch Tuning"
   ]
  },
  {
   "cell_type": "code",
   "execution_count": null,
   "id": "50d2a515-2874-4c3a-bf54-f167ed50b648",
   "metadata": {},
   "outputs": [],
   "source": [
    "results = {}\n",
    "svm_grid_model = svm_grid_train_model(x_train,y_train)\n",
    "results[\"SVMGrid\"] = [svm_grid_model,None]\n",
    "models_comparison(results, \"GridSearch\",x_train=x_train,y_train=y_train)\n",
    "\n",
    "log_grid_model = log_grid_train_model(x_train,y_train)\n",
    "results[\"LogGrid\"] = [log_grid_model,None]\n",
    "models_comparison(results, \"GridSearch\",x_train=x_train,y_train=y_train)\n",
    "\n",
    "rf_grid_model = random_forest_grid_model(x_train,y_train)\n",
    "results[\"RandomForestGrid\"] = [rf_grid_model,None]\n",
    "models_comparison(results, \"GridSearch\",x_train=x_train,y_train=y_train)\n",
    "\n",
    "xgb_grid_model = xgboost_grid_model(x_train,y_train)\n",
    "results[\"XGBoostGrid\"] = [xgb_grid_model,None]\n",
    "models_comparison(results, \"GridSearch\",x_train=x_train,y_train=y_train)\n",
    "\n",
    "light_grid_model = light_grid_train_model(x_train,y_train)\n",
    "results[\"lightGrid\"] = [light_grid_model,None]\n",
    "models_comparison(results, \"GridSearch\",x_train=x_train,y_train=y_train)"
   ]
  },
  {
   "cell_type": "code",
   "execution_count": null,
   "id": "53c6433c-1def-4c58-b902-9455b19c3f1e",
   "metadata": {},
   "outputs": [],
   "source": [
    "stacking_grid_model = stacking_ensemble(x_train,y_train,rf_grid_model,xgb_grid_model,light_grid_model,svm_grid_model,log_grid_model)\n",
    "results[\"StackingGridLog\"] = [stacking_grid_model,None]\n",
    "models_comparison(results,\"Ensemble\",x_train=x_train,y_train=y_train)"
   ]
  },
  {
   "cell_type": "code",
   "execution_count": null,
   "id": "d427e6d9-cc9f-4bd3-a000-f3de50b2e32b",
   "metadata": {},
   "outputs": [],
   "source": [
    "stacking_grid_model = stacking_ensemble(x_train,y_train,rf_grid_model,xgb_grid_model,light_grid_model,svm_grid_model,log_grid_model)\n",
    "models = {\"stacking\":stacking_grid_model}\n",
    "final_score(stacking_grid_model, x_test, y_test, models)"
   ]
  },
  {
   "cell_type": "code",
   "execution_count": null,
   "id": "8d9e1986-2467-47e9-a6ff-7725bca069f8",
   "metadata": {},
   "outputs": [],
   "source": [
    "save_stuff(stacking_grid_model,f\"Models/stacking_grid_model_results2.pkl\")\n",
    "save_stuff(rf_grid_model,f\"Models/rf_grid_model_results2.pkl\")\n",
    "save_stuff(xgb_grid_model,f\"Models/xgb_grid_model_results2.pkl\")\n",
    "save_stuff(light_grid_model,f\"Models/light_grid_model_results2.pkl\")\n",
    "save_stuff(svm_grid_model,f\"Models/svm_grid_model_results2.pkl\")\n",
    "save_stuff(log_grid_model,f\"Models/log_grid_model_results2.pkl\")"
   ]
  },
  {
   "cell_type": "code",
   "execution_count": null,
   "id": "c6fa01eb-31eb-44b5-b51a-faed9e4c4a8c",
   "metadata": {},
   "outputs": [],
   "source": [
    "score_list = []\n",
    "variance_list = []\n",
    "bias_list = []\n",
    "\n",
    "for i in range(10):\n",
    "    x_train, x_test, y_train, y_test = define_X_y(shap_train_df,random_state=i)\n",
    "    print(i)\n",
    "    stacking_grid_model_test = stacking_ensemble(x_train,y_train,rf_grid_model,xgb_grid_model,light_grid_model,svm_grid_model,log_grid_model)\n",
    "    f1_macros = final_score(stacking_grid_model_test, x_test, y_test,plot=0)\n",
    "    score_list.append(f1_macros)\n",
    "\n",
    "print(f\"f1: {np.mean(score_list)}\") "
   ]
  },
  {
   "cell_type": "markdown",
   "id": "dc456b74-0cb0-4a4f-9b5f-d1903169aa93",
   "metadata": {},
   "source": [
    "# Get Preds"
   ]
  },
  {
   "cell_type": "code",
   "execution_count": null,
   "id": "885db7cd-3bdb-48de-afe0-a49ee1a0f279",
   "metadata": {},
   "outputs": [],
   "source": [
    "rf_grid_model = load_stuff(\"Models/rf_grid_model_results.pkl\")\n",
    "xgb_grid_model = load_stuff(\"Models/xgb_grid_model_results.pkl\")\n",
    "light_grid_model = load_stuff(\"Models/light_grid_model_results.pkl\")\n",
    "svm_grid_model = load_stuff(\"Models/svm_grid_model_results.pkl\")\n",
    "log_grid_model = load_stuff(\"Models/log_grid_model_results.pkl\")"
   ]
  },
  {
   "cell_type": "code",
   "execution_count": null,
   "id": "402cc846-24ff-41e2-97d2-4b5fc62db65d",
   "metadata": {},
   "outputs": [],
   "source": [
    "rf_params = rf_model.get_params()\n",
    "xgb_params = xgb_model.get_params()\n",
    "light_params = light_model.get_params()\n",
    "svm_params = svm_model.get_params()"
   ]
  },
  {
   "cell_type": "code",
   "execution_count": null,
   "id": "2247faee",
   "metadata": {},
   "outputs": [],
   "source": [
    "rf_grid_params = rf_grid_model.get_params()\n",
    "xgb_grid_params = xgb_grid_model.get_params()\n",
    "light_grid_params = light_grid_model.get_params()\n",
    "svm_grid_params = svm_grid_model.get_params()\n",
    "log_grid_model = log_grid_model.get_params()"
   ]
  },
  {
   "cell_type": "code",
   "execution_count": null,
   "id": "f1494ee0-d0b0-4200-9f0a-9591994b77bf",
   "metadata": {},
   "outputs": [],
   "source": [
    "rf_preds_model = RandomForestClassifier(**rf_grid_params)\n",
    "xgb_preds_model = XGBClassifier(**xgb_grid_params)\n",
    "light_preds_model = lgb.LGBMClassifier(**light_grid_params)\n",
    "svm_preds_model = SVC(**svm_grid_params)\n",
    "log_grid_model = LogisticRegression(**log_grid_model)\n"
   ]
  },
  {
   "cell_type": "code",
   "execution_count": null,
   "id": "26f5be3b-073f-4a93-9a92-9fb167679797",
   "metadata": {
    "scrolled": true
   },
   "outputs": [],
   "source": [
    "score_list = []\n",
    "variance_list = []\n",
    "bias_list = []\n",
    "\n",
    "for i in range(10):\n",
    "    x_train, x_test, y_train, y_test = define_X_y(shap_train_df,random_state=i)\n",
    "    print(i)\n",
    "    stacking_grid_model_test = stacking_ensemble(x_train,y_train,rf_preds_model,xgb_preds_model,light_preds_model,svm_preds_model,log_grid_model)\n",
    "    f1_macros = final_score(stacking_grid_model_test, x_test, y_test,plot=0)\n",
    "    score_list.append(f1_macros)\n",
    "\n",
    "print(f\"f1: {np.mean(score_list)}\") "
   ]
  },
  {
   "cell_type": "code",
   "execution_count": null,
   "id": "f358e7f4-d4f5-4507-b055-1b303697a164",
   "metadata": {},
   "outputs": [],
   "source": [
    "stacking_model_log = stacking_ensemble(x_train,y_train,rf_preds_model,xgb_preds_model,light_preds_model,svm_preds_model,log_grid_model)"
   ]
  },
  {
   "cell_type": "markdown",
   "id": "457f1010-990c-4ed3-9cbf-cda33b16ad08",
   "metadata": {},
   "source": [
    "## Preds to CSV"
   ]
  },
  {
   "cell_type": "code",
   "execution_count": null,
   "id": "1afd3292-6a06-4138-a0ad-4fc866b60a5b",
   "metadata": {},
   "outputs": [],
   "source": [
    "def preds_to_csv(preds, df=dummy_df):\n",
    "    if len(preds) == 100:\n",
    "        y_pred_original = target_decoder(le_make_train, preds)\n",
    "        \n",
    "        df[\"Result\"] = y_pred_original\n",
    "        \n",
    "        df.to_csv(\"../Dataset/dummy_submission.csv\", index=False)\n",
    "\n",
    "        print(\"CSV updated!\\n\", y_pred_original)\n",
    "    else:\n",
    "        print(\"Invalid input!\")\n"
   ]
  },
  {
   "cell_type": "code",
   "execution_count": null,
   "id": "b786fa31-dc43-4854-9bde-848b790668f6",
   "metadata": {},
   "outputs": [],
   "source": [
    "preds_to_csv(stacking_model_log.predict(x_test))"
   ]
  },
  {
   "cell_type": "code",
   "execution_count": null,
   "id": "7e3b528d-ce9c-41ac-8321-e789c1d473fd",
   "metadata": {},
   "outputs": [],
   "source": [
    "save_stuff(stacking_model_log,\"Models/stacking_reduction_dos_shap_globais_thre_0_02.pkl\")"
   ]
  },
  {
   "cell_type": "code",
   "execution_count": null,
   "id": "05edb01b-b8ba-4244-89cb-58e8a287456a",
   "metadata": {},
   "outputs": [],
   "source": [
    "stacking_model_log"
   ]
  }
 ],
 "metadata": {
  "kernelspec": {
   "display_name": "Python 3 (ipykernel)",
   "language": "python",
   "name": "python3"
  },
  "language_info": {
   "codemirror_mode": {
    "name": "ipython",
    "version": 3
   },
   "file_extension": ".py",
   "mimetype": "text/x-python",
   "name": "python",
   "nbconvert_exporter": "python",
   "pygments_lexer": "ipython3",
   "version": "3.12.4"
  }
 },
 "nbformat": 4,
 "nbformat_minor": 5
}
