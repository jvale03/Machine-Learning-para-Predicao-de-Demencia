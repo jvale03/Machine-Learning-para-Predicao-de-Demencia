{
 "cells": [
  {
   "cell_type": "code",
   "execution_count": 1,
   "id": "03d9e7e2-f82a-4bfc-baf2-db858583c489",
   "metadata": {},
   "outputs": [],
   "source": [
    "import pandas as pd\n",
    "import matplotlib.pyplot as plt\n",
    "import seaborn as sns\n",
    "import numpy as np\n",
    "import ast\n",
    "\n",
    "from sklearn.preprocessing import MinMaxScaler, LabelEncoder\n",
    "from sklearn.decomposition import PCA\n",
    "from sklearn.model_selection import train_test_split\n",
    "from sklearn.preprocessing import StandardScaler\n",
    "from sklearn.linear_model import LogisticRegression\n",
    "from sklearn.calibration import CalibratedClassifierCV"
   ]
  },
  {
   "cell_type": "code",
   "execution_count": null,
   "id": "8458c68b-eb68-4ead-b7c5-36878d90e1d1",
   "metadata": {},
   "outputs": [],
   "source": [
    "control_df = pd.read_csv(\"../Dataset/train_radiomics_occipital_CONTROL.csv\")\n",
    "train_df = pd.read_csv(\"../Dataset/train_radiomics_hipocamp.csv\")\n",
    "test_df = pd.read_csv(\"../Dataset/test_radiomics_hipocamp.csv\")\n",
    "dummy_df = pd.read_csv(\"../Dataset/dummy_submission.csv\")\n"
   ]
  },
  {
   "cell_type": "markdown",
   "id": "de00e23b-9568-4a4e-8adc-f9e48f2b2fe6",
   "metadata": {
    "jp-MarkdownHeadingCollapsed": true
   },
   "source": [
    "# Data Exploration and Preprocessing"
   ]
  },
  {
   "cell_type": "markdown",
   "id": "09969060-3b36-4e7c-bff9-dfff0ad0892f",
   "metadata": {},
   "source": [
    "## Matplotlib Plots"
   ]
  },
  {
   "cell_type": "code",
   "execution_count": null,
   "id": "67eb1c4c-e7b7-482d-850e-f691b8ee5883",
   "metadata": {},
   "outputs": [],
   "source": [
    "def show_histogram(df,title=\"histogram\"):\n",
    "    plt.figure(figsize=(13,8))\n",
    "    plt.subplots_adjust(bottom=0.17)\n",
    "    plt.title(title)\n",
    "    sns.histplot(df)\n",
    "    plt.show()"
   ]
  },
  {
   "cell_type": "code",
   "execution_count": null,
   "id": "02d6ecc6-d883-43a6-b5c0-29268048209d",
   "metadata": {},
   "outputs": [],
   "source": [
    "def show_pie(df,title=\"pie\"):\n",
    "    labels = df.unique().tolist()\n",
    "    counts = df.value_counts()\n",
    "    sizes = [counts[var_cat] for var_cat in labels]\n",
    "    _, ax1 = plt.subplots()\n",
    "    ax1.pie(sizes, labels=labels, autopct=\"%1.1f%%\",shadow=True)\n",
    "    ax1.axis(\"equal\")\n",
    "    plt.title(title)\n",
    "    plt.show()"
   ]
  },
  {
   "cell_type": "code",
   "execution_count": null,
   "id": "2a19bf76-ea88-4087-9aad-741578c4ee1f",
   "metadata": {},
   "outputs": [],
   "source": [
    "def show_boxplot(df,title=\"boxplot\"):\n",
    "    plt.figure(figsize=(13,8))\n",
    "    plt.subplots_adjust(bottom=0.17)\n",
    "    df.boxplot()\n",
    "    plt.xticks(rotation=15)\n",
    "    plt.title(title)\n",
    "    plt.show()\n"
   ]
  },
  {
   "cell_type": "code",
   "execution_count": null,
   "id": "3b661f51-ec83-4d71-9096-2b7f823ae77e",
   "metadata": {
    "jupyter": {
     "source_hidden": true
    }
   },
   "outputs": [],
   "source": [
    "def show_heatmap(df,title=\"correlation heatmap\"):\n",
    "    df = df.select_dtypes(include=\"number\")\n",
    "    plt.figure(figsize=(13,8))\n",
    "    plt.subplots_adjust(bottom=0.25,left=0.22,right=0.95)\n",
    "    plt.xticks(rotation=15)\n",
    "    plt.title(title)\n",
    "    sns.heatmap(df.corr(),annot=True,cmap=\"coolwarm\",linewidths=0.5)\n",
    "    plt.show()"
   ]
  },
  {
   "cell_type": "code",
   "execution_count": null,
   "id": "25c8e550-2409-4393-9a27-1a6adec39ce5",
   "metadata": {},
   "outputs": [],
   "source": [
    "def show_jointplot(df,x_label,y_label,title=\"jointplot\",hue=\"Transition_code\"):\n",
    "    sns.jointplot(data=df,x=x_label,y=y_label,hue=hue)\n",
    "    plt.show()"
   ]
  },
  {
   "cell_type": "code",
   "execution_count": null,
   "id": "726f008f-882c-4f81-94c2-680441686cf1",
   "metadata": {},
   "outputs": [],
   "source": [
    "def show_catplot(df, x_label, y_label, title=\"catplot\", hue=\"Transition_code\"):\n",
    "    sns.catplot(data=df, x=x_label, y=y_label, hue=hue)\n",
    "    plt.title(title)\n",
    "    plt.xlabel(x_label)\n",
    "    plt.ylabel(y_label)\n",
    "    plt.show()"
   ]
  },
  {
   "cell_type": "code",
   "execution_count": null,
   "id": "1ce37c99-83df-498d-94f7-f74660105785",
   "metadata": {},
   "outputs": [],
   "source": [
    "def show_pairplot(df,hue=\"Transition_code\"):\n",
    "    sns.pairplot(df,hue=hue)\n",
    "    plt.show()"
   ]
  },
  {
   "cell_type": "markdown",
   "id": "ead69bb4-3a56-446a-a426-3307a6ee0dfe",
   "metadata": {},
   "source": [
    "## Outliers"
   ]
  },
  {
   "cell_type": "code",
   "execution_count": null,
   "id": "5f69ad46-6e7b-4ab8-a802-434fd11a5271",
   "metadata": {
    "jupyter": {
     "source_hidden": true
    }
   },
   "outputs": [],
   "source": [
    "def explore_outliers(df,columns):\n",
    "    number_df = df[columns].select_dtypes(include=\"number\")\n",
    "    n_columns = number_df.columns\n",
    "    # normalização para ser visualmente perceptivel nos plots\n",
    "    scaler = MinMaxScaler()\n",
    "    number_df_scaled = pd.DataFrame(scaler.fit_transform(number_df),columns=n_columns)\n",
    "\n",
    "    for i in range(0, len(n_columns),7):\n",
    "        show_boxplot(df=number_df_scaled[n_columns[i:i+7]])\n",
    "        \n",
    "# esta função faz um loop de 7 em 7 colunas por todas as colunas do dataset para uma analise geral dos outliers.\n",
    "# esta operacao é demorada e nao muito boa porque 2181 / 7 = 300 vezes\n"
   ]
  },
  {
   "cell_type": "code",
   "execution_count": null,
   "id": "a2a2c0cc-f1c7-4688-8606-1f1f7d6622a6",
   "metadata": {
    "jupyter": {
     "source_hidden": true
    }
   },
   "outputs": [],
   "source": [
    "def detect_outliers(df,column):\n",
    "    Q1 = df[column].quantile(0.25)\n",
    "    Q3 = df[column].quantile(0.75)\n",
    "    IQR = Q3 - Q1\n",
    "    lower_bound = Q1 - 1.5 * IQR\n",
    "    upper_bound = Q3 + 1.5 * IQR\n",
    "\n",
    "    # Filtrar os outliers\n",
    "    outliers = df[(df[column] < lower_bound) | (df[column] > upper_bound)]\n",
    "\n",
    "    show_boxplot(title=f\"{column} boxplot\",df=df[[column]])\n",
    "\n",
    "    print(outliers[column])\n",
    "\n",
    "# IQR method \n",
    "## considera como outliers os dados que estao 1.5*IQR acima e abaixo do primeiro e terceiro quartil, respetivamente. IQR = Q3 - Q1"
   ]
  },
  {
   "cell_type": "markdown",
   "id": "21cafb13-a640-4cd8-9157-55e43abc2075",
   "metadata": {},
   "source": [
    "## Category Encoder and Decoder\n",
    "bastante útil para poder codificar e posteriormente decodificar categorical features"
   ]
  },
  {
   "cell_type": "code",
   "execution_count": null,
   "id": "c35b3f68-896f-4f6c-99ae-5c9a7ab8182f",
   "metadata": {},
   "outputs": [],
   "source": [
    "def target_encoder(df, target=\"Transition\"):\n",
    "    le_make = LabelEncoder()\n",
    "    df[f\"{target}_code\"] = le_make.fit_transform(df[target])\n",
    "    return le_make\n",
    "\n",
    "def target_decoder(le_make, preds):\n",
    "    return le_make.inverse_transform(preds)\n"
   ]
  },
  {
   "cell_type": "code",
   "execution_count": null,
   "id": "55137e38-632e-4a7f-bec8-f85b301d451c",
   "metadata": {},
   "outputs": [],
   "source": [
    "le_make_train = target_encoder(train_df)\n",
    "le_make_control = target_encoder(control_df)"
   ]
  },
  {
   "cell_type": "markdown",
   "id": "defd781a-c2ca-41a6-aef4-6171fc24b79d",
   "metadata": {},
   "source": [
    "## Basic Exploration"
   ]
  },
  {
   "cell_type": "code",
   "execution_count": null,
   "id": "a45f7eb0-8220-498e-ae8e-22a52a893132",
   "metadata": {
    "jupyter": {
     "source_hidden": true
    }
   },
   "outputs": [],
   "source": [
    "def main_exploration(df):\n",
    "    print(df.shape) "
   ]
  },
  {
   "cell_type": "code",
   "execution_count": null,
   "id": "a09acc1e-2643-4e80-a470-b7dac62b76b5",
   "metadata": {},
   "outputs": [],
   "source": [
    "main_exploration(control_df)\n",
    "main_exploration(train_df)\n",
    "main_exploration(test_df)"
   ]
  },
  {
   "cell_type": "code",
   "execution_count": null,
   "id": "8bec9ce3-88ac-4315-be1e-e2d37feec882",
   "metadata": {
    "jupyter": {
     "source_hidden": true
    }
   },
   "outputs": [],
   "source": [
    "def numerical_exploration(df):\n",
    "    # age exploration\n",
    "    show_histogram(df[\"Age\"],title=\"Histogram\")\n",
    "    print(df[\"Age\"].describe())\n",
    "    detect_outliers(df,\"Age\")"
   ]
  },
  {
   "cell_type": "code",
   "execution_count": null,
   "id": "729e0453-f002-43af-86f4-069e7ec5cc82",
   "metadata": {
    "scrolled": true
   },
   "outputs": [],
   "source": [
    "#numerical_exploration(control_df)\n",
    "#numerical_exploration(train_df)"
   ]
  },
  {
   "cell_type": "code",
   "execution_count": null,
   "id": "1d0975ae-df06-41dd-9de8-bd5fbe6dcf46",
   "metadata": {},
   "outputs": [],
   "source": [
    "def categorical_exploration(df):\n",
    "    \"\"\"\n",
    "    Transition description:\n",
    "    CN - Cognitive Normal, estado normal\n",
    "    MCI - Mild Cognitive Impairment, estado entre o avanço normal da perda de memoria com a idade e um certo declinio serio de demencia\n",
    "    AD - Azlheimer Disease, forma mais comum de demencia nas pessoas mais velhas\n",
    "    \"\"\"\n",
    "    categorical_df = df[[\"Sex\",\"Transition\"]]\n",
    "\n",
    "    for column in categorical_df.columns:\n",
    "        show_histogram(categorical_df[column],title=f\"{column} histogram\")\n",
    "        print(df[column].value_counts())\n"
   ]
  },
  {
   "cell_type": "code",
   "execution_count": null,
   "id": "f6da80d9-b7ee-4818-b490-708ed35d2e09",
   "metadata": {
    "scrolled": true
   },
   "outputs": [],
   "source": [
    "#categorical_exploration(train_df)"
   ]
  },
  {
   "cell_type": "code",
   "execution_count": null,
   "id": "24c6b152-dacf-4223-9fbd-81ae5d5aa0d8",
   "metadata": {
    "scrolled": true
   },
   "outputs": [],
   "source": [
    "show_catplot(train_df, \"Age\", \"Transition\", hue=\"Sex\")\n",
    "show_heatmap(train_df[[\"Age\",\"Transition_code\",\"Sex\"]])"
   ]
  },
  {
   "cell_type": "code",
   "execution_count": null,
   "id": "576c3217-0d4f-43d6-b8ce-8176e1ae5c1a",
   "metadata": {
    "scrolled": true
   },
   "outputs": [],
   "source": [
    "sns.heatmap(train_df.isnull(), yticklabels=False, cbar=False, cmap=\"viridis\")"
   ]
  },
  {
   "cell_type": "markdown",
   "id": "64fbbb35-07aa-4112-8a11-6f4edae3966b",
   "metadata": {
    "jp-MarkdownHeadingCollapsed": true
   },
   "source": [
    "## Diagnostic Exploration"
   ]
  },
  {
   "cell_type": "code",
   "execution_count": null,
   "id": "8485f671-d58f-41f0-87ad-21d82eb4fd2a",
   "metadata": {},
   "outputs": [],
   "source": [
    "diagnostics_configs_columns = [\"diagnostics_Configuration_Settings\",\"diagnostics_Configuration_EnabledImageTypes\"]\n",
    "def diagnostics_configs(df):\n",
    "    for col in diagnostics_configs_columns:\n",
    "        print(len(df[col].unique()))"
   ]
  },
  {
   "cell_type": "code",
   "execution_count": null,
   "id": "73c60c14-32d2-4892-b1a9-d825b3f074e8",
   "metadata": {},
   "outputs": [],
   "source": [
    "diagnostics_configs(control_df)\n",
    "diagnostics_configs(train_df)"
   ]
  },
  {
   "cell_type": "code",
   "execution_count": null,
   "id": "a94d0b5b-c4f7-45cf-a071-226ab7ccab68",
   "metadata": {},
   "outputs": [],
   "source": [
    "diagnostics_versions_columns = [\"diagnostics_Versions_PyRadiomics\",\"diagnostics_Versions_Numpy\",\"diagnostics_Versions_SimpleITK\",\"diagnostics_Versions_PyWavelet\",\"diagnostics_Versions_Python\"] \n",
    "def diagnostics_versions_explorer(df):\n",
    "    for column in diagnostics_versions_columns:\n",
    "        print(column,\": \")\n",
    "        values = df[column].unique()\n",
    "        print(values)"
   ]
  },
  {
   "cell_type": "code",
   "execution_count": null,
   "id": "04c81b11-98fd-4c41-b3ed-fc27a9032a20",
   "metadata": {
    "scrolled": true
   },
   "outputs": [],
   "source": [
    "diagnostics_versions_explorer(control_df)\n",
    "diagnostics_versions_explorer(train_df)"
   ]
  },
  {
   "cell_type": "code",
   "execution_count": null,
   "id": "3d123a93-fd04-4c58-a225-599b0be63e1a",
   "metadata": {},
   "outputs": [],
   "source": [
    "diagnostics_image_columns = [\"diagnostics_Image-original_Mean\",\"diagnostics_Image-original_Minimum\",\"diagnostics_Image-original_Maximum\"]\n",
    "def diagnostics_image_explorer(df):\n",
    "\n",
    "    for column in diagnostics_image_columns:\n",
    "        show_histogram(df=df[column],title=column)\n",
    "\n",
    "    explore_outliers(df,diagnostics_image_columns)\n",
    "\n",
    "    print(df[diagnostics_image_columns].describe())\n",
    "    print(df[diagnostics_image_columns].info())\n",
    "    "
   ]
  },
  {
   "cell_type": "code",
   "execution_count": null,
   "id": "a3aa6c21-5c56-49c0-a49e-0ba38d224d0b",
   "metadata": {
    "scrolled": true
   },
   "outputs": [],
   "source": [
    "diagnostics_image_explorer(control_df)\n",
    "diagnostics_image_explorer(train_df)"
   ]
  },
  {
   "cell_type": "code",
   "execution_count": null,
   "id": "80c70f70-35f7-4fd2-afc6-bc4fc403ff74",
   "metadata": {},
   "outputs": [],
   "source": [
    "diagnostics_mask_columns = [\"diagnostics_Mask-original_BoundingBox\",\"diagnostics_Mask-original_VoxelNum\",\"diagnostics_Mask-original_VolumeNum\",\"diagnostics_Mask-original_CenterOfMassIndex\",\"diagnostics_Mask-original_CenterOfMass\"]\n",
    "def diagnostics_mask_explorer(df):\n",
    "\n",
    "    \n",
    "    for column in diagnostics_mask_columns:\n",
    "        print(column,\": \")\n",
    "        values = df[column].unique()\n",
    "        print(len(values))\n",
    "        show_histogram(title=column,df=df[column])\n",
    "    \n",
    "\n",
    "    detect_outliers(df,\"diagnostics_Mask-original_VoxelNum\")\n",
    "    detect_outliers(df,\"diagnostics_Mask-original_VolumeNum\")\n",
    "    explore_outliers(df,columns=diagnostics_mask_columns)\n",
    "    \n",
    "    print(df[diagnostics_mask_columns].describe(),\"\\n\")\n",
    "    print(df[diagnostics_mask_columns].info())"
   ]
  },
  {
   "cell_type": "code",
   "execution_count": null,
   "id": "09c2cb54-bea9-432a-b79c-56313e5bbe77",
   "metadata": {
    "scrolled": true
   },
   "outputs": [],
   "source": [
    "diagnostics_mask_explorer(control_df)\n",
    "diagnostics_mask_explorer(train_df)"
   ]
  },
  {
   "cell_type": "code",
   "execution_count": null,
   "id": "c4d17672-35fd-44d6-a47b-77a78300c248",
   "metadata": {},
   "outputs": [],
   "source": [
    "diagnostics = [\"diagnostics_Mask-original_Spacing\",\"diagnostics_Mask-original_Size\",\"diagnostics_Mask-original_BoundingBox\",\"diagnostics_Mask-original_VoxelNum\",\"diagnostics_Mask-original_VolumeNum\",\"diagnostics_Mask-original_CenterOfMassIndex\",\"diagnostics_Mask-original_CenterOfMass\",\"diagnostics_Image-original_Spacing\",\"diagnostics_Image-original_Size\",\"diagnostics_Image-original_Mean\",\"diagnostics_Image-original_Maximum\"]\n",
    "def masks_images_correlation(df):\n",
    "    show_heatmap(df=df[diagnostics])   "
   ]
  },
  {
   "cell_type": "code",
   "execution_count": null,
   "id": "fb237247-e78b-4a18-b61b-b5c580cb91a9",
   "metadata": {
    "scrolled": true
   },
   "outputs": [],
   "source": [
    "masks_images_correlation(control_df)"
   ]
  },
  {
   "cell_type": "markdown",
   "id": "250088e2-8728-4d4a-9e39-41f98dee56ce",
   "metadata": {},
   "source": [
    "## Drop Unnecessary Columns"
   ]
  },
  {
   "cell_type": "code",
   "execution_count": null,
   "id": "63b50679-d7ac-4164-9eac-bc287ebafc07",
   "metadata": {
    "scrolled": true
   },
   "outputs": [],
   "source": [
    "unnecessary_columns = diagnostics_versions_columns + diagnostics_configs_columns +[\"diagnostics_Image-original_Dimensionality\",\"diagnostics_Image-original_Minimum\",\"diagnostics_Image-original_Size\",\"diagnostics_Mask-original_Spacing\",\"diagnostics_Image-original_Spacing\",\"diagnostics_Mask-original_Size\",\"diagnostics_Image-original_Hash\",\"diagnostics_Mask-original_Hash\",\"ID\",\"Image\",\"Mask\",'diagnostics_Mask-original_CenterOfMassIndex']\n",
    "\n",
    "unnecessary_df = pd.DataFrame()\n",
    "for col in unnecessary_columns+[\"Transition\"]:\n",
    "    le_make = LabelEncoder()\n",
    "    unnecessary_df[f\"{col}_code\"] = le_make.fit_transform(train_df[col])\n",
    "\n",
    "show_heatmap(unnecessary_df)"
   ]
  },
  {
   "cell_type": "code",
   "execution_count": null,
   "id": "f4c7eb26-4b85-422f-857f-2691ce47b00e",
   "metadata": {},
   "outputs": [],
   "source": [
    "control_df = control_df.drop(columns=unnecessary_columns,axis=1,errors=\"ignore\")\n",
    "train_df = train_df.drop(columns=unnecessary_columns,axis=1,errors=\"ignore\")\n",
    "test_df = test_df.drop(columns=unnecessary_columns,axis=1,errors=\"ignore\")"
   ]
  },
  {
   "cell_type": "code",
   "execution_count": null,
   "id": "2a33e03a-3437-405f-a320-799c8dc26301",
   "metadata": {},
   "outputs": [],
   "source": [
    "main_exploration(train_df)"
   ]
  },
  {
   "cell_type": "markdown",
   "id": "5e86ac7f-cb97-444b-9a7f-28837e770263",
   "metadata": {},
   "source": [
    "## Top Correlations Function\n",
    "Esta função devolve as colunas mais/menos correlacionadas com a feature target desejada"
   ]
  },
  {
   "cell_type": "code",
   "execution_count": null,
   "id": "1bfcf321-46ea-47bc-8a12-f736bdfe3e34",
   "metadata": {},
   "outputs": [],
   "source": [
    "def top_correlations(df, target=\"Transition_code\",starts_with=None,number=10,ascending=False):\n",
    "    if starts_with == None:\n",
    "        corr_columns = df.select_dtypes(include=[\"int64\",\"float64\"]).columns\n",
    "    else:\n",
    "        corr_columns = df.columns[df.columns.str.startswith(starts_with)]\n",
    "\n",
    "    corr_matrix = df[corr_columns].corrwith(df[target])\n",
    "\n",
    "    top_features = corr_matrix.sort_values(ascending=ascending).head(number).index.tolist()\n",
    "    top_features.append(target)\n",
    "    top_features = pd.Index(top_features)\n",
    "    \n",
    "    return top_features\n",
    "\n",
    "corr_columns = train_df.select_dtypes(include=[\"int64\",\"float64\"]).columns\n",
    "corr_matrix = train_df[corr_columns].corrwith(train_df[\"Transition_code\"])\n"
   ]
  },
  {
   "cell_type": "markdown",
   "id": "7f2ddc7a-97c8-436d-95ae-6b8e2ef2a3d9",
   "metadata": {},
   "source": [
    "## Nunique Columns PreProcessing"
   ]
  },
  {
   "cell_type": "code",
   "execution_count": null,
   "id": "514999f6-b86e-4f62-b549-3814f146b0a0",
   "metadata": {
    "scrolled": true
   },
   "outputs": [],
   "source": [
    "nunique_columns = train_df.columns[train_df.nunique() == 1].tolist()\n",
    "nunique_columns.append(\"Transition_code\")\n",
    "nunique_corr_columns = top_correlations(train_df[nunique_columns],number=10000)\n",
    "\n",
    "show_heatmap(train_df[nunique_corr_columns])\n",
    "\n",
    "main_exploration(train_df)\n",
    "main_exploration(control_df)\n",
    "main_exploration(test_df)\n",
    "\n",
    "nunique_columns.remove(\"Transition_code\")\n",
    "train_df = train_df.drop(columns=nunique_columns, errors=\"ignore\")\n",
    "test_df = test_df.drop(columns=nunique_columns, errors=\"ignore\")\n",
    "control_df = control_df.drop(columns=nunique_columns, errors=\"ignore\")\n"
   ]
  },
  {
   "cell_type": "markdown",
   "id": "d283912f-ba79-4618-9066-6b6665929b64",
   "metadata": {},
   "source": [
    "## Non Numeric Exploration"
   ]
  },
  {
   "cell_type": "code",
   "execution_count": null,
   "id": "4ffe7d12-5af0-4711-9b1d-ae8fb398eed4",
   "metadata": {},
   "outputs": [],
   "source": [
    "def non_numeric_exploration(df):\n",
    "    non_numeric_columns = train_df.select_dtypes(exclude=['int64', 'float64']).columns\n",
    "    return non_numeric_columns"
   ]
  },
  {
   "cell_type": "code",
   "execution_count": null,
   "id": "1654a24d-0a8e-47d3-8f53-b5de4a9fe9db",
   "metadata": {
    "scrolled": true
   },
   "outputs": [],
   "source": [
    "non_numeric_columns = non_numeric_exploration(train_df)\n",
    "print(train_df[non_numeric_columns].head())"
   ]
  },
  {
   "cell_type": "markdown",
   "id": "3d9f3837-abea-4e89-8ca1-df43fd1e4992",
   "metadata": {},
   "source": [
    "## Non Numerical Columns PreProcessing"
   ]
  },
  {
   "cell_type": "code",
   "execution_count": null,
   "id": "a76610d5-0497-4111-867a-b3e0e467794a",
   "metadata": {},
   "outputs": [],
   "source": [
    "# Separar a coluna de BoundingBox em várias colunas\n",
    "train_df[['x_min', 'y_min', 'largura', 'altura', 'profundidade', 'extra']] = train_df['diagnostics_Mask-original_BoundingBox'].str.strip('()').str.split(',', expand=True).astype(float)\n",
    "\n",
    "\n",
    "# Separar a coluna de CenterOfMassIndex em várias colunas\n",
    "train_df[['x_center', 'y_center', 'z_center']] = train_df['diagnostics_Mask-original_CenterOfMass'].str.strip('()').str.split(',', expand=True).astype(float)"
   ]
  },
  {
   "cell_type": "code",
   "execution_count": null,
   "id": "4e1dc9d9-944f-4686-bf8b-aaf626154ee1",
   "metadata": {},
   "outputs": [],
   "source": [
    "# Separar a coluna de BoundingBox em várias colunas\n",
    "test_df[['x_min', 'y_min', 'largura', 'altura', 'profundidade', 'extra']] = test_df['diagnostics_Mask-original_BoundingBox'].str.strip('()').str.split(',', expand=True).astype(float)\n",
    "\n",
    "\n",
    "# Separar a coluna de CenterOfMassIndex em várias colunas\n",
    "test_df[['x_center', 'y_center', 'z_center']] = test_df['diagnostics_Mask-original_CenterOfMass'].str.strip('()').str.split(',', expand=True).astype(float)"
   ]
  },
  {
   "cell_type": "code",
   "execution_count": null,
   "id": "2973e4ed-4d96-43af-91d0-db997fcdf23a",
   "metadata": {},
   "outputs": [],
   "source": [
    "# Separar a coluna de BoundingBox em várias colunas\n",
    "control_df[['x_min', 'y_min', 'largura', 'altura', 'profundidade', 'extra']] = control_df['diagnostics_Mask-original_BoundingBox'].str.strip('()').str.split(',', expand=True).astype(float)\n",
    "\n",
    "\n",
    "# Separar a coluna de CenterOfMassIndex em várias colunas\n",
    "control_df[['x_center', 'y_center', 'z_center']] = control_df['diagnostics_Mask-original_CenterOfMass'].str.strip('()').str.split(',', expand=True).astype(float)"
   ]
  },
  {
   "cell_type": "code",
   "execution_count": null,
   "id": "333858fb-662c-4965-8e38-fb1f67bfbe9d",
   "metadata": {},
   "outputs": [],
   "source": [
    "train_df = train_df.drop(['diagnostics_Mask-original_BoundingBox', 'diagnostics_Mask-original_CenterOfMass'], axis=1, errors=\"ignore\")\n",
    "test_df = test_df.drop(['diagnostics_Mask-original_BoundingBox', 'diagnostics_Mask-original_CenterOfMass'], axis=1, errors=\"ignore\")\n",
    "control_df = control_df.drop(['diagnostics_Mask-original_BoundingBox', 'diagnostics_Mask-original_CenterOfMass'], axis=1, errors=\"ignore\")"
   ]
  },
  {
   "cell_type": "code",
   "execution_count": null,
   "id": "e3b2b29a-5171-4a45-95ab-6e87b6db55a5",
   "metadata": {
    "scrolled": true
   },
   "outputs": [],
   "source": [
    "new_numeric_columns = ['x_min', 'y_min', 'largura', 'altura', 'profundidade', 'extra','x_center', 'y_center', 'z_center',\"Transition_code\"]\n",
    "show_heatmap(train_df[new_numeric_columns])\n"
   ]
  },
  {
   "cell_type": "markdown",
   "id": "a3806282-dd13-4481-8071-2106b72683bc",
   "metadata": {},
   "source": [
    "## Numeric Diagnostics Corr"
   ]
  },
  {
   "cell_type": "code",
   "execution_count": null,
   "id": "655a8df0-10e1-4d59-904f-244a04c157f3",
   "metadata": {
    "scrolled": true
   },
   "outputs": [],
   "source": [
    "diagnostics_corr = top_correlations(train_df, starts_with=\"diagnostics\")\n",
    "show_heatmap(train_df[diagnostics_corr])"
   ]
  },
  {
   "cell_type": "markdown",
   "id": "7b1c7b56-e3cc-4ebf-bb94-4d1e2df60553",
   "metadata": {},
   "source": [
    "## Radiomics"
   ]
  },
  {
   "cell_type": "code",
   "execution_count": null,
   "id": "696705d2-2e1f-41c8-b0ae-45746173f973",
   "metadata": {
    "scrolled": true
   },
   "outputs": [],
   "source": [
    "rad_corr = top_correlations(train_df,starts_with=\"lbp\",number=20)\n",
    "show_heatmap(train_df[rad_corr])"
   ]
  },
  {
   "cell_type": "markdown",
   "id": "bcee0aef-cf41-4cd8-ad1f-e02a3ba8825c",
   "metadata": {},
   "source": [
    "## Top Correlations\n",
    "Retorna as X colunas com melhor correlação com o nosso target"
   ]
  },
  {
   "cell_type": "code",
   "execution_count": null,
   "id": "8a0ee53f-bb30-4fc0-b890-9d0537d5a5f8",
   "metadata": {
    "scrolled": true
   },
   "outputs": [],
   "source": [
    "top_features = top_correlations(train_df)\n",
    "#show_heatmap(train_df[top_features])"
   ]
  },
  {
   "cell_type": "markdown",
   "id": "ddefa865-cd99-40f9-ac47-1d2ab2dd885f",
   "metadata": {},
   "source": [
    "# Data Processing"
   ]
  },
  {
   "cell_type": "markdown",
   "id": "e09d0320-68c3-4d0e-a1b7-732c4185fbb9",
   "metadata": {},
   "source": [
    "## Data Scaler\n",
    "Padroniza os dados"
   ]
  },
  {
   "cell_type": "code",
   "execution_count": null,
   "id": "3edbacd9-64ab-4552-9923-7a6d960c497a",
   "metadata": {},
   "outputs": [],
   "source": [
    "from sklearn.preprocessing import StandardScaler\n",
    "\n",
    "def data_scaler(df):\n",
    "    scaler_df = df.drop(columns=[\"Transition\",\"Transition_code\"],errors=\"ignore\")\n",
    "    scaler = StandardScaler()\n",
    "    df_scaled = pd.DataFrame(scaler.fit_transform(scaler_df),columns=scaler_df.columns)\n",
    "    return df_scaled\n"
   ]
  },
  {
   "cell_type": "code",
   "execution_count": null,
   "id": "f0172167-cfec-40f1-9b0a-0465931a2403",
   "metadata": {},
   "outputs": [],
   "source": [
    "scaled_train_df = data_scaler(train_df)\n",
    "scaled_control_df = data_scaler(control_df)\n",
    "scaled_test_df = data_scaler(test_df)"
   ]
  },
  {
   "cell_type": "markdown",
   "id": "a36c6f0b-97cd-4d92-b0e5-66cba539f8c7",
   "metadata": {},
   "source": [
    "## Data Normalizer\n",
    "Normalizar dados"
   ]
  },
  {
   "cell_type": "code",
   "execution_count": null,
   "id": "8757e10a-2d4c-4578-afa3-1c8bb0405d95",
   "metadata": {},
   "outputs": [],
   "source": [
    "from sklearn.preprocessing import MinMaxScaler\n",
    "\n",
    "def data_normalizer(df):\n",
    "    scaler_df = df.drop(columns=[\"Transition\",\"Transition_code\"],errors=\"ignore\")\n",
    "    \n",
    "    scaler = MinMaxScaler()\n",
    "    df_normalized = pd.DataFrame(scaler.fit_transform(scaler_df), columns=scaler_df.columns)\n",
    "    \n",
    "    return df_normalized"
   ]
  },
  {
   "cell_type": "code",
   "execution_count": null,
   "id": "58c9832f-09ac-4eba-a2b5-39e7d44f6719",
   "metadata": {},
   "outputs": [],
   "source": [
    "normalized_train_df = data_normalizer(train_df)\n",
    "normalized_control_df = data_normalizer(control_df)\n",
    "normalized_test_df = data_normalizer(test_df)\n",
    "target = \"Transition_code\""
   ]
  },
  {
   "cell_type": "code",
   "execution_count": null,
   "id": "a9b3c974-bc86-4985-9e40-fb203ff2bee1",
   "metadata": {},
   "outputs": [],
   "source": [
    "corr_df = scaled_train_df.copy()\n",
    "corr_df.loc[:,\"Transition_code\"] = train_df[\"Transition_code\"].values"
   ]
  },
  {
   "cell_type": "markdown",
   "id": "d1c75d29-c78e-4489-8e2c-0b44a4fe96cb",
   "metadata": {},
   "source": [
    "## Correlation Analisys"
   ]
  },
  {
   "cell_type": "code",
   "execution_count": null,
   "id": "bd2f24ad-8eaf-4e00-924a-7c65f6be5bc7",
   "metadata": {},
   "outputs": [],
   "source": [
    "corr_threshold = 0.01\n",
    "def apply_correlation(df,threshold):\n",
    "    df = df.drop(columns=[\"Transition\"],errors=\"ignore\")\n",
    "    correlation = df.corr()[target].abs().sort_values(ascending=False)\n",
    "    important_features = correlation[correlation > threshold].index.tolist()\n",
    "    \n",
    "    if target in important_features:\n",
    "        important_features.remove(target)\n",
    "\n",
    "    return important_features\n"
   ]
  },
  {
   "cell_type": "code",
   "execution_count": null,
   "id": "07783ac8-86c2-4fa2-8520-e86a222071d6",
   "metadata": {},
   "outputs": [],
   "source": [
    "corr_important_features = apply_correlation(corr_df,corr_threshold)"
   ]
  },
  {
   "cell_type": "code",
   "execution_count": null,
   "id": "501800b0-3879-4d6d-969b-8e78a3bb03c0",
   "metadata": {},
   "outputs": [],
   "source": [
    "corr_train_df = scaled_train_df[corr_important_features].copy()\n",
    "corr_control_df = scaled_control_df[corr_important_features].copy()\n",
    "corr_test_df = scaled_test_df[corr_important_features].copy()"
   ]
  },
  {
   "cell_type": "code",
   "execution_count": null,
   "id": "d7267074-6bb3-4023-a56f-ebbda67f72e0",
   "metadata": {},
   "outputs": [],
   "source": [
    "main_exploration(corr_train_df)\n",
    "main_exploration(corr_control_df)\n",
    "main_exploration(corr_test_df)"
   ]
  },
  {
   "cell_type": "code",
   "execution_count": null,
   "id": "e7721812-fbd1-4184-b9cb-3dc7d1f789c9",
   "metadata": {},
   "outputs": [],
   "source": [
    "print(\"Important: \",len(corr_important_features))"
   ]
  },
  {
   "cell_type": "markdown",
   "id": "c34caf3b-acb2-4fd4-9b46-61818697678c",
   "metadata": {},
   "source": [
    "## Add Transition_code to DataSets"
   ]
  },
  {
   "cell_type": "code",
   "execution_count": null,
   "id": "93cc6f55-14c9-4e02-8382-73b7f7737757",
   "metadata": {},
   "outputs": [],
   "source": [
    "corr_train_df.loc[:,\"Transition_code\"] = train_df[\"Transition_code\"].values\n",
    "corr_control_df.loc[:,\"Transition_code\"] = control_df[\"Transition_code\"].values"
   ]
  },
  {
   "cell_type": "code",
   "execution_count": null,
   "id": "c1257034-5ada-48e9-9543-0a100580ee65",
   "metadata": {
    "scrolled": true
   },
   "outputs": [],
   "source": [
    "show_boxplot(corr_train_df)"
   ]
  },
  {
   "cell_type": "markdown",
   "id": "a3b5bbe3-3f17-4006-8bc3-4e6901bba565",
   "metadata": {},
   "source": [
    "# Testing Phase"
   ]
  },
  {
   "cell_type": "markdown",
   "id": "5aa8a240-2e5e-4757-bc03-25a98957a38a",
   "metadata": {},
   "source": [
    "## ML Models"
   ]
  },
  {
   "cell_type": "code",
   "execution_count": null,
   "id": "72aaeabb-9950-41cf-b8e6-5519dd28094a",
   "metadata": {},
   "outputs": [],
   "source": [
    "from sklearn.ensemble import RandomForestClassifier, VotingClassifier, StackingClassifier, GradientBoostingClassifier\n",
    "from sklearn.metrics import accuracy_score, f1_score, classification_report\n",
    "from sklearn.model_selection import GridSearchCV, RandomizedSearchCV, cross_val_score\n",
    "from xgboost import XGBClassifier"
   ]
  },
  {
   "cell_type": "code",
   "execution_count": null,
   "id": "3358ee72-0ef7-43f8-92fb-3dac460ae029",
   "metadata": {},
   "outputs": [],
   "source": [
    "def define_X_y(train_df, test_df = pd.DataFrame()):\n",
    "    if test_df.empty:\n",
    "        X = train_df.drop(columns=[\"Transition_code\",\"Transition\"],errors=\"ignore\")\n",
    "        y = train_df[\"Transition_code\"]\n",
    "\n",
    "        x_train, x_test, y_train, y_test = train_test_split(X, y, test_size=0.2,random_state=27)\n",
    "\n",
    "        return x_train, x_test, y_train, y_test\n",
    "\n",
    "    else:\n",
    "        x_train = train_df.drop(\"Transition_code\",axis=1,errors=\"ignore\")\n",
    "        y_train = train_df[\"Transition_code\"]\n",
    "        x_test = test_df\n",
    "\n",
    "        return x_train, x_test, y_train, None"
   ]
  },
  {
   "cell_type": "code",
   "execution_count": null,
   "id": "8826dfa7-3413-495f-8f51-a7a621c67f88",
   "metadata": {},
   "outputs": [],
   "source": [
    "grid_search_mode = False\n",
    "\n",
    "random_forest_params = {'n_estimators': 200, 'min_samples_split': 5, 'min_samples_leaf': 1, 'max_features': 'sqrt', 'max_depth': None}\n",
    "xgb_params = {'subsample': 1.0, 'n_estimators': 100, 'max_depth': 3, 'learning_rate': 0.1, 'colsample_bytree': 1.0}\n",
    "gradient_params = {'n_estimators': 200, 'min_samples_split': 2, 'min_samples_leaf': 2, 'max_depth': 3, 'learning_rate': 0.1}\n",
    "\n",
    "results = {}"
   ]
  },
  {
   "cell_type": "code",
   "execution_count": null,
   "id": "102e5b63-6215-4d02-8d79-7229b4643aed",
   "metadata": {},
   "outputs": [],
   "source": [
    "x_train, x_test, y_train, y_test = define_X_y(corr_train_df,corr_test_df)\n",
    "\n",
    "main_exploration(x_train)\n",
    "main_exploration(x_test)"
   ]
  },
  {
   "cell_type": "markdown",
   "id": "749e6d67-77a5-4a28-9080-8004fb3e8e1c",
   "metadata": {},
   "source": [
    "### Random Forest w/ GridSearch Cross Validation"
   ]
  },
  {
   "cell_type": "code",
   "execution_count": null,
   "id": "47791c60-7bc0-4a06-a793-5bd54281eb01",
   "metadata": {},
   "outputs": [],
   "source": [
    "def random_forest(x_train, y_train, best_params=None, mode=False):\n",
    "    random_forest = RandomForestClassifier(random_state=27, class_weight='balanced', max_samples=0.8,n_jobs=-1)\n",
    "\n",
    "    if best_params is not None:\n",
    "        random_forest.set_params(**best_params)\n",
    "    if mode:\n",
    "        param_grid = {\n",
    "            'n_estimators': [100, 200, 300],\n",
    "            'max_depth': [10, 20, None],\n",
    "            'min_samples_split': [2, 5, 10],\n",
    "            'min_samples_leaf': [1, 2, 4],\n",
    "            'max_features': ['sqrt']\n",
    "        }\n",
    "        \n",
    "        grid_search_random = RandomizedSearchCV(\n",
    "            estimator=random_forest,\n",
    "            param_distributions=param_grid,\n",
    "            n_iter=60,\n",
    "            cv=5,\n",
    "            scoring='f1_macro',\n",
    "            n_jobs=-1,\n",
    "            random_state=27\n",
    "        )\n",
    "\n",
    "        grid_search_random.fit(x_train, y_train)\n",
    "        best_params = grid_search_random.best_params_\n",
    "        print(f\"Melhores parâmetros: {best_params}\")\n",
    "        \n",
    "        random_forest = grid_search_random.best_estimator_\n",
    "\n",
    "    random_forest.fit(x_train, y_train)\n",
    "\n",
    "\n",
    "    return random_forest, best_params\n"
   ]
  },
  {
   "cell_type": "code",
   "execution_count": null,
   "id": "3b4400dd-b1b9-4578-8a8f-6565e170a55f",
   "metadata": {},
   "outputs": [],
   "source": [
    "random_forest_model, random_forest_params = random_forest(x_train, y_train,best_params=random_forest_params,mode=grid_search_mode)"
   ]
  },
  {
   "cell_type": "code",
   "execution_count": null,
   "id": "c68a8c9a-8103-4c54-aa1d-292d9f5086d6",
   "metadata": {},
   "outputs": [],
   "source": [
    "random_forest_pred = random_forest_model.predict(x_test)"
   ]
  },
  {
   "cell_type": "markdown",
   "id": "82840602-7224-4bd9-a41b-f0398d289acc",
   "metadata": {},
   "source": [
    "### XGBoost w/ GridSearch Cross Validation"
   ]
  },
  {
   "cell_type": "code",
   "execution_count": null,
   "id": "15cb24b5-9368-40b2-84dc-6306e0562825",
   "metadata": {},
   "outputs": [],
   "source": [
    "def xgboost_model(x_train, y_train, best_params=None, mode=False):\n",
    "    xgb_model = XGBClassifier(eval_metric=\"mlogloss\", random_state=27,n_jobs=-1)\n",
    "\n",
    "    if best_params is not None:\n",
    "        xgb_model.set_params(**best_params)\n",
    "    if mode:\n",
    "        param_grid = {\n",
    "            'n_estimators': [100, 200],\n",
    "            'max_depth': [3, 6],\n",
    "            'learning_rate': [0.05, 0.1],\n",
    "            'subsample': [0.8, 1.0],\n",
    "            'colsample_bytree': [0.8, 1.0]\n",
    "        }\n",
    "\n",
    "        grid_search_random = RandomizedSearchCV(\n",
    "            estimator=xgb_model,\n",
    "            param_distributions=param_grid,\n",
    "            n_iter=20,\n",
    "            cv=4,\n",
    "            scoring='f1_macro',\n",
    "            n_jobs=-1,\n",
    "            random_state=27\n",
    "        )\n",
    "\n",
    "        grid_search_random.fit(x_train, y_train)\n",
    "        best_params = grid_search_random.best_params_\n",
    "        print(f\"Melhores parâmetros: {best_params}\")\n",
    "        \n",
    "        xgb_model = grid_search_random.best_estimator_\n",
    "\n",
    "    xgb_model.fit(x_train, y_train)\n",
    "    return xgb_model, best_params\n"
   ]
  },
  {
   "cell_type": "code",
   "execution_count": null,
   "id": "32719f5d-a954-4105-92fb-5c01f5c41518",
   "metadata": {},
   "outputs": [],
   "source": [
    "xgb_model,xgb_params = xgboost_model(x_train, y_train,best_params=xgb_params,mode=grid_search_mode)"
   ]
  },
  {
   "cell_type": "code",
   "execution_count": null,
   "id": "8521c4c1-768a-4010-9edc-28811ecce92f",
   "metadata": {},
   "outputs": [],
   "source": [
    "xgb_pred = xgb_model.predict(x_test)"
   ]
  },
  {
   "cell_type": "markdown",
   "id": "f4839cfb-8e21-4b15-8af1-145f42870478",
   "metadata": {},
   "source": [
    "### Gradient Boost w/ GridSearch Cross Validation"
   ]
  },
  {
   "cell_type": "code",
   "execution_count": null,
   "id": "7cba02dd-ad99-41df-8534-4cb3634dcaa3",
   "metadata": {},
   "outputs": [],
   "source": [
    "def gradient_boosting(x_train, y_train, best_params=None, mode=False):\n",
    "    gradient_boosting = GradientBoostingClassifier(random_state=27)\n",
    "\n",
    "    if best_params is not None:\n",
    "        gradient_boosting.set_params(**best_params)\n",
    "            \n",
    "    if mode:\n",
    "        param_grid = {\n",
    "            'n_estimators': [100, 200],\n",
    "            'learning_rate': [0.05, 0.1],\n",
    "            'max_depth': [3, 5],\n",
    "            'min_samples_split': [2, 5],\n",
    "            'min_samples_leaf': [1, 2]\n",
    "        }\n",
    "\n",
    "        grid_search_random = RandomizedSearchCV(\n",
    "            estimator=gradient_boosting,\n",
    "            param_distributions=param_grid,\n",
    "            n_iter=20,\n",
    "            cv=4,\n",
    "            scoring='f1_macro',\n",
    "            n_jobs=-1,\n",
    "            random_state=27\n",
    "        )\n",
    "        \n",
    "        grid_search_random.fit(x_train, y_train)\n",
    "        best_params = grid_search_random.best_params_\n",
    "        print(f\"Melhores parâmetros: {best_params}\")\n",
    "        \n",
    "        gradient_boosting = grid_search_random.best_estimator_\n",
    "\n",
    "    gradient_boosting.fit(x_train, y_train)\n",
    "    return gradient_boosting, best_params\n"
   ]
  },
  {
   "cell_type": "code",
   "execution_count": null,
   "id": "1eaf239c-6f35-4a4e-a6c1-e10c0f3a7493",
   "metadata": {},
   "outputs": [],
   "source": [
    "gradient_model,gradient_params = gradient_boosting(x_train, y_train,best_params=gradient_params,mode=grid_search_mode)"
   ]
  },
  {
   "cell_type": "code",
   "execution_count": null,
   "id": "4ff30c92-7720-4e24-94fb-dd5558bd65ec",
   "metadata": {},
   "outputs": [],
   "source": [
    "gradient_pred = gradient_model.predict(x_test)"
   ]
  },
  {
   "cell_type": "code",
   "execution_count": null,
   "id": "bc5f3920-6e87-4ed3-82db-0ec59a09eeff",
   "metadata": {
    "scrolled": true
   },
   "outputs": [],
   "source": [
    "f1_macro_score_rf = f1_score(y_test, random_forest_pred, average=\"macro\")\n",
    "results[\"RandomForest\"] = f1_macro_score_rf\n",
    "f1_macro_score_xgb = f1_score(y_test, xgb_pred, average=\"macro\")\n",
    "results[\"XGBoost\"] = f1_macro_score_xgb\n",
    "f1_macro_score_gradient = f1_score(y_test, gradient_pred, average=\"macro\")\n",
    "results[\"GradientBoost\"] = f1_macro_score_gradient\n",
    "\n",
    "models_score = plt.figure(figsize=(6,3))\n",
    "\n",
    "mod = list(results.keys())\n",
    "f1 = list(results.values())\n",
    "\n",
    "plt.bar(mod,f1, color = \"lightblue\", width = 0.5)\n",
    "\n",
    "plt.xlabel(\"Model\")\n",
    "plt.ylabel(\"Macro F1\")\n",
    "plt.title(\"Models Macro F1 Comparison\")\n",
    "plt.show()"
   ]
  },
  {
   "cell_type": "markdown",
   "id": "77d35f16-afbc-480f-bc38-f78a5ff65ac1",
   "metadata": {},
   "source": [
    "## Ensemble Learning (RandomForest w/ XGBoost)"
   ]
  },
  {
   "cell_type": "markdown",
   "id": "00132031-fc44-4e8d-8d1b-ee49f7157902",
   "metadata": {},
   "source": [
    "### Voting Classifier"
   ]
  },
  {
   "cell_type": "code",
   "execution_count": null,
   "id": "8b8e7a7a-3f3d-46b3-aa7b-5779577758b6",
   "metadata": {},
   "outputs": [],
   "source": [
    "calibrated_rf = CalibratedClassifierCV(random_forest_model, method='sigmoid', cv=4)\n",
    "calibrated_xgb = CalibratedClassifierCV(xgb_model, method='sigmoid', cv=4)\n",
    "calibrated_gradient = CalibratedClassifierCV(gradient_model, method='sigmoid', cv=4)"
   ]
  },
  {
   "cell_type": "code",
   "execution_count": null,
   "id": "4059b0f1-17ac-4ef4-a2cb-95c48fcc58df",
   "metadata": {},
   "outputs": [],
   "source": [
    "def ensemble_voting_classifier(x_train, y_train):\n",
    "    ensemble_model_v = VotingClassifier(\n",
    "        estimators=[\n",
    "            (\"random_forest\", calibrated_rf),\n",
    "            (\"xgboost\", calibrated_xgb),\n",
    "            (\"gradientboost\", calibrated_gradient),\n",
    "        ],\n",
    "        voting=\"soft\",\n",
    "        n_jobs=-1\n",
    "    )\n",
    "    ensemble_model_v.fit(x_train, y_train)\n",
    "    return ensemble_model_v"
   ]
  },
  {
   "cell_type": "code",
   "execution_count": null,
   "id": "9db944d2-bb4d-4960-9f93-f252fd175e24",
   "metadata": {},
   "outputs": [],
   "source": [
    "ensemble_voting_model = ensemble_voting_classifier(x_train,y_train)"
   ]
  },
  {
   "cell_type": "code",
   "execution_count": null,
   "id": "df05735e-4b9d-4b40-98ef-d2c61c56ea67",
   "metadata": {},
   "outputs": [],
   "source": [
    "ensemble_voting_pred = ensemble_voting_model.predict(x_test)"
   ]
  },
  {
   "cell_type": "markdown",
   "id": "09ef5552-0222-478d-85c9-5c32478ecb24",
   "metadata": {},
   "source": [
    "### Stacking Classifier"
   ]
  },
  {
   "cell_type": "code",
   "execution_count": null,
   "id": "3da2224b-103f-43f5-9b64-e386fa3f97a6",
   "metadata": {},
   "outputs": [],
   "source": [
    "def ensemble_stacking_classifier(x_train, y_train):\n",
    "    final_model = RandomForestClassifier(n_estimators=100, random_state=27, n_jobs=-1)\n",
    "    \n",
    "    ensemble_model_s = StackingClassifier(\n",
    "        estimators=[\n",
    "            (\"random_forest\", calibrated_rf),\n",
    "            (\"xgboost\", calibrated_xgb),\n",
    "            (\"gradientboost\", calibrated_gradient)\n",
    "        ],\n",
    "        final_estimator=final_model,\n",
    "        cv=3,\n",
    "        n_jobs=-1\n",
    "    )\n",
    "    ensemble_model_s.fit(x_train, y_train)\n",
    "    return ensemble_model_s"
   ]
  },
  {
   "cell_type": "code",
   "execution_count": null,
   "id": "10523657-e82c-4e95-a7ad-759dbc799084",
   "metadata": {},
   "outputs": [],
   "source": [
    "ensemble_stacking_model = ensemble_stacking_classifier(x_train,y_train)"
   ]
  },
  {
   "cell_type": "code",
   "execution_count": null,
   "id": "3e5ef86c-b8cb-4f3f-be62-66dfaff20410",
   "metadata": {},
   "outputs": [],
   "source": [
    "ensemble_stacking_pred = ensemble_stacking_model.predict(x_test)"
   ]
  },
  {
   "cell_type": "markdown",
   "id": "cce4e47a-a7d4-4419-b557-034edf88d260",
   "metadata": {},
   "source": [
    "### Models Comparison"
   ]
  },
  {
   "cell_type": "code",
   "execution_count": null,
   "id": "2c9945dc-faf7-4d26-b541-dc3b886dcfb8",
   "metadata": {},
   "outputs": [],
   "source": [
    "f1_macro_score_voting_ensemble = f1_score(y_test, ensemble_voting_pred, average=\"macro\")\n",
    "results[\"VotingEnsemble\"] = f1_macro_score_voting_ensemble\n",
    "f1_macro_score_stacking_ensemble = f1_score(y_test, ensemble_stacking_pred, average=\"macro\")\n",
    "results[\"StackingEnsemble\"] = f1_macro_score_stacking_ensemble\n",
    "\n",
    "models_score = plt.figure(figsize=(6,3))\n",
    "\n",
    "mod = list(results.keys())\n",
    "f1 = list(results.values())\n",
    "\n",
    "plt.bar(mod,f1, color = \"lightblue\", width = 0.5)\n",
    "\n",
    "plt.xlabel(\"Model\")\n",
    "plt.ylabel(\"Macro F1\")\n",
    "plt.xticks(rotation=15)\n",
    "plt.title(\"Models Macro F1 Comparison\")\n",
    "plt.show()\n",
    "\n",
    "print(f\"F1 Macro Score na melhor combinação de parametros para RandomForest: {f1_macro_score_rf:.2f}\")\n",
    "print(f\"F1 Macro Score na melhor combinação de parametros para XGBoost: {f1_macro_score_xgb:.2f}\")\n",
    "print(f\"F1 Macro Score na melhor combinação de parametros para GradientBoost: {f1_macro_score_gradient:.2f}\")\n",
    "print(f\"F1 Macro Score na melhor combinação de parametros para VotingEnsemble: {f1_macro_score_voting_ensemble:.2f}\")\n",
    "print(f\"F1 Macro Score na melhor combinação de parametros para StackingEnsemble: {f1_macro_score_stacking_ensemble:.2f}\")"
   ]
  },
  {
   "cell_type": "markdown",
   "id": "43c73d3e-889c-4527-9294-f08fa23665ec",
   "metadata": {},
   "source": [
    "## Save Model's Info"
   ]
  },
  {
   "cell_type": "code",
   "execution_count": null,
   "id": "5daa1fb6-163f-4d5c-bb4e-5a0ab1a4af86",
   "metadata": {},
   "outputs": [],
   "source": [
    "results_df = pd.read_csv(\"../results.csv\")\n",
    "\n",
    "new_entry = {\n",
    "    \"scaler\": True,\n",
    "    \"abs\": True,\n",
    "    \"grid_search\": grid_search_mode,\n",
    "    \"corr_threshold\": corr_threshold,\n",
    "    \"xgb_threshold\": np.nan,\n",
    "    \"pca\": False,\n",
    "    \"n_features\": len(corr_train_df.columns),\n",
    "    \"dataset\": \"corr_xgb_train_df\",\n",
    "    \"best_score\": max(results.values()),\n",
    "    \"predict_score\": np.nan,\n",
    "    \"control_score\": np.nan,\n",
    "    \"score\": results,\n",
    "    \"random_forest_params\": random_forest_params,\n",
    "    \"xgb_params\": xgb_params,\n",
    "    \"gradient_params\": gradient_params,\n",
    "    \"e2\": np.nan,\n",
    "    \"e3\": np.nan,\n",
    "    \"e4\": np.nan,\n",
    "    \"e5\": np.nan,\n",
    "    \"e6\": np.nan,\n",
    "}"
   ]
  },
  {
   "cell_type": "code",
   "execution_count": null,
   "id": "99a0cc41-1d66-4182-85dc-03d631cdf32d",
   "metadata": {},
   "outputs": [],
   "source": [
    "new_line = pd.DataFrame([new_entry])\n",
    "results_df = pd.concat([results_df, new_line], ignore_index=True)"
   ]
  },
  {
   "cell_type": "code",
   "execution_count": null,
   "id": "bac55438-a74b-4251-af1c-8d786c9f57f9",
   "metadata": {},
   "outputs": [],
   "source": [
    "results_df.to_csv(\"../results.csv\",index=False)\n",
    "print(\"Results Updated!\")"
   ]
  },
  {
   "cell_type": "markdown",
   "id": "b037320a-fdd8-4710-90fc-88a823b8c14d",
   "metadata": {},
   "source": [
    "## Write Predicts to CSV"
   ]
  },
  {
   "cell_type": "code",
   "execution_count": null,
   "id": "c4957b26-f9d1-4cf2-ab66-0f27b0dae019",
   "metadata": {},
   "outputs": [],
   "source": [
    "def preds_to_csv(preds, df=dummy_df):\n",
    "    if len(preds) == 100:\n",
    "        y_pred_original = target_decoder(le_make_train, preds)\n",
    "        \n",
    "        df[\"Result\"] = y_pred_original\n",
    "        \n",
    "        df.to_csv(\"../Dataset/dummy_submission.csv\", index=False)\n",
    "\n",
    "        print(\"CSV updated!\\n\", y_pred_original)\n",
    "    else:\n",
    "        print(\"Invalid input!\")"
   ]
  },
  {
   "cell_type": "code",
   "execution_count": null,
   "id": "8ada8334-298f-486b-b606-fa7e5dae9a3e",
   "metadata": {},
   "outputs": [],
   "source": [
    "preds_to_csv(ensemble_stacking_pred)"
   ]
  },
  {
   "cell_type": "markdown",
   "id": "7fc0d739-497f-4648-a1b4-9f385bbd5c61",
   "metadata": {},
   "source": [
    "## Use Past Data To Build a Model"
   ]
  },
  {
   "cell_type": "code",
   "execution_count": null,
   "id": "e7cb6296-0ee6-4a74-a148-220f59ffd5e9",
   "metadata": {},
   "outputs": [],
   "source": [
    "def load_line(index, path=\"../results.csv\"):\n",
    "    df = pd.read_csv(path)\n",
    "\n",
    "    line = linha = df.iloc[index]\n",
    "\n",
    "    dict_line = {}\n",
    "\n",
    "    for feature,value in line.items():\n",
    "        try: \n",
    "            dict_line[feature] = ast.literal_eval(value) if isinstance(value,str) and value.startswith(\"{\") else value\n",
    "        except (ValueError, SyntaxError):\n",
    "            dict_line[feature] = value\n",
    "    \n",
    "    return dict_line"
   ]
  },
  {
   "cell_type": "code",
   "execution_count": null,
   "id": "7d350ca2-7fa8-4909-9f93-b07e468936de",
   "metadata": {},
   "outputs": [],
   "source": [
    "def get_load_preds(x_train,y_train,rf_params,xgb_params,gra_params,model):\n",
    "    random_forest_model, random_forest_params = random_forest(x_train, y_train,best_params=rf_params,mode=False)\n",
    "    print(\"RandomF >\")\n",
    "    if model == \"RandomForest\":\n",
    "        return random_forest_model\n",
    "        \n",
    "    xgb_model,xgb_params = xgboost_model(x_train, y_train,best_params=xgb_params,mode=False)\n",
    "    print(\"XGB >\")\n",
    "    if model == \"XGBoost\":\n",
    "        return xgb_model\n",
    "    \n",
    "    gradient_model,gradient_params = gradient_boosting(x_train, y_train,best_params=gra_params,mode=False)\n",
    "    print(\"GradientB >\")\n",
    "    if model == \"GradientBoost\":\n",
    "        return gradient_model\n",
    "        \n",
    "    ensemble_voting_model = ensemble_voting_classifier(x_train,y_train)\n",
    "    print(\"VotingEns >\")\n",
    "    if model == \"VotingEnsemble\":\n",
    "        return ensemble_voting_model\n",
    "\n",
    "    ensemble_stacking_model = ensemble_stacking_classifier(x_train,y_train)\n",
    "    print(\"StackingEns >\")\n",
    "\n",
    "    return ensemble_stacking_model"
   ]
  },
  {
   "cell_type": "code",
   "execution_count": null,
   "id": "8452bad4-f7d4-46ed-ac2f-d0f4e3a38101",
   "metadata": {},
   "outputs": [],
   "source": [
    "load_dict = load_line(3)\n",
    "load_columns = apply_correlation(corr_df,load_dict[\"corr_threshold\"])\n",
    "load_train_df = scaled_train_df[load_columns].copy()\n",
    "load_control_df = scaled_control_df[load_columns].copy()\n",
    "load_test_df = scaled_test_df[load_columns]\n",
    "load_train_df.loc[:,\"Transition_code\"] = train_df[\"Transition_code\"].values\n",
    "load_control_df.loc[:,\"Transition_code\"] = control_df[\"Transition_code\"].values\n",
    "x_load_train, x_load_test, y_load_train, y_load_test = define_X_y(load_train_df,load_test_df)\n",
    "load_random_forest_params = load_dict[\"random_forest_params\"]\n",
    "load_xgb_params = load_dict[\"xgb_params\"]\n",
    "load_gradient_params = load_dict[\"gradient_params\"]\n",
    "load_best_model = max(load_dict[\"score\"],key=load_dict[\"score\"].get)\n",
    "\n",
    "print(load_best_model)"
   ]
  },
  {
   "cell_type": "code",
   "execution_count": null,
   "id": "a8874c5e-02df-4021-a302-4a6eac96da03",
   "metadata": {},
   "outputs": [],
   "source": []
  },
  {
   "cell_type": "code",
   "execution_count": null,
   "id": "02d2c065-49e2-479d-a52a-2f6ca20cf9b9",
   "metadata": {},
   "outputs": [],
   "source": [
    "model = get_load_preds(x_load_train,y_load_train,load_random_forest_params,load_xgb_params,load_gradient_params,load_best_model)\n",
    "preds = model.predict(x_load_test)"
   ]
  },
  {
   "cell_type": "code",
   "execution_count": null,
   "id": "0680064a-f769-4c11-bf91-e2dee53872e8",
   "metadata": {},
   "outputs": [],
   "source": [
    "preds_to_csv(preds)"
   ]
  }
 ],
 "metadata": {
  "kernelspec": {
   "display_name": "Python 3 (ipykernel)",
   "language": "python",
   "name": "python3"
  },
  "language_info": {
   "codemirror_mode": {
    "name": "ipython",
    "version": 3
   },
   "file_extension": ".py",
   "mimetype": "text/x-python",
   "name": "python",
   "nbconvert_exporter": "python",
   "pygments_lexer": "ipython3",
   "version": "3.12.4"
  }
 },
 "nbformat": 4,
 "nbformat_minor": 5
}
