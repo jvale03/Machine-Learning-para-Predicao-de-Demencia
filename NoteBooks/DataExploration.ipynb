{
 "cells": [
  {
   "cell_type": "code",
   "execution_count": 1,
   "id": "03d9e7e2-f82a-4bfc-baf2-db858583c489",
   "metadata": {
    "jupyter": {
     "source_hidden": true
    }
   },
   "outputs": [],
   "source": [
    "import pandas as pd\n",
    "import matplotlib.pyplot as plt\n",
    "import seaborn as sns\n",
    "from sklearn.preprocessing import MinMaxScaler"
   ]
  },
  {
   "cell_type": "code",
   "execution_count": 2,
   "id": "8458c68b-eb68-4ead-b7c5-36878d90e1d1",
   "metadata": {},
   "outputs": [],
   "source": [
    "main_df = pd.read_csv(\"../Dataset/train_radiomics_occipital_CONTROL.csv\")"
   ]
  },
  {
   "cell_type": "raw",
   "id": "e2d562be-3ce7-42f5-8b98-4a6e3369dde4",
   "metadata": {},
   "source": [
    "Matplotlib Plots"
   ]
  },
  {
   "cell_type": "code",
   "execution_count": 5,
   "id": "67eb1c4c-e7b7-482d-850e-f691b8ee5883",
   "metadata": {
    "jupyter": {
     "source_hidden": true
    }
   },
   "outputs": [],
   "source": [
    "def show_histogram(title=\"histogram\",df=main_df):\n",
    "    plt.figure(figsize=(13,8))\n",
    "    plt.subplots_adjust(bottom=0.17)\n",
    "    plt.title(title)\n",
    "    sns.histplot(df)\n",
    "    plt.show()\n",
    "\n",
    "def show_boxplot(title=\"boxplot\",columns=main_df.columns,df=main_df):\n",
    "    plt.figure(figsize=(13,8))\n",
    "    plt.subplots_adjust(bottom=0.17)\n",
    "    df[columns].boxplot()\n",
    "    plt.xticks(rotation=15)\n",
    "    plt.title(title)\n",
    "    plt.show()\n",
    "\n",
    "def show_heatmap(title=\"correlation heatmap\",df=main_df):\n",
    "    df = df.select_dtypes(include=\"number\")\n",
    "    plt.figure(figsize=(13,8))\n",
    "    plt.subplots_adjust(bottom=0.25,left=0.22,right=0.95)\n",
    "    plt.xticks(rotation=15)\n",
    "    plt.title(title)\n",
    "    sns.heatmap(df.corr(),annot=True,cmap=\"coolwarm\",linewidths=0.5)\n",
    "    plt.show()"
   ]
  },
  {
   "cell_type": "raw",
   "id": "e7f672a7-c7b3-48fe-a241-678cb7e49a10",
   "metadata": {},
   "source": [
    "Outliers"
   ]
  },
  {
   "cell_type": "code",
   "execution_count": null,
   "id": "a2a2c0cc-f1c7-4688-8606-1f1f7d6622a6",
   "metadata": {
    "jupyter": {
     "source_hidden": true
    }
   },
   "outputs": [],
   "source": [
    "# IQR method \n",
    "## considera como outliers os dados que estao 1.5*IQR acima e abaixo do primeiro e terceiro quartil, respetivamente. IQR = Q3 - Q1\n",
    "def detect_outliers(column, df=main_df):\n",
    "    Q1 = df[column].quantile(0.25)\n",
    "    Q3 = df[column].quantile(0.75)\n",
    "    IQR = Q3 - Q1\n",
    "    lower_bound = Q1 - 1.5 * IQR\n",
    "    upper_bound = Q3 + 1.5 * IQR\n",
    "\n",
    "    # Filtrar os outliers\n",
    "    outliers = df[(df[column] < lower_bound) | (df[column] > upper_bound)]\n",
    "\n",
    "    show_boxplot(title=f\"{column} boxplot\",df=df,columns=[column])\n",
    "\n",
    "    return outliers[column]\n",
    "\n",
    "# esta função faz um loop de 7 em 7 colunas por todas as colunas do dataset para uma analise geral dos outliers.\n",
    "# esta operacao é demorada e nao muito boa porque 2181 / 7 = 300 vezes\n",
    "def explore_outliers(df=main_df,columns=main_df.columns):\n",
    "    number_df = df[columns].select_dtypes(include=\"number\")\n",
    "    n_columns = number_df.columns\n",
    "    # normalização para ser visualmente perceptivel nos plots\n",
    "    scaler = MinMaxScaler()\n",
    "    number_df_scaled = pd.DataFrame(scaler.fit_transform(number_df),columns=n_columns)\n",
    "\n",
    "    for i in range(0, len(n_columns),7):\n",
    "        show_boxplot(df=number_df_scaled,columns=n_columns[i:i+7])"
   ]
  },
  {
   "cell_type": "raw",
   "id": "d106d7d8-2fd7-4b22-8027-4a581336a0cd",
   "metadata": {},
   "source": [
    "Basic Exploration"
   ]
  },
  {
   "cell_type": "code",
   "execution_count": 8,
   "id": "a45f7eb0-8220-498e-ae8e-22a52a893132",
   "metadata": {
    "jupyter": {
     "source_hidden": true
    }
   },
   "outputs": [],
   "source": [
    "def main_exploration(df=main_df):\n",
    "    print(df.shape) \n",
    "    # output: 305 linhas, 2181 colunas\n",
    "\n",
    "\n",
    "def categorical_exploration(df=main_df):\n",
    "    \"\"\"\n",
    "    Transition description:\n",
    "    CN - Cognitive Normal, estado normal\n",
    "    MCI - Mild Cognitive Impairment, estado entre o avanço normal da perda de memoria com a idade e um certo declinio serio de demencia\n",
    "    AD - Azlheimer Disease, forma mais comum de demencia nas pessoas mais velhas\n",
    "    \"\"\"\n",
    "    categorical_df = df[[\"Sex\",\"Transition\"]]\n",
    "\n",
    "    for column in categorical_df.columns:\n",
    "        show_histogram(f\"{column} histogram\",categorical_df[column])\n",
    "\n",
    "\n",
    "def numerical_exploration(df=main_df):\n",
    "    # age exploration\n",
    "    age_exploration = df[\"Age\"].describe()\n",
    "    print(age_exploration)\n",
    "    show_histogram(\"Age Histogram\",df[\"Age\"])\n",
    "    print(detect_outliers(\"Age\"))"
   ]
  },
  {
   "cell_type": "raw",
   "id": "96beb000-240d-4353-9863-6c56ed2b62f6",
   "metadata": {},
   "source": [
    "Diagnostic Exploration"
   ]
  },
  {
   "cell_type": "code",
   "execution_count": 9,
   "id": "a94d0b5b-c4f7-45cf-a071-226ab7ccab68",
   "metadata": {
    "jupyter": {
     "source_hidden": true
    }
   },
   "outputs": [],
   "source": [
    "def diagnostics_versions_explorer(df=main_df):\n",
    "    diagnostics_versions_columns = [\"diagnostics_Versions_PyRadiomics\",\"diagnostics_Versions_Numpy\",\"diagnostics_Versions_SimpleITK\",\"diagnostics_Versions_PyWavelet\",\"diagnostics_Versions_Python\"] \n",
    "\n",
    "    for column in diagnostics_versions_columns:\n",
    "        print(column,\": \")\n",
    "        values = df[column].unique()\n",
    "        print(values)\n",
    "\n",
    "# é necessário explorar melhor\n",
    "def diagnostics_image_explorer(df=main_df):\n",
    "    diagnostics_image_columns = [\"diagnostics_Image-original_Dimensionality\",\"diagnostics_Image-original_Spacing\",\"diagnostics_Image-original_Size\",\"diagnostics_Image-original_Mean\",\"diagnostics_Image-original_Minimum\",\"diagnostics_Image-original_Maximum\"]\n",
    "\n",
    "    for column in diagnostics_image_columns:\n",
    "        print(column,\": \")\n",
    "        values = df[column].unique()\n",
    "        print(values)\n",
    "        show_histogram(title=column,df=df[column])\n",
    "\n",
    "    explore_outliers(columns=diagnostics_image_columns)\n",
    "\n",
    "    print(df[diagnostics_image_columns].describe())\n",
    "    print(df[diagnostics_image_columns].info())\n",
    "\n",
    "# é preciso explorar muito melhor\n",
    "def diagnostics_mask_explorer(df=main_df):\n",
    "    diagnostics_mask_columns = [\"diagnostics_Mask-original_Spacing\",\"diagnostics_Mask-original_Size\",\"diagnostics_Mask-original_BoundingBox\",\"diagnostics_Mask-original_VoxelNum\",\"diagnostics_Mask-original_VolumeNum\",\"diagnostics_Mask-original_CenterOfMassIndex\",\"diagnostics_Mask-original_CenterOfMass\"]\n",
    "\n",
    "    \n",
    "    for column in diagnostics_mask_columns:\n",
    "        print(column,\": \")\n",
    "        values = df[column].unique()\n",
    "        print(values)\n",
    "        show_histogram(title=column,df=df[column])\n",
    "    \n",
    "\n",
    "    print(detect_outliers(\"diagnostics_Mask-original_VoxelNum\"))\n",
    "    print(detect_outliers(\"diagnostics_Mask-original_VolumeNum\"))\n",
    "    explore_outliers(columns=diagnostics_mask_columns)\n",
    "    \n",
    "    print(df[diagnostics_mask_columns].describe(),\"\\n\")\n",
    "    print(df[diagnostics_mask_columns].info())\n",
    "\n",
    "# ainda nao consigo tirar conclusões ao certo\n",
    "def masks_images_correlation(df=main_df):\n",
    "    diagnostics = [\"diagnostics_Mask-original_Spacing\",\"diagnostics_Mask-original_Size\",\"diagnostics_Mask-original_BoundingBox\",\"diagnostics_Mask-original_VoxelNum\",\"diagnostics_Mask-original_VolumeNum\",\"diagnostics_Mask-original_CenterOfMassIndex\",\"diagnostics_Mask-original_CenterOfMass\",\"diagnostics_Image-original_Spacing\",\"diagnostics_Image-original_Size\",\"diagnostics_Image-original_Mean\",\"diagnostics_Image-original_Maximum\"]\n",
    "\n",
    "    show_heatmap(df=df[diagnostics])"
   ]
  },
  {
   "cell_type": "code",
   "execution_count": null,
   "id": "3d123a93-fd04-4c58-a225-599b0be63e1a",
   "metadata": {},
   "outputs": [],
   "source": []
  }
 ],
 "metadata": {
  "kernelspec": {
   "display_name": "Python 3 (ipykernel)",
   "language": "python",
   "name": "python3"
  },
  "language_info": {
   "codemirror_mode": {
    "name": "ipython",
    "version": 3
   },
   "file_extension": ".py",
   "mimetype": "text/x-python",
   "name": "python",
   "nbconvert_exporter": "python",
   "pygments_lexer": "ipython3",
   "version": "3.12.4"
  }
 },
 "nbformat": 4,
 "nbformat_minor": 5
}
